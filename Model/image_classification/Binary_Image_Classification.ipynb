{
 "cells": [
  {
   "cell_type": "markdown",
   "metadata": {
    "id": "5K2J-P8OlTpq"
   },
   "source": [
    "## change to code and run on colab\n",
    "!pip uninstall tensorflow -y\n",
    "!pip install tensorflow==2.10\n",
    "!pip install wandb\n",
    "import tensorflow as tf\n",
    "print(tf.__version__)"
   ]
  },
  {
   "cell_type": "code",
   "execution_count": 1,
   "metadata": {
    "id": "6a1sNIfKolGY"
   },
   "outputs": [
    {
     "name": "stdout",
     "output_type": "stream",
     "text": [
      "2.10.0\n",
      "Num GPUs Available:  1\n"
     ]
    }
   ],
   "source": [
    "import warnings \n",
    "warnings.filterwarnings(action='ignore')\n",
    "import os\n",
    "import shutil\n",
    "import numpy as np\n",
    "import pandas as pd\n",
    "import matplotlib.pyplot as plt\n",
    "from glob import glob\n",
    "from tqdm.auto import tqdm\n",
    "import cv2\n",
    "\n",
    "import tensorflow as tf\n",
    "from tensorflow.keras.models import Sequential, Model\n",
    "from tensorflow.keras import layers\n",
    "import tensorflow.keras as keras\n",
    "from tensorflow.data import Dataset\n",
    "\n",
    "from tensorflow.keras.optimizers import Adam, RMSprop, Nadam, SGD\n",
    "from tensorflow.keras.callbacks import ModelCheckpoint, EarlyStopping\n",
    "\n",
    "from itertools import product\n",
    "from tensorflow.keras.preprocessing.image import ImageDataGenerator\n",
    "\n",
    "from tensorflow.keras.applications import inception_resnet_v2, nasnet\n",
    "from sklearn.model_selection import train_test_split\n",
    "from wandb.keras import WandbCallback\n",
    "import wandb\n",
    "import tensorflow as tf\n",
    "print(tf.__version__)\n",
    "\n",
    "print(\"Num GPUs Available: \", len(tf.config.experimental.list_physical_devices('GPU')))"
   ]
  },
  {
   "cell_type": "markdown",
   "metadata": {},
   "source": [
    "# Activate this cell when you need\n",
    "# split data\n",
    "ori_flood = '../data/binary/flood'\n",
    "ori_normal = '../data/binary/normal'\n",
    "\n",
    "img_flood = glob(ori_flood+'/*.jpg')\n",
    "img_normal = glob(ori_normal+'/*.jpg')\n",
    "\n",
    "len_flood=len(img_flood)\n",
    "print('len_flood : ', len_flood)\n",
    "len_normal=len(img_normal)\n",
    "print('len_normal : ', len_normal)\n",
    "\n",
    "train_dir = '../data/binary/train'\n",
    "valid_dir = '../data/binary/valid'\n",
    "\n",
    "# copy flood img\n",
    "for i, img in enumerate(tqdm(img_flood)):\n",
    "    img_name = img.split('/')[-1]\n",
    "    src = img\n",
    "    if i < len_flood * 0.7 :\n",
    "        dst = os.path.join(train_dir+'/flood', img_name)\n",
    "    else :\n",
    "        dst = os.path.join(valid_dir+'/flood', img_name)\n",
    "    shutil.copyfile(src,dst)\n",
    "\n",
    "# copy normal img\n",
    "for i, img in enumerate(tqdm(img_normal)):\n",
    "    img_name = img.split('/')[-1]\n",
    "    src = img\n",
    "    if i < len_normal * 0.7 :\n",
    "        dst = os.path.join(train_dir+'/normal', img_name)\n",
    "    else :\n",
    "        dst = os.path.join(valid_dir+'/normal', img_name)\n",
    "    shutil.copyfile(src,dst)"
   ]
  },
  {
   "cell_type": "markdown",
   "metadata": {},
   "source": [
    "# Make DataFrame"
   ]
  },
  {
   "cell_type": "code",
   "execution_count": 2,
   "metadata": {},
   "outputs": [
    {
     "name": "stdout",
     "output_type": "stream",
     "text": [
      "flood len : 6868\n",
      "normal len : 7723\n"
     ]
    },
    {
     "data": {
      "text/html": [
       "<div>\n",
       "<style scoped>\n",
       "    .dataframe tbody tr th:only-of-type {\n",
       "        vertical-align: middle;\n",
       "    }\n",
       "\n",
       "    .dataframe tbody tr th {\n",
       "        vertical-align: top;\n",
       "    }\n",
       "\n",
       "    .dataframe thead th {\n",
       "        text-align: right;\n",
       "    }\n",
       "</style>\n",
       "<table border=\"1\" class=\"dataframe\">\n",
       "  <thead>\n",
       "    <tr style=\"text-align: right;\">\n",
       "      <th></th>\n",
       "      <th>path</th>\n",
       "      <th>label</th>\n",
       "    </tr>\n",
       "  </thead>\n",
       "  <tbody>\n",
       "    <tr>\n",
       "      <th>2774</th>\n",
       "      <td>../data/binary/normal/frame44_L010213_day.mp4.jpg</td>\n",
       "      <td>0</td>\n",
       "    </tr>\n",
       "    <tr>\n",
       "      <th>4637</th>\n",
       "      <td>../data/binary/flood/26505778.jpg</td>\n",
       "      <td>1</td>\n",
       "    </tr>\n",
       "    <tr>\n",
       "      <th>4861</th>\n",
       "      <td>../data/binary/flood/26640329.jpg</td>\n",
       "      <td>1</td>\n",
       "    </tr>\n",
       "    <tr>\n",
       "      <th>6140</th>\n",
       "      <td>../data/binary/flood/557_jpg.rf.b6d6639942c05c...</td>\n",
       "      <td>1</td>\n",
       "    </tr>\n",
       "    <tr>\n",
       "      <th>1735</th>\n",
       "      <td>../data/binary/normal/frame22_39_day_1024.mp4.jpg</td>\n",
       "      <td>0</td>\n",
       "    </tr>\n",
       "  </tbody>\n",
       "</table>\n",
       "</div>"
      ],
      "text/plain": [
       "                                                   path label\n",
       "2774  ../data/binary/normal/frame44_L010213_day.mp4.jpg     0\n",
       "4637                  ../data/binary/flood/26505778.jpg     1\n",
       "4861                  ../data/binary/flood/26640329.jpg     1\n",
       "6140  ../data/binary/flood/557_jpg.rf.b6d6639942c05c...     1\n",
       "1735  ../data/binary/normal/frame22_39_day_1024.mp4.jpg     0"
      ]
     },
     "metadata": {},
     "output_type": "display_data"
    },
    {
     "data": {
      "text/html": [
       "<div>\n",
       "<style scoped>\n",
       "    .dataframe tbody tr th:only-of-type {\n",
       "        vertical-align: middle;\n",
       "    }\n",
       "\n",
       "    .dataframe tbody tr th {\n",
       "        vertical-align: top;\n",
       "    }\n",
       "\n",
       "    .dataframe thead th {\n",
       "        text-align: right;\n",
       "    }\n",
       "</style>\n",
       "<table border=\"1\" class=\"dataframe\">\n",
       "  <thead>\n",
       "    <tr style=\"text-align: right;\">\n",
       "      <th></th>\n",
       "      <th>path</th>\n",
       "      <th>label</th>\n",
       "    </tr>\n",
       "  </thead>\n",
       "  <tbody>\n",
       "    <tr>\n",
       "      <th>6978</th>\n",
       "      <td>../data/binary/normal/frame2_L010147_day.mp4.jpg</td>\n",
       "      <td>0</td>\n",
       "    </tr>\n",
       "    <tr>\n",
       "      <th>1557</th>\n",
       "      <td>../data/binary/flood/26474739.jpg</td>\n",
       "      <td>1</td>\n",
       "    </tr>\n",
       "    <tr>\n",
       "      <th>5077</th>\n",
       "      <td>../data/binary/normal/frame12_91_night_1024.mp...</td>\n",
       "      <td>0</td>\n",
       "    </tr>\n",
       "    <tr>\n",
       "      <th>901</th>\n",
       "      <td>../data/binary/normal/frame15_L010209_day.mp4.jpg</td>\n",
       "      <td>0</td>\n",
       "    </tr>\n",
       "    <tr>\n",
       "      <th>5870</th>\n",
       "      <td>../data/binary/normal/frame8_L010210.mp4.jpg</td>\n",
       "      <td>0</td>\n",
       "    </tr>\n",
       "  </tbody>\n",
       "</table>\n",
       "</div>"
      ],
      "text/plain": [
       "                                                   path label\n",
       "6978   ../data/binary/normal/frame2_L010147_day.mp4.jpg     0\n",
       "1557                  ../data/binary/flood/26474739.jpg     1\n",
       "5077  ../data/binary/normal/frame12_91_night_1024.mp...     0\n",
       "901   ../data/binary/normal/frame15_L010209_day.mp4.jpg     0\n",
       "5870       ../data/binary/normal/frame8_L010210.mp4.jpg     0"
      ]
     },
     "execution_count": 2,
     "metadata": {},
     "output_type": "execute_result"
    }
   ],
   "source": [
    "# flood : 1, normal : 0\n",
    "flood_df = pd.DataFrame({'path' : glob('../data/binary/flood/*.jpg'),\n",
    "                        'label' : '1'})\n",
    "print('flood len : {}'.format(len(flood_df)))\n",
    "normal_df = pd.DataFrame({'path' : glob('../data/binary/normal/*.jpg'),\n",
    "                         'label': '0'})\n",
    "print('normal len : {}'.format(len(normal_df)))\n",
    "\n",
    "df = pd.concat([flood_df, normal_df], axis=0)\n",
    "\n",
    "#shuffle\n",
    "df = df.sample(frac=1)\n",
    "display(df.head())\n",
    "\n",
    "#split\n",
    "x_train, x_test, y_train, y_test = train_test_split(df['path'],\n",
    "                                                   df['label'],\n",
    "                                                   stratify=df['label'],\n",
    "                                                   test_size=0.2)\n",
    "train_df = pd.DataFrame({'path':x_train,\n",
    "                        'label':y_train})\n",
    "valid_df = pd.DataFrame({'path':x_test,\n",
    "                        'label':y_test})\n",
    "train_df.head()"
   ]
  },
  {
   "cell_type": "markdown",
   "metadata": {},
   "source": [
    "# Config"
   ]
  },
  {
   "cell_type": "code",
   "execution_count": 3,
   "metadata": {
    "id": "2ZmCNhsdrFYO"
   },
   "outputs": [],
   "source": [
    "# train_dir = '/content/drive/MyDrive/융합캡스톤디자인/binary/train'\n",
    "# valid_dir = '/content/drive/MyDrive/융합캡스톤디자인/binary/valid'\n",
    "# train_dir = '../data/binary/train'\n",
    "# valid_dir = '../data/binary/valid'\n",
    "\n",
    "CLASSES = ['normal', 'flood']\n",
    "NasNet = 'NasNet'\n",
    "Inception = 'Inception'\n",
    "target_size = {NasNet : (331,331),\n",
    "               Inception : (299,299)}\n",
    "EPOCHS = 1000\n",
    "ckpt_path = '../data/weight'\n",
    "\n",
    "sweep_config = {\n",
    "    'method': 'random',\n",
    "    'metric': {\n",
    "      'name': 'val_loss',\n",
    "      'goal': 'minimize'   \n",
    "    },\n",
    "    'early_terminate' : {\n",
    "        'type': 'hyperband',\n",
    "        'max_iter': 27,\n",
    "        's': 2\n",
    "    },\n",
    "    'parameters': {\n",
    "        'pretrain_net': {\n",
    "            'values': [Inception, NasNet]\n",
    "        },\n",
    "        'batch_size': {\n",
    "            'values': [20, 50]\n",
    "        },\n",
    "        'dropout': {\n",
    "            'values': [0.2, 0.5]\n",
    "        },\n",
    "        'dense': {\n",
    "            'values': [32, 256, 1024]\n",
    "        },\n",
    "        'learning_rate': {\n",
    "            'values': [1e-2, 1e-3, 1e-4, 3e-5]\n",
    "        },\n",
    "        'optimizer': {\n",
    "            'values': ['adam', 'sgd', 'rmsprop']\n",
    "        },\n",
    "        'activation': {\n",
    "            'values': ['relu', 'elu', 'selu', 'softmax']\n",
    "        }\n",
    "    }\n",
    "}"
   ]
  },
  {
   "cell_type": "code",
   "execution_count": 4,
   "metadata": {
    "id": "lnJCLxjlSyzR"
   },
   "outputs": [],
   "source": [
    "train_datagen = ImageDataGenerator(rescale=1./255,\n",
    "                              rotation_range=30,\n",
    "                              shear_range=0.2,\n",
    "                              zoom_range=0.3,\n",
    "                              horizontal_flip=True,\n",
    "                              vertical_flip=True,\n",
    "                              fill_mode = 'nearest')\n",
    "valid_datagen = ImageDataGenerator(rescale=1./255)"
   ]
  },
  {
   "cell_type": "code",
   "execution_count": 5,
   "metadata": {
    "id": "PJdM_Fe-SSKu"
   },
   "outputs": [],
   "source": [
    "def train() :\n",
    "    tf.keras.backend.clear_session()\n",
    "    config_defaults = {\n",
    "        'pretrain_net': Inception,\n",
    "        'epochs' : EPOCHS,\n",
    "        'batch_size': 50,\n",
    "        'dropout' : 0.5,\n",
    "        'learning_rate' : 1e-3,\n",
    "        'activation': 'relu',\n",
    "        'optimizer': 'adam',\n",
    "        'dense':1024\n",
    "    }\n",
    "    \n",
    "    wandb.init(config=config_defaults)\n",
    "    config = wandb.config\n",
    "    \n",
    "    train_generator = train_datagen.flow_from_dataframe(train_df, \n",
    "                                               x_col='path',\n",
    "                                               y_col='label',\n",
    "                                               target_size=target_size[config.pretrain_net],\n",
    "                                               class_mode='binary',\n",
    "                                               batch_size=config.batch_size)\n",
    "    valid_generator = valid_datagen.flow_from_dataframe(valid_df,\n",
    "                                               x_col='path',\n",
    "                                               y_col='label',\n",
    "                                               target_size=target_size[config.pretrain_net],\n",
    "                                               class_mode='binary',\n",
    "                                               batch_size=config.batch_size)    \n",
    "    \n",
    "    if config.pretrain_net == Inception :\n",
    "        base_model = inception_resnet_v2.InceptionResNetV2(\n",
    "            weights='imagenet',\n",
    "            include_top = False,\n",
    "            input_shape = target_size[config.pretrain_net]+(3,)\n",
    "        )\n",
    "    elif config.pretrain_net == NasNet :\n",
    "        base_model= nasnet.NASNetLarge(\n",
    "              weights='imagenet',\n",
    "              include_top=False,\n",
    "              input_shape = target_size[config.pretrain_net]+(3,)\n",
    "             )\n",
    "    base_model.trainable = False \n",
    "\n",
    "    inputs = layers.Input(shape=target_size[config.pretrain_net]+(3,))\n",
    "    x = base_model(inputs, training=False)\n",
    "    x = layers.GlobalAveragePooling2D()(x)\n",
    "    x = layers.Dropout(config.dropout)(x)\n",
    "    x = layers.Dense(config.dense, activation=config.activation)(x)\n",
    "    outputs = layers.Dense(1, activation='sigmoid')(x)\n",
    "    \n",
    "    es = EarlyStopping(monitor='loss',\n",
    "                    mode='auto',\n",
    "                    patience=5,\n",
    "                    verbose=1)\n",
    "\n",
    "    checkpointer = ModelCheckpoint(filepath=ckpt_path,\n",
    "                                  monitor='val_loss',\n",
    "                                  save_weights_only = True,\n",
    "                                  save_best_only= True,\n",
    "                                  verbose=1)\n",
    "\n",
    "        \n",
    "    model = Model(inputs=inputs, \n",
    "                  outputs=outputs,\n",
    "                  name='binary_flood')    \n",
    "    \n",
    "    if config.optimizer=='sgd':\n",
    "        optimizer = SGD(learning_rate=config.learning_rate)\n",
    "    elif config.optimizer=='rmsprop':\n",
    "        optimizer = RMSprop(learning_rate=config.learning_rate)\n",
    "    elif config.optimizer=='adam':\n",
    "        optimizer = Adam(learning_rate=config.learning_rate)\n",
    "\n",
    "\n",
    "    model.compile(loss='binary_crossentropy',\n",
    "                  optimizer=optimizer,\n",
    "                  metrics=['accuracy'])    \n",
    "    \n",
    "    _ = model.fit(train_generator,\n",
    "          validation_data=valid_generator,\n",
    "          verbose=1,\n",
    "          epochs=config.epochs,\n",
    "          callbacks=[WandbCallback(), checkpointer, es],\n",
    "          steps_per_epoch=len(train_df)//config.batch_size)"
   ]
  },
  {
   "cell_type": "code",
   "execution_count": 6,
   "metadata": {
    "id": "EUs02iU-TVGt"
   },
   "outputs": [
    {
     "name": "stdout",
     "output_type": "stream",
     "text": [
      "Create sweep with ID: ns3kcvxt\n",
      "Sweep URL: https://wandb.ai/hkleee/flood24/sweeps/ns3kcvxt\n"
     ]
    }
   ],
   "source": [
    "sweep_id = wandb.sweep(sweep_config, project='flood24')"
   ]
  },
  {
   "cell_type": "code",
   "execution_count": null,
   "metadata": {
    "id": "g2Qu-0MhW-aU",
    "scrolled": false
   },
   "outputs": [
    {
     "name": "stderr",
     "output_type": "stream",
     "text": [
      "\u001b[34m\u001b[1mwandb\u001b[0m: Sweep Agent: Waiting for job.\n",
      "\u001b[34m\u001b[1mwandb\u001b[0m: Job received.\n",
      "\u001b[34m\u001b[1mwandb\u001b[0m: Agent Starting Run: mmquhy8c with config:\n",
      "\u001b[34m\u001b[1mwandb\u001b[0m: \tactivation: relu\n",
      "\u001b[34m\u001b[1mwandb\u001b[0m: \tbatch_size: 50\n",
      "\u001b[34m\u001b[1mwandb\u001b[0m: \tdense: 1024\n",
      "\u001b[34m\u001b[1mwandb\u001b[0m: \tdropout: 0.2\n",
      "\u001b[34m\u001b[1mwandb\u001b[0m: \tlearning_rate: 0.0001\n",
      "\u001b[34m\u001b[1mwandb\u001b[0m: \toptimizer: rmsprop\n",
      "\u001b[34m\u001b[1mwandb\u001b[0m: \tpretrain_net: NasNet\n",
      "\u001b[34m\u001b[1mwandb\u001b[0m: Currently logged in as: \u001b[33mhkleee\u001b[0m. Use \u001b[1m`wandb login --relogin`\u001b[0m to force relogin\n"
     ]
    },
    {
     "data": {
      "text/html": [
       "Tracking run with wandb version 0.13.4"
      ],
      "text/plain": [
       "<IPython.core.display.HTML object>"
      ]
     },
     "metadata": {},
     "output_type": "display_data"
    },
    {
     "data": {
      "text/html": [
       "Run data is saved locally in <code>/Users/hkleeeee/Desktop/Flooding24/2022-2-SCS4031-9to6/Model/image_classification/wandb/run-20221027_015034-mmquhy8c</code>"
      ],
      "text/plain": [
       "<IPython.core.display.HTML object>"
      ]
     },
     "metadata": {},
     "output_type": "display_data"
    },
    {
     "data": {
      "text/html": [
       "Syncing run <strong><a href=\"https://wandb.ai/hkleee/flood24/runs/mmquhy8c\" target=\"_blank\">worldly-sweep-6</a></strong> to <a href=\"https://wandb.ai/hkleee/flood24\" target=\"_blank\">Weights & Biases</a> (<a href=\"https://wandb.me/run\" target=\"_blank\">docs</a>)<br/>Sweep page:  <a href=\"https://wandb.ai/hkleee/flood24/sweeps/vavoacy6\" target=\"_blank\">https://wandb.ai/hkleee/flood24/sweeps/vavoacy6</a>"
      ],
      "text/plain": [
       "<IPython.core.display.HTML object>"
      ]
     },
     "metadata": {},
     "output_type": "display_data"
    },
    {
     "name": "stdout",
     "output_type": "stream",
     "text": [
      "Found 11672 validated image filenames belonging to 2 classes.\n",
      "Found 2919 validated image filenames belonging to 2 classes.\n",
      "Metal device set to: Apple M1\n"
     ]
    },
    {
     "name": "stderr",
     "output_type": "stream",
     "text": [
      "2022-10-27 01:50:39.030844: I tensorflow/core/common_runtime/pluggable_device/pluggable_device_factory.cc:306] Could not identify NUMA node of platform GPU ID 0, defaulting to 0. Your kernel may not have been built with NUMA support.\n",
      "2022-10-27 01:50:39.031744: I tensorflow/core/common_runtime/pluggable_device/pluggable_device_factory.cc:272] Created TensorFlow device (/job:localhost/replica:0/task:0/device:GPU:0 with 0 MB memory) -> physical PluggableDevice (device: 0, name: METAL, pci bus id: <undefined>)\n",
      "\u001b[34m\u001b[1mwandb\u001b[0m: \u001b[33mWARNING\u001b[0m The save_model argument by default saves the model in the HDF5 format that cannot save custom objects like subclassed models and custom layers. This behavior will be deprecated in a future release in favor of the SavedModel format. Meanwhile, the HDF5 model is saved as W&B files and the SavedModel as W&B Artifacts.\n"
     ]
    },
    {
     "name": "stdout",
     "output_type": "stream",
     "text": [
      "Epoch 1/1000\n"
     ]
    },
    {
     "name": "stderr",
     "output_type": "stream",
     "text": [
      "2022-10-27 01:50:48.532382: W tensorflow/core/platform/profile_utils/cpu_utils.cc:128] Failed to get CPU frequency: 0 Hz\n",
      "2022-10-27 01:50:55.623179: I tensorflow/core/grappler/optimizers/custom_graph_optimizer_registry.cc:114] Plugin optimizer for device_type GPU is enabled.\n"
     ]
    },
    {
     "name": "stdout",
     "output_type": "stream",
     "text": [
      "233/233 [==============================] - ETA: 0s - loss: 0.1260 - accuracy: 0.9551 "
     ]
    },
    {
     "name": "stderr",
     "output_type": "stream",
     "text": [
      "2022-10-27 02:32:05.042554: I tensorflow/core/grappler/optimizers/custom_graph_optimizer_registry.cc:114] Plugin optimizer for device_type GPU is enabled.\n",
      "WARNING:absl:Found untraced functions such as _jit_compiled_convolution_op, _jit_compiled_convolution_op, _jit_compiled_convolution_op, _jit_compiled_convolution_op, _jit_compiled_convolution_op while saving (showing 5 of 268). These functions will not be directly callable after loading.\n"
     ]
    },
    {
     "name": "stdout",
     "output_type": "stream",
     "text": [
      "INFO:tensorflow:Assets written to: /Users/hkleeeee/Desktop/Flooding24/2022-2-SCS4031-9to6/Model/image_classification/wandb/run-20221027_015034-mmquhy8c/files/model-best/assets\n"
     ]
    },
    {
     "name": "stderr",
     "output_type": "stream",
     "text": [
      "INFO:tensorflow:Assets written to: /Users/hkleeeee/Desktop/Flooding24/2022-2-SCS4031-9to6/Model/image_classification/wandb/run-20221027_015034-mmquhy8c/files/model-best/assets\n",
      "\u001b[34m\u001b[1mwandb\u001b[0m: Adding directory to artifact (/Users/hkleeeee/Desktop/Flooding24/2022-2-SCS4031-9to6/Model/image_classification/wandb/run-20221027_015034-mmquhy8c/files/model-best)... Done. 1.6s\n"
     ]
    },
    {
     "name": "stdout",
     "output_type": "stream",
     "text": [
      "\n",
      "Epoch 1: val_loss improved from inf to 0.08240, saving model to ../data/weight\n",
      "233/233 [==============================] - 3180s 14s/step - loss: 0.1260 - accuracy: 0.9551 - val_loss: 0.0824 - val_accuracy: 0.9750\n",
      "Epoch 2/1000\n",
      "233/233 [==============================] - ETA: 0s - loss: 0.0869 - accuracy: 0.9722 "
     ]
    },
    {
     "name": "stderr",
     "output_type": "stream",
     "text": [
      "WARNING:absl:Found untraced functions such as _jit_compiled_convolution_op, _jit_compiled_convolution_op, _jit_compiled_convolution_op, _jit_compiled_convolution_op, _jit_compiled_convolution_op while saving (showing 5 of 268). These functions will not be directly callable after loading.\n"
     ]
    },
    {
     "name": "stdout",
     "output_type": "stream",
     "text": [
      "INFO:tensorflow:Assets written to: /Users/hkleeeee/Desktop/Flooding24/2022-2-SCS4031-9to6/Model/image_classification/wandb/run-20221027_015034-mmquhy8c/files/model-best/assets\n"
     ]
    },
    {
     "name": "stderr",
     "output_type": "stream",
     "text": [
      "INFO:tensorflow:Assets written to: /Users/hkleeeee/Desktop/Flooding24/2022-2-SCS4031-9to6/Model/image_classification/wandb/run-20221027_015034-mmquhy8c/files/model-best/assets\n",
      "\u001b[34m\u001b[1mwandb\u001b[0m: Adding directory to artifact (/Users/hkleeeee/Desktop/Flooding24/2022-2-SCS4031-9to6/Model/image_classification/wandb/run-20221027_015034-mmquhy8c/files/model-best)... Done. 1.5s\n"
     ]
    },
    {
     "name": "stdout",
     "output_type": "stream",
     "text": [
      "\n",
      "Epoch 2: val_loss improved from 0.08240 to 0.07613, saving model to ../data/weight\n",
      "233/233 [==============================] - 2990s 13s/step - loss: 0.0869 - accuracy: 0.9722 - val_loss: 0.0761 - val_accuracy: 0.9770\n",
      "Epoch 3/1000\n",
      "233/233 [==============================] - ETA: 0s - loss: 0.0798 - accuracy: 0.9732\n",
      "Epoch 3: val_loss did not improve from 0.07613\n",
      "233/233 [==============================] - 2815s 12s/step - loss: 0.0798 - accuracy: 0.9732 - val_loss: 0.0772 - val_accuracy: 0.9774\n",
      "Epoch 4/1000\n",
      "233/233 [==============================] - ETA: 0s - loss: 0.0734 - accuracy: 0.9763\n",
      "Epoch 4: val_loss did not improve from 0.07613\n",
      "233/233 [==============================] - 2814s 12s/step - loss: 0.0734 - accuracy: 0.9763 - val_loss: 0.0810 - val_accuracy: 0.9760\n",
      "Epoch 5/1000\n",
      "  3/233 [..............................] - ETA: 38:08 - loss: 0.0483 - accuracy: 0.9933"
     ]
    },
    {
     "data": {
      "text/html": [
       "Waiting for W&B process to finish... <strong style=\"color:red\">(failed 1).</strong> Press Control-C to abort syncing."
      ],
      "text/plain": [
       "<IPython.core.display.HTML object>"
      ]
     },
     "metadata": {},
     "output_type": "display_data"
    },
    {
     "data": {
      "application/vnd.jupyter.widget-view+json": {
       "model_id": "1a011e454af744858c2c0f6d14b6d123",
       "version_major": 2,
       "version_minor": 0
      },
      "text/plain": [
       "VBox(children=(Label(value='788.531 MB of 788.531 MB uploaded (3.505 MB deduped)\\r'), FloatProgress(value=1.0,…"
      ]
     },
     "metadata": {},
     "output_type": "display_data"
    },
    {
     "data": {
      "text/html": [
       "<style>\n",
       "    table.wandb td:nth-child(1) { padding: 0 10px; text-align: left ; width: auto;} td:nth-child(2) {text-align: left ; width: 100%}\n",
       "    .wandb-row { display: flex; flex-direction: row; flex-wrap: wrap; justify-content: flex-start; width: 100% }\n",
       "    .wandb-col { display: flex; flex-direction: column; flex-basis: 100%; flex: 1; padding: 10px; }\n",
       "    </style>\n",
       "<div class=\"wandb-row\"><div class=\"wandb-col\"><h3>Run history:</h3><br/><table class=\"wandb\"><tr><td>accuracy</td><td>▁▇▇█</td></tr><tr><td>epoch</td><td>▁▃▆█</td></tr><tr><td>loss</td><td>█▃▂▁</td></tr><tr><td>val_accuracy</td><td>▁▇█▄</td></tr><tr><td>val_loss</td><td>█▁▂▆</td></tr></table><br/></div><div class=\"wandb-col\"><h3>Run summary:</h3><br/><table class=\"wandb\"><tr><td>accuracy</td><td>0.97634</td></tr><tr><td>best_epoch</td><td>1</td></tr><tr><td>best_val_loss</td><td>0.07613</td></tr><tr><td>epoch</td><td>3</td></tr><tr><td>loss</td><td>0.07338</td></tr><tr><td>val_accuracy</td><td>0.97602</td></tr><tr><td>val_loss</td><td>0.08098</td></tr></table><br/></div></div>"
      ],
      "text/plain": [
       "<IPython.core.display.HTML object>"
      ]
     },
     "metadata": {},
     "output_type": "display_data"
    },
    {
     "data": {
      "text/html": [
       "Synced <strong style=\"color:#cdcd00\">worldly-sweep-6</strong>: <a href=\"https://wandb.ai/hkleee/flood24/runs/mmquhy8c\" target=\"_blank\">https://wandb.ai/hkleee/flood24/runs/mmquhy8c</a><br/>Synced 6 W&B file(s), 1 media file(s), 7 artifact file(s) and 1 other file(s)"
      ],
      "text/plain": [
       "<IPython.core.display.HTML object>"
      ]
     },
     "metadata": {},
     "output_type": "display_data"
    },
    {
     "data": {
      "text/html": [
       "Find logs at: <code>./wandb/run-20221027_015034-mmquhy8c/logs</code>"
      ],
      "text/plain": [
       "<IPython.core.display.HTML object>"
      ]
     },
     "metadata": {},
     "output_type": "display_data"
    },
    {
     "name": "stderr",
     "output_type": "stream",
     "text": [
      "\u001b[34m\u001b[1mwandb\u001b[0m: Agent Starting Run: wu0fi4tr with config:\n",
      "\u001b[34m\u001b[1mwandb\u001b[0m: \tactivation: selu\n",
      "\u001b[34m\u001b[1mwandb\u001b[0m: \tbatch_size: 50\n",
      "\u001b[34m\u001b[1mwandb\u001b[0m: \tdense: 32\n",
      "\u001b[34m\u001b[1mwandb\u001b[0m: \tdropout: 0.5\n",
      "\u001b[34m\u001b[1mwandb\u001b[0m: \tlearning_rate: 0.01\n",
      "\u001b[34m\u001b[1mwandb\u001b[0m: \toptimizer: adam\n",
      "\u001b[34m\u001b[1mwandb\u001b[0m: \tpretrain_net: Inception\n"
     ]
    },
    {
     "data": {
      "text/html": [
       "Tracking run with wandb version 0.13.4"
      ],
      "text/plain": [
       "<IPython.core.display.HTML object>"
      ]
     },
     "metadata": {},
     "output_type": "display_data"
    },
    {
     "data": {
      "text/html": [
       "Run data is saved locally in <code>/Users/hkleeeee/Desktop/Flooding24/2022-2-SCS4031-9to6/Model/image_classification/wandb/run-20221027_050853-wu0fi4tr</code>"
      ],
      "text/plain": [
       "<IPython.core.display.HTML object>"
      ]
     },
     "metadata": {},
     "output_type": "display_data"
    },
    {
     "data": {
      "text/html": [
       "Syncing run <strong><a href=\"https://wandb.ai/hkleee/flood24/runs/wu0fi4tr\" target=\"_blank\">whole-sweep-6</a></strong> to <a href=\"https://wandb.ai/hkleee/flood24\" target=\"_blank\">Weights & Biases</a> (<a href=\"https://wandb.me/run\" target=\"_blank\">docs</a>)<br/>Sweep page:  <a href=\"https://wandb.ai/hkleee/flood24/sweeps/vavoacy6\" target=\"_blank\">https://wandb.ai/hkleee/flood24/sweeps/vavoacy6</a>"
      ],
      "text/plain": [
       "<IPython.core.display.HTML object>"
      ]
     },
     "metadata": {},
     "output_type": "display_data"
    },
    {
     "name": "stdout",
     "output_type": "stream",
     "text": [
      "Found 11672 validated image filenames belonging to 2 classes.\n",
      "Found 2919 validated image filenames belonging to 2 classes.\n",
      "Epoch 1/1000\n"
     ]
    },
    {
     "name": "stderr",
     "output_type": "stream",
     "text": [
      "2022-10-27 05:09:14.416041: I tensorflow/core/grappler/optimizers/custom_graph_optimizer_registry.cc:114] Plugin optimizer for device_type GPU is enabled.\n"
     ]
    },
    {
     "name": "stdout",
     "output_type": "stream",
     "text": [
      "233/233 [==============================] - ETA: 0s - loss: 0.1723 - accuracy: 0.9362"
     ]
    },
    {
     "name": "stderr",
     "output_type": "stream",
     "text": [
      "2022-10-27 05:20:59.508243: I tensorflow/core/grappler/optimizers/custom_graph_optimizer_registry.cc:114] Plugin optimizer for device_type GPU is enabled.\n",
      "WARNING:absl:Found untraced functions such as _jit_compiled_convolution_op, _jit_compiled_convolution_op, _jit_compiled_convolution_op, _jit_compiled_convolution_op, _jit_compiled_convolution_op while saving (showing 5 of 244). These functions will not be directly callable after loading.\n"
     ]
    },
    {
     "name": "stdout",
     "output_type": "stream",
     "text": [
      "INFO:tensorflow:Assets written to: /Users/hkleeeee/Desktop/Flooding24/2022-2-SCS4031-9to6/Model/image_classification/wandb/run-20221027_050853-wu0fi4tr/files/model-best/assets\n"
     ]
    },
    {
     "name": "stderr",
     "output_type": "stream",
     "text": [
      "INFO:tensorflow:Assets written to: /Users/hkleeeee/Desktop/Flooding24/2022-2-SCS4031-9to6/Model/image_classification/wandb/run-20221027_050853-wu0fi4tr/files/model-best/assets\n",
      "\u001b[34m\u001b[1mwandb\u001b[0m: Adding directory to artifact (/Users/hkleeeee/Desktop/Flooding24/2022-2-SCS4031-9to6/Model/image_classification/wandb/run-20221027_050853-wu0fi4tr/files/model-best)... Done. 0.9s\n"
     ]
    },
    {
     "name": "stdout",
     "output_type": "stream",
     "text": [
      "\n",
      "Epoch 1: val_loss improved from inf to 0.08649, saving model to ../data/weight\n",
      "233/233 [==============================] - 937s 4s/step - loss: 0.1723 - accuracy: 0.9362 - val_loss: 0.0865 - val_accuracy: 0.9705\n",
      "Epoch 2/1000\n",
      "233/233 [==============================] - ETA: 0s - loss: 0.1139 - accuracy: 0.9573\n",
      "Epoch 2: val_loss did not improve from 0.08649\n",
      "233/233 [==============================] - 865s 4s/step - loss: 0.1139 - accuracy: 0.9573 - val_loss: 0.0908 - val_accuracy: 0.9723\n",
      "Epoch 3/1000\n",
      "233/233 [==============================] - ETA: 0s - loss: 0.1083 - accuracy: 0.9599\n",
      "Epoch 3: val_loss did not improve from 0.08649\n",
      "233/233 [==============================] - 867s 4s/step - loss: 0.1083 - accuracy: 0.9599 - val_loss: 0.0898 - val_accuracy: 0.9726\n",
      "Epoch 4/1000\n",
      "233/233 [==============================] - ETA: 0s - loss: 0.1014 - accuracy: 0.9635"
     ]
    },
    {
     "name": "stderr",
     "output_type": "stream",
     "text": [
      "WARNING:absl:Found untraced functions such as _jit_compiled_convolution_op, _jit_compiled_convolution_op, _jit_compiled_convolution_op, _jit_compiled_convolution_op, _jit_compiled_convolution_op while saving (showing 5 of 244). These functions will not be directly callable after loading.\n"
     ]
    },
    {
     "name": "stdout",
     "output_type": "stream",
     "text": [
      "INFO:tensorflow:Assets written to: /Users/hkleeeee/Desktop/Flooding24/2022-2-SCS4031-9to6/Model/image_classification/wandb/run-20221027_050853-wu0fi4tr/files/model-best/assets\n"
     ]
    },
    {
     "name": "stderr",
     "output_type": "stream",
     "text": [
      "INFO:tensorflow:Assets written to: /Users/hkleeeee/Desktop/Flooding24/2022-2-SCS4031-9to6/Model/image_classification/wandb/run-20221027_050853-wu0fi4tr/files/model-best/assets\n",
      "\u001b[34m\u001b[1mwandb\u001b[0m: Adding directory to artifact (/Users/hkleeeee/Desktop/Flooding24/2022-2-SCS4031-9to6/Model/image_classification/wandb/run-20221027_050853-wu0fi4tr/files/model-best)... Done. 0.9s\n"
     ]
    },
    {
     "name": "stdout",
     "output_type": "stream",
     "text": [
      "\n",
      "Epoch 4: val_loss improved from 0.08649 to 0.08290, saving model to ../data/weight\n",
      "233/233 [==============================] - 916s 4s/step - loss: 0.1014 - accuracy: 0.9635 - val_loss: 0.0829 - val_accuracy: 0.9712\n",
      "Epoch 5/1000\n",
      "  5/233 [..............................] - ETA: 12:03 - loss: 0.1118 - accuracy: 0.9640"
     ]
    },
    {
     "data": {
      "text/html": [
       "Waiting for W&B process to finish... <strong style=\"color:red\">(failed 1).</strong> Press Control-C to abort syncing."
      ],
      "text/plain": [
       "<IPython.core.display.HTML object>"
      ]
     },
     "metadata": {},
     "output_type": "display_data"
    },
    {
     "data": {
      "text/html": [
       "<style>\n",
       "    table.wandb td:nth-child(1) { padding: 0 10px; text-align: left ; width: auto;} td:nth-child(2) {text-align: left ; width: 100%}\n",
       "    .wandb-row { display: flex; flex-direction: row; flex-wrap: wrap; justify-content: flex-start; width: 100% }\n",
       "    .wandb-col { display: flex; flex-direction: column; flex-basis: 100%; flex: 1; padding: 10px; }\n",
       "    </style>\n",
       "<div class=\"wandb-row\"><div class=\"wandb-col\"><h3>Run history:</h3><br/><table class=\"wandb\"><tr><td>accuracy</td><td>▁▆▇█</td></tr><tr><td>epoch</td><td>▁▃▆█</td></tr><tr><td>loss</td><td>█▂▂▁</td></tr><tr><td>val_accuracy</td><td>▁▇█▃</td></tr><tr><td>val_loss</td><td>▄█▇▁</td></tr></table><br/></div><div class=\"wandb-col\"><h3>Run summary:</h3><br/><table class=\"wandb\"><tr><td>accuracy</td><td>0.96352</td></tr><tr><td>best_epoch</td><td>3</td></tr><tr><td>best_val_loss</td><td>0.0829</td></tr><tr><td>epoch</td><td>3</td></tr><tr><td>loss</td><td>0.10139</td></tr><tr><td>val_accuracy</td><td>0.97122</td></tr><tr><td>val_loss</td><td>0.0829</td></tr></table><br/></div></div>"
      ],
      "text/plain": [
       "<IPython.core.display.HTML object>"
      ]
     },
     "metadata": {},
     "output_type": "display_data"
    },
    {
     "data": {
      "text/html": [
       "Synced <strong style=\"color:#cdcd00\">whole-sweep-6</strong>: <a href=\"https://wandb.ai/hkleee/flood24/runs/wu0fi4tr\" target=\"_blank\">https://wandb.ai/hkleee/flood24/runs/wu0fi4tr</a><br/>Synced 6 W&B file(s), 1 media file(s), 7 artifact file(s) and 1 other file(s)"
      ],
      "text/plain": [
       "<IPython.core.display.HTML object>"
      ]
     },
     "metadata": {},
     "output_type": "display_data"
    },
    {
     "data": {
      "text/html": [
       "Find logs at: <code>./wandb/run-20221027_050853-wu0fi4tr/logs</code>"
      ],
      "text/plain": [
       "<IPython.core.display.HTML object>"
      ]
     },
     "metadata": {},
     "output_type": "display_data"
    },
    {
     "name": "stderr",
     "output_type": "stream",
     "text": [
      "\u001b[34m\u001b[1mwandb\u001b[0m: Agent Starting Run: 3fddd9ry with config:\n",
      "\u001b[34m\u001b[1mwandb\u001b[0m: \tactivation: relu\n",
      "\u001b[34m\u001b[1mwandb\u001b[0m: \tbatch_size: 50\n",
      "\u001b[34m\u001b[1mwandb\u001b[0m: \tdense: 32\n",
      "\u001b[34m\u001b[1mwandb\u001b[0m: \tdropout: 0.5\n",
      "\u001b[34m\u001b[1mwandb\u001b[0m: \tlearning_rate: 0.001\n",
      "\u001b[34m\u001b[1mwandb\u001b[0m: \toptimizer: sgd\n",
      "\u001b[34m\u001b[1mwandb\u001b[0m: \tpretrain_net: NasNet\n"
     ]
    },
    {
     "data": {
      "text/html": [
       "Tracking run with wandb version 0.13.4"
      ],
      "text/plain": [
       "<IPython.core.display.HTML object>"
      ]
     },
     "metadata": {},
     "output_type": "display_data"
    },
    {
     "data": {
      "text/html": [
       "Run data is saved locally in <code>/Users/hkleeeee/Desktop/Flooding24/2022-2-SCS4031-9to6/Model/image_classification/wandb/run-20221027_060943-3fddd9ry</code>"
      ],
      "text/plain": [
       "<IPython.core.display.HTML object>"
      ]
     },
     "metadata": {},
     "output_type": "display_data"
    },
    {
     "data": {
      "text/html": [
       "Syncing run <strong><a href=\"https://wandb.ai/hkleee/flood24/runs/3fddd9ry\" target=\"_blank\">efficient-sweep-7</a></strong> to <a href=\"https://wandb.ai/hkleee/flood24\" target=\"_blank\">Weights & Biases</a> (<a href=\"https://wandb.me/run\" target=\"_blank\">docs</a>)<br/>Sweep page:  <a href=\"https://wandb.ai/hkleee/flood24/sweeps/vavoacy6\" target=\"_blank\">https://wandb.ai/hkleee/flood24/sweeps/vavoacy6</a>"
      ],
      "text/plain": [
       "<IPython.core.display.HTML object>"
      ]
     },
     "metadata": {},
     "output_type": "display_data"
    },
    {
     "name": "stdout",
     "output_type": "stream",
     "text": [
      "Found 11672 validated image filenames belonging to 2 classes.\n",
      "Found 2919 validated image filenames belonging to 2 classes.\n",
      "Epoch 1/1000\n"
     ]
    },
    {
     "name": "stderr",
     "output_type": "stream",
     "text": [
      "2022-10-27 06:10:04.951132: I tensorflow/core/grappler/optimizers/custom_graph_optimizer_registry.cc:114] Plugin optimizer for device_type GPU is enabled.\n"
     ]
    },
    {
     "name": "stdout",
     "output_type": "stream",
     "text": [
      "233/233 [==============================] - ETA: 0s - loss: 0.5815 - accuracy: 0.7034"
     ]
    },
    {
     "name": "stderr",
     "output_type": "stream",
     "text": [
      "2022-10-27 06:47:50.946554: I tensorflow/core/grappler/optimizers/custom_graph_optimizer_registry.cc:114] Plugin optimizer for device_type GPU is enabled.\n",
      "WARNING:absl:Found untraced functions such as _jit_compiled_convolution_op, _jit_compiled_convolution_op, _jit_compiled_convolution_op, _jit_compiled_convolution_op, _jit_compiled_convolution_op while saving (showing 5 of 268). These functions will not be directly callable after loading.\n"
     ]
    },
    {
     "name": "stdout",
     "output_type": "stream",
     "text": [
      "INFO:tensorflow:Assets written to: /Users/hkleeeee/Desktop/Flooding24/2022-2-SCS4031-9to6/Model/image_classification/wandb/run-20221027_060943-3fddd9ry/files/model-best/assets\n"
     ]
    },
    {
     "name": "stderr",
     "output_type": "stream",
     "text": [
      "INFO:tensorflow:Assets written to: /Users/hkleeeee/Desktop/Flooding24/2022-2-SCS4031-9to6/Model/image_classification/wandb/run-20221027_060943-3fddd9ry/files/model-best/assets\n",
      "\u001b[34m\u001b[1mwandb\u001b[0m: Adding directory to artifact (/Users/hkleeeee/Desktop/Flooding24/2022-2-SCS4031-9to6/Model/image_classification/wandb/run-20221027_060943-3fddd9ry/files/model-best)... Done. 1.4s\n"
     ]
    },
    {
     "name": "stdout",
     "output_type": "stream",
     "text": [
      "\n",
      "Epoch 1: val_loss improved from inf to 0.34920, saving model to ../data/weight\n",
      "233/233 [==============================] - 2911s 12s/step - loss: 0.5815 - accuracy: 0.7034 - val_loss: 0.3492 - val_accuracy: 0.9397\n",
      "Epoch 2/1000\n",
      "233/233 [==============================] - ETA: 0s - loss: 0.3799 - accuracy: 0.8906"
     ]
    },
    {
     "name": "stderr",
     "output_type": "stream",
     "text": [
      "WARNING:absl:Found untraced functions such as _jit_compiled_convolution_op, _jit_compiled_convolution_op, _jit_compiled_convolution_op, _jit_compiled_convolution_op, _jit_compiled_convolution_op while saving (showing 5 of 268). These functions will not be directly callable after loading.\n"
     ]
    },
    {
     "name": "stdout",
     "output_type": "stream",
     "text": [
      "INFO:tensorflow:Assets written to: /Users/hkleeeee/Desktop/Flooding24/2022-2-SCS4031-9to6/Model/image_classification/wandb/run-20221027_060943-3fddd9ry/files/model-best/assets\n"
     ]
    },
    {
     "name": "stderr",
     "output_type": "stream",
     "text": [
      "INFO:tensorflow:Assets written to: /Users/hkleeeee/Desktop/Flooding24/2022-2-SCS4031-9to6/Model/image_classification/wandb/run-20221027_060943-3fddd9ry/files/model-best/assets\n",
      "\u001b[34m\u001b[1mwandb\u001b[0m: Adding directory to artifact (/Users/hkleeeee/Desktop/Flooding24/2022-2-SCS4031-9to6/Model/image_classification/wandb/run-20221027_060943-3fddd9ry/files/model-best)... Done. 1.4s\n"
     ]
    },
    {
     "name": "stdout",
     "output_type": "stream",
     "text": [
      "\n",
      "Epoch 2: val_loss improved from 0.34920 to 0.23284, saving model to ../data/weight\n",
      "233/233 [==============================] - 2889s 12s/step - loss: 0.3799 - accuracy: 0.8906 - val_loss: 0.2328 - val_accuracy: 0.9599\n",
      "Epoch 3/1000\n",
      "233/233 [==============================] - ETA: 0s - loss: 0.2873 - accuracy: 0.9250"
     ]
    },
    {
     "name": "stderr",
     "output_type": "stream",
     "text": [
      "WARNING:absl:Found untraced functions such as _jit_compiled_convolution_op, _jit_compiled_convolution_op, _jit_compiled_convolution_op, _jit_compiled_convolution_op, _jit_compiled_convolution_op while saving (showing 5 of 268). These functions will not be directly callable after loading.\n"
     ]
    },
    {
     "name": "stdout",
     "output_type": "stream",
     "text": [
      "INFO:tensorflow:Assets written to: /Users/hkleeeee/Desktop/Flooding24/2022-2-SCS4031-9to6/Model/image_classification/wandb/run-20221027_060943-3fddd9ry/files/model-best/assets\n"
     ]
    },
    {
     "name": "stderr",
     "output_type": "stream",
     "text": [
      "INFO:tensorflow:Assets written to: /Users/hkleeeee/Desktop/Flooding24/2022-2-SCS4031-9to6/Model/image_classification/wandb/run-20221027_060943-3fddd9ry/files/model-best/assets\n",
      "\u001b[34m\u001b[1mwandb\u001b[0m: Adding directory to artifact (/Users/hkleeeee/Desktop/Flooding24/2022-2-SCS4031-9to6/Model/image_classification/wandb/run-20221027_060943-3fddd9ry/files/model-best)... Done. 1.4s\n"
     ]
    },
    {
     "name": "stdout",
     "output_type": "stream",
     "text": [
      "\n",
      "Epoch 3: val_loss improved from 0.23284 to 0.18516, saving model to ../data/weight\n",
      "233/233 [==============================] - 2902s 12s/step - loss: 0.2873 - accuracy: 0.9250 - val_loss: 0.1852 - val_accuracy: 0.9644\n",
      "Epoch 4/1000\n",
      "233/233 [==============================] - ETA: 0s - loss: 0.2391 - accuracy: 0.9331"
     ]
    },
    {
     "name": "stderr",
     "output_type": "stream",
     "text": [
      "WARNING:absl:Found untraced functions such as _jit_compiled_convolution_op, _jit_compiled_convolution_op, _jit_compiled_convolution_op, _jit_compiled_convolution_op, _jit_compiled_convolution_op while saving (showing 5 of 268). These functions will not be directly callable after loading.\n"
     ]
    },
    {
     "name": "stdout",
     "output_type": "stream",
     "text": [
      "INFO:tensorflow:Assets written to: /Users/hkleeeee/Desktop/Flooding24/2022-2-SCS4031-9to6/Model/image_classification/wandb/run-20221027_060943-3fddd9ry/files/model-best/assets\n"
     ]
    },
    {
     "name": "stderr",
     "output_type": "stream",
     "text": [
      "INFO:tensorflow:Assets written to: /Users/hkleeeee/Desktop/Flooding24/2022-2-SCS4031-9to6/Model/image_classification/wandb/run-20221027_060943-3fddd9ry/files/model-best/assets\n",
      "\u001b[34m\u001b[1mwandb\u001b[0m: Adding directory to artifact (/Users/hkleeeee/Desktop/Flooding24/2022-2-SCS4031-9to6/Model/image_classification/wandb/run-20221027_060943-3fddd9ry/files/model-best)... Done. 1.4s\n"
     ]
    },
    {
     "name": "stdout",
     "output_type": "stream",
     "text": [
      "\n",
      "Epoch 4: val_loss improved from 0.18516 to 0.15843, saving model to ../data/weight\n",
      "233/233 [==============================] - 2889s 12s/step - loss: 0.2391 - accuracy: 0.9331 - val_loss: 0.1584 - val_accuracy: 0.9668\n",
      "Epoch 5/1000\n",
      " 17/233 [=>............................] - ETA: 35:04 - loss: 0.2157 - accuracy: 0.9506"
     ]
    },
    {
     "data": {
      "text/html": [
       "Waiting for W&B process to finish... <strong style=\"color:red\">(failed 1).</strong> Press Control-C to abort syncing."
      ],
      "text/plain": [
       "<IPython.core.display.HTML object>"
      ]
     },
     "metadata": {},
     "output_type": "display_data"
    },
    {
     "data": {
      "text/html": [
       "<style>\n",
       "    table.wandb td:nth-child(1) { padding: 0 10px; text-align: left ; width: auto;} td:nth-child(2) {text-align: left ; width: 100%}\n",
       "    .wandb-row { display: flex; flex-direction: row; flex-wrap: wrap; justify-content: flex-start; width: 100% }\n",
       "    .wandb-col { display: flex; flex-direction: column; flex-basis: 100%; flex: 1; padding: 10px; }\n",
       "    </style>\n",
       "<div class=\"wandb-row\"><div class=\"wandb-col\"><h3>Run history:</h3><br/><table class=\"wandb\"><tr><td>accuracy</td><td>▁▇██</td></tr><tr><td>epoch</td><td>▁▃▆█</td></tr><tr><td>loss</td><td>█▄▂▁</td></tr><tr><td>val_accuracy</td><td>▁▆▇█</td></tr><tr><td>val_loss</td><td>█▄▂▁</td></tr></table><br/></div><div class=\"wandb-col\"><h3>Run summary:</h3><br/><table class=\"wandb\"><tr><td>accuracy</td><td>0.93306</td></tr><tr><td>best_epoch</td><td>3</td></tr><tr><td>best_val_loss</td><td>0.15843</td></tr><tr><td>epoch</td><td>3</td></tr><tr><td>loss</td><td>0.23913</td></tr><tr><td>val_accuracy</td><td>0.96677</td></tr><tr><td>val_loss</td><td>0.15843</td></tr></table><br/></div></div>"
      ],
      "text/plain": [
       "<IPython.core.display.HTML object>"
      ]
     },
     "metadata": {},
     "output_type": "display_data"
    },
    {
     "data": {
      "text/html": [
       "Synced <strong style=\"color:#cdcd00\">efficient-sweep-7</strong>: <a href=\"https://wandb.ai/hkleee/flood24/runs/3fddd9ry\" target=\"_blank\">https://wandb.ai/hkleee/flood24/runs/3fddd9ry</a><br/>Synced 6 W&B file(s), 1 media file(s), 13 artifact file(s) and 1 other file(s)"
      ],
      "text/plain": [
       "<IPython.core.display.HTML object>"
      ]
     },
     "metadata": {},
     "output_type": "display_data"
    },
    {
     "data": {
      "text/html": [
       "Find logs at: <code>./wandb/run-20221027_060943-3fddd9ry/logs</code>"
      ],
      "text/plain": [
       "<IPython.core.display.HTML object>"
      ]
     },
     "metadata": {},
     "output_type": "display_data"
    },
    {
     "name": "stderr",
     "output_type": "stream",
     "text": [
      "\u001b[34m\u001b[1mwandb\u001b[0m: Agent Starting Run: 13cxc5n4 with config:\n",
      "\u001b[34m\u001b[1mwandb\u001b[0m: \tactivation: softmax\n",
      "\u001b[34m\u001b[1mwandb\u001b[0m: \tbatch_size: 50\n",
      "\u001b[34m\u001b[1mwandb\u001b[0m: \tdense: 32\n",
      "\u001b[34m\u001b[1mwandb\u001b[0m: \tdropout: 0.2\n",
      "\u001b[34m\u001b[1mwandb\u001b[0m: \tlearning_rate: 0.0001\n",
      "\u001b[34m\u001b[1mwandb\u001b[0m: \toptimizer: sgd\n",
      "\u001b[34m\u001b[1mwandb\u001b[0m: \tpretrain_net: NasNet\n"
     ]
    },
    {
     "data": {
      "text/html": [
       "Tracking run with wandb version 0.13.4"
      ],
      "text/plain": [
       "<IPython.core.display.HTML object>"
      ]
     },
     "metadata": {},
     "output_type": "display_data"
    },
    {
     "data": {
      "text/html": [
       "Run data is saved locally in <code>/Users/hkleeeee/Desktop/Flooding24/2022-2-SCS4031-9to6/Model/image_classification/wandb/run-20221027_092650-13cxc5n4</code>"
      ],
      "text/plain": [
       "<IPython.core.display.HTML object>"
      ]
     },
     "metadata": {},
     "output_type": "display_data"
    },
    {
     "data": {
      "text/html": [
       "Syncing run <strong><a href=\"https://wandb.ai/hkleee/flood24/runs/13cxc5n4\" target=\"_blank\">apricot-sweep-8</a></strong> to <a href=\"https://wandb.ai/hkleee/flood24\" target=\"_blank\">Weights & Biases</a> (<a href=\"https://wandb.me/run\" target=\"_blank\">docs</a>)<br/>Sweep page:  <a href=\"https://wandb.ai/hkleee/flood24/sweeps/vavoacy6\" target=\"_blank\">https://wandb.ai/hkleee/flood24/sweeps/vavoacy6</a>"
      ],
      "text/plain": [
       "<IPython.core.display.HTML object>"
      ]
     },
     "metadata": {},
     "output_type": "display_data"
    },
    {
     "name": "stdout",
     "output_type": "stream",
     "text": [
      "Found 11672 validated image filenames belonging to 2 classes.\n",
      "Found 2919 validated image filenames belonging to 2 classes.\n",
      "Epoch 1/1000\n"
     ]
    },
    {
     "name": "stderr",
     "output_type": "stream",
     "text": [
      "2022-10-27 09:27:18.078578: I tensorflow/core/grappler/optimizers/custom_graph_optimizer_registry.cc:114] Plugin optimizer for device_type GPU is enabled.\n"
     ]
    },
    {
     "name": "stdout",
     "output_type": "stream",
     "text": [
      "233/233 [==============================] - ETA: 0s - loss: 0.6960 - accuracy: 0.4701"
     ]
    },
    {
     "name": "stderr",
     "output_type": "stream",
     "text": [
      "2022-10-27 10:05:14.623667: I tensorflow/core/grappler/optimizers/custom_graph_optimizer_registry.cc:114] Plugin optimizer for device_type GPU is enabled.\n",
      "WARNING:absl:Found untraced functions such as _jit_compiled_convolution_op, _jit_compiled_convolution_op, _jit_compiled_convolution_op, _jit_compiled_convolution_op, _jit_compiled_convolution_op while saving (showing 5 of 268). These functions will not be directly callable after loading.\n"
     ]
    },
    {
     "name": "stdout",
     "output_type": "stream",
     "text": [
      "INFO:tensorflow:Assets written to: /Users/hkleeeee/Desktop/Flooding24/2022-2-SCS4031-9to6/Model/image_classification/wandb/run-20221027_092650-13cxc5n4/files/model-best/assets\n"
     ]
    },
    {
     "name": "stderr",
     "output_type": "stream",
     "text": [
      "INFO:tensorflow:Assets written to: /Users/hkleeeee/Desktop/Flooding24/2022-2-SCS4031-9to6/Model/image_classification/wandb/run-20221027_092650-13cxc5n4/files/model-best/assets\n",
      "\u001b[34m\u001b[1mwandb\u001b[0m: Adding directory to artifact (/Users/hkleeeee/Desktop/Flooding24/2022-2-SCS4031-9to6/Model/image_classification/wandb/run-20221027_092650-13cxc5n4/files/model-best)... Done. 1.4s\n"
     ]
    },
    {
     "name": "stdout",
     "output_type": "stream",
     "text": [
      "\n",
      "Epoch 1: val_loss improved from inf to 0.69495, saving model to ../data/weight\n",
      "233/233 [==============================] - 2920s 12s/step - loss: 0.6960 - accuracy: 0.4701 - val_loss: 0.6949 - val_accuracy: 0.4700\n",
      "Epoch 2/1000\n",
      "233/233 [==============================] - ETA: 0s - loss: 0.6956 - accuracy: 0.4702"
     ]
    },
    {
     "name": "stderr",
     "output_type": "stream",
     "text": [
      "WARNING:absl:Found untraced functions such as _jit_compiled_convolution_op, _jit_compiled_convolution_op, _jit_compiled_convolution_op, _jit_compiled_convolution_op, _jit_compiled_convolution_op while saving (showing 5 of 268). These functions will not be directly callable after loading.\n"
     ]
    },
    {
     "name": "stdout",
     "output_type": "stream",
     "text": [
      "INFO:tensorflow:Assets written to: /Users/hkleeeee/Desktop/Flooding24/2022-2-SCS4031-9to6/Model/image_classification/wandb/run-20221027_092650-13cxc5n4/files/model-best/assets\n"
     ]
    },
    {
     "name": "stderr",
     "output_type": "stream",
     "text": [
      "INFO:tensorflow:Assets written to: /Users/hkleeeee/Desktop/Flooding24/2022-2-SCS4031-9to6/Model/image_classification/wandb/run-20221027_092650-13cxc5n4/files/model-best/assets\n",
      "\u001b[34m\u001b[1mwandb\u001b[0m: Adding directory to artifact (/Users/hkleeeee/Desktop/Flooding24/2022-2-SCS4031-9to6/Model/image_classification/wandb/run-20221027_092650-13cxc5n4/files/model-best)... Done. 1.3s\n"
     ]
    },
    {
     "name": "stdout",
     "output_type": "stream",
     "text": [
      "\n",
      "Epoch 2: val_loss improved from 0.69495 to 0.69463, saving model to ../data/weight\n",
      "233/233 [==============================] - 2898s 12s/step - loss: 0.6956 - accuracy: 0.4702 - val_loss: 0.6946 - val_accuracy: 0.4700\n",
      "Epoch 3/1000\n",
      "233/233 [==============================] - ETA: 0s - loss: 0.6954 - accuracy: 0.4711"
     ]
    },
    {
     "name": "stderr",
     "output_type": "stream",
     "text": [
      "WARNING:absl:Found untraced functions such as _jit_compiled_convolution_op, _jit_compiled_convolution_op, _jit_compiled_convolution_op, _jit_compiled_convolution_op, _jit_compiled_convolution_op while saving (showing 5 of 268). These functions will not be directly callable after loading.\n"
     ]
    },
    {
     "name": "stdout",
     "output_type": "stream",
     "text": [
      "INFO:tensorflow:Assets written to: /Users/hkleeeee/Desktop/Flooding24/2022-2-SCS4031-9to6/Model/image_classification/wandb/run-20221027_092650-13cxc5n4/files/model-best/assets\n"
     ]
    },
    {
     "name": "stderr",
     "output_type": "stream",
     "text": [
      "INFO:tensorflow:Assets written to: /Users/hkleeeee/Desktop/Flooding24/2022-2-SCS4031-9to6/Model/image_classification/wandb/run-20221027_092650-13cxc5n4/files/model-best/assets\n",
      "\u001b[34m\u001b[1mwandb\u001b[0m: Adding directory to artifact (/Users/hkleeeee/Desktop/Flooding24/2022-2-SCS4031-9to6/Model/image_classification/wandb/run-20221027_092650-13cxc5n4/files/model-best)... Done. 1.4s\n"
     ]
    },
    {
     "name": "stdout",
     "output_type": "stream",
     "text": [
      "\n",
      "Epoch 3: val_loss improved from 0.69463 to 0.69431, saving model to ../data/weight\n",
      "233/233 [==============================] - 2902s 12s/step - loss: 0.6954 - accuracy: 0.4711 - val_loss: 0.6943 - val_accuracy: 0.4700\n",
      "Epoch 4/1000\n",
      "233/233 [==============================] - ETA: 0s - loss: 0.6951 - accuracy: 0.4707 "
     ]
    },
    {
     "name": "stderr",
     "output_type": "stream",
     "text": [
      "WARNING:absl:Found untraced functions such as _jit_compiled_convolution_op, _jit_compiled_convolution_op, _jit_compiled_convolution_op, _jit_compiled_convolution_op, _jit_compiled_convolution_op while saving (showing 5 of 268). These functions will not be directly callable after loading.\n"
     ]
    },
    {
     "name": "stdout",
     "output_type": "stream",
     "text": [
      "INFO:tensorflow:Assets written to: /Users/hkleeeee/Desktop/Flooding24/2022-2-SCS4031-9to6/Model/image_classification/wandb/run-20221027_092650-13cxc5n4/files/model-best/assets\n"
     ]
    },
    {
     "name": "stderr",
     "output_type": "stream",
     "text": [
      "INFO:tensorflow:Assets written to: /Users/hkleeeee/Desktop/Flooding24/2022-2-SCS4031-9to6/Model/image_classification/wandb/run-20221027_092650-13cxc5n4/files/model-best/assets\n",
      "\u001b[34m\u001b[1mwandb\u001b[0m: Adding directory to artifact (/Users/hkleeeee/Desktop/Flooding24/2022-2-SCS4031-9to6/Model/image_classification/wandb/run-20221027_092650-13cxc5n4/files/model-best)... Done. 1.3s\n"
     ]
    },
    {
     "name": "stdout",
     "output_type": "stream",
     "text": [
      "\n",
      "Epoch 4: val_loss improved from 0.69431 to 0.69400, saving model to ../data/weight\n",
      "233/233 [==============================] - 3116s 13s/step - loss: 0.6951 - accuracy: 0.4707 - val_loss: 0.6940 - val_accuracy: 0.4697\n",
      "Epoch 5/1000\n",
      "  9/233 [>.............................] - ETA: 41:50 - loss: 0.6962 - accuracy: 0.4511"
     ]
    },
    {
     "data": {
      "text/html": [
       "Waiting for W&B process to finish... <strong style=\"color:red\">(failed 1).</strong> Press Control-C to abort syncing."
      ],
      "text/plain": [
       "<IPython.core.display.HTML object>"
      ]
     },
     "metadata": {},
     "output_type": "display_data"
    },
    {
     "data": {
      "text/html": [
       "<style>\n",
       "    table.wandb td:nth-child(1) { padding: 0 10px; text-align: left ; width: auto;} td:nth-child(2) {text-align: left ; width: 100%}\n",
       "    .wandb-row { display: flex; flex-direction: row; flex-wrap: wrap; justify-content: flex-start; width: 100% }\n",
       "    .wandb-col { display: flex; flex-direction: column; flex-basis: 100%; flex: 1; padding: 10px; }\n",
       "    </style>\n",
       "<div class=\"wandb-row\"><div class=\"wandb-col\"><h3>Run history:</h3><br/><table class=\"wandb\"><tr><td>accuracy</td><td>▁▂█▆</td></tr><tr><td>epoch</td><td>▁▃▆█</td></tr><tr><td>loss</td><td>█▅▄▁</td></tr><tr><td>val_accuracy</td><td>███▁</td></tr><tr><td>val_loss</td><td>█▆▃▁</td></tr></table><br/></div><div class=\"wandb-col\"><h3>Run summary:</h3><br/><table class=\"wandb\"><tr><td>accuracy</td><td>0.47075</td></tr><tr><td>best_epoch</td><td>3</td></tr><tr><td>best_val_loss</td><td>0.694</td></tr><tr><td>epoch</td><td>3</td></tr><tr><td>loss</td><td>0.69507</td></tr><tr><td>val_accuracy</td><td>0.46968</td></tr><tr><td>val_loss</td><td>0.694</td></tr></table><br/></div></div>"
      ],
      "text/plain": [
       "<IPython.core.display.HTML object>"
      ]
     },
     "metadata": {},
     "output_type": "display_data"
    },
    {
     "data": {
      "text/html": [
       "Synced <strong style=\"color:#cdcd00\">apricot-sweep-8</strong>: <a href=\"https://wandb.ai/hkleee/flood24/runs/13cxc5n4\" target=\"_blank\">https://wandb.ai/hkleee/flood24/runs/13cxc5n4</a><br/>Synced 6 W&B file(s), 1 media file(s), 13 artifact file(s) and 1 other file(s)"
      ],
      "text/plain": [
       "<IPython.core.display.HTML object>"
      ]
     },
     "metadata": {},
     "output_type": "display_data"
    },
    {
     "data": {
      "text/html": [
       "Find logs at: <code>./wandb/run-20221027_092650-13cxc5n4/logs</code>"
      ],
      "text/plain": [
       "<IPython.core.display.HTML object>"
      ]
     },
     "metadata": {},
     "output_type": "display_data"
    },
    {
     "name": "stderr",
     "output_type": "stream",
     "text": [
      "\u001b[34m\u001b[1mwandb\u001b[0m: Agent Starting Run: xkpcuvcx with config:\n",
      "\u001b[34m\u001b[1mwandb\u001b[0m: \tactivation: elu\n",
      "\u001b[34m\u001b[1mwandb\u001b[0m: \tbatch_size: 20\n",
      "\u001b[34m\u001b[1mwandb\u001b[0m: \tdense: 256\n",
      "\u001b[34m\u001b[1mwandb\u001b[0m: \tdropout: 0.2\n",
      "\u001b[34m\u001b[1mwandb\u001b[0m: \tlearning_rate: 0.001\n",
      "\u001b[34m\u001b[1mwandb\u001b[0m: \toptimizer: adam\n",
      "\u001b[34m\u001b[1mwandb\u001b[0m: \tpretrain_net: Inception\n"
     ]
    },
    {
     "data": {
      "text/html": [
       "Tracking run with wandb version 0.13.4"
      ],
      "text/plain": [
       "<IPython.core.display.HTML object>"
      ]
     },
     "metadata": {},
     "output_type": "display_data"
    },
    {
     "data": {
      "text/html": [
       "Run data is saved locally in <code>/Users/hkleeeee/Desktop/Flooding24/2022-2-SCS4031-9to6/Model/image_classification/wandb/run-20221027_124705-xkpcuvcx</code>"
      ],
      "text/plain": [
       "<IPython.core.display.HTML object>"
      ]
     },
     "metadata": {},
     "output_type": "display_data"
    },
    {
     "data": {
      "text/html": [
       "Syncing run <strong><a href=\"https://wandb.ai/hkleee/flood24/runs/xkpcuvcx\" target=\"_blank\">crisp-sweep-10</a></strong> to <a href=\"https://wandb.ai/hkleee/flood24\" target=\"_blank\">Weights & Biases</a> (<a href=\"https://wandb.me/run\" target=\"_blank\">docs</a>)<br/>Sweep page:  <a href=\"https://wandb.ai/hkleee/flood24/sweeps/vavoacy6\" target=\"_blank\">https://wandb.ai/hkleee/flood24/sweeps/vavoacy6</a>"
      ],
      "text/plain": [
       "<IPython.core.display.HTML object>"
      ]
     },
     "metadata": {},
     "output_type": "display_data"
    },
    {
     "name": "stdout",
     "output_type": "stream",
     "text": [
      "Found 11672 validated image filenames belonging to 2 classes.\n",
      "Found 2919 validated image filenames belonging to 2 classes.\n",
      "Epoch 1/1000\n"
     ]
    },
    {
     "name": "stderr",
     "output_type": "stream",
     "text": [
      "2022-10-27 12:47:22.226225: I tensorflow/core/grappler/optimizers/custom_graph_optimizer_registry.cc:114] Plugin optimizer for device_type GPU is enabled.\n"
     ]
    },
    {
     "name": "stdout",
     "output_type": "stream",
     "text": [
      "583/583 [==============================] - ETA: 0s - loss: 0.1396 - accuracy: 0.9493"
     ]
    },
    {
     "name": "stderr",
     "output_type": "stream",
     "text": [
      "2022-10-27 13:01:16.960576: I tensorflow/core/grappler/optimizers/custom_graph_optimizer_registry.cc:114] Plugin optimizer for device_type GPU is enabled.\n",
      "WARNING:absl:Found untraced functions such as _jit_compiled_convolution_op, _jit_compiled_convolution_op, _jit_compiled_convolution_op, _jit_compiled_convolution_op, _jit_compiled_convolution_op while saving (showing 5 of 244). These functions will not be directly callable after loading.\n"
     ]
    },
    {
     "name": "stdout",
     "output_type": "stream",
     "text": [
      "INFO:tensorflow:Assets written to: /Users/hkleeeee/Desktop/Flooding24/2022-2-SCS4031-9to6/Model/image_classification/wandb/run-20221027_124705-xkpcuvcx/files/model-best/assets\n"
     ]
    },
    {
     "name": "stderr",
     "output_type": "stream",
     "text": [
      "INFO:tensorflow:Assets written to: /Users/hkleeeee/Desktop/Flooding24/2022-2-SCS4031-9to6/Model/image_classification/wandb/run-20221027_124705-xkpcuvcx/files/model-best/assets\n",
      "\u001b[34m\u001b[1mwandb\u001b[0m: Adding directory to artifact (/Users/hkleeeee/Desktop/Flooding24/2022-2-SCS4031-9to6/Model/image_classification/wandb/run-20221027_124705-xkpcuvcx/files/model-best)... Done. 0.9s\n"
     ]
    },
    {
     "name": "stdout",
     "output_type": "stream",
     "text": [
      "\n",
      "Epoch 1: val_loss improved from inf to 0.08045, saving model to ../data/weight\n",
      "583/583 [==============================] - 1112s 2s/step - loss: 0.1396 - accuracy: 0.9493 - val_loss: 0.0804 - val_accuracy: 0.9723\n",
      "Epoch 2/1000\n",
      "583/583 [==============================] - ETA: 0s - loss: 0.0935 - accuracy: 0.9660\n",
      "Epoch 2: val_loss did not improve from 0.08045\n",
      "583/583 [==============================] - 1050s 2s/step - loss: 0.0935 - accuracy: 0.9660 - val_loss: 0.0897 - val_accuracy: 0.9716\n",
      "Epoch 3/1000\n",
      "583/583 [==============================] - ETA: 0s - loss: 0.0893 - accuracy: 0.9665"
     ]
    },
    {
     "name": "stderr",
     "output_type": "stream",
     "text": [
      "WARNING:absl:Found untraced functions such as _jit_compiled_convolution_op, _jit_compiled_convolution_op, _jit_compiled_convolution_op, _jit_compiled_convolution_op, _jit_compiled_convolution_op while saving (showing 5 of 244). These functions will not be directly callable after loading.\n"
     ]
    },
    {
     "name": "stdout",
     "output_type": "stream",
     "text": [
      "INFO:tensorflow:Assets written to: /Users/hkleeeee/Desktop/Flooding24/2022-2-SCS4031-9to6/Model/image_classification/wandb/run-20221027_124705-xkpcuvcx/files/model-best/assets\n"
     ]
    },
    {
     "name": "stderr",
     "output_type": "stream",
     "text": [
      "INFO:tensorflow:Assets written to: /Users/hkleeeee/Desktop/Flooding24/2022-2-SCS4031-9to6/Model/image_classification/wandb/run-20221027_124705-xkpcuvcx/files/model-best/assets\n",
      "\u001b[34m\u001b[1mwandb\u001b[0m: Adding directory to artifact (/Users/hkleeeee/Desktop/Flooding24/2022-2-SCS4031-9to6/Model/image_classification/wandb/run-20221027_124705-xkpcuvcx/files/model-best)... Done. 0.9s\n"
     ]
    },
    {
     "name": "stdout",
     "output_type": "stream",
     "text": [
      "\n",
      "Epoch 3: val_loss improved from 0.08045 to 0.06805, saving model to ../data/weight\n",
      "583/583 [==============================] - 1084s 2s/step - loss: 0.0893 - accuracy: 0.9665 - val_loss: 0.0681 - val_accuracy: 0.9736\n",
      "Epoch 4/1000\n",
      "583/583 [==============================] - ETA: 0s - loss: 0.0804 - accuracy: 0.9716"
     ]
    },
    {
     "name": "stderr",
     "output_type": "stream",
     "text": [
      "WARNING:absl:Found untraced functions such as _jit_compiled_convolution_op, _jit_compiled_convolution_op, _jit_compiled_convolution_op, _jit_compiled_convolution_op, _jit_compiled_convolution_op while saving (showing 5 of 244). These functions will not be directly callable after loading.\n"
     ]
    },
    {
     "name": "stdout",
     "output_type": "stream",
     "text": [
      "INFO:tensorflow:Assets written to: /Users/hkleeeee/Desktop/Flooding24/2022-2-SCS4031-9to6/Model/image_classification/wandb/run-20221027_124705-xkpcuvcx/files/model-best/assets\n"
     ]
    },
    {
     "name": "stderr",
     "output_type": "stream",
     "text": [
      "INFO:tensorflow:Assets written to: /Users/hkleeeee/Desktop/Flooding24/2022-2-SCS4031-9to6/Model/image_classification/wandb/run-20221027_124705-xkpcuvcx/files/model-best/assets\n",
      "\u001b[34m\u001b[1mwandb\u001b[0m: Adding directory to artifact (/Users/hkleeeee/Desktop/Flooding24/2022-2-SCS4031-9to6/Model/image_classification/wandb/run-20221027_124705-xkpcuvcx/files/model-best)... Done. 0.9s\n"
     ]
    },
    {
     "name": "stdout",
     "output_type": "stream",
     "text": [
      "\n",
      "Epoch 4: val_loss improved from 0.06805 to 0.06541, saving model to ../data/weight\n",
      "583/583 [==============================] - 1152s 2s/step - loss: 0.0804 - accuracy: 0.9716 - val_loss: 0.0654 - val_accuracy: 0.9753\n",
      "Epoch 5/1000\n",
      "583/583 [==============================] - ETA: 0s - loss: 0.0794 - accuracy: 0.9710\n",
      "Epoch 5: val_loss did not improve from 0.06541\n",
      "583/583 [==============================] - 1008s 2s/step - loss: 0.0794 - accuracy: 0.9710 - val_loss: 0.0733 - val_accuracy: 0.9733\n",
      "Epoch 6/1000\n",
      "583/583 [==============================] - ETA: 0s - loss: 0.0730 - accuracy: 0.9727\n",
      "Epoch 6: val_loss did not improve from 0.06541\n",
      "583/583 [==============================] - 1073s 2s/step - loss: 0.0730 - accuracy: 0.9727 - val_loss: 0.0691 - val_accuracy: 0.9770\n",
      "Epoch 7/1000\n",
      "583/583 [==============================] - ETA: 0s - loss: 0.0706 - accuracy: 0.9743\n",
      "Epoch 7: val_loss did not improve from 0.06541\n",
      "583/583 [==============================] - 1067s 2s/step - loss: 0.0706 - accuracy: 0.9743 - val_loss: 0.1140 - val_accuracy: 0.9633\n",
      "Epoch 8/1000\n",
      "583/583 [==============================] - ETA: 0s - loss: 0.0630 - accuracy: 0.9767\n",
      "Epoch 8: val_loss did not improve from 0.06541\n",
      "583/583 [==============================] - 941s 2s/step - loss: 0.0630 - accuracy: 0.9767 - val_loss: 0.0784 - val_accuracy: 0.9774\n",
      "Epoch 9/1000\n",
      "583/583 [==============================] - ETA: 0s - loss: 0.0695 - accuracy: 0.9745"
     ]
    },
    {
     "name": "stderr",
     "output_type": "stream",
     "text": [
      "WARNING:absl:Found untraced functions such as _jit_compiled_convolution_op, _jit_compiled_convolution_op, _jit_compiled_convolution_op, _jit_compiled_convolution_op, _jit_compiled_convolution_op while saving (showing 5 of 244). These functions will not be directly callable after loading.\n"
     ]
    },
    {
     "name": "stdout",
     "output_type": "stream",
     "text": [
      "INFO:tensorflow:Assets written to: /Users/hkleeeee/Desktop/Flooding24/2022-2-SCS4031-9to6/Model/image_classification/wandb/run-20221027_124705-xkpcuvcx/files/model-best/assets\n"
     ]
    },
    {
     "name": "stderr",
     "output_type": "stream",
     "text": [
      "INFO:tensorflow:Assets written to: /Users/hkleeeee/Desktop/Flooding24/2022-2-SCS4031-9to6/Model/image_classification/wandb/run-20221027_124705-xkpcuvcx/files/model-best/assets\n",
      "\u001b[34m\u001b[1mwandb\u001b[0m: Adding directory to artifact (/Users/hkleeeee/Desktop/Flooding24/2022-2-SCS4031-9to6/Model/image_classification/wandb/run-20221027_124705-xkpcuvcx/files/model-best)... Done. 0.9s\n"
     ]
    },
    {
     "name": "stdout",
     "output_type": "stream",
     "text": [
      "\n",
      "Epoch 9: val_loss improved from 0.06541 to 0.05743, saving model to ../data/weight\n",
      "583/583 [==============================] - 1002s 2s/step - loss: 0.0695 - accuracy: 0.9745 - val_loss: 0.0574 - val_accuracy: 0.9815\n",
      "Epoch 10/1000\n",
      "583/583 [==============================] - ETA: 0s - loss: 0.0641 - accuracy: 0.9750\n",
      "Epoch 10: val_loss did not improve from 0.05743\n",
      "583/583 [==============================] - 900s 2s/step - loss: 0.0641 - accuracy: 0.9750 - val_loss: 0.0605 - val_accuracy: 0.9777\n",
      "Epoch 11/1000\n",
      "583/583 [==============================] - ETA: 0s - loss: 0.0605 - accuracy: 0.9785\n",
      "Epoch 11: val_loss did not improve from 0.05743\n",
      "583/583 [==============================] - 938s 2s/step - loss: 0.0605 - accuracy: 0.9785 - val_loss: 0.0618 - val_accuracy: 0.9784\n",
      "Epoch 12/1000\n",
      "583/583 [==============================] - ETA: 0s - loss: 0.0582 - accuracy: 0.9780"
     ]
    },
    {
     "name": "stderr",
     "output_type": "stream",
     "text": [
      "WARNING:absl:Found untraced functions such as _jit_compiled_convolution_op, _jit_compiled_convolution_op, _jit_compiled_convolution_op, _jit_compiled_convolution_op, _jit_compiled_convolution_op while saving (showing 5 of 244). These functions will not be directly callable after loading.\n"
     ]
    },
    {
     "name": "stdout",
     "output_type": "stream",
     "text": [
      "INFO:tensorflow:Assets written to: /Users/hkleeeee/Desktop/Flooding24/2022-2-SCS4031-9to6/Model/image_classification/wandb/run-20221027_124705-xkpcuvcx/files/model-best/assets\n"
     ]
    },
    {
     "name": "stderr",
     "output_type": "stream",
     "text": [
      "INFO:tensorflow:Assets written to: /Users/hkleeeee/Desktop/Flooding24/2022-2-SCS4031-9to6/Model/image_classification/wandb/run-20221027_124705-xkpcuvcx/files/model-best/assets\n",
      "\u001b[34m\u001b[1mwandb\u001b[0m: Adding directory to artifact (/Users/hkleeeee/Desktop/Flooding24/2022-2-SCS4031-9to6/Model/image_classification/wandb/run-20221027_124705-xkpcuvcx/files/model-best)... Done. 0.6s\n"
     ]
    },
    {
     "name": "stdout",
     "output_type": "stream",
     "text": [
      "\n",
      "Epoch 12: val_loss improved from 0.05743 to 0.05286, saving model to ../data/weight\n",
      "583/583 [==============================] - 830s 1s/step - loss: 0.0582 - accuracy: 0.9780 - val_loss: 0.0529 - val_accuracy: 0.9791\n",
      "Epoch 13/1000\n",
      "583/583 [==============================] - ETA: 0s - loss: 0.0586 - accuracy: 0.9793\n",
      "Epoch 13: val_loss did not improve from 0.05286\n",
      "583/583 [==============================] - 551s 944ms/step - loss: 0.0586 - accuracy: 0.9793 - val_loss: 0.0596 - val_accuracy: 0.9794\n",
      "Epoch 14/1000\n",
      "111/583 [====>.........................] - ETA: 7:03 - loss: 0.0598 - accuracy: 0.9784"
     ]
    },
    {
     "name": "stderr",
     "output_type": "stream",
     "text": [
      "wandb: Network error (ConnectionError), entering retry loop.\n"
     ]
    },
    {
     "name": "stdout",
     "output_type": "stream",
     "text": [
      "160/583 [=======>......................] - ETA: 6:26 - loss: 0.0587 - accuracy: 0.9784"
     ]
    },
    {
     "name": "stderr",
     "output_type": "stream",
     "text": [
      "\u001b[34m\u001b[1mwandb\u001b[0m: Network error (ConnectionError), entering retry loop.\n"
     ]
    },
    {
     "name": "stdout",
     "output_type": "stream",
     "text": [
      "583/583 [==============================] - ETA: 0s - loss: 0.0532 - accuracy: 0.9803\n",
      "Epoch 14: val_loss did not improve from 0.05286\n",
      "583/583 [==============================] - 815s 1s/step - loss: 0.0532 - accuracy: 0.9803 - val_loss: 0.0661 - val_accuracy: 0.9812\n",
      "Epoch 15/1000\n",
      "583/583 [==============================] - ETA: 0s - loss: 0.0542 - accuracy: 0.9810\n",
      "Epoch 15: val_loss did not improve from 0.05286\n",
      "583/583 [==============================] - 1740s 3s/step - loss: 0.0542 - accuracy: 0.9810 - val_loss: 0.0583 - val_accuracy: 0.9791\n",
      "Epoch 16/1000\n",
      "583/583 [==============================] - ETA: 0s - loss: 0.0487 - accuracy: 0.9812\n",
      "Epoch 16: val_loss did not improve from 0.05286\n",
      "583/583 [==============================] - 556s 953ms/step - loss: 0.0487 - accuracy: 0.9812 - val_loss: 0.0542 - val_accuracy: 0.9846\n",
      "Epoch 17/1000\n",
      "473/583 [=======================>......] - ETA: 1:22 - loss: 0.0537 - accuracy: 0.9813"
     ]
    },
    {
     "name": "stderr",
     "output_type": "stream",
     "text": [
      "wandb: Network error (ConnectionError), entering retry loop.\n"
     ]
    },
    {
     "name": "stdout",
     "output_type": "stream",
     "text": [
      "535/583 [==========================>...] - ETA: 35s - loss: 0.0541 - accuracy: 0.9808"
     ]
    },
    {
     "name": "stderr",
     "output_type": "stream",
     "text": [
      "\u001b[34m\u001b[1mwandb\u001b[0m: Network error (ConnectionError), entering retry loop.\n"
     ]
    },
    {
     "name": "stdout",
     "output_type": "stream",
     "text": [
      "583/583 [==============================] - ETA: 0s - loss: 0.0534 - accuracy: 0.9810\n",
      "Epoch 17: val_loss did not improve from 0.05286\n",
      "583/583 [==============================] - 538s 922ms/step - loss: 0.0534 - accuracy: 0.9810 - val_loss: 0.0580 - val_accuracy: 0.9825\n",
      "Epoch 18/1000\n",
      "583/583 [==============================] - ETA: 0s - loss: 0.0536 - accuracy: 0.9809\n",
      "Epoch 18: val_loss did not improve from 0.05286\n",
      "583/583 [==============================] - 540s 925ms/step - loss: 0.0536 - accuracy: 0.9809 - val_loss: 0.0716 - val_accuracy: 0.9798\n",
      "Epoch 19/1000\n",
      "583/583 [==============================] - ETA: 0s - loss: 0.0516 - accuracy: 0.9821\n",
      "Epoch 19: val_loss did not improve from 0.05286\n",
      "583/583 [==============================] - 550s 942ms/step - loss: 0.0516 - accuracy: 0.9821 - val_loss: 0.0672 - val_accuracy: 0.9808\n",
      "Epoch 20/1000\n",
      "521/583 [=========================>....] - ETA: 47s - loss: 0.0536 - accuracy: 0.9806"
     ]
    },
    {
     "name": "stderr",
     "output_type": "stream",
     "text": [
      "wandb: Network error (ConnectionError), entering retry loop.\n"
     ]
    },
    {
     "name": "stdout",
     "output_type": "stream",
     "text": [
      "583/583 [==============================] - ETA: 0s - loss: 0.0556 - accuracy: 0.9803\n",
      "Epoch 20: val_loss did not improve from 0.05286\n",
      "583/583 [==============================] - 558s 957ms/step - loss: 0.0556 - accuracy: 0.9803 - val_loss: 0.0533 - val_accuracy: 0.9801\n",
      "Epoch 21/1000\n",
      " 76/583 [==>...........................] - ETA: 6:47 - loss: 0.0475 - accuracy: 0.9842"
     ]
    },
    {
     "name": "stderr",
     "output_type": "stream",
     "text": [
      "wandb: Network error (ConnectionError), entering retry loop.\n"
     ]
    },
    {
     "name": "stdout",
     "output_type": "stream",
     "text": [
      "134/583 [=====>........................] - ETA: 6:06 - loss: 0.0500 - accuracy: 0.9825"
     ]
    },
    {
     "name": "stderr",
     "output_type": "stream",
     "text": [
      "\u001b[34m\u001b[1mwandb\u001b[0m: Network error (ConnectionError), entering retry loop.\n"
     ]
    },
    {
     "name": "stdout",
     "output_type": "stream",
     "text": [
      "583/583 [==============================] - ETA: 0s - loss: 0.0497 - accuracy: 0.9831\n",
      "Epoch 21: val_loss did not improve from 0.05286\n",
      "583/583 [==============================] - 607s 1s/step - loss: 0.0497 - accuracy: 0.9831 - val_loss: 0.0568 - val_accuracy: 0.9812\n",
      "Epoch 21: early stopping\n"
     ]
    },
    {
     "data": {
      "text/html": [
       "Waiting for W&B process to finish... <strong style=\"color:green\">(success).</strong>"
      ],
      "text/plain": [
       "<IPython.core.display.HTML object>"
      ]
     },
     "metadata": {},
     "output_type": "display_data"
    },
    {
     "name": "stderr",
     "output_type": "stream",
     "text": [
      "wandb: ERROR Dropped streaming file chunk (see wandb/debug-internal.log)\n"
     ]
    },
    {
     "data": {
      "text/html": [
       "<style>\n",
       "    table.wandb td:nth-child(1) { padding: 0 10px; text-align: left ; width: auto;} td:nth-child(2) {text-align: left ; width: 100%}\n",
       "    .wandb-row { display: flex; flex-direction: row; flex-wrap: wrap; justify-content: flex-start; width: 100% }\n",
       "    .wandb-col { display: flex; flex-direction: column; flex-basis: 100%; flex: 1; padding: 10px; }\n",
       "    </style>\n",
       "<div class=\"wandb-row\"><div class=\"wandb-col\"><h3>Run history:</h3><br/><table class=\"wandb\"><tr><td>accuracy</td><td>▁▄▅▆▅▆▆▇▆▆▇▇▇▇█████▇█</td></tr><tr><td>epoch</td><td>▁▁▂▂▂▃▃▃▄▄▅▅▅▆▆▆▇▇▇██</td></tr><tr><td>loss</td><td>█▄▄▃▃▃▃▂▃▂▂▂▂▁▁▁▁▁▁▂▁</td></tr><tr><td>val_accuracy</td><td>▄▄▄▅▄▆▁▆▇▆▆▆▆▇▆█▇▆▇▇▇</td></tr><tr><td>val_loss</td><td>▄▅▃▂▃▃█▄▂▂▂▁▂▃▂▁▂▃▃▁▁</td></tr></table><br/></div><div class=\"wandb-col\"><h3>Run summary:</h3><br/><table class=\"wandb\"><tr><td>accuracy</td><td>0.98309</td></tr><tr><td>best_epoch</td><td>11</td></tr><tr><td>best_val_loss</td><td>0.05286</td></tr><tr><td>epoch</td><td>20</td></tr><tr><td>loss</td><td>0.04972</td></tr><tr><td>val_accuracy</td><td>0.98116</td></tr><tr><td>val_loss</td><td>0.05678</td></tr></table><br/></div></div>"
      ],
      "text/plain": [
       "<IPython.core.display.HTML object>"
      ]
     },
     "metadata": {},
     "output_type": "display_data"
    },
    {
     "data": {
      "text/html": [
       "Synced <strong style=\"color:#cdcd00\">crisp-sweep-10</strong>: <a href=\"https://wandb.ai/hkleee/flood24/runs/xkpcuvcx\" target=\"_blank\">https://wandb.ai/hkleee/flood24/runs/xkpcuvcx</a><br/>Synced 6 W&B file(s), 1 media file(s), 16 artifact file(s) and 1 other file(s)"
      ],
      "text/plain": [
       "<IPython.core.display.HTML object>"
      ]
     },
     "metadata": {},
     "output_type": "display_data"
    },
    {
     "data": {
      "text/html": [
       "Find logs at: <code>./wandb/run-20221027_124705-xkpcuvcx/logs</code>"
      ],
      "text/plain": [
       "<IPython.core.display.HTML object>"
      ]
     },
     "metadata": {},
     "output_type": "display_data"
    },
    {
     "name": "stderr",
     "output_type": "stream",
     "text": [
      "\u001b[34m\u001b[1mwandb\u001b[0m: Agent Starting Run: 4z0bd9iw with config:\n",
      "\u001b[34m\u001b[1mwandb\u001b[0m: \tactivation: elu\n",
      "\u001b[34m\u001b[1mwandb\u001b[0m: \tbatch_size: 20\n",
      "\u001b[34m\u001b[1mwandb\u001b[0m: \tdense: 32\n",
      "\u001b[34m\u001b[1mwandb\u001b[0m: \tdropout: 0.2\n",
      "\u001b[34m\u001b[1mwandb\u001b[0m: \tlearning_rate: 3e-05\n",
      "\u001b[34m\u001b[1mwandb\u001b[0m: \toptimizer: rmsprop\n",
      "\u001b[34m\u001b[1mwandb\u001b[0m: \tpretrain_net: NasNet\n"
     ]
    },
    {
     "data": {
      "text/html": [
       "Tracking run with wandb version 0.13.4"
      ],
      "text/plain": [
       "<IPython.core.display.HTML object>"
      ]
     },
     "metadata": {},
     "output_type": "display_data"
    },
    {
     "data": {
      "text/html": [
       "Run data is saved locally in <code>/Users/hkleeeee/Desktop/Flooding24/2022-2-SCS4031-9to6/Model/image_classification/wandb/run-20221027_204031-4z0bd9iw</code>"
      ],
      "text/plain": [
       "<IPython.core.display.HTML object>"
      ]
     },
     "metadata": {},
     "output_type": "display_data"
    },
    {
     "data": {
      "text/html": [
       "Syncing run <strong><a href=\"https://wandb.ai/hkleee/flood24/runs/4z0bd9iw\" target=\"_blank\">serene-sweep-20</a></strong> to <a href=\"https://wandb.ai/hkleee/flood24\" target=\"_blank\">Weights & Biases</a> (<a href=\"https://wandb.me/run\" target=\"_blank\">docs</a>)<br/>Sweep page:  <a href=\"https://wandb.ai/hkleee/flood24/sweeps/vavoacy6\" target=\"_blank\">https://wandb.ai/hkleee/flood24/sweeps/vavoacy6</a>"
      ],
      "text/plain": [
       "<IPython.core.display.HTML object>"
      ]
     },
     "metadata": {},
     "output_type": "display_data"
    },
    {
     "name": "stdout",
     "output_type": "stream",
     "text": [
      "Found 11672 validated image filenames belonging to 2 classes.\n",
      "Found 2919 validated image filenames belonging to 2 classes.\n",
      "Epoch 1/1000\n"
     ]
    },
    {
     "name": "stderr",
     "output_type": "stream",
     "text": [
      "2022-10-27 20:40:52.186578: I tensorflow/core/grappler/optimizers/custom_graph_optimizer_registry.cc:114] Plugin optimizer for device_type GPU is enabled.\n"
     ]
    },
    {
     "name": "stdout",
     "output_type": "stream",
     "text": [
      "583/583 [==============================] - ETA: 0s - loss: 0.2091 - accuracy: 0.9332"
     ]
    },
    {
     "name": "stderr",
     "output_type": "stream",
     "text": [
      "2022-10-27 21:04:42.136132: I tensorflow/core/grappler/optimizers/custom_graph_optimizer_registry.cc:114] Plugin optimizer for device_type GPU is enabled.\n",
      "WARNING:absl:Found untraced functions such as _jit_compiled_convolution_op, _jit_compiled_convolution_op, _jit_compiled_convolution_op, _jit_compiled_convolution_op, _jit_compiled_convolution_op while saving (showing 5 of 268). These functions will not be directly callable after loading.\n"
     ]
    },
    {
     "name": "stdout",
     "output_type": "stream",
     "text": [
      "INFO:tensorflow:Assets written to: /Users/hkleeeee/Desktop/Flooding24/2022-2-SCS4031-9to6/Model/image_classification/wandb/run-20221027_204031-4z0bd9iw/files/model-best/assets\n"
     ]
    },
    {
     "name": "stderr",
     "output_type": "stream",
     "text": [
      "INFO:tensorflow:Assets written to: /Users/hkleeeee/Desktop/Flooding24/2022-2-SCS4031-9to6/Model/image_classification/wandb/run-20221027_204031-4z0bd9iw/files/model-best/assets\n",
      "\u001b[34m\u001b[1mwandb\u001b[0m: Adding directory to artifact (/Users/hkleeeee/Desktop/Flooding24/2022-2-SCS4031-9to6/Model/image_classification/wandb/run-20221027_204031-4z0bd9iw/files/model-best)... Done. 0.9s\n"
     ]
    },
    {
     "name": "stdout",
     "output_type": "stream",
     "text": [
      "\n",
      "Epoch 1: val_loss improved from inf to 0.09595, saving model to ../data/weight\n",
      "583/583 [==============================] - 1978s 3s/step - loss: 0.2091 - accuracy: 0.9332 - val_loss: 0.0959 - val_accuracy: 0.9726\n",
      "Epoch 2/1000\n",
      "583/583 [==============================] - ETA: 0s - loss: 0.1085 - accuracy: 0.9651"
     ]
    },
    {
     "name": "stderr",
     "output_type": "stream",
     "text": [
      "WARNING:absl:Found untraced functions such as _jit_compiled_convolution_op, _jit_compiled_convolution_op, _jit_compiled_convolution_op, _jit_compiled_convolution_op, _jit_compiled_convolution_op while saving (showing 5 of 268). These functions will not be directly callable after loading.\n"
     ]
    },
    {
     "name": "stdout",
     "output_type": "stream",
     "text": [
      "INFO:tensorflow:Assets written to: /Users/hkleeeee/Desktop/Flooding24/2022-2-SCS4031-9to6/Model/image_classification/wandb/run-20221027_204031-4z0bd9iw/files/model-best/assets\n"
     ]
    },
    {
     "name": "stderr",
     "output_type": "stream",
     "text": [
      "INFO:tensorflow:Assets written to: /Users/hkleeeee/Desktop/Flooding24/2022-2-SCS4031-9to6/Model/image_classification/wandb/run-20221027_204031-4z0bd9iw/files/model-best/assets\n",
      "\u001b[34m\u001b[1mwandb\u001b[0m: Adding directory to artifact (/Users/hkleeeee/Desktop/Flooding24/2022-2-SCS4031-9to6/Model/image_classification/wandb/run-20221027_204031-4z0bd9iw/files/model-best)... Done. 0.9s\n"
     ]
    },
    {
     "name": "stdout",
     "output_type": "stream",
     "text": [
      "\n",
      "Epoch 2: val_loss improved from 0.09595 to 0.08457, saving model to ../data/weight\n",
      "583/583 [==============================] - 3496s 6s/step - loss: 0.1085 - accuracy: 0.9651 - val_loss: 0.0846 - val_accuracy: 0.9743\n",
      "Epoch 3/1000\n",
      "583/583 [==============================] - ETA: 0s - loss: 0.0999 - accuracy: 0.9664"
     ]
    },
    {
     "name": "stderr",
     "output_type": "stream",
     "text": [
      "WARNING:absl:Found untraced functions such as _jit_compiled_convolution_op, _jit_compiled_convolution_op, _jit_compiled_convolution_op, _jit_compiled_convolution_op, _jit_compiled_convolution_op while saving (showing 5 of 268). These functions will not be directly callable after loading.\n"
     ]
    },
    {
     "name": "stdout",
     "output_type": "stream",
     "text": [
      "INFO:tensorflow:Assets written to: /Users/hkleeeee/Desktop/Flooding24/2022-2-SCS4031-9to6/Model/image_classification/wandb/run-20221027_204031-4z0bd9iw/files/model-best/assets\n"
     ]
    },
    {
     "name": "stderr",
     "output_type": "stream",
     "text": [
      "INFO:tensorflow:Assets written to: /Users/hkleeeee/Desktop/Flooding24/2022-2-SCS4031-9to6/Model/image_classification/wandb/run-20221027_204031-4z0bd9iw/files/model-best/assets\n",
      "\u001b[34m\u001b[1mwandb\u001b[0m: Adding directory to artifact (/Users/hkleeeee/Desktop/Flooding24/2022-2-SCS4031-9to6/Model/image_classification/wandb/run-20221027_204031-4z0bd9iw/files/model-best)... Done. 0.9s\n"
     ]
    },
    {
     "name": "stdout",
     "output_type": "stream",
     "text": [
      "\n",
      "Epoch 3: val_loss improved from 0.08457 to 0.08396, saving model to ../data/weight\n",
      "583/583 [==============================] - 2266s 4s/step - loss: 0.0999 - accuracy: 0.9664 - val_loss: 0.0840 - val_accuracy: 0.9760\n",
      "Epoch 4/1000\n",
      "231/583 [==========>...................] - ETA: 21:00 - loss: 0.0960 - accuracy: 0.9662"
     ]
    }
   ],
   "source": [
    "# vavoacy6\n",
    "wandb.agent('vavoacy6', train) "
   ]
  },
  {
   "cell_type": "code",
   "execution_count": null,
   "metadata": {},
   "outputs": [],
   "source": [
    "# TODO \n",
    "# visualize result of inference of validate images"
   ]
  }
 ],
 "metadata": {
  "colab": {
   "collapsed_sections": [],
   "provenance": []
  },
  "kernelspec": {
   "display_name": "Python [conda env:image] *",
   "language": "python",
   "name": "conda-env-image-py"
  },
  "language_info": {
   "codemirror_mode": {
    "name": "ipython",
    "version": 3
   },
   "file_extension": ".py",
   "mimetype": "text/x-python",
   "name": "python",
   "nbconvert_exporter": "python",
   "pygments_lexer": "ipython3",
   "version": "3.8.13"
  }
 },
 "nbformat": 4,
 "nbformat_minor": 1
}
