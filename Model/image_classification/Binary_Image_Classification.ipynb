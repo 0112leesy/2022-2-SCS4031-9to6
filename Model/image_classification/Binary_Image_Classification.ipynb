{
 "cells": [
  {
   "cell_type": "markdown",
   "metadata": {
    "id": "5K2J-P8OlTpq"
   },
   "source": [
    "## change to code and run on colab\n",
    "!pip uninstall tensorflow -y\n",
    "!pip install tensorflow==2.10\n",
    "!pip install wandb\n",
    "import tensorflow as tf\n",
    "print(tf.__version__)"
   ]
  },
  {
   "cell_type": "code",
   "execution_count": 2,
   "metadata": {
    "id": "6a1sNIfKolGY"
   },
   "outputs": [
    {
     "data": {
      "text/plain": [
       "'2.10.0'"
      ]
     },
     "execution_count": 2,
     "metadata": {},
     "output_type": "execute_result"
    }
   ],
   "source": [
    "import warnings \n",
    "warnings.filterwarnings(action='ignore')\n",
    "import os\n",
    "import shutil\n",
    "import numpy as np\n",
    "import pandas as pd\n",
    "import matplotlib.pyplot as plt\n",
    "from glob import glob\n",
    "from tqdm.auto import tqdm\n",
    "import cv2\n",
    "\n",
    "import tensorflow as tf\n",
    "from tensorflow.keras.models import Sequential, Model\n",
    "from tensorflow.keras import layers\n",
    "import tensorflow.keras as keras\n",
    "from tensorflow.data import Dataset\n",
    "\n",
    "from tensorflow.keras.optimizers import Adam, RMSprop, Nadam, SGD\n",
    "from tensorflow.keras.callbacks import ModelCheckpoint, EarlyStopping\n",
    "\n",
    "from itertools import product\n",
    "from tensorflow.keras.preprocessing.image import ImageDataGenerator\n",
    "\n",
    "from tensorflow.keras.applications import inception_resnet_v2, nasnet\n",
    "from sklearn.model_selection import train_test_split\n",
    "from wandb.keras import WandbCallback\n",
    "import wandb\n",
    "import tensorflow as tf\n",
    "tf.__version__"
   ]
  },
  {
   "cell_type": "markdown",
   "metadata": {},
   "source": [
    "# Activate this cell when you need\n",
    "# split data\n",
    "ori_flood = '../data/binary/flood'\n",
    "ori_normal = '../data/binary/normal'\n",
    "\n",
    "img_flood = glob(ori_flood+'/*.jpg')\n",
    "img_normal = glob(ori_normal+'/*.jpg')\n",
    "\n",
    "len_flood=len(img_flood)\n",
    "print('len_flood : ', len_flood)\n",
    "len_normal=len(img_normal)\n",
    "print('len_normal : ', len_normal)\n",
    "\n",
    "train_dir = '../data/binary/train'\n",
    "valid_dir = '../data/binary/valid'\n",
    "\n",
    "# copy flood img\n",
    "for i, img in enumerate(tqdm(img_flood)):\n",
    "    img_name = img.split('/')[-1]\n",
    "    src = img\n",
    "    if i < len_flood * 0.7 :\n",
    "        dst = os.path.join(train_dir+'/flood', img_name)\n",
    "    else :\n",
    "        dst = os.path.join(valid_dir+'/flood', img_name)\n",
    "    shutil.copyfile(src,dst)\n",
    "\n",
    "# copy normal img\n",
    "for i, img in enumerate(tqdm(img_normal)):\n",
    "    img_name = img.split('/')[-1]\n",
    "    src = img\n",
    "    if i < len_normal * 0.7 :\n",
    "        dst = os.path.join(train_dir+'/normal', img_name)\n",
    "    else :\n",
    "        dst = os.path.join(valid_dir+'/normal', img_name)\n",
    "    shutil.copyfile(src,dst)"
   ]
  },
  {
   "cell_type": "markdown",
   "metadata": {},
   "source": [
    "# Make DataFrame"
   ]
  },
  {
   "cell_type": "code",
   "execution_count": 16,
   "metadata": {},
   "outputs": [
    {
     "name": "stdout",
     "output_type": "stream",
     "text": [
      "flood len : 489\n",
      "normal len : 867\n"
     ]
    },
    {
     "data": {
      "text/html": [
       "<div>\n",
       "<style scoped>\n",
       "    .dataframe tbody tr th:only-of-type {\n",
       "        vertical-align: middle;\n",
       "    }\n",
       "\n",
       "    .dataframe tbody tr th {\n",
       "        vertical-align: top;\n",
       "    }\n",
       "\n",
       "    .dataframe thead th {\n",
       "        text-align: right;\n",
       "    }\n",
       "</style>\n",
       "<table border=\"1\" class=\"dataframe\">\n",
       "  <thead>\n",
       "    <tr style=\"text-align: right;\">\n",
       "      <th></th>\n",
       "      <th>path</th>\n",
       "      <th>label</th>\n",
       "    </tr>\n",
       "  </thead>\n",
       "  <tbody>\n",
       "    <tr>\n",
       "      <th>478</th>\n",
       "      <td>../data/binary/normal/frame5.jpg</td>\n",
       "      <td>0</td>\n",
       "    </tr>\n",
       "    <tr>\n",
       "      <th>125</th>\n",
       "      <td>../data/binary/normal/616.jpg</td>\n",
       "      <td>0</td>\n",
       "    </tr>\n",
       "    <tr>\n",
       "      <th>786</th>\n",
       "      <td>../data/binary/normal/도로261.jpg</td>\n",
       "      <td>0</td>\n",
       "    </tr>\n",
       "    <tr>\n",
       "      <th>283</th>\n",
       "      <td>../data/binary/flood/527.jpg</td>\n",
       "      <td>1</td>\n",
       "    </tr>\n",
       "    <tr>\n",
       "      <th>463</th>\n",
       "      <td>../data/binary/normal/frame264.jpg</td>\n",
       "      <td>0</td>\n",
       "    </tr>\n",
       "  </tbody>\n",
       "</table>\n",
       "</div>"
      ],
      "text/plain": [
       "                                   path label\n",
       "478    ../data/binary/normal/frame5.jpg     0\n",
       "125       ../data/binary/normal/616.jpg     0\n",
       "786     ../data/binary/normal/도로261.jpg     0\n",
       "283        ../data/binary/flood/527.jpg     1\n",
       "463  ../data/binary/normal/frame264.jpg     0"
      ]
     },
     "metadata": {},
     "output_type": "display_data"
    },
    {
     "data": {
      "text/html": [
       "<div>\n",
       "<style scoped>\n",
       "    .dataframe tbody tr th:only-of-type {\n",
       "        vertical-align: middle;\n",
       "    }\n",
       "\n",
       "    .dataframe tbody tr th {\n",
       "        vertical-align: top;\n",
       "    }\n",
       "\n",
       "    .dataframe thead th {\n",
       "        text-align: right;\n",
       "    }\n",
       "</style>\n",
       "<table border=\"1\" class=\"dataframe\">\n",
       "  <thead>\n",
       "    <tr style=\"text-align: right;\">\n",
       "      <th></th>\n",
       "      <th>path</th>\n",
       "      <th>label</th>\n",
       "    </tr>\n",
       "  </thead>\n",
       "  <tbody>\n",
       "    <tr>\n",
       "      <th>593</th>\n",
       "      <td>../data/binary/normal/frame17.jpg</td>\n",
       "      <td>0</td>\n",
       "    </tr>\n",
       "    <tr>\n",
       "      <th>329</th>\n",
       "      <td>../data/binary/normal/frame327.jpg</td>\n",
       "      <td>0</td>\n",
       "    </tr>\n",
       "    <tr>\n",
       "      <th>341</th>\n",
       "      <td>../data/binary/flood/290.jpg</td>\n",
       "      <td>1</td>\n",
       "    </tr>\n",
       "    <tr>\n",
       "      <th>272</th>\n",
       "      <td>../data/binary/normal/frame325.jpg</td>\n",
       "      <td>0</td>\n",
       "    </tr>\n",
       "    <tr>\n",
       "      <th>346</th>\n",
       "      <td>../data/binary/flood/247.jpg</td>\n",
       "      <td>1</td>\n",
       "    </tr>\n",
       "  </tbody>\n",
       "</table>\n",
       "</div>"
      ],
      "text/plain": [
       "                                   path label\n",
       "593   ../data/binary/normal/frame17.jpg     0\n",
       "329  ../data/binary/normal/frame327.jpg     0\n",
       "341        ../data/binary/flood/290.jpg     1\n",
       "272  ../data/binary/normal/frame325.jpg     0\n",
       "346        ../data/binary/flood/247.jpg     1"
      ]
     },
     "execution_count": 16,
     "metadata": {},
     "output_type": "execute_result"
    }
   ],
   "source": [
    "# flood : 1, normal : 0\n",
    "flood_df = pd.DataFrame({'path' : glob('../data/binary/flood/*.jpg'),\n",
    "                        'label' : '1'})\n",
    "print('flood len : {}'.format(len(flood_df)))\n",
    "normal_df = pd.DataFrame({'path' : glob('../data/binary/normal/*.jpg'),\n",
    "                         'label': '0'})\n",
    "print('normal len : {}'.format(len(normal_df)))\n",
    "\n",
    "df = pd.concat([flood_df, normal_df], axis=0)\n",
    "\n",
    "#shuffle\n",
    "df = df.sample(frac=1)\n",
    "display(df.head())\n",
    "\n",
    "#split\n",
    "x_train, x_test, y_train, y_test = train_test_split(df['path'],\n",
    "                                                   df['label'],\n",
    "                                                   stratify=df['label'],\n",
    "                                                   test_size=0.2)\n",
    "train_df = pd.DataFrame({'path':x_train,\n",
    "                        'label':y_train})\n",
    "valid_df = pd.DataFrame({'path':x_test,\n",
    "                        'label':y_test})\n",
    "train_df.head()"
   ]
  },
  {
   "cell_type": "markdown",
   "metadata": {},
   "source": [
    "# Config"
   ]
  },
  {
   "cell_type": "code",
   "execution_count": 17,
   "metadata": {
    "id": "2ZmCNhsdrFYO"
   },
   "outputs": [],
   "source": [
    "# train_dir = '/content/drive/MyDrive/융합캡스톤디자인/binary/train'\n",
    "# valid_dir = '/content/drive/MyDrive/융합캡스톤디자인/binary/valid'\n",
    "# train_dir = '../data/binary/train'\n",
    "# valid_dir = '../data/binary/valid'\n",
    "\n",
    "CLASSES = ['normal', 'flood']\n",
    "NasNet = 'NasNet'\n",
    "Inception = 'Inception'\n",
    "target_size = {NasNet : (331,331),\n",
    "               Inception : (299,299)}\n",
    "EPOCHS = 1000\n",
    "\n",
    "sweep_config = {\n",
    "    'method': 'random',\n",
    "    'metric': {\n",
    "      'name': 'val_loss',\n",
    "      'goal': 'minimize'   \n",
    "    },\n",
    "    'early_terminate' : {\n",
    "        'type': 'hyperband',\n",
    "        'max_iter': 27,\n",
    "        's': 2\n",
    "    },\n",
    "    'parameters': {\n",
    "        'pretrain_net': {\n",
    "            'values': [Inception, NasNet]\n",
    "        },\n",
    "        'batch_size': {\n",
    "            'values': [20, 50]\n",
    "        },\n",
    "        'dropout': {\n",
    "            'values': [0.2, 0.5]\n",
    "        },\n",
    "        'dense': {\n",
    "            'values': [32, 256, 1024]\n",
    "        },\n",
    "        'learning_rate': {\n",
    "            'values': [1e-2, 1e-3, 1e-4, 3e-5]\n",
    "        },\n",
    "        'optimizer': {\n",
    "            'values': ['adam', 'sgd', 'rmsprop']\n",
    "        },\n",
    "        'activation': {\n",
    "            'values': ['relu', 'elu', 'selu', 'softmax']\n",
    "        }\n",
    "    }\n",
    "}"
   ]
  },
  {
   "cell_type": "code",
   "execution_count": 18,
   "metadata": {
    "id": "lnJCLxjlSyzR"
   },
   "outputs": [],
   "source": [
    "train_datagen = ImageDataGenerator(rescale=1./255,\n",
    "                              rotation_range=30,\n",
    "                              shear_range=0.2,\n",
    "                              zoom_range=0.3,\n",
    "                              horizontal_flip=True,\n",
    "                              vertical_flip=True,\n",
    "                              fill_mode = 'nearest')\n",
    "valid_datagen = ImageDataGenerator(rescale=1./255)"
   ]
  },
  {
   "cell_type": "code",
   "execution_count": 19,
   "metadata": {
    "id": "PJdM_Fe-SSKu"
   },
   "outputs": [],
   "source": [
    "def train() :\n",
    "    tf.keras.backend.clear_session()\n",
    "    config_defaults = {\n",
    "        'pretrain_net': Inception,\n",
    "        'epochs' : EPOCHS,\n",
    "        'batch_size': 50,\n",
    "        'dropout' : 0.5,\n",
    "        'learning_rate' : 1e-3,\n",
    "        'activation': 'relu',\n",
    "        'optimizer': 'adam',\n",
    "        'dense':1024\n",
    "    }\n",
    "    \n",
    "    wandb.init(config=config_defaults)\n",
    "    config = wandb.config\n",
    "    \n",
    "    train_generator = train_datagen.flow_from_dataframe(train_df, \n",
    "                                               x_col='path',\n",
    "                                               y_col='label',\n",
    "                                               target_size=target_size[config.pretrain_net],\n",
    "                                               class_mode='binary',\n",
    "                                               batch_size=config.batch_size)\n",
    "    valid_generator = valid_datagen.flow_from_dataframe(valid_df,\n",
    "                                               x_col='path',\n",
    "                                               y_col='label',\n",
    "                                               target_size=target_size[config.pretrain_net],\n",
    "                                               class_mode='binary',\n",
    "                                               batch_size=config.batch_size)    \n",
    "    \n",
    "    if config.pretrain_net == Inception :\n",
    "        base_model = inception_resnet_v2.InceptionResNetV2(\n",
    "            weights='imagenet',\n",
    "            include_top = False,\n",
    "            input_shape = target_size[config.pretrain_net]+(3,)\n",
    "        )\n",
    "    elif config.pretrain_net == NasNet :\n",
    "        base_model= nasnet.NASNetLarge(\n",
    "              weights='imagenet',\n",
    "              include_top=False,\n",
    "              input_shape = target_size[config.pretrain_net]+(3,)\n",
    "             )\n",
    "    base_model.trainable = False \n",
    "\n",
    "    inputs = layers.Input(shape=target_size[config.pretrain_net]+(3,))\n",
    "    x = base_model(inputs, training=False)\n",
    "    x = layers.GlobalAveragePooling2D()(x)\n",
    "    x = layers.Dropout(config.dropout)(x)\n",
    "    x = layers.Dense(config.dense, activation=config.activation)(x)\n",
    "    outputs = layers.Dense(1, activation='sigmoid')(x)\n",
    "\n",
    "    model = Model(inputs=inputs, \n",
    "                  outputs=outputs,\n",
    "                  name='binary_flood')    \n",
    "    \n",
    "    if config.optimizer=='sgd':\n",
    "        optimizer = SGD(learning_rate=config.learning_rate)\n",
    "    elif config.optimizer=='rmsprop':\n",
    "        optimizer = RMSprop(learning_rate=config.learning_rate)\n",
    "    elif config.optimizer=='adam':\n",
    "        optimizer = Adam(learning_rate=config.learning_rate)\n",
    "\n",
    "\n",
    "    model.compile(loss='binary_crossentropy',\n",
    "                  optimizer=optimizer,\n",
    "                  metrics=['accuracy'])    \n",
    "    \n",
    "    _ = model.fit(train_generator,\n",
    "          validation_data=valid_generator,\n",
    "          verbose=1,\n",
    "          epochs=config.epochs,\n",
    "          callbacks=[WandbCallback()],\n",
    "          steps_per_epoch=len(train_df)//config.batch_size)"
   ]
  },
  {
   "cell_type": "code",
   "execution_count": 20,
   "metadata": {
    "id": "EUs02iU-TVGt"
   },
   "outputs": [
    {
     "name": "stdout",
     "output_type": "stream",
     "text": [
      "Create sweep with ID: 67tzw27t\n",
      "Sweep URL: https://wandb.ai/hkleee/flood24/sweeps/67tzw27t\n"
     ]
    }
   ],
   "source": [
    "sweep_id = wandb.sweep(sweep_config, project='flood24')"
   ]
  },
  {
   "cell_type": "code",
   "execution_count": 21,
   "metadata": {
    "id": "g2Qu-0MhW-aU"
   },
   "outputs": [
    {
     "name": "stderr",
     "output_type": "stream",
     "text": [
      "\u001B[34m\u001B[1mwandb\u001B[0m: \u001B[33mWARNING\u001B[0m Calling wandb.login() after wandb.init() has no effect.\n",
      "wandb: Waiting for W&B process to finish... (success).\n",
      "wandb: Synced lively-violet-6: https://wandb.ai/hkleee/2022-2-SCS4031-9to6-Model_image_classification/runs/o0j172bj\n",
      "wandb: Synced 6 W&B file(s), 1 media file(s), 0 artifact file(s) and 0 other file(s)\n",
      "wandb: Find logs at: ./wandb/run-20221020_150715-o0j172bj/logs\n",
      "\u001B[34m\u001B[1mwandb\u001B[0m: Agent Starting Run: q27oeyaw with config:\n",
      "\u001B[34m\u001B[1mwandb\u001B[0m: \tactivation: softmax\n",
      "\u001B[34m\u001B[1mwandb\u001B[0m: \tbatch_size: 50\n",
      "\u001B[34m\u001B[1mwandb\u001B[0m: \tdense: 1024\n",
      "\u001B[34m\u001B[1mwandb\u001B[0m: \tdropout: 0.2\n",
      "\u001B[34m\u001B[1mwandb\u001B[0m: \tlearning_rate: 0.01\n",
      "\u001B[34m\u001B[1mwandb\u001B[0m: \toptimizer: adam\n",
      "\u001B[34m\u001B[1mwandb\u001B[0m: \tpretrain_net: NasNet\n"
     ]
    },
    {
     "data": {
      "application/vnd.jupyter.widget-view+json": {
       "model_id": "dbf4b8f3429448628d7251d67f5986c3",
       "version_major": 2,
       "version_minor": 0
      },
      "text/plain": [
       "VBox(children=(Label(value='Waiting for wandb.init()...\\r'), FloatProgress(value=0.01675214723333435, max=1.0)…"
      ]
     },
     "metadata": {},
     "output_type": "display_data"
    },
    {
     "data": {
      "text/html": [
       "Tracking run with wandb version 0.13.4"
      ],
      "text/plain": [
       "<IPython.core.display.HTML object>"
      ]
     },
     "metadata": {},
     "output_type": "display_data"
    },
    {
     "data": {
      "text/html": [
       "Run data is saved locally in <code>/Users/hkleeeee/Desktop/Flooding24/2022-2-SCS4031-9to6/Model/image_classification/wandb/run-20221020_152428-q27oeyaw</code>"
      ],
      "text/plain": [
       "<IPython.core.display.HTML object>"
      ]
     },
     "metadata": {},
     "output_type": "display_data"
    },
    {
     "data": {
      "text/html": [
       "Syncing run <strong><a href=\"https://wandb.ai/hkleee/flood24/runs/q27oeyaw\" target=\"_blank\">valiant-sweep-1</a></strong> to <a href=\"https://wandb.ai/hkleee/flood24\" target=\"_blank\">Weights & Biases</a> (<a href=\"https://wandb.me/run\" target=\"_blank\">docs</a>)<br/>Sweep page:  <a href=\"https://wandb.ai/hkleee/flood24/sweeps/67tzw27t\" target=\"_blank\">https://wandb.ai/hkleee/flood24/sweeps/67tzw27t</a>"
      ],
      "text/plain": [
       "<IPython.core.display.HTML object>"
      ]
     },
     "metadata": {},
     "output_type": "display_data"
    },
    {
     "name": "stdout",
     "output_type": "stream",
     "text": [
      "Found 1084 validated image filenames belonging to 2 classes.\n",
      "Found 272 validated image filenames belonging to 2 classes.\n",
      "Epoch 1/10\n"
     ]
    },
    {
     "name": "stderr",
     "output_type": "stream",
     "text": [
      "2022-10-20 15:24:43.991156: I tensorflow/core/grappler/optimizers/custom_graph_optimizer_registry.cc:114] Plugin optimizer for device_type GPU is enabled.\n"
     ]
    },
    {
     "name": "stdout",
     "output_type": "stream",
     "text": [
      "21/21 [==============================] - ETA: 0s - loss: 0.6341 - accuracy: 0.8133"
     ]
    },
    {
     "name": "stderr",
     "output_type": "stream",
     "text": [
      "2022-10-20 15:26:41.755625: I tensorflow/core/grappler/optimizers/custom_graph_optimizer_registry.cc:114] Plugin optimizer for device_type GPU is enabled.\n",
      "WARNING:absl:Found untraced functions such as _jit_compiled_convolution_op, _jit_compiled_convolution_op, _jit_compiled_convolution_op, _jit_compiled_convolution_op, _jit_compiled_convolution_op while saving (showing 5 of 268). These functions will not be directly callable after loading.\n"
     ]
    },
    {
     "name": "stdout",
     "output_type": "stream",
     "text": [
      "INFO:tensorflow:Assets written to: /Users/hkleeeee/Desktop/Flooding24/2022-2-SCS4031-9to6/Model/image_classification/wandb/run-20221020_152428-q27oeyaw/files/model-best/assets\n"
     ]
    },
    {
     "name": "stderr",
     "output_type": "stream",
     "text": [
      "INFO:tensorflow:Assets written to: /Users/hkleeeee/Desktop/Flooding24/2022-2-SCS4031-9to6/Model/image_classification/wandb/run-20221020_152428-q27oeyaw/files/model-best/assets\n",
      "\u001B[34m\u001B[1mwandb\u001B[0m: Adding directory to artifact (/Users/hkleeeee/Desktop/Flooding24/2022-2-SCS4031-9to6/Model/image_classification/wandb/run-20221020_152428-q27oeyaw/files/model-best)... Done. 1.1s\n"
     ]
    },
    {
     "name": "stdout",
     "output_type": "stream",
     "text": [
      "21/21 [==============================] - 205s 10s/step - loss: 0.6341 - accuracy: 0.8133 - val_loss: 0.5719 - val_accuracy: 0.8934\n",
      "Epoch 2/10\n",
      "21/21 [==============================] - ETA: 0s - loss: 0.5471 - accuracy: 0.8675"
     ]
    },
    {
     "name": "stderr",
     "output_type": "stream",
     "text": [
      "WARNING:absl:Found untraced functions such as _jit_compiled_convolution_op, _jit_compiled_convolution_op, _jit_compiled_convolution_op, _jit_compiled_convolution_op, _jit_compiled_convolution_op while saving (showing 5 of 268). These functions will not be directly callable after loading.\n"
     ]
    },
    {
     "name": "stdout",
     "output_type": "stream",
     "text": [
      "INFO:tensorflow:Assets written to: /Users/hkleeeee/Desktop/Flooding24/2022-2-SCS4031-9to6/Model/image_classification/wandb/run-20221020_152428-q27oeyaw/files/model-best/assets\n"
     ]
    },
    {
     "name": "stderr",
     "output_type": "stream",
     "text": [
      "INFO:tensorflow:Assets written to: /Users/hkleeeee/Desktop/Flooding24/2022-2-SCS4031-9to6/Model/image_classification/wandb/run-20221020_152428-q27oeyaw/files/model-best/assets\n",
      "\u001B[34m\u001B[1mwandb\u001B[0m: Adding directory to artifact (/Users/hkleeeee/Desktop/Flooding24/2022-2-SCS4031-9to6/Model/image_classification/wandb/run-20221020_152428-q27oeyaw/files/model-best)... Done. 1.0s\n"
     ]
    },
    {
     "name": "stdout",
     "output_type": "stream",
     "text": [
      "21/21 [==============================] - 208s 10s/step - loss: 0.5471 - accuracy: 0.8675 - val_loss: 0.4735 - val_accuracy: 0.9596\n",
      "Epoch 3/10\n",
      "21/21 [==============================] - ETA: 0s - loss: 0.4694 - accuracy: 0.8936"
     ]
    },
    {
     "name": "stderr",
     "output_type": "stream",
     "text": [
      "WARNING:absl:Found untraced functions such as _jit_compiled_convolution_op, _jit_compiled_convolution_op, _jit_compiled_convolution_op, _jit_compiled_convolution_op, _jit_compiled_convolution_op while saving (showing 5 of 268). These functions will not be directly callable after loading.\n"
     ]
    },
    {
     "name": "stdout",
     "output_type": "stream",
     "text": [
      "INFO:tensorflow:Assets written to: /Users/hkleeeee/Desktop/Flooding24/2022-2-SCS4031-9to6/Model/image_classification/wandb/run-20221020_152428-q27oeyaw/files/model-best/assets\n"
     ]
    },
    {
     "name": "stderr",
     "output_type": "stream",
     "text": [
      "INFO:tensorflow:Assets written to: /Users/hkleeeee/Desktop/Flooding24/2022-2-SCS4031-9to6/Model/image_classification/wandb/run-20221020_152428-q27oeyaw/files/model-best/assets\n",
      "\u001B[34m\u001B[1mwandb\u001B[0m: Adding directory to artifact (/Users/hkleeeee/Desktop/Flooding24/2022-2-SCS4031-9to6/Model/image_classification/wandb/run-20221020_152428-q27oeyaw/files/model-best)... Done. 1.0s\n"
     ]
    },
    {
     "name": "stdout",
     "output_type": "stream",
     "text": [
      "21/21 [==============================] - 211s 10s/step - loss: 0.4694 - accuracy: 0.8936 - val_loss: 0.4041 - val_accuracy: 0.9522\n",
      "Epoch 4/10\n",
      "21/21 [==============================] - 161s 8s/step - loss: 0.4443 - accuracy: 0.8656 - val_loss: 0.4474 - val_accuracy: 0.8713\n",
      "Epoch 5/10\n",
      "21/21 [==============================] - ETA: 0s - loss: 0.4219 - accuracy: 0.8685"
     ]
    },
    {
     "name": "stderr",
     "output_type": "stream",
     "text": [
      "WARNING:absl:Found untraced functions such as _jit_compiled_convolution_op, _jit_compiled_convolution_op, _jit_compiled_convolution_op, _jit_compiled_convolution_op, _jit_compiled_convolution_op while saving (showing 5 of 268). These functions will not be directly callable after loading.\n"
     ]
    },
    {
     "name": "stdout",
     "output_type": "stream",
     "text": [
      "INFO:tensorflow:Assets written to: /Users/hkleeeee/Desktop/Flooding24/2022-2-SCS4031-9to6/Model/image_classification/wandb/run-20221020_152428-q27oeyaw/files/model-best/assets\n"
     ]
    },
    {
     "name": "stderr",
     "output_type": "stream",
     "text": [
      "INFO:tensorflow:Assets written to: /Users/hkleeeee/Desktop/Flooding24/2022-2-SCS4031-9to6/Model/image_classification/wandb/run-20221020_152428-q27oeyaw/files/model-best/assets\n",
      "\u001B[34m\u001B[1mwandb\u001B[0m: Adding directory to artifact (/Users/hkleeeee/Desktop/Flooding24/2022-2-SCS4031-9to6/Model/image_classification/wandb/run-20221020_152428-q27oeyaw/files/model-best)... Done. 1.0s\n"
     ]
    },
    {
     "name": "stdout",
     "output_type": "stream",
     "text": [
      "21/21 [==============================] - 216s 10s/step - loss: 0.4219 - accuracy: 0.8685 - val_loss: 0.3279 - val_accuracy: 0.9559\n",
      "Epoch 6/10\n",
      "21/21 [==============================] - 161s 8s/step - loss: 0.3638 - accuracy: 0.9043 - val_loss: 0.3314 - val_accuracy: 0.9375\n",
      "Epoch 7/10\n",
      "21/21 [==============================] - ETA: 0s - loss: 0.3476 - accuracy: 0.9052"
     ]
    },
    {
     "name": "stderr",
     "output_type": "stream",
     "text": [
      "WARNING:absl:Found untraced functions such as _jit_compiled_convolution_op, _jit_compiled_convolution_op, _jit_compiled_convolution_op, _jit_compiled_convolution_op, _jit_compiled_convolution_op while saving (showing 5 of 268). These functions will not be directly callable after loading.\n"
     ]
    },
    {
     "name": "stdout",
     "output_type": "stream",
     "text": [
      "INFO:tensorflow:Assets written to: /Users/hkleeeee/Desktop/Flooding24/2022-2-SCS4031-9to6/Model/image_classification/wandb/run-20221020_152428-q27oeyaw/files/model-best/assets\n"
     ]
    },
    {
     "name": "stderr",
     "output_type": "stream",
     "text": [
      "INFO:tensorflow:Assets written to: /Users/hkleeeee/Desktop/Flooding24/2022-2-SCS4031-9to6/Model/image_classification/wandb/run-20221020_152428-q27oeyaw/files/model-best/assets\n",
      "\u001B[34m\u001B[1mwandb\u001B[0m: Adding directory to artifact (/Users/hkleeeee/Desktop/Flooding24/2022-2-SCS4031-9to6/Model/image_classification/wandb/run-20221020_152428-q27oeyaw/files/model-best)... Done. 1.0s\n"
     ]
    },
    {
     "name": "stdout",
     "output_type": "stream",
     "text": [
      "21/21 [==============================] - 222s 11s/step - loss: 0.3476 - accuracy: 0.9052 - val_loss: 0.2997 - val_accuracy: 0.9449\n",
      "Epoch 8/10\n",
      "21/21 [==============================] - 163s 8s/step - loss: 0.3401 - accuracy: 0.9014 - val_loss: 0.3056 - val_accuracy: 0.9265\n",
      "Epoch 9/10\n",
      "21/21 [==============================] - ETA: 0s - loss: 0.3221 - accuracy: 0.9081"
     ]
    },
    {
     "name": "stderr",
     "output_type": "stream",
     "text": [
      "WARNING:absl:Found untraced functions such as _jit_compiled_convolution_op, _jit_compiled_convolution_op, _jit_compiled_convolution_op, _jit_compiled_convolution_op, _jit_compiled_convolution_op while saving (showing 5 of 268). These functions will not be directly callable after loading.\n"
     ]
    },
    {
     "name": "stdout",
     "output_type": "stream",
     "text": [
      "INFO:tensorflow:Assets written to: /Users/hkleeeee/Desktop/Flooding24/2022-2-SCS4031-9to6/Model/image_classification/wandb/run-20221020_152428-q27oeyaw/files/model-best/assets\n"
     ]
    },
    {
     "name": "stderr",
     "output_type": "stream",
     "text": [
      "INFO:tensorflow:Assets written to: /Users/hkleeeee/Desktop/Flooding24/2022-2-SCS4031-9to6/Model/image_classification/wandb/run-20221020_152428-q27oeyaw/files/model-best/assets\n",
      "\u001B[34m\u001B[1mwandb\u001B[0m: Adding directory to artifact (/Users/hkleeeee/Desktop/Flooding24/2022-2-SCS4031-9to6/Model/image_classification/wandb/run-20221020_152428-q27oeyaw/files/model-best)... Done. 1.0s\n"
     ]
    },
    {
     "name": "stdout",
     "output_type": "stream",
     "text": [
      "21/21 [==============================] - 220s 11s/step - loss: 0.3221 - accuracy: 0.9081 - val_loss: 0.2958 - val_accuracy: 0.9265\n",
      "Epoch 10/10\n",
      "21/21 [==============================] - 161s 8s/step - loss: 0.3086 - accuracy: 0.9062 - val_loss: 0.3415 - val_accuracy: 0.9007\n"
     ]
    },
    {
     "data": {
      "text/html": [
       "Waiting for W&B process to finish... <strong style=\"color:green\">(success).</strong>"
      ],
      "text/plain": [
       "<IPython.core.display.HTML object>"
      ]
     },
     "metadata": {},
     "output_type": "display_data"
    },
    {
     "data": {
      "text/html": [
       "<style>\n",
       "    table.wandb td:nth-child(1) { padding: 0 10px; text-align: left ; width: auto;} td:nth-child(2) {text-align: left ; width: 100%}\n",
       "    .wandb-row { display: flex; flex-direction: row; flex-wrap: wrap; justify-content: flex-start; width: 100% }\n",
       "    .wandb-col { display: flex; flex-direction: column; flex-basis: 100%; flex: 1; padding: 10px; }\n",
       "    </style>\n",
       "<div class=\"wandb-row\"><div class=\"wandb-col\"><h3>Run history:</h3><br/><table class=\"wandb\"><tr><td>accuracy</td><td>▁▅▇▅▅█████</td></tr><tr><td>epoch</td><td>▁▂▃▃▄▅▆▆▇█</td></tr><tr><td>loss</td><td>█▆▄▄▃▂▂▂▁▁</td></tr><tr><td>val_accuracy</td><td>▃█▇▁█▆▇▅▅▃</td></tr><tr><td>val_loss</td><td>█▆▄▅▂▂▁▁▁▂</td></tr></table><br/></div><div class=\"wandb-col\"><h3>Run summary:</h3><br/><table class=\"wandb\"><tr><td>accuracy</td><td>0.90619</td></tr><tr><td>best_epoch</td><td>8</td></tr><tr><td>best_val_loss</td><td>0.29579</td></tr><tr><td>epoch</td><td>9</td></tr><tr><td>loss</td><td>0.30855</td></tr><tr><td>val_accuracy</td><td>0.90074</td></tr><tr><td>val_loss</td><td>0.34154</td></tr></table><br/></div></div>"
      ],
      "text/plain": [
       "<IPython.core.display.HTML object>"
      ]
     },
     "metadata": {},
     "output_type": "display_data"
    },
    {
     "data": {
      "text/html": [
       "Synced <strong style=\"color:#cdcd00\">valiant-sweep-1</strong>: <a href=\"https://wandb.ai/hkleee/flood24/runs/q27oeyaw\" target=\"_blank\">https://wandb.ai/hkleee/flood24/runs/q27oeyaw</a><br/>Synced 6 W&B file(s), 1 media file(s), 19 artifact file(s) and 1 other file(s)"
      ],
      "text/plain": [
       "<IPython.core.display.HTML object>"
      ]
     },
     "metadata": {},
     "output_type": "display_data"
    },
    {
     "data": {
      "text/html": [
       "Find logs at: <code>./wandb/run-20221020_152428-q27oeyaw/logs</code>"
      ],
      "text/plain": [
       "<IPython.core.display.HTML object>"
      ]
     },
     "metadata": {},
     "output_type": "display_data"
    },
    {
     "name": "stderr",
     "output_type": "stream",
     "text": [
      "\u001B[34m\u001B[1mwandb\u001B[0m: Sweep Agent: Waiting for job.\n",
      "\u001B[34m\u001B[1mwandb\u001B[0m: Job received.\n",
      "\u001B[34m\u001B[1mwandb\u001B[0m: Agent Starting Run: 2ry575k3 with config:\n",
      "\u001B[34m\u001B[1mwandb\u001B[0m: \tactivation: elu\n",
      "\u001B[34m\u001B[1mwandb\u001B[0m: \tbatch_size: 50\n",
      "\u001B[34m\u001B[1mwandb\u001B[0m: \tdense: 1024\n",
      "\u001B[34m\u001B[1mwandb\u001B[0m: \tdropout: 0.2\n",
      "\u001B[34m\u001B[1mwandb\u001B[0m: \tlearning_rate: 0.0001\n",
      "\u001B[34m\u001B[1mwandb\u001B[0m: \toptimizer: adam\n",
      "\u001B[34m\u001B[1mwandb\u001B[0m: \tpretrain_net: Inception\n"
     ]
    },
    {
     "data": {
      "text/html": [
       "Tracking run with wandb version 0.13.4"
      ],
      "text/plain": [
       "<IPython.core.display.HTML object>"
      ]
     },
     "metadata": {},
     "output_type": "display_data"
    },
    {
     "data": {
      "text/html": [
       "Run data is saved locally in <code>/Users/hkleeeee/Desktop/Flooding24/2022-2-SCS4031-9to6/Model/image_classification/wandb/run-20221020_155725-2ry575k3</code>"
      ],
      "text/plain": [
       "<IPython.core.display.HTML object>"
      ]
     },
     "metadata": {},
     "output_type": "display_data"
    },
    {
     "data": {
      "text/html": [
       "Syncing run <strong><a href=\"https://wandb.ai/hkleee/flood24/runs/2ry575k3\" target=\"_blank\">vibrant-sweep-2</a></strong> to <a href=\"https://wandb.ai/hkleee/flood24\" target=\"_blank\">Weights & Biases</a> (<a href=\"https://wandb.me/run\" target=\"_blank\">docs</a>)<br/>Sweep page:  <a href=\"https://wandb.ai/hkleee/flood24/sweeps/67tzw27t\" target=\"_blank\">https://wandb.ai/hkleee/flood24/sweeps/67tzw27t</a>"
      ],
      "text/plain": [
       "<IPython.core.display.HTML object>"
      ]
     },
     "metadata": {},
     "output_type": "display_data"
    },
    {
     "name": "stdout",
     "output_type": "stream",
     "text": [
      "Found 1084 validated image filenames belonging to 2 classes.\n",
      "Found 272 validated image filenames belonging to 2 classes.\n",
      "Epoch 1/10\n"
     ]
    },
    {
     "name": "stderr",
     "output_type": "stream",
     "text": [
      "2022-10-20 15:57:40.112734: I tensorflow/core/grappler/optimizers/custom_graph_optimizer_registry.cc:114] Plugin optimizer for device_type GPU is enabled.\n"
     ]
    },
    {
     "name": "stdout",
     "output_type": "stream",
     "text": [
      "21/21 [==============================] - ETA: 0s - loss: 0.4444 - accuracy: 0.7814"
     ]
    },
    {
     "name": "stderr",
     "output_type": "stream",
     "text": [
      "2022-10-20 15:58:21.155958: I tensorflow/core/grappler/optimizers/custom_graph_optimizer_registry.cc:114] Plugin optimizer for device_type GPU is enabled.\n",
      "WARNING:absl:Found untraced functions such as _jit_compiled_convolution_op, _jit_compiled_convolution_op, _jit_compiled_convolution_op, _jit_compiled_convolution_op, _jit_compiled_convolution_op while saving (showing 5 of 244). These functions will not be directly callable after loading.\n"
     ]
    },
    {
     "name": "stdout",
     "output_type": "stream",
     "text": [
      "INFO:tensorflow:Assets written to: /Users/hkleeeee/Desktop/Flooding24/2022-2-SCS4031-9to6/Model/image_classification/wandb/run-20221020_155725-2ry575k3/files/model-best/assets\n"
     ]
    },
    {
     "name": "stderr",
     "output_type": "stream",
     "text": [
      "INFO:tensorflow:Assets written to: /Users/hkleeeee/Desktop/Flooding24/2022-2-SCS4031-9to6/Model/image_classification/wandb/run-20221020_155725-2ry575k3/files/model-best/assets\n",
      "\u001B[34m\u001B[1mwandb\u001B[0m: Adding directory to artifact (/Users/hkleeeee/Desktop/Flooding24/2022-2-SCS4031-9to6/Model/image_classification/wandb/run-20221020_155725-2ry575k3/files/model-best)... Done. 0.6s\n"
     ]
    },
    {
     "name": "stdout",
     "output_type": "stream",
     "text": [
      "21/21 [==============================] - 98s 4s/step - loss: 0.4444 - accuracy: 0.7814 - val_loss: 0.2461 - val_accuracy: 0.8897\n",
      "Epoch 2/10\n",
      "21/21 [==============================] - ETA: 0s - loss: 0.3016 - accuracy: 0.8762"
     ]
    },
    {
     "name": "stderr",
     "output_type": "stream",
     "text": [
      "WARNING:absl:Found untraced functions such as _jit_compiled_convolution_op, _jit_compiled_convolution_op, _jit_compiled_convolution_op, _jit_compiled_convolution_op, _jit_compiled_convolution_op while saving (showing 5 of 244). These functions will not be directly callable after loading.\n"
     ]
    },
    {
     "name": "stdout",
     "output_type": "stream",
     "text": [
      "INFO:tensorflow:Assets written to: /Users/hkleeeee/Desktop/Flooding24/2022-2-SCS4031-9to6/Model/image_classification/wandb/run-20221020_155725-2ry575k3/files/model-best/assets\n"
     ]
    },
    {
     "name": "stderr",
     "output_type": "stream",
     "text": [
      "INFO:tensorflow:Assets written to: /Users/hkleeeee/Desktop/Flooding24/2022-2-SCS4031-9to6/Model/image_classification/wandb/run-20221020_155725-2ry575k3/files/model-best/assets\n",
      "\u001B[34m\u001B[1mwandb\u001B[0m: Adding directory to artifact (/Users/hkleeeee/Desktop/Flooding24/2022-2-SCS4031-9to6/Model/image_classification/wandb/run-20221020_155725-2ry575k3/files/model-best)... Done. 0.6s\n"
     ]
    },
    {
     "name": "stdout",
     "output_type": "stream",
     "text": [
      "21/21 [==============================] - 85s 4s/step - loss: 0.3016 - accuracy: 0.8762 - val_loss: 0.1928 - val_accuracy: 0.9265\n",
      "Epoch 3/10\n",
      "21/21 [==============================] - ETA: 0s - loss: 0.2582 - accuracy: 0.8859"
     ]
    },
    {
     "name": "stderr",
     "output_type": "stream",
     "text": [
      "WARNING:absl:Found untraced functions such as _jit_compiled_convolution_op, _jit_compiled_convolution_op, _jit_compiled_convolution_op, _jit_compiled_convolution_op, _jit_compiled_convolution_op while saving (showing 5 of 244). These functions will not be directly callable after loading.\n"
     ]
    },
    {
     "name": "stdout",
     "output_type": "stream",
     "text": [
      "INFO:tensorflow:Assets written to: /Users/hkleeeee/Desktop/Flooding24/2022-2-SCS4031-9to6/Model/image_classification/wandb/run-20221020_155725-2ry575k3/files/model-best/assets\n"
     ]
    },
    {
     "name": "stderr",
     "output_type": "stream",
     "text": [
      "INFO:tensorflow:Assets written to: /Users/hkleeeee/Desktop/Flooding24/2022-2-SCS4031-9to6/Model/image_classification/wandb/run-20221020_155725-2ry575k3/files/model-best/assets\n",
      "\u001B[34m\u001B[1mwandb\u001B[0m: Adding directory to artifact (/Users/hkleeeee/Desktop/Flooding24/2022-2-SCS4031-9to6/Model/image_classification/wandb/run-20221020_155725-2ry575k3/files/model-best)... Done. 0.7s\n"
     ]
    },
    {
     "name": "stdout",
     "output_type": "stream",
     "text": [
      "21/21 [==============================] - 84s 4s/step - loss: 0.2582 - accuracy: 0.8859 - val_loss: 0.1611 - val_accuracy: 0.9449\n",
      "Epoch 4/10\n",
      "21/21 [==============================] - 48s 2s/step - loss: 0.2339 - accuracy: 0.9014 - val_loss: 0.1646 - val_accuracy: 0.9449\n",
      "Epoch 5/10\n",
      "21/21 [==============================] - ETA: 0s - loss: 0.2340 - accuracy: 0.9043"
     ]
    },
    {
     "name": "stderr",
     "output_type": "stream",
     "text": [
      "WARNING:absl:Found untraced functions such as _jit_compiled_convolution_op, _jit_compiled_convolution_op, _jit_compiled_convolution_op, _jit_compiled_convolution_op, _jit_compiled_convolution_op while saving (showing 5 of 244). These functions will not be directly callable after loading.\n"
     ]
    },
    {
     "name": "stdout",
     "output_type": "stream",
     "text": [
      "INFO:tensorflow:Assets written to: /Users/hkleeeee/Desktop/Flooding24/2022-2-SCS4031-9to6/Model/image_classification/wandb/run-20221020_155725-2ry575k3/files/model-best/assets\n"
     ]
    },
    {
     "name": "stderr",
     "output_type": "stream",
     "text": [
      "INFO:tensorflow:Assets written to: /Users/hkleeeee/Desktop/Flooding24/2022-2-SCS4031-9to6/Model/image_classification/wandb/run-20221020_155725-2ry575k3/files/model-best/assets\n",
      "\u001B[34m\u001B[1mwandb\u001B[0m: Adding directory to artifact (/Users/hkleeeee/Desktop/Flooding24/2022-2-SCS4031-9to6/Model/image_classification/wandb/run-20221020_155725-2ry575k3/files/model-best)... Done. 0.6s\n"
     ]
    },
    {
     "name": "stdout",
     "output_type": "stream",
     "text": [
      "21/21 [==============================] - 87s 4s/step - loss: 0.2340 - accuracy: 0.9043 - val_loss: 0.1447 - val_accuracy: 0.9449\n",
      "Epoch 6/10\n",
      "21/21 [==============================] - 50s 2s/step - loss: 0.2233 - accuracy: 0.9159 - val_loss: 0.2127 - val_accuracy: 0.9154\n",
      "Epoch 7/10\n",
      "21/21 [==============================] - 50s 2s/step - loss: 0.2362 - accuracy: 0.9072 - val_loss: 0.1542 - val_accuracy: 0.9375\n",
      "Epoch 8/10\n",
      "21/21 [==============================] - ETA: 0s - loss: 0.2105 - accuracy: 0.9110"
     ]
    },
    {
     "name": "stderr",
     "output_type": "stream",
     "text": [
      "WARNING:absl:Found untraced functions such as _jit_compiled_convolution_op, _jit_compiled_convolution_op, _jit_compiled_convolution_op, _jit_compiled_convolution_op, _jit_compiled_convolution_op while saving (showing 5 of 244). These functions will not be directly callable after loading.\n"
     ]
    },
    {
     "name": "stdout",
     "output_type": "stream",
     "text": [
      "INFO:tensorflow:Assets written to: /Users/hkleeeee/Desktop/Flooding24/2022-2-SCS4031-9to6/Model/image_classification/wandb/run-20221020_155725-2ry575k3/files/model-best/assets\n"
     ]
    },
    {
     "name": "stderr",
     "output_type": "stream",
     "text": [
      "INFO:tensorflow:Assets written to: /Users/hkleeeee/Desktop/Flooding24/2022-2-SCS4031-9to6/Model/image_classification/wandb/run-20221020_155725-2ry575k3/files/model-best/assets\n",
      "\u001B[34m\u001B[1mwandb\u001B[0m: Adding directory to artifact (/Users/hkleeeee/Desktop/Flooding24/2022-2-SCS4031-9to6/Model/image_classification/wandb/run-20221020_155725-2ry575k3/files/model-best)... Done. 0.6s\n"
     ]
    },
    {
     "name": "stdout",
     "output_type": "stream",
     "text": [
      "21/21 [==============================] - 90s 4s/step - loss: 0.2105 - accuracy: 0.9110 - val_loss: 0.1433 - val_accuracy: 0.9412\n",
      "Epoch 9/10\n",
      "21/21 [==============================] - ETA: 0s - loss: 0.1863 - accuracy: 0.9275"
     ]
    },
    {
     "name": "stderr",
     "output_type": "stream",
     "text": [
      "WARNING:absl:Found untraced functions such as _jit_compiled_convolution_op, _jit_compiled_convolution_op, _jit_compiled_convolution_op, _jit_compiled_convolution_op, _jit_compiled_convolution_op while saving (showing 5 of 244). These functions will not be directly callable after loading.\n"
     ]
    },
    {
     "name": "stdout",
     "output_type": "stream",
     "text": [
      "INFO:tensorflow:Assets written to: /Users/hkleeeee/Desktop/Flooding24/2022-2-SCS4031-9to6/Model/image_classification/wandb/run-20221020_155725-2ry575k3/files/model-best/assets\n"
     ]
    },
    {
     "name": "stderr",
     "output_type": "stream",
     "text": [
      "INFO:tensorflow:Assets written to: /Users/hkleeeee/Desktop/Flooding24/2022-2-SCS4031-9to6/Model/image_classification/wandb/run-20221020_155725-2ry575k3/files/model-best/assets\n",
      "\u001B[34m\u001B[1mwandb\u001B[0m: Adding directory to artifact (/Users/hkleeeee/Desktop/Flooding24/2022-2-SCS4031-9to6/Model/image_classification/wandb/run-20221020_155725-2ry575k3/files/model-best)... Done. 0.6s\n"
     ]
    },
    {
     "name": "stdout",
     "output_type": "stream",
     "text": [
      "21/21 [==============================] - 85s 4s/step - loss: 0.1863 - accuracy: 0.9275 - val_loss: 0.1385 - val_accuracy: 0.9485\n",
      "Epoch 10/10\n",
      "21/21 [==============================] - 48s 2s/step - loss: 0.1917 - accuracy: 0.9149 - val_loss: 0.1386 - val_accuracy: 0.9559\n"
     ]
    },
    {
     "data": {
      "text/html": [
       "Waiting for W&B process to finish... <strong style=\"color:green\">(success).</strong>"
      ],
      "text/plain": [
       "<IPython.core.display.HTML object>"
      ]
     },
     "metadata": {},
     "output_type": "display_data"
    },
    {
     "data": {
      "text/html": [
       "<style>\n",
       "    table.wandb td:nth-child(1) { padding: 0 10px; text-align: left ; width: auto;} td:nth-child(2) {text-align: left ; width: 100%}\n",
       "    .wandb-row { display: flex; flex-direction: row; flex-wrap: wrap; justify-content: flex-start; width: 100% }\n",
       "    .wandb-col { display: flex; flex-direction: column; flex-basis: 100%; flex: 1; padding: 10px; }\n",
       "    </style>\n",
       "<div class=\"wandb-row\"><div class=\"wandb-col\"><h3>Run history:</h3><br/><table class=\"wandb\"><tr><td>accuracy</td><td>▁▆▆▇▇▇▇▇█▇</td></tr><tr><td>epoch</td><td>▁▂▃▃▄▅▆▆▇█</td></tr><tr><td>loss</td><td>█▄▃▂▂▂▂▂▁▁</td></tr><tr><td>val_accuracy</td><td>▁▅▇▇▇▄▆▆▇█</td></tr><tr><td>val_loss</td><td>█▅▂▃▁▆▂▁▁▁</td></tr></table><br/></div><div class=\"wandb-col\"><h3>Run summary:</h3><br/><table class=\"wandb\"><tr><td>accuracy</td><td>0.91489</td></tr><tr><td>best_epoch</td><td>8</td></tr><tr><td>best_val_loss</td><td>0.13851</td></tr><tr><td>epoch</td><td>9</td></tr><tr><td>loss</td><td>0.19167</td></tr><tr><td>val_accuracy</td><td>0.95588</td></tr><tr><td>val_loss</td><td>0.13862</td></tr></table><br/></div></div>"
      ],
      "text/plain": [
       "<IPython.core.display.HTML object>"
      ]
     },
     "metadata": {},
     "output_type": "display_data"
    },
    {
     "data": {
      "text/html": [
       "Synced <strong style=\"color:#cdcd00\">vibrant-sweep-2</strong>: <a href=\"https://wandb.ai/hkleee/flood24/runs/2ry575k3\" target=\"_blank\">https://wandb.ai/hkleee/flood24/runs/2ry575k3</a><br/>Synced 6 W&B file(s), 1 media file(s), 19 artifact file(s) and 1 other file(s)"
      ],
      "text/plain": [
       "<IPython.core.display.HTML object>"
      ]
     },
     "metadata": {},
     "output_type": "display_data"
    },
    {
     "data": {
      "text/html": [
       "Find logs at: <code>./wandb/run-20221020_155725-2ry575k3/logs</code>"
      ],
      "text/plain": [
       "<IPython.core.display.HTML object>"
      ]
     },
     "metadata": {},
     "output_type": "display_data"
    },
    {
     "name": "stderr",
     "output_type": "stream",
     "text": [
      "\u001B[34m\u001B[1mwandb\u001B[0m: Agent Starting Run: 5ivjczxx with config:\n",
      "\u001B[34m\u001B[1mwandb\u001B[0m: \tactivation: softmax\n",
      "\u001B[34m\u001B[1mwandb\u001B[0m: \tbatch_size: 20\n",
      "\u001B[34m\u001B[1mwandb\u001B[0m: \tdense: 32\n",
      "\u001B[34m\u001B[1mwandb\u001B[0m: \tdropout: 0.5\n",
      "\u001B[34m\u001B[1mwandb\u001B[0m: \tlearning_rate: 0.01\n",
      "\u001B[34m\u001B[1mwandb\u001B[0m: \toptimizer: adam\n",
      "\u001B[34m\u001B[1mwandb\u001B[0m: \tpretrain_net: Inception\n"
     ]
    },
    {
     "data": {
      "application/vnd.jupyter.widget-view+json": {
       "model_id": "2af9e583892d46da8ffa58aa2976e61c",
       "version_major": 2,
       "version_minor": 0
      },
      "text/plain": [
       "VBox(children=(Label(value='Waiting for wandb.init()...\\r'), FloatProgress(value=0.016752507650001764, max=1.0…"
      ]
     },
     "metadata": {},
     "output_type": "display_data"
    },
    {
     "data": {
      "text/html": [
       "Tracking run with wandb version 0.13.4"
      ],
      "text/plain": [
       "<IPython.core.display.HTML object>"
      ]
     },
     "metadata": {},
     "output_type": "display_data"
    },
    {
     "data": {
      "text/html": [
       "Run data is saved locally in <code>/Users/hkleeeee/Desktop/Flooding24/2022-2-SCS4031-9to6/Model/image_classification/wandb/run-20221020_161004-5ivjczxx</code>"
      ],
      "text/plain": [
       "<IPython.core.display.HTML object>"
      ]
     },
     "metadata": {},
     "output_type": "display_data"
    },
    {
     "data": {
      "text/html": [
       "Syncing run <strong><a href=\"https://wandb.ai/hkleee/flood24/runs/5ivjczxx\" target=\"_blank\">fiery-sweep-3</a></strong> to <a href=\"https://wandb.ai/hkleee/flood24\" target=\"_blank\">Weights & Biases</a> (<a href=\"https://wandb.me/run\" target=\"_blank\">docs</a>)<br/>Sweep page:  <a href=\"https://wandb.ai/hkleee/flood24/sweeps/67tzw27t\" target=\"_blank\">https://wandb.ai/hkleee/flood24/sweeps/67tzw27t</a>"
      ],
      "text/plain": [
       "<IPython.core.display.HTML object>"
      ]
     },
     "metadata": {},
     "output_type": "display_data"
    },
    {
     "name": "stdout",
     "output_type": "stream",
     "text": [
      "Found 1084 validated image filenames belonging to 2 classes.\n",
      "Found 272 validated image filenames belonging to 2 classes.\n",
      "Epoch 1/10\n"
     ]
    },
    {
     "name": "stderr",
     "output_type": "stream",
     "text": [
      "2022-10-20 16:10:17.149986: I tensorflow/core/grappler/optimizers/custom_graph_optimizer_registry.cc:114] Plugin optimizer for device_type GPU is enabled.\n"
     ]
    },
    {
     "name": "stdout",
     "output_type": "stream",
     "text": [
      "54/54 [==============================] - ETA: 0s - loss: 0.5718 - accuracy: 0.7603"
     ]
    },
    {
     "name": "stderr",
     "output_type": "stream",
     "text": [
      "2022-10-20 16:11:01.026727: I tensorflow/core/grappler/optimizers/custom_graph_optimizer_registry.cc:114] Plugin optimizer for device_type GPU is enabled.\n",
      "WARNING:absl:Found untraced functions such as _jit_compiled_convolution_op, _jit_compiled_convolution_op, _jit_compiled_convolution_op, _jit_compiled_convolution_op, _jit_compiled_convolution_op while saving (showing 5 of 244). These functions will not be directly callable after loading.\n"
     ]
    },
    {
     "name": "stdout",
     "output_type": "stream",
     "text": [
      "INFO:tensorflow:Assets written to: /Users/hkleeeee/Desktop/Flooding24/2022-2-SCS4031-9to6/Model/image_classification/wandb/run-20221020_161004-5ivjczxx/files/model-best/assets\n"
     ]
    },
    {
     "name": "stderr",
     "output_type": "stream",
     "text": [
      "INFO:tensorflow:Assets written to: /Users/hkleeeee/Desktop/Flooding24/2022-2-SCS4031-9to6/Model/image_classification/wandb/run-20221020_161004-5ivjczxx/files/model-best/assets\n",
      "\u001B[34m\u001B[1mwandb\u001B[0m: Adding directory to artifact (/Users/hkleeeee/Desktop/Flooding24/2022-2-SCS4031-9to6/Model/image_classification/wandb/run-20221020_161004-5ivjczxx/files/model-best)... Done. 0.6s\n"
     ]
    },
    {
     "name": "stdout",
     "output_type": "stream",
     "text": [
      "54/54 [==============================] - 101s 2s/step - loss: 0.5718 - accuracy: 0.7603 - val_loss: 0.4355 - val_accuracy: 0.9228\n",
      "Epoch 2/10\n",
      "54/54 [==============================] - ETA: 0s - loss: 0.4841 - accuracy: 0.8055"
     ]
    },
    {
     "name": "stderr",
     "output_type": "stream",
     "text": [
      "WARNING:absl:Found untraced functions such as _jit_compiled_convolution_op, _jit_compiled_convolution_op, _jit_compiled_convolution_op, _jit_compiled_convolution_op, _jit_compiled_convolution_op while saving (showing 5 of 244). These functions will not be directly callable after loading.\n"
     ]
    },
    {
     "name": "stdout",
     "output_type": "stream",
     "text": [
      "INFO:tensorflow:Assets written to: /Users/hkleeeee/Desktop/Flooding24/2022-2-SCS4031-9to6/Model/image_classification/wandb/run-20221020_161004-5ivjczxx/files/model-best/assets\n"
     ]
    },
    {
     "name": "stderr",
     "output_type": "stream",
     "text": [
      "INFO:tensorflow:Assets written to: /Users/hkleeeee/Desktop/Flooding24/2022-2-SCS4031-9to6/Model/image_classification/wandb/run-20221020_161004-5ivjczxx/files/model-best/assets\n",
      "\u001B[34m\u001B[1mwandb\u001B[0m: Adding directory to artifact (/Users/hkleeeee/Desktop/Flooding24/2022-2-SCS4031-9to6/Model/image_classification/wandb/run-20221020_161004-5ivjczxx/files/model-best)... Done. 0.6s\n"
     ]
    },
    {
     "name": "stdout",
     "output_type": "stream",
     "text": [
      "54/54 [==============================] - 87s 2s/step - loss: 0.4841 - accuracy: 0.8055 - val_loss: 0.4162 - val_accuracy: 0.8824\n",
      "Epoch 3/10\n",
      "54/54 [==============================] - ETA: 0s - loss: 0.4238 - accuracy: 0.8393"
     ]
    },
    {
     "name": "stderr",
     "output_type": "stream",
     "text": [
      "WARNING:absl:Found untraced functions such as _jit_compiled_convolution_op, _jit_compiled_convolution_op, _jit_compiled_convolution_op, _jit_compiled_convolution_op, _jit_compiled_convolution_op while saving (showing 5 of 244). These functions will not be directly callable after loading.\n"
     ]
    },
    {
     "name": "stdout",
     "output_type": "stream",
     "text": [
      "INFO:tensorflow:Assets written to: /Users/hkleeeee/Desktop/Flooding24/2022-2-SCS4031-9to6/Model/image_classification/wandb/run-20221020_161004-5ivjczxx/files/model-best/assets\n"
     ]
    },
    {
     "name": "stderr",
     "output_type": "stream",
     "text": [
      "INFO:tensorflow:Assets written to: /Users/hkleeeee/Desktop/Flooding24/2022-2-SCS4031-9to6/Model/image_classification/wandb/run-20221020_161004-5ivjczxx/files/model-best/assets\n",
      "\u001B[34m\u001B[1mwandb\u001B[0m: Adding directory to artifact (/Users/hkleeeee/Desktop/Flooding24/2022-2-SCS4031-9to6/Model/image_classification/wandb/run-20221020_161004-5ivjczxx/files/model-best)... Done. 0.5s\n"
     ]
    },
    {
     "name": "stdout",
     "output_type": "stream",
     "text": [
      "54/54 [==============================] - 87s 2s/step - loss: 0.4238 - accuracy: 0.8393 - val_loss: 0.2966 - val_accuracy: 0.9485\n",
      "Epoch 4/10\n",
      "54/54 [==============================] - 49s 895ms/step - loss: 0.4017 - accuracy: 0.8412 - val_loss: 0.3281 - val_accuracy: 0.9228\n",
      "Epoch 5/10\n",
      "54/54 [==============================] - 52s 958ms/step - loss: 0.3816 - accuracy: 0.8618 - val_loss: 0.3678 - val_accuracy: 0.8934\n",
      "Epoch 6/10\n",
      "54/54 [==============================] - ETA: 0s - loss: 0.3805 - accuracy: 0.8637"
     ]
    },
    {
     "name": "stderr",
     "output_type": "stream",
     "text": [
      "WARNING:absl:Found untraced functions such as _jit_compiled_convolution_op, _jit_compiled_convolution_op, _jit_compiled_convolution_op, _jit_compiled_convolution_op, _jit_compiled_convolution_op while saving (showing 5 of 244). These functions will not be directly callable after loading.\n"
     ]
    },
    {
     "name": "stdout",
     "output_type": "stream",
     "text": [
      "INFO:tensorflow:Assets written to: /Users/hkleeeee/Desktop/Flooding24/2022-2-SCS4031-9to6/Model/image_classification/wandb/run-20221020_161004-5ivjczxx/files/model-best/assets\n"
     ]
    },
    {
     "name": "stderr",
     "output_type": "stream",
     "text": [
      "INFO:tensorflow:Assets written to: /Users/hkleeeee/Desktop/Flooding24/2022-2-SCS4031-9to6/Model/image_classification/wandb/run-20221020_161004-5ivjczxx/files/model-best/assets\n",
      "\u001B[34m\u001B[1mwandb\u001B[0m: Adding directory to artifact (/Users/hkleeeee/Desktop/Flooding24/2022-2-SCS4031-9to6/Model/image_classification/wandb/run-20221020_161004-5ivjczxx/files/model-best)... Done. 0.5s\n"
     ]
    },
    {
     "name": "stdout",
     "output_type": "stream",
     "text": [
      "54/54 [==============================] - 90s 2s/step - loss: 0.3805 - accuracy: 0.8637 - val_loss: 0.2721 - val_accuracy: 0.9412\n",
      "Epoch 7/10\n",
      "54/54 [==============================] - 53s 974ms/step - loss: 0.4409 - accuracy: 0.8346 - val_loss: 0.2944 - val_accuracy: 0.9265\n",
      "Epoch 8/10\n",
      "54/54 [==============================] - ETA: 0s - loss: 0.3624 - accuracy: 0.8562"
     ]
    },
    {
     "name": "stderr",
     "output_type": "stream",
     "text": [
      "WARNING:absl:Found untraced functions such as _jit_compiled_convolution_op, _jit_compiled_convolution_op, _jit_compiled_convolution_op, _jit_compiled_convolution_op, _jit_compiled_convolution_op while saving (showing 5 of 244). These functions will not be directly callable after loading.\n"
     ]
    },
    {
     "name": "stdout",
     "output_type": "stream",
     "text": [
      "INFO:tensorflow:Assets written to: /Users/hkleeeee/Desktop/Flooding24/2022-2-SCS4031-9to6/Model/image_classification/wandb/run-20221020_161004-5ivjczxx/files/model-best/assets\n"
     ]
    },
    {
     "name": "stderr",
     "output_type": "stream",
     "text": [
      "INFO:tensorflow:Assets written to: /Users/hkleeeee/Desktop/Flooding24/2022-2-SCS4031-9to6/Model/image_classification/wandb/run-20221020_161004-5ivjczxx/files/model-best/assets\n",
      "\u001B[34m\u001B[1mwandb\u001B[0m: Adding directory to artifact (/Users/hkleeeee/Desktop/Flooding24/2022-2-SCS4031-9to6/Model/image_classification/wandb/run-20221020_161004-5ivjczxx/files/model-best)... Done. 0.6s\n"
     ]
    },
    {
     "name": "stdout",
     "output_type": "stream",
     "text": [
      "54/54 [==============================] - 84s 2s/step - loss: 0.3624 - accuracy: 0.8562 - val_loss: 0.2523 - val_accuracy: 0.9412\n",
      "Epoch 9/10\n",
      "54/54 [==============================] - 49s 900ms/step - loss: 0.3548 - accuracy: 0.8844 - val_loss: 0.2665 - val_accuracy: 0.9301\n",
      "Epoch 10/10\n",
      "54/54 [==============================] - ETA: 0s - loss: 0.3712 - accuracy: 0.8675"
     ]
    },
    {
     "name": "stderr",
     "output_type": "stream",
     "text": [
      "WARNING:absl:Found untraced functions such as _jit_compiled_convolution_op, _jit_compiled_convolution_op, _jit_compiled_convolution_op, _jit_compiled_convolution_op, _jit_compiled_convolution_op while saving (showing 5 of 244). These functions will not be directly callable after loading.\n"
     ]
    },
    {
     "name": "stdout",
     "output_type": "stream",
     "text": [
      "INFO:tensorflow:Assets written to: /Users/hkleeeee/Desktop/Flooding24/2022-2-SCS4031-9to6/Model/image_classification/wandb/run-20221020_161004-5ivjczxx/files/model-best/assets\n"
     ]
    },
    {
     "name": "stderr",
     "output_type": "stream",
     "text": [
      "INFO:tensorflow:Assets written to: /Users/hkleeeee/Desktop/Flooding24/2022-2-SCS4031-9to6/Model/image_classification/wandb/run-20221020_161004-5ivjczxx/files/model-best/assets\n",
      "\u001B[34m\u001B[1mwandb\u001B[0m: Adding directory to artifact (/Users/hkleeeee/Desktop/Flooding24/2022-2-SCS4031-9to6/Model/image_classification/wandb/run-20221020_161004-5ivjczxx/files/model-best)... Done. 0.6s\n"
     ]
    },
    {
     "name": "stdout",
     "output_type": "stream",
     "text": [
      "\b\b\b\b\b\b\b\b\b\b\b\b\b\b\b\b\b\b\b\b\b\b\b\b\b\b\b\b\b\b\b\b\b\b\b\b\b\b\b\b\b\b\b\b\b\b\b\b\b\b\b\b\b\b\b\b\b\b\b\b\b\b\b\b\b\b\b\b\b\b\b\b\b\b\b\b\b\b\b\b\b\b\r",
      "54/54 [==============================] - 83s 2s/step - loss: 0.3712 - accuracy: 0.8675 - val_loss: 0.2292 - val_accuracy: 0.9485\n"
     ]
    },
    {
     "data": {
      "text/html": [
       "Waiting for W&B process to finish... <strong style=\"color:green\">(success).</strong>"
      ],
      "text/plain": [
       "<IPython.core.display.HTML object>"
      ]
     },
     "metadata": {},
     "output_type": "display_data"
    },
    {
     "data": {
      "text/html": [
       "<style>\n",
       "    table.wandb td:nth-child(1) { padding: 0 10px; text-align: left ; width: auto;} td:nth-child(2) {text-align: left ; width: 100%}\n",
       "    .wandb-row { display: flex; flex-direction: row; flex-wrap: wrap; justify-content: flex-start; width: 100% }\n",
       "    .wandb-col { display: flex; flex-direction: column; flex-basis: 100%; flex: 1; padding: 10px; }\n",
       "    </style>\n",
       "<div class=\"wandb-row\"><div class=\"wandb-col\"><h3>Run history:</h3><br/><table class=\"wandb\"><tr><td>accuracy</td><td>▁▄▅▆▇▇▅▆█▇</td></tr><tr><td>epoch</td><td>▁▂▃▃▄▅▆▆▇█</td></tr><tr><td>loss</td><td>█▅▃▃▂▂▄▁▁▂</td></tr><tr><td>val_accuracy</td><td>▅▁█▅▂▇▆▇▆█</td></tr><tr><td>val_loss</td><td>█▇▃▄▆▂▃▂▂▁</td></tr></table><br/></div><div class=\"wandb-col\"><h3>Run summary:</h3><br/><table class=\"wandb\"><tr><td>accuracy</td><td>0.86748</td></tr><tr><td>best_epoch</td><td>9</td></tr><tr><td>best_val_loss</td><td>0.22918</td></tr><tr><td>epoch</td><td>9</td></tr><tr><td>loss</td><td>0.37116</td></tr><tr><td>val_accuracy</td><td>0.94853</td></tr><tr><td>val_loss</td><td>0.22918</td></tr></table><br/></div></div>"
      ],
      "text/plain": [
       "<IPython.core.display.HTML object>"
      ]
     },
     "metadata": {},
     "output_type": "display_data"
    },
    {
     "data": {
      "text/html": [
       "Synced <strong style=\"color:#cdcd00\">fiery-sweep-3</strong>: <a href=\"https://wandb.ai/hkleee/flood24/runs/5ivjczxx\" target=\"_blank\">https://wandb.ai/hkleee/flood24/runs/5ivjczxx</a><br/>Synced 6 W&B file(s), 1 media file(s), 19 artifact file(s) and 1 other file(s)"
      ],
      "text/plain": [
       "<IPython.core.display.HTML object>"
      ]
     },
     "metadata": {},
     "output_type": "display_data"
    },
    {
     "data": {
      "text/html": [
       "Find logs at: <code>./wandb/run-20221020_161004-5ivjczxx/logs</code>"
      ],
      "text/plain": [
       "<IPython.core.display.HTML object>"
      ]
     },
     "metadata": {},
     "output_type": "display_data"
    },
    {
     "name": "stderr",
     "output_type": "stream",
     "text": [
      "\u001B[34m\u001B[1mwandb\u001B[0m: Agent Starting Run: kyte58l7 with config:\n",
      "\u001B[34m\u001B[1mwandb\u001B[0m: \tactivation: selu\n",
      "\u001B[34m\u001B[1mwandb\u001B[0m: \tbatch_size: 20\n",
      "\u001B[34m\u001B[1mwandb\u001B[0m: \tdense: 32\n",
      "\u001B[34m\u001B[1mwandb\u001B[0m: \tdropout: 0.2\n",
      "\u001B[34m\u001B[1mwandb\u001B[0m: \tlearning_rate: 0.01\n",
      "\u001B[34m\u001B[1mwandb\u001B[0m: \toptimizer: sgd\n",
      "\u001B[34m\u001B[1mwandb\u001B[0m: \tpretrain_net: Inception\n"
     ]
    },
    {
     "data": {
      "text/html": [
       "Tracking run with wandb version 0.13.4"
      ],
      "text/plain": [
       "<IPython.core.display.HTML object>"
      ]
     },
     "metadata": {},
     "output_type": "display_data"
    },
    {
     "data": {
      "text/html": [
       "Run data is saved locally in <code>/Users/hkleeeee/Desktop/Flooding24/2022-2-SCS4031-9to6/Model/image_classification/wandb/run-20221020_162257-kyte58l7</code>"
      ],
      "text/plain": [
       "<IPython.core.display.HTML object>"
      ]
     },
     "metadata": {},
     "output_type": "display_data"
    },
    {
     "data": {
      "text/html": [
       "Syncing run <strong><a href=\"https://wandb.ai/hkleee/flood24/runs/kyte58l7\" target=\"_blank\">giddy-sweep-4</a></strong> to <a href=\"https://wandb.ai/hkleee/flood24\" target=\"_blank\">Weights & Biases</a> (<a href=\"https://wandb.me/run\" target=\"_blank\">docs</a>)<br/>Sweep page:  <a href=\"https://wandb.ai/hkleee/flood24/sweeps/67tzw27t\" target=\"_blank\">https://wandb.ai/hkleee/flood24/sweeps/67tzw27t</a>"
      ],
      "text/plain": [
       "<IPython.core.display.HTML object>"
      ]
     },
     "metadata": {},
     "output_type": "display_data"
    },
    {
     "name": "stdout",
     "output_type": "stream",
     "text": [
      "Found 1084 validated image filenames belonging to 2 classes.\n",
      "Found 272 validated image filenames belonging to 2 classes.\n",
      "Epoch 1/10\n"
     ]
    },
    {
     "name": "stderr",
     "output_type": "stream",
     "text": [
      "2022-10-20 16:23:07.961441: I tensorflow/core/grappler/optimizers/custom_graph_optimizer_registry.cc:114] Plugin optimizer for device_type GPU is enabled.\n"
     ]
    },
    {
     "name": "stdout",
     "output_type": "stream",
     "text": [
      "54/54 [==============================] - ETA: 0s - loss: 0.4797 - accuracy: 0.7660"
     ]
    },
    {
     "name": "stderr",
     "output_type": "stream",
     "text": [
      "2022-10-20 16:23:54.350860: I tensorflow/core/grappler/optimizers/custom_graph_optimizer_registry.cc:114] Plugin optimizer for device_type GPU is enabled.\n",
      "WARNING:absl:Found untraced functions such as _jit_compiled_convolution_op, _jit_compiled_convolution_op, _jit_compiled_convolution_op, _jit_compiled_convolution_op, _jit_compiled_convolution_op while saving (showing 5 of 244). These functions will not be directly callable after loading.\n"
     ]
    },
    {
     "name": "stdout",
     "output_type": "stream",
     "text": [
      "INFO:tensorflow:Assets written to: /Users/hkleeeee/Desktop/Flooding24/2022-2-SCS4031-9to6/Model/image_classification/wandb/run-20221020_162257-kyte58l7/files/model-best/assets\n"
     ]
    },
    {
     "name": "stderr",
     "output_type": "stream",
     "text": [
      "INFO:tensorflow:Assets written to: /Users/hkleeeee/Desktop/Flooding24/2022-2-SCS4031-9to6/Model/image_classification/wandb/run-20221020_162257-kyte58l7/files/model-best/assets\n",
      "\u001B[34m\u001B[1mwandb\u001B[0m: Adding directory to artifact (/Users/hkleeeee/Desktop/Flooding24/2022-2-SCS4031-9to6/Model/image_classification/wandb/run-20221020_162257-kyte58l7/files/model-best)... Done. 0.6s\n"
     ]
    },
    {
     "name": "stdout",
     "output_type": "stream",
     "text": [
      "54/54 [==============================] - 108s 2s/step - loss: 0.4797 - accuracy: 0.7660 - val_loss: 0.2737 - val_accuracy: 0.8750\n",
      "Epoch 2/10\n",
      "54/54 [==============================] - ETA: 0s - loss: 0.3277 - accuracy: 0.8609"
     ]
    },
    {
     "name": "stderr",
     "output_type": "stream",
     "text": [
      "WARNING:absl:Found untraced functions such as _jit_compiled_convolution_op, _jit_compiled_convolution_op, _jit_compiled_convolution_op, _jit_compiled_convolution_op, _jit_compiled_convolution_op while saving (showing 5 of 244). These functions will not be directly callable after loading.\n"
     ]
    },
    {
     "name": "stdout",
     "output_type": "stream",
     "text": [
      "INFO:tensorflow:Assets written to: /Users/hkleeeee/Desktop/Flooding24/2022-2-SCS4031-9to6/Model/image_classification/wandb/run-20221020_162257-kyte58l7/files/model-best/assets\n"
     ]
    },
    {
     "name": "stderr",
     "output_type": "stream",
     "text": [
      "INFO:tensorflow:Assets written to: /Users/hkleeeee/Desktop/Flooding24/2022-2-SCS4031-9to6/Model/image_classification/wandb/run-20221020_162257-kyte58l7/files/model-best/assets\n",
      "\u001B[34m\u001B[1mwandb\u001B[0m: Adding directory to artifact (/Users/hkleeeee/Desktop/Flooding24/2022-2-SCS4031-9to6/Model/image_classification/wandb/run-20221020_162257-kyte58l7/files/model-best)... Done. 0.6s\n"
     ]
    },
    {
     "name": "stdout",
     "output_type": "stream",
     "text": [
      "54/54 [==============================] - 91s 2s/step - loss: 0.3277 - accuracy: 0.8609 - val_loss: 0.2151 - val_accuracy: 0.9191\n",
      "Epoch 3/10\n",
      "54/54 [==============================] - ETA: 0s - loss: 0.2876 - accuracy: 0.8722"
     ]
    },
    {
     "name": "stderr",
     "output_type": "stream",
     "text": [
      "WARNING:absl:Found untraced functions such as _jit_compiled_convolution_op, _jit_compiled_convolution_op, _jit_compiled_convolution_op, _jit_compiled_convolution_op, _jit_compiled_convolution_op while saving (showing 5 of 244). These functions will not be directly callable after loading.\n"
     ]
    },
    {
     "name": "stdout",
     "output_type": "stream",
     "text": [
      "INFO:tensorflow:Assets written to: /Users/hkleeeee/Desktop/Flooding24/2022-2-SCS4031-9to6/Model/image_classification/wandb/run-20221020_162257-kyte58l7/files/model-best/assets\n"
     ]
    },
    {
     "name": "stderr",
     "output_type": "stream",
     "text": [
      "INFO:tensorflow:Assets written to: /Users/hkleeeee/Desktop/Flooding24/2022-2-SCS4031-9to6/Model/image_classification/wandb/run-20221020_162257-kyte58l7/files/model-best/assets\n",
      "\u001B[34m\u001B[1mwandb\u001B[0m: Adding directory to artifact (/Users/hkleeeee/Desktop/Flooding24/2022-2-SCS4031-9to6/Model/image_classification/wandb/run-20221020_162257-kyte58l7/files/model-best)... Done. 0.6s\n"
     ]
    },
    {
     "name": "stdout",
     "output_type": "stream",
     "text": [
      "54/54 [==============================] - 87s 2s/step - loss: 0.2876 - accuracy: 0.8722 - val_loss: 0.1926 - val_accuracy: 0.9228\n",
      "Epoch 4/10\n",
      "54/54 [==============================] - ETA: 0s - loss: 0.2578 - accuracy: 0.8872"
     ]
    },
    {
     "name": "stderr",
     "output_type": "stream",
     "text": [
      "WARNING:absl:Found untraced functions such as _jit_compiled_convolution_op, _jit_compiled_convolution_op, _jit_compiled_convolution_op, _jit_compiled_convolution_op, _jit_compiled_convolution_op while saving (showing 5 of 244). These functions will not be directly callable after loading.\n"
     ]
    },
    {
     "name": "stdout",
     "output_type": "stream",
     "text": [
      "INFO:tensorflow:Assets written to: /Users/hkleeeee/Desktop/Flooding24/2022-2-SCS4031-9to6/Model/image_classification/wandb/run-20221020_162257-kyte58l7/files/model-best/assets\n"
     ]
    },
    {
     "name": "stderr",
     "output_type": "stream",
     "text": [
      "INFO:tensorflow:Assets written to: /Users/hkleeeee/Desktop/Flooding24/2022-2-SCS4031-9to6/Model/image_classification/wandb/run-20221020_162257-kyte58l7/files/model-best/assets\n",
      "\u001B[34m\u001B[1mwandb\u001B[0m: Adding directory to artifact (/Users/hkleeeee/Desktop/Flooding24/2022-2-SCS4031-9to6/Model/image_classification/wandb/run-20221020_162257-kyte58l7/files/model-best)... Done. 0.5s\n"
     ]
    },
    {
     "name": "stdout",
     "output_type": "stream",
     "text": [
      "54/54 [==============================] - 91s 2s/step - loss: 0.2578 - accuracy: 0.8872 - val_loss: 0.1760 - val_accuracy: 0.9301\n",
      "Epoch 5/10\n"
     ]
    },
    {
     "name": "stderr",
     "output_type": "stream",
     "text": [
      "\u001B[34m\u001B[1mwandb\u001B[0m: Ctrl + C detected. Stopping sweep.\n"
     ]
    },
    {
     "name": "stdout",
     "output_type": "stream",
     "text": [
      "Error in callback <function _WandbInit._pause_backend at 0x16da88790> (for post_run_cell):\n"
     ]
    },
    {
     "ename": "BrokenPipeError",
     "evalue": "[Errno 32] Broken pipe",
     "output_type": "error",
     "traceback": [
      "\u001B[0;31m---------------------------------------------------------------------------\u001B[0m",
      "\u001B[0;31mBrokenPipeError\u001B[0m                           Traceback (most recent call last)",
      "File \u001B[0;32m/opt/homebrew/Caskroom/miniforge/base/envs/image/lib/python3.8/site-packages/backcall/backcall.py:104\u001B[0m, in \u001B[0;36mcallback_prototype.<locals>.adapt.<locals>.adapted\u001B[0;34m(*args, **kwargs)\u001B[0m\n\u001B[1;32m    102\u001B[0m                 kwargs\u001B[38;5;241m.\u001B[39mpop(name)\n\u001B[1;32m    103\u001B[0m \u001B[38;5;66;03m#            print(args, kwargs, unmatched_pos, cut_positional, unmatched_kw)\u001B[39;00m\n\u001B[0;32m--> 104\u001B[0m             \u001B[38;5;28;01mreturn\u001B[39;00m \u001B[43mcallback\u001B[49m\u001B[43m(\u001B[49m\u001B[38;5;241;43m*\u001B[39;49m\u001B[43margs\u001B[49m\u001B[43m,\u001B[49m\u001B[43m \u001B[49m\u001B[38;5;241;43m*\u001B[39;49m\u001B[38;5;241;43m*\u001B[39;49m\u001B[43mkwargs\u001B[49m\u001B[43m)\u001B[49m\n",
      "File \u001B[0;32m/opt/homebrew/Caskroom/miniforge/base/envs/image/lib/python3.8/site-packages/wandb/sdk/wandb_init.py:394\u001B[0m, in \u001B[0;36m_WandbInit._pause_backend\u001B[0;34m(self)\u001B[0m\n\u001B[1;32m    392\u001B[0m     res \u001B[38;5;241m=\u001B[39m \u001B[38;5;28mself\u001B[39m\u001B[38;5;241m.\u001B[39mrun\u001B[38;5;241m.\u001B[39mlog_code(root\u001B[38;5;241m=\u001B[39m\u001B[38;5;28;01mNone\u001B[39;00m)\n\u001B[1;32m    393\u001B[0m     logger\u001B[38;5;241m.\u001B[39minfo(\u001B[38;5;124m\"\u001B[39m\u001B[38;5;124msaved code: \u001B[39m\u001B[38;5;132;01m%s\u001B[39;00m\u001B[38;5;124m\"\u001B[39m, res)\n\u001B[0;32m--> 394\u001B[0m \u001B[38;5;28;43mself\u001B[39;49m\u001B[38;5;241;43m.\u001B[39;49m\u001B[43mbackend\u001B[49m\u001B[38;5;241;43m.\u001B[39;49m\u001B[43minterface\u001B[49m\u001B[38;5;241;43m.\u001B[39;49m\u001B[43mpublish_pause\u001B[49m\u001B[43m(\u001B[49m\u001B[43m)\u001B[49m\n",
      "File \u001B[0;32m/opt/homebrew/Caskroom/miniforge/base/envs/image/lib/python3.8/site-packages/wandb/sdk/interface/interface.py:636\u001B[0m, in \u001B[0;36mInterfaceBase.publish_pause\u001B[0;34m(self)\u001B[0m\n\u001B[1;32m    634\u001B[0m \u001B[38;5;28;01mdef\u001B[39;00m \u001B[38;5;21mpublish_pause\u001B[39m(\u001B[38;5;28mself\u001B[39m) \u001B[38;5;241m-\u001B[39m\u001B[38;5;241m>\u001B[39m \u001B[38;5;28;01mNone\u001B[39;00m:\n\u001B[1;32m    635\u001B[0m     pause \u001B[38;5;241m=\u001B[39m pb\u001B[38;5;241m.\u001B[39mPauseRequest()\n\u001B[0;32m--> 636\u001B[0m     \u001B[38;5;28;43mself\u001B[39;49m\u001B[38;5;241;43m.\u001B[39;49m\u001B[43m_publish_pause\u001B[49m\u001B[43m(\u001B[49m\u001B[43mpause\u001B[49m\u001B[43m)\u001B[49m\n",
      "File \u001B[0;32m/opt/homebrew/Caskroom/miniforge/base/envs/image/lib/python3.8/site-packages/wandb/sdk/interface/interface_shared.py:308\u001B[0m, in \u001B[0;36mInterfaceShared._publish_pause\u001B[0;34m(self, pause)\u001B[0m\n\u001B[1;32m    306\u001B[0m \u001B[38;5;28;01mdef\u001B[39;00m \u001B[38;5;21m_publish_pause\u001B[39m(\u001B[38;5;28mself\u001B[39m, pause: pb\u001B[38;5;241m.\u001B[39mPauseRequest) \u001B[38;5;241m-\u001B[39m\u001B[38;5;241m>\u001B[39m \u001B[38;5;28;01mNone\u001B[39;00m:\n\u001B[1;32m    307\u001B[0m     rec \u001B[38;5;241m=\u001B[39m \u001B[38;5;28mself\u001B[39m\u001B[38;5;241m.\u001B[39m_make_request(pause\u001B[38;5;241m=\u001B[39mpause)\n\u001B[0;32m--> 308\u001B[0m     \u001B[38;5;28;43mself\u001B[39;49m\u001B[38;5;241;43m.\u001B[39;49m\u001B[43m_publish\u001B[49m\u001B[43m(\u001B[49m\u001B[43mrec\u001B[49m\u001B[43m)\u001B[49m\n",
      "File \u001B[0;32m/opt/homebrew/Caskroom/miniforge/base/envs/image/lib/python3.8/site-packages/wandb/sdk/interface/interface_sock.py:51\u001B[0m, in \u001B[0;36mInterfaceSock._publish\u001B[0;34m(self, record, local)\u001B[0m\n\u001B[1;32m     49\u001B[0m \u001B[38;5;28;01mdef\u001B[39;00m \u001B[38;5;21m_publish\u001B[39m(\u001B[38;5;28mself\u001B[39m, record: \u001B[38;5;124m\"\u001B[39m\u001B[38;5;124mpb.Record\u001B[39m\u001B[38;5;124m\"\u001B[39m, local: \u001B[38;5;28mbool\u001B[39m \u001B[38;5;241m=\u001B[39m \u001B[38;5;28;01mNone\u001B[39;00m) \u001B[38;5;241m-\u001B[39m\u001B[38;5;241m>\u001B[39m \u001B[38;5;28;01mNone\u001B[39;00m:\n\u001B[1;32m     50\u001B[0m     \u001B[38;5;28mself\u001B[39m\u001B[38;5;241m.\u001B[39m_assign(record)\n\u001B[0;32m---> 51\u001B[0m     \u001B[38;5;28;43mself\u001B[39;49m\u001B[38;5;241;43m.\u001B[39;49m\u001B[43m_sock_client\u001B[49m\u001B[38;5;241;43m.\u001B[39;49m\u001B[43msend_record_publish\u001B[49m\u001B[43m(\u001B[49m\u001B[43mrecord\u001B[49m\u001B[43m)\u001B[49m\n",
      "File \u001B[0;32m/opt/homebrew/Caskroom/miniforge/base/envs/image/lib/python3.8/site-packages/wandb/sdk/lib/sock_client.py:221\u001B[0m, in \u001B[0;36mSockClient.send_record_publish\u001B[0;34m(self, record)\u001B[0m\n\u001B[1;32m    219\u001B[0m server_req \u001B[38;5;241m=\u001B[39m spb\u001B[38;5;241m.\u001B[39mServerRequest()\n\u001B[1;32m    220\u001B[0m server_req\u001B[38;5;241m.\u001B[39mrecord_publish\u001B[38;5;241m.\u001B[39mCopyFrom(record)\n\u001B[0;32m--> 221\u001B[0m \u001B[38;5;28;43mself\u001B[39;49m\u001B[38;5;241;43m.\u001B[39;49m\u001B[43msend_server_request\u001B[49m\u001B[43m(\u001B[49m\u001B[43mserver_req\u001B[49m\u001B[43m)\u001B[49m\n",
      "File \u001B[0;32m/opt/homebrew/Caskroom/miniforge/base/envs/image/lib/python3.8/site-packages/wandb/sdk/lib/sock_client.py:155\u001B[0m, in \u001B[0;36mSockClient.send_server_request\u001B[0;34m(self, msg)\u001B[0m\n\u001B[1;32m    154\u001B[0m \u001B[38;5;28;01mdef\u001B[39;00m \u001B[38;5;21msend_server_request\u001B[39m(\u001B[38;5;28mself\u001B[39m, msg: Any) \u001B[38;5;241m-\u001B[39m\u001B[38;5;241m>\u001B[39m \u001B[38;5;28;01mNone\u001B[39;00m:\n\u001B[0;32m--> 155\u001B[0m     \u001B[38;5;28;43mself\u001B[39;49m\u001B[38;5;241;43m.\u001B[39;49m\u001B[43m_send_message\u001B[49m\u001B[43m(\u001B[49m\u001B[43mmsg\u001B[49m\u001B[43m)\u001B[49m\n",
      "File \u001B[0;32m/opt/homebrew/Caskroom/miniforge/base/envs/image/lib/python3.8/site-packages/wandb/sdk/lib/sock_client.py:152\u001B[0m, in \u001B[0;36mSockClient._send_message\u001B[0;34m(self, msg)\u001B[0m\n\u001B[1;32m    150\u001B[0m header \u001B[38;5;241m=\u001B[39m struct\u001B[38;5;241m.\u001B[39mpack(\u001B[38;5;124m\"\u001B[39m\u001B[38;5;124m<BI\u001B[39m\u001B[38;5;124m\"\u001B[39m, \u001B[38;5;28mord\u001B[39m(\u001B[38;5;124m\"\u001B[39m\u001B[38;5;124mW\u001B[39m\u001B[38;5;124m\"\u001B[39m), raw_size)\n\u001B[1;32m    151\u001B[0m \u001B[38;5;28;01mwith\u001B[39;00m \u001B[38;5;28mself\u001B[39m\u001B[38;5;241m.\u001B[39m_lock:\n\u001B[0;32m--> 152\u001B[0m     \u001B[38;5;28;43mself\u001B[39;49m\u001B[38;5;241;43m.\u001B[39;49m\u001B[43m_sendall_with_error_handle\u001B[49m\u001B[43m(\u001B[49m\u001B[43mheader\u001B[49m\u001B[43m \u001B[49m\u001B[38;5;241;43m+\u001B[39;49m\u001B[43m \u001B[49m\u001B[43mdata\u001B[49m\u001B[43m)\u001B[49m\n",
      "File \u001B[0;32m/opt/homebrew/Caskroom/miniforge/base/envs/image/lib/python3.8/site-packages/wandb/sdk/lib/sock_client.py:130\u001B[0m, in \u001B[0;36mSockClient._sendall_with_error_handle\u001B[0;34m(self, data)\u001B[0m\n\u001B[1;32m    128\u001B[0m start_time \u001B[38;5;241m=\u001B[39m time\u001B[38;5;241m.\u001B[39mmonotonic()\n\u001B[1;32m    129\u001B[0m \u001B[38;5;28;01mtry\u001B[39;00m:\n\u001B[0;32m--> 130\u001B[0m     sent \u001B[38;5;241m=\u001B[39m \u001B[38;5;28;43mself\u001B[39;49m\u001B[38;5;241;43m.\u001B[39;49m\u001B[43m_sock\u001B[49m\u001B[38;5;241;43m.\u001B[39;49m\u001B[43msend\u001B[49m\u001B[43m(\u001B[49m\u001B[43mdata\u001B[49m\u001B[43m)\u001B[49m\n\u001B[1;32m    131\u001B[0m     \u001B[38;5;66;03m# sent equal to 0 indicates a closed socket\u001B[39;00m\n\u001B[1;32m    132\u001B[0m     \u001B[38;5;28;01mif\u001B[39;00m sent \u001B[38;5;241m==\u001B[39m \u001B[38;5;241m0\u001B[39m:\n",
      "\u001B[0;31mBrokenPipeError\u001B[0m: [Errno 32] Broken pipe"
     ]
    }
   ],
   "source": [
    "# 67tzw27t\n",
    "wandb.agent(sweep_id, train) "
   ]
  },
  {
   "cell_type": "code",
   "execution_count": null,
   "metadata": {},
   "outputs": [],
   "source": [
    "# TODO \n",
    "# visualize result of inference of validate images"
   ]
  }
 ],
 "metadata": {
  "colab": {
   "collapsed_sections": [],
   "provenance": []
  },
  "kernelspec": {
   "display_name": "Python [conda env:image] *",
   "language": "python",
   "name": "conda-env-image-py"
  },
  "language_info": {
   "codemirror_mode": {
    "name": "ipython",
    "version": 3
   },
   "file_extension": ".py",
   "mimetype": "text/x-python",
   "name": "python",
   "nbconvert_exporter": "python",
   "pygments_lexer": "ipython3",
   "version": "3.8.13"
  }
 },
 "nbformat": 4,
 "nbformat_minor": 1
}
