{
  "nbformat": 4,
  "nbformat_minor": 0,
  "metadata": {
    "colab": {
      "provenance": [],
      "collapsed_sections": []
    },
    "kernelspec": {
      "name": "python3",
      "display_name": "Python 3"
    },
    "language_info": {
      "name": "python"
    }
  },
  "cells": [
    {
      "cell_type": "markdown",
      "source": [
        "https://github.com/HKLeeeee/Multi_proj_6/blob/main/CNN%20model/model/multi-output/strawberry/sweep/Sweep%20Strawberry%20Model.ipynb"
      ],
      "metadata": {
        "id": "GAaemB1IsHqv"
      }
    },
    {
      "cell_type": "code",
      "source": [
        "!pip uninstall tensorflow -y\n",
        "!pip install tensorflow==2.10"
      ],
      "metadata": {
        "id": "5K2J-P8OlTpq"
      },
      "execution_count": null,
      "outputs": []
    },
    {
      "cell_type": "code",
      "execution_count": null,
      "metadata": {
        "colab": {
          "base_uri": "https://localhost:8080/"
        },
        "id": "ZT2mL-nClOrr",
        "outputId": "bc1418d3-9edd-410b-af5c-20e40fae1777"
      },
      "outputs": [
        {
          "output_type": "stream",
          "name": "stdout",
          "text": [
            "2.10.0\n"
          ]
        }
      ],
      "source": [
        "import tensorflow as tf\n",
        "print(tf.__version__)"
      ]
    },
    {
      "cell_type": "code",
      "source": [
        "!python --version"
      ],
      "metadata": {
        "colab": {
          "base_uri": "https://localhost:8080/"
        },
        "id": "XmLcRsQXmbpv",
        "outputId": "04003f0a-9484-4c19-d6b6-75c4bb90a385"
      },
      "execution_count": null,
      "outputs": [
        {
          "output_type": "stream",
          "name": "stdout",
          "text": [
            "Python 3.7.14\n"
          ]
        }
      ]
    },
    {
      "cell_type": "code",
      "source": [
        "!pip install wandb"
      ],
      "metadata": {
        "id": "AImN9CkrUXqU"
      },
      "execution_count": null,
      "outputs": []
    },
    {
      "cell_type": "code",
      "source": [
        "import warnings \n",
        "warnings.filterwarnings(action='ignore')\n",
        "import os \n",
        "import numpy as np\n",
        "import pandas as pd\n",
        "import matplotlib.pyplot as plt\n",
        "from glob import glob\n",
        "from tqdm.auto import tqdm\n",
        "import cv2\n",
        "\n",
        "# from tensorflow.keras.applications import Densnet\n",
        "from tensorflow.keras.models import Sequential, Model\n",
        "from tensorflow.keras import layers\n",
        "import tensorflow.keras as keras\n",
        "from tensorflow.data import Dataset\n",
        "\n",
        "from tensorflow.keras.optimizers import Adam, RMSprop, Nadam, SGD\n",
        "from tensorflow.keras.callbacks import ModelCheckpoint, EarlyStopping\n",
        "\n",
        "from itertools import product\n",
        "from tensorflow.keras.preprocessing.image import ImageDataGenerator\n",
        "\n",
        "from tensorflow.keras.applications import inception_resnet_v2, nasnet\n",
        "from sklearn.model_selection import train_test_split\n",
        "from wandb.keras import WandbCallback\n",
        "import wandb"
      ],
      "metadata": {
        "id": "6a1sNIfKolGY"
      },
      "execution_count": null,
      "outputs": []
    },
    {
      "cell_type": "markdown",
      "source": [
        "# Config"
      ],
      "metadata": {
        "id": "FlutCLjGRv-p"
      }
    },
    {
      "cell_type": "code",
      "source": [
        "train_dir = '/content/drive/MyDrive/융합캡스톤디자인/binary_img/train'\n",
        "valid_dir = '/content/drive/MyDrive/융합캡스톤디자인/binary_img/valid'\n",
        "\n",
        "CLASSES = ['normal', 'flooded']\n",
        "NasNet = 'NasNet'\n",
        "Inception = 'Inception'\n",
        "target_size = {NasNet : (331,331),\n",
        "               Inception : (299,299)}\n",
        "\n",
        "TRAIN_LENGTH = len(os.listdir(train_dir))"
      ],
      "metadata": {
        "id": "2ZmCNhsdrFYO"
      },
      "execution_count": null,
      "outputs": []
    },
    {
      "cell_type": "code",
      "source": [
        "sweep_config = {\n",
        "    'method': 'random',\n",
        "    'metric': {\n",
        "      'name': 'val_loss',\n",
        "      'goal': 'minimize'   \n",
        "    },\n",
        "    'parameters': {\n",
        "        'pretrain_net': {\n",
        "            'values': [Inception, NasNet]\n",
        "        },\n",
        "        'batch_size': {\n",
        "            'values': [20, 50]\n",
        "        },\n",
        "        'dropout': {\n",
        "            'values': [0.2, 0.5]\n",
        "        },\n",
        "        'dense': {\n",
        "            'values': [32, 256, 1024]\n",
        "        },\n",
        "        'learning_rate': {\n",
        "            'values': [1e-2, 1e-3, 1e-4, 3e-5]\n",
        "        },\n",
        "        'optimizer': {\n",
        "            'values': ['adam', 'sgd', 'rmsprop']\n",
        "        },\n",
        "        'activation': {\n",
        "            'values': ['relu', 'elu', 'selu', 'softmax']\n",
        "        }\n",
        "    }\n",
        "}"
      ],
      "metadata": {
        "id": "f8JxGbvDRxNe"
      },
      "execution_count": null,
      "outputs": []
    },
    {
      "cell_type": "code",
      "source": [
        "train_datagen = ImageDataGenerator(rescale=1./255,\n",
        "                              rotation_range=30,\n",
        "                              shear_range=0.2,\n",
        "                              zoom_range=0.3,\n",
        "                              horizontal_flip=True,\n",
        "                              vertical_flip=True,\n",
        "                              fill_mode = 'nearest')\n",
        "validation_datagen = ImageDataGenerator(rescale=1./255)"
      ],
      "metadata": {
        "id": "lnJCLxjlSyzR"
      },
      "execution_count": null,
      "outputs": []
    },
    {
      "cell_type": "code",
      "source": [
        "def train() :\n",
        "    wandb.init()\n",
        "    tf.keras.backend.clear_session()\n",
        "    config_defaults = {\n",
        "        'pretrain_net': Inception,\n",
        "        'epochs' : 10,\n",
        "        'batch_size': 50,\n",
        "        'dropout' : 0.5,\n",
        "        'learning_rate' : 1e-3,\n",
        "        'activation': 'relu',\n",
        "        'optimizer': 'adam'\n",
        "    }\n",
        "    \n",
        "    wandb.init(config=config_defaults)\n",
        "    config = wandb.config\n",
        "    \n",
        "    train_generator = train_datagen.flow_from_directory(\n",
        "        train_dir, # target directory\n",
        "        classes = CLASSES,\n",
        "        target_size=target_size[config.pretrain_net],\n",
        "        batch_size=config.batch_size,\n",
        "        class_mode='binary'\n",
        "    )\n",
        "\n",
        "    valid_generator = validation_datagen.flow_from_directory(\n",
        "        valid_dir, # target directory\n",
        "        classes = CLASSES,\n",
        "        target_size=target_size[config.pretrain_net],\n",
        "        batch_size=config.batch_size,\n",
        "        class_mode='binary'\n",
        "    )\n",
        "\n",
        "    if config.pretrain_net == Inception :\n",
        "        base_model = inception_resnet_v2.InceptionResNetV2(\n",
        "            weights='imagenet',\n",
        "            include_top = False,\n",
        "            input_shape = target_size[config.pretrain_net]+(3,)\n",
        "        )\n",
        "    elif config.pretrain_net == NasNet :\n",
        "        base_model= nasnet.NASNetLarge(\n",
        "              weights='imagenet',\n",
        "              include_top=False,\n",
        "              input_shape = target_size[config.pretrain_net]+(3,)\n",
        "             )\n",
        "    base_model.trainable = False \n",
        "\n",
        "    inputs = layers.Input(shape=target_size[config.pretrain_net]+(3,))\n",
        "    x = base_model(x, training=False)\n",
        "    x = layers.GlobalAveragePooling2D()(x)\n",
        "    x = layers.Dropout(config.dropout)(x)\n",
        "    x = layers.Dense(config.dense, activation=config.activation)(x)\n",
        "    outputs = layers.Dense(1, activation='sigmoid')(x)\n",
        "\n",
        "    model = Model(inputs=inputs, \n",
        "                  outputs=outputs,\n",
        "                  name='binary_flood')    \n",
        "    \n",
        "    if config.optimizer=='sgd':\n",
        "        optimizer = SGD(learning_rate=config.learning_rate)\n",
        "    elif config.optimizer=='rmsprop':\n",
        "        optimizer = RMSprop(learning_rate=config.learning_rate)\n",
        "    elif config.optimizer=='adam':\n",
        "        optimizer = Adam(learning_rate=config.learning_rate)\n",
        "\n",
        "\n",
        "    model.compile(loss='cross',\n",
        "                  optimizer=optimizer,\n",
        "                  metrics=['accuracy'])    \n",
        "    \n",
        "    _ = model.fit(train_generator,\n",
        "          validation_data=valid_generator,\n",
        "          verbose=1,\n",
        "          epochs=config.epochs,\n",
        "          callbacks=[WandbCallback()],\n",
        "          steps_per_epoch=TRAIN_LENGTH//config.batch_size)"
      ],
      "metadata": {
        "id": "PJdM_Fe-SSKu"
      },
      "execution_count": null,
      "outputs": []
    },
    {
      "cell_type": "code",
      "source": [
        "sweep_id = wandb.sweep(sweep_config, project='flood24', entity='hkleeeee')"
      ],
      "metadata": {
        "id": "EUs02iU-TVGt"
      },
      "execution_count": null,
      "outputs": []
    },
    {
      "cell_type": "code",
      "source": [
        "wandb.agent(sweep_id, train)"
      ],
      "metadata": {
        "id": "g2Qu-0MhW-aU"
      },
      "execution_count": null,
      "outputs": []
    }
  ]
}