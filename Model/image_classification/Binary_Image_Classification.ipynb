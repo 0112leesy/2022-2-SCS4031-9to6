{
 "cells": [
  {
   "cell_type": "markdown",
   "metadata": {
    "id": "5K2J-P8OlTpq"
   },
   "source": [
    "## change to code and run on colab\n",
    "!pip uninstall tensorflow -y\n",
    "!pip install tensorflow==2.10\n",
    "!pip install wandb\n",
    "import tensorflow as tf\n",
    "print(tf.__version__)"
   ]
  },
  {
   "cell_type": "code",
   "execution_count": 1,
   "metadata": {
    "id": "6a1sNIfKolGY"
   },
   "outputs": [
    {
     "name": "stdout",
     "output_type": "stream",
     "text": [
      "2.10.0\n",
      "Num GPUs Available:  1\n"
     ]
    }
   ],
   "source": [
    "import warnings \n",
    "warnings.filterwarnings(action='ignore')\n",
    "import os\n",
    "import shutil\n",
    "import numpy as np\n",
    "import pandas as pd\n",
    "import matplotlib.pyplot as plt\n",
    "from glob import glob\n",
    "from tqdm.auto import tqdm\n",
    "import cv2\n",
    "\n",
    "import tensorflow as tf\n",
    "from tensorflow.keras.models import Sequential, Model\n",
    "from tensorflow.keras import layers\n",
    "import tensorflow.keras as keras\n",
    "from tensorflow.data import Dataset\n",
    "\n",
    "from tensorflow.keras.optimizers import Adam, RMSprop, Nadam, SGD\n",
    "from tensorflow.keras.callbacks import ModelCheckpoint, EarlyStopping\n",
    "\n",
    "from itertools import product\n",
    "from tensorflow.keras.preprocessing.image import ImageDataGenerator\n",
    "\n",
    "from tensorflow.keras.applications import inception_resnet_v2, nasnet\n",
    "from sklearn.model_selection import train_test_split\n",
    "from wandb.keras import WandbCallback\n",
    "import wandb\n",
    "import tensorflow as tf\n",
    "print(tf.__version__)\n",
    "\n",
    "print(\"Num GPUs Available: \", len(tf.config.experimental.list_physical_devices('GPU')))"
   ]
  },
  {
   "cell_type": "markdown",
   "metadata": {},
   "source": [
    "# Activate this cell when you need\n",
    "# split data\n",
    "ori_flood = '../data/binary/flood'\n",
    "ori_normal = '../data/binary/normal'\n",
    "\n",
    "img_flood = glob(ori_flood+'/*.jpg')\n",
    "img_normal = glob(ori_normal+'/*.jpg')\n",
    "\n",
    "len_flood=len(img_flood)\n",
    "print('len_flood : ', len_flood)\n",
    "len_normal=len(img_normal)\n",
    "print('len_normal : ', len_normal)\n",
    "\n",
    "train_dir = '../data/binary/train'\n",
    "valid_dir = '../data/binary/valid'\n",
    "\n",
    "# copy flood img\n",
    "for i, img in enumerate(tqdm(img_flood)):\n",
    "    img_name = img.split('/')[-1]\n",
    "    src = img\n",
    "    if i < len_flood * 0.7 :\n",
    "        dst = os.path.join(train_dir+'/flood', img_name)\n",
    "    else :\n",
    "        dst = os.path.join(valid_dir+'/flood', img_name)\n",
    "    shutil.copyfile(src,dst)\n",
    "\n",
    "# copy normal img\n",
    "for i, img in enumerate(tqdm(img_normal)):\n",
    "    img_name = img.split('/')[-1]\n",
    "    src = img\n",
    "    if i < len_normal * 0.7 :\n",
    "        dst = os.path.join(train_dir+'/normal', img_name)\n",
    "    else :\n",
    "        dst = os.path.join(valid_dir+'/normal', img_name)\n",
    "    shutil.copyfile(src,dst)"
   ]
  },
  {
   "cell_type": "markdown",
   "metadata": {},
   "source": [
    "# Make DataFrame"
   ]
  },
  {
   "cell_type": "code",
   "execution_count": 2,
   "metadata": {},
   "outputs": [
    {
     "name": "stdout",
     "output_type": "stream",
     "text": [
      "flood len : 6866\n",
      "normal len : 7723\n"
     ]
    },
    {
     "data": {
      "text/html": [
       "<div>\n",
       "<style scoped>\n",
       "    .dataframe tbody tr th:only-of-type {\n",
       "        vertical-align: middle;\n",
       "    }\n",
       "\n",
       "    .dataframe tbody tr th {\n",
       "        vertical-align: top;\n",
       "    }\n",
       "\n",
       "    .dataframe thead th {\n",
       "        text-align: right;\n",
       "    }\n",
       "</style>\n",
       "<table border=\"1\" class=\"dataframe\">\n",
       "  <thead>\n",
       "    <tr style=\"text-align: right;\">\n",
       "      <th></th>\n",
       "      <th>path</th>\n",
       "      <th>label</th>\n",
       "    </tr>\n",
       "  </thead>\n",
       "  <tbody>\n",
       "    <tr>\n",
       "      <th>5883</th>\n",
       "      <td>../data/binary/flood/26538299.jpg</td>\n",
       "      <td>1</td>\n",
       "    </tr>\n",
       "    <tr>\n",
       "      <th>2929</th>\n",
       "      <td>../data/binary/flood/26544507.jpg</td>\n",
       "      <td>1</td>\n",
       "    </tr>\n",
       "    <tr>\n",
       "      <th>2878</th>\n",
       "      <td>../data/binary/flood/26491104.jpg</td>\n",
       "      <td>1</td>\n",
       "    </tr>\n",
       "    <tr>\n",
       "      <th>5682</th>\n",
       "      <td>../data/binary/flood/59072394.jpg</td>\n",
       "      <td>1</td>\n",
       "    </tr>\n",
       "    <tr>\n",
       "      <th>4987</th>\n",
       "      <td>../data/binary/flood/29_jpg.rf.9c91984bc77fc96...</td>\n",
       "      <td>1</td>\n",
       "    </tr>\n",
       "  </tbody>\n",
       "</table>\n",
       "</div>"
      ],
      "text/plain": [
       "                                                   path label\n",
       "5883                  ../data/binary/flood/26538299.jpg     1\n",
       "2929                  ../data/binary/flood/26544507.jpg     1\n",
       "2878                  ../data/binary/flood/26491104.jpg     1\n",
       "5682                  ../data/binary/flood/59072394.jpg     1\n",
       "4987  ../data/binary/flood/29_jpg.rf.9c91984bc77fc96...     1"
      ]
     },
     "metadata": {},
     "output_type": "display_data"
    },
    {
     "data": {
      "text/html": [
       "<div>\n",
       "<style scoped>\n",
       "    .dataframe tbody tr th:only-of-type {\n",
       "        vertical-align: middle;\n",
       "    }\n",
       "\n",
       "    .dataframe tbody tr th {\n",
       "        vertical-align: top;\n",
       "    }\n",
       "\n",
       "    .dataframe thead th {\n",
       "        text-align: right;\n",
       "    }\n",
       "</style>\n",
       "<table border=\"1\" class=\"dataframe\">\n",
       "  <thead>\n",
       "    <tr style=\"text-align: right;\">\n",
       "      <th></th>\n",
       "      <th>path</th>\n",
       "      <th>label</th>\n",
       "    </tr>\n",
       "  </thead>\n",
       "  <tbody>\n",
       "    <tr>\n",
       "      <th>678</th>\n",
       "      <td>../data/binary/flood/26533851.jpg</td>\n",
       "      <td>1</td>\n",
       "    </tr>\n",
       "    <tr>\n",
       "      <th>7721</th>\n",
       "      <td>../data/binary/normal/frame15_26_day_1024.mp4.jpg</td>\n",
       "      <td>0</td>\n",
       "    </tr>\n",
       "    <tr>\n",
       "      <th>6646</th>\n",
       "      <td>../data/binary/flood/26520189.jpg</td>\n",
       "      <td>1</td>\n",
       "    </tr>\n",
       "    <tr>\n",
       "      <th>5244</th>\n",
       "      <td>../data/binary/normal/frame37_135_night_1024.m...</td>\n",
       "      <td>0</td>\n",
       "    </tr>\n",
       "    <tr>\n",
       "      <th>4537</th>\n",
       "      <td>../data/binary/normal/도로561.jpg</td>\n",
       "      <td>0</td>\n",
       "    </tr>\n",
       "  </tbody>\n",
       "</table>\n",
       "</div>"
      ],
      "text/plain": [
       "                                                   path label\n",
       "678                   ../data/binary/flood/26533851.jpg     1\n",
       "7721  ../data/binary/normal/frame15_26_day_1024.mp4.jpg     0\n",
       "6646                  ../data/binary/flood/26520189.jpg     1\n",
       "5244  ../data/binary/normal/frame37_135_night_1024.m...     0\n",
       "4537                    ../data/binary/normal/도로561.jpg     0"
      ]
     },
     "execution_count": 2,
     "metadata": {},
     "output_type": "execute_result"
    }
   ],
   "source": [
    "# flood : 1, normal : 0\n",
    "flood_df = pd.DataFrame({'path' : glob('../data/binary/flood/*.jpg'),\n",
    "                        'label' : '1'})\n",
    "print('flood len : {}'.format(len(flood_df)))\n",
    "normal_df = pd.DataFrame({'path' : glob('../data/binary/normal/*.jpg'),\n",
    "                         'label': '0'})\n",
    "print('normal len : {}'.format(len(normal_df)))\n",
    "\n",
    "df = pd.concat([flood_df, normal_df], axis=0)\n",
    "\n",
    "#shuffle\n",
    "df = df.sample(frac=1)\n",
    "display(df.head())\n",
    "\n",
    "#split\n",
    "x_train, x_test, y_train, y_test = train_test_split(df['path'],\n",
    "                                                   df['label'],\n",
    "                                                   stratify=df['label'],\n",
    "                                                   test_size=0.2)\n",
    "train_df = pd.DataFrame({'path':x_train,\n",
    "                        'label':y_train})\n",
    "valid_df = pd.DataFrame({'path':x_test,\n",
    "                        'label':y_test})\n",
    "train_df.head()"
   ]
  },
  {
   "cell_type": "markdown",
   "metadata": {},
   "source": [
    "# Config"
   ]
  },
  {
   "cell_type": "code",
   "execution_count": 3,
   "metadata": {
    "id": "2ZmCNhsdrFYO"
   },
   "outputs": [],
   "source": [
    "# train_dir = '/content/drive/MyDrive/융합캡스톤디자인/binary/train'\n",
    "# valid_dir = '/content/drive/MyDrive/융합캡스톤디자인/binary/valid'\n",
    "# train_dir = '../data/binary/train'\n",
    "# valid_dir = '../data/binary/valid'\n",
    "\n",
    "CLASSES = ['normal', 'flood']\n",
    "NasNet = 'NasNet'\n",
    "Inception = 'Inception'\n",
    "target_size = {NasNet : (331,331),\n",
    "               Inception : (299,299)}\n",
    "EPOCHS = 1000\n",
    "\n",
    "sweep_config = {\n",
    "    'method': 'random',\n",
    "    'metric': {\n",
    "      'name': 'val_loss',\n",
    "      'goal': 'minimize'   \n",
    "    },\n",
    "    'early_terminate' : {\n",
    "        'type': 'hyperband',\n",
    "        'max_iter': 27,\n",
    "        's': 2\n",
    "    },\n",
    "    'parameters': {\n",
    "        'pretrain_net': {\n",
    "            'values': [Inception, NasNet]\n",
    "        },\n",
    "        'batch_size': {\n",
    "            'values': [20, 50]\n",
    "        },\n",
    "        'dropout': {\n",
    "            'values': [0.2, 0.5]\n",
    "        },\n",
    "        'dense': {\n",
    "            'values': [32, 256, 1024]\n",
    "        },\n",
    "        'learning_rate': {\n",
    "            'values': [1e-2, 1e-3, 1e-4, 3e-5]\n",
    "        },\n",
    "        'optimizer': {\n",
    "            'values': ['adam', 'sgd', 'rmsprop']\n",
    "        },\n",
    "        'activation': {\n",
    "            'values': ['relu', 'elu', 'selu', 'softmax']\n",
    "        }\n",
    "    }\n",
    "}"
   ]
  },
  {
   "cell_type": "code",
   "execution_count": 4,
   "metadata": {
    "id": "lnJCLxjlSyzR"
   },
   "outputs": [],
   "source": [
    "train_datagen = ImageDataGenerator(rescale=1./255,\n",
    "                              rotation_range=30,\n",
    "                              shear_range=0.2,\n",
    "                              zoom_range=0.3,\n",
    "                              horizontal_flip=True,\n",
    "                              vertical_flip=True,\n",
    "                              fill_mode = 'nearest')\n",
    "valid_datagen = ImageDataGenerator(rescale=1./255)"
   ]
  },
  {
   "cell_type": "code",
   "execution_count": 5,
   "metadata": {
    "id": "PJdM_Fe-SSKu"
   },
   "outputs": [],
   "source": [
    "def train() :\n",
    "    tf.keras.backend.clear_session()\n",
    "    config_defaults = {\n",
    "        'pretrain_net': Inception,\n",
    "        'epochs' : EPOCHS,\n",
    "        'batch_size': 50,\n",
    "        'dropout' : 0.5,\n",
    "        'learning_rate' : 1e-3,\n",
    "        'activation': 'relu',\n",
    "        'optimizer': 'adam',\n",
    "        'dense':1024\n",
    "    }\n",
    "    \n",
    "    wandb.init(config=config_defaults)\n",
    "    config = wandb.config\n",
    "    \n",
    "    train_generator = train_datagen.flow_from_dataframe(train_df, \n",
    "                                               x_col='path',\n",
    "                                               y_col='label',\n",
    "                                               target_size=target_size[config.pretrain_net],\n",
    "                                               class_mode='binary',\n",
    "                                               batch_size=config.batch_size)\n",
    "    valid_generator = valid_datagen.flow_from_dataframe(valid_df,\n",
    "                                               x_col='path',\n",
    "                                               y_col='label',\n",
    "                                               target_size=target_size[config.pretrain_net],\n",
    "                                               class_mode='binary',\n",
    "                                               batch_size=config.batch_size)    \n",
    "    \n",
    "    if config.pretrain_net == Inception :\n",
    "        base_model = inception_resnet_v2.InceptionResNetV2(\n",
    "            weights='imagenet',\n",
    "            include_top = False,\n",
    "            input_shape = target_size[config.pretrain_net]+(3,)\n",
    "        )\n",
    "    elif config.pretrain_net == NasNet :\n",
    "        base_model= nasnet.NASNetLarge(\n",
    "              weights='imagenet',\n",
    "              include_top=False,\n",
    "              input_shape = target_size[config.pretrain_net]+(3,)\n",
    "             )\n",
    "    base_model.trainable = False \n",
    "\n",
    "    inputs = layers.Input(shape=target_size[config.pretrain_net]+(3,))\n",
    "    x = base_model(inputs, training=False)\n",
    "    x = layers.GlobalAveragePooling2D()(x)\n",
    "    x = layers.Dropout(config.dropout)(x)\n",
    "    x = layers.Dense(config.dense, activation=config.activation)(x)\n",
    "    outputs = layers.Dense(1, activation='sigmoid')(x)\n",
    "    \n",
    "    es = EarlyStopping(monitor='loss',\n",
    "                    mode='auto',\n",
    "                    patience=5,\n",
    "                    verbose=1)\n",
    "    \n",
    "    ckpt_path = '../data/weight/{net}_{bs}_{do}_{lr}_{acti}_{opt}_{dense}.ckpt'.format(net=config.pretrain_net, \n",
    "                                                                                       bs=config.batch_size, \n",
    "                                                                                       do=config.dropout, \n",
    "                                                                                       lr=config.learning_rate,\n",
    "                                                                                       acti=config.activation,\n",
    "                                                                                       opt=config.optimizer,\n",
    "                                                                                       dense=config.dense)\n",
    "    checkpointer = ModelCheckpoint(filepath=ckpt_path,\n",
    "                                  monitor='val_loss',\n",
    "                                  save_weights_only = True,\n",
    "                                  save_best_only= True,\n",
    "                                  verbose=1)\n",
    "\n",
    "        \n",
    "    model = Model(inputs=inputs, \n",
    "                  outputs=outputs,\n",
    "                  name='binary_flood')    \n",
    "    \n",
    "    if config.optimizer=='sgd':\n",
    "        optimizer = SGD(learning_rate=config.learning_rate)\n",
    "    elif config.optimizer=='rmsprop':\n",
    "        optimizer = RMSprop(learning_rate=config.learning_rate)\n",
    "    elif config.optimizer=='adam':\n",
    "        optimizer = Adam(learning_rate=config.learning_rate)\n",
    "\n",
    "\n",
    "    model.compile(loss='binary_crossentropy',\n",
    "                  optimizer=optimizer,\n",
    "                  metrics=['accuracy'])    \n",
    "    \n",
    "    _ = model.fit(train_generator,\n",
    "          validation_data=valid_generator,\n",
    "          verbose=1,\n",
    "          epochs=config.epochs,\n",
    "          callbacks=[WandbCallback(), es, checkpointer],\n",
    "          steps_per_epoch=len(train_df)//config.batch_size)"
   ]
  },
  {
   "cell_type": "code",
   "execution_count": 6,
   "metadata": {
    "id": "EUs02iU-TVGt",
    "scrolled": true
   },
   "outputs": [
    {
     "name": "stdout",
     "output_type": "stream",
     "text": [
      "Create sweep with ID: q6tqn2u4\n",
      "Sweep URL: https://wandb.ai/hkleee/flood24/sweeps/q6tqn2u4\n"
     ]
    }
   ],
   "source": [
    "sweep_id = wandb.sweep(sweep_config, project='flood24')"
   ]
  },
  {
   "cell_type": "code",
   "execution_count": null,
   "metadata": {
    "id": "g2Qu-0MhW-aU",
    "scrolled": true
   },
   "outputs": [
    {
     "name": "stderr",
     "output_type": "stream",
     "text": [
      "\u001b[34m\u001b[1mwandb\u001b[0m: Agent Starting Run: 445vi2bj with config:\n",
      "\u001b[34m\u001b[1mwandb\u001b[0m: \tactivation: relu\n",
      "\u001b[34m\u001b[1mwandb\u001b[0m: \tbatch_size: 20\n",
      "\u001b[34m\u001b[1mwandb\u001b[0m: \tdense: 32\n",
      "\u001b[34m\u001b[1mwandb\u001b[0m: \tdropout: 0.2\n",
      "\u001b[34m\u001b[1mwandb\u001b[0m: \tlearning_rate: 0.0001\n",
      "\u001b[34m\u001b[1mwandb\u001b[0m: \toptimizer: adam\n",
      "\u001b[34m\u001b[1mwandb\u001b[0m: \tpretrain_net: Inception\n",
      "\u001b[34m\u001b[1mwandb\u001b[0m: Currently logged in as: \u001b[33mhkleee\u001b[0m. Use \u001b[1m`wandb login --relogin`\u001b[0m to force relogin\n"
     ]
    },
    {
     "data": {
      "text/html": [
       "Tracking run with wandb version 0.13.4"
      ],
      "text/plain": [
       "<IPython.core.display.HTML object>"
      ]
     },
     "metadata": {},
     "output_type": "display_data"
    },
    {
     "data": {
      "text/html": [
       "Run data is saved locally in <code>/Users/hkleeeee/Desktop/Flooding24/2022-2-SCS4031-9to6/Model/image_classification/wandb/run-20221103_002918-445vi2bj</code>"
      ],
      "text/plain": [
       "<IPython.core.display.HTML object>"
      ]
     },
     "metadata": {},
     "output_type": "display_data"
    },
    {
     "data": {
      "text/html": [
       "Syncing run <strong><a href=\"https://wandb.ai/hkleee/flood24/runs/445vi2bj\" target=\"_blank\">absurd-sweep-32</a></strong> to <a href=\"https://wandb.ai/hkleee/flood24\" target=\"_blank\">Weights & Biases</a> (<a href=\"https://wandb.me/run\" target=\"_blank\">docs</a>)<br/>Sweep page:  <a href=\"https://wandb.ai/hkleee/flood24/sweeps/vavoacy6\" target=\"_blank\">https://wandb.ai/hkleee/flood24/sweeps/vavoacy6</a>"
      ],
      "text/plain": [
       "<IPython.core.display.HTML object>"
      ]
     },
     "metadata": {},
     "output_type": "display_data"
    },
    {
     "name": "stdout",
     "output_type": "stream",
     "text": [
      "Found 11671 validated image filenames belonging to 2 classes.\n",
      "Found 2918 validated image filenames belonging to 2 classes.\n",
      "Metal device set to: Apple M1\n"
     ]
    },
    {
     "name": "stderr",
     "output_type": "stream",
     "text": [
      "2022-11-03 00:29:22.511797: I tensorflow/core/common_runtime/pluggable_device/pluggable_device_factory.cc:306] Could not identify NUMA node of platform GPU ID 0, defaulting to 0. Your kernel may not have been built with NUMA support.\n",
      "2022-11-03 00:29:22.512153: I tensorflow/core/common_runtime/pluggable_device/pluggable_device_factory.cc:272] Created TensorFlow device (/job:localhost/replica:0/task:0/device:GPU:0 with 0 MB memory) -> physical PluggableDevice (device: 0, name: METAL, pci bus id: <undefined>)\n",
      "\u001b[34m\u001b[1mwandb\u001b[0m: \u001b[33mWARNING\u001b[0m The save_model argument by default saves the model in the HDF5 format that cannot save custom objects like subclassed models and custom layers. This behavior will be deprecated in a future release in favor of the SavedModel format. Meanwhile, the HDF5 model is saved as W&B files and the SavedModel as W&B Artifacts.\n"
     ]
    },
    {
     "name": "stdout",
     "output_type": "stream",
     "text": [
      "Epoch 1/1000\n"
     ]
    },
    {
     "name": "stderr",
     "output_type": "stream",
     "text": [
      "2022-11-03 00:29:28.175637: W tensorflow/core/platform/profile_utils/cpu_utils.cc:128] Failed to get CPU frequency: 0 Hz\n",
      "2022-11-03 00:29:32.488708: I tensorflow/core/grappler/optimizers/custom_graph_optimizer_registry.cc:114] Plugin optimizer for device_type GPU is enabled.\n"
     ]
    },
    {
     "name": "stdout",
     "output_type": "stream",
     "text": [
      "583/583 [==============================] - ETA: 0s - loss: 0.2236 - accuracy: 0.9204"
     ]
    },
    {
     "name": "stderr",
     "output_type": "stream",
     "text": [
      "2022-11-03 00:42:19.076307: I tensorflow/core/grappler/optimizers/custom_graph_optimizer_registry.cc:114] Plugin optimizer for device_type GPU is enabled.\n",
      "WARNING:absl:Found untraced functions such as _jit_compiled_convolution_op, _jit_compiled_convolution_op, _jit_compiled_convolution_op, _jit_compiled_convolution_op, _jit_compiled_convolution_op while saving (showing 5 of 244). These functions will not be directly callable after loading.\n"
     ]
    },
    {
     "name": "stdout",
     "output_type": "stream",
     "text": [
      "INFO:tensorflow:Assets written to: /Users/hkleeeee/Desktop/Flooding24/2022-2-SCS4031-9to6/Model/image_classification/wandb/run-20221103_002918-445vi2bj/files/model-best/assets\n"
     ]
    },
    {
     "name": "stderr",
     "output_type": "stream",
     "text": [
      "INFO:tensorflow:Assets written to: /Users/hkleeeee/Desktop/Flooding24/2022-2-SCS4031-9to6/Model/image_classification/wandb/run-20221103_002918-445vi2bj/files/model-best/assets\n",
      "\u001b[34m\u001b[1mwandb\u001b[0m: Adding directory to artifact (/Users/hkleeeee/Desktop/Flooding24/2022-2-SCS4031-9to6/Model/image_classification/wandb/run-20221103_002918-445vi2bj/files/model-best)... Done. 1.0s\n"
     ]
    },
    {
     "name": "stdout",
     "output_type": "stream",
     "text": [
      "\n",
      "Epoch 1: val_loss improved from inf to 0.09069, saving model to ../data/weight/Inception_20_0.2_0.0001_relu_adam_32.ckpt\n",
      "583/583 [==============================] - 999s 2s/step - loss: 0.2236 - accuracy: 0.9204 - val_loss: 0.0907 - val_accuracy: 0.9740\n",
      "Epoch 2/1000\n",
      "583/583 [==============================] - ETA: 0s - loss: 0.1228 - accuracy: 0.9573"
     ]
    },
    {
     "name": "stderr",
     "output_type": "stream",
     "text": [
      "WARNING:absl:Found untraced functions such as _jit_compiled_convolution_op, _jit_compiled_convolution_op, _jit_compiled_convolution_op, _jit_compiled_convolution_op, _jit_compiled_convolution_op while saving (showing 5 of 244). These functions will not be directly callable after loading.\n"
     ]
    },
    {
     "name": "stdout",
     "output_type": "stream",
     "text": [
      "INFO:tensorflow:Assets written to: /Users/hkleeeee/Desktop/Flooding24/2022-2-SCS4031-9to6/Model/image_classification/wandb/run-20221103_002918-445vi2bj/files/model-best/assets\n"
     ]
    },
    {
     "name": "stderr",
     "output_type": "stream",
     "text": [
      "INFO:tensorflow:Assets written to: /Users/hkleeeee/Desktop/Flooding24/2022-2-SCS4031-9to6/Model/image_classification/wandb/run-20221103_002918-445vi2bj/files/model-best/assets\n",
      "\u001b[34m\u001b[1mwandb\u001b[0m: Adding directory to artifact (/Users/hkleeeee/Desktop/Flooding24/2022-2-SCS4031-9to6/Model/image_classification/wandb/run-20221103_002918-445vi2bj/files/model-best)... Done. 0.9s\n"
     ]
    },
    {
     "name": "stdout",
     "output_type": "stream",
     "text": [
      "\n",
      "Epoch 2: val_loss improved from 0.09069 to 0.08017, saving model to ../data/weight/Inception_20_0.2_0.0001_relu_adam_32.ckpt\n",
      "583/583 [==============================] - 924s 2s/step - loss: 0.1228 - accuracy: 0.9573 - val_loss: 0.0802 - val_accuracy: 0.9777\n",
      "Epoch 3/1000\n",
      "583/583 [==============================] - ETA: 0s - loss: 0.1062 - accuracy: 0.9637"
     ]
    },
    {
     "name": "stderr",
     "output_type": "stream",
     "text": [
      "WARNING:absl:Found untraced functions such as _jit_compiled_convolution_op, _jit_compiled_convolution_op, _jit_compiled_convolution_op, _jit_compiled_convolution_op, _jit_compiled_convolution_op while saving (showing 5 of 244). These functions will not be directly callable after loading.\n"
     ]
    },
    {
     "name": "stdout",
     "output_type": "stream",
     "text": [
      "INFO:tensorflow:Assets written to: /Users/hkleeeee/Desktop/Flooding24/2022-2-SCS4031-9to6/Model/image_classification/wandb/run-20221103_002918-445vi2bj/files/model-best/assets\n"
     ]
    },
    {
     "name": "stderr",
     "output_type": "stream",
     "text": [
      "INFO:tensorflow:Assets written to: /Users/hkleeeee/Desktop/Flooding24/2022-2-SCS4031-9to6/Model/image_classification/wandb/run-20221103_002918-445vi2bj/files/model-best/assets\n",
      "\u001b[34m\u001b[1mwandb\u001b[0m: Adding directory to artifact (/Users/hkleeeee/Desktop/Flooding24/2022-2-SCS4031-9to6/Model/image_classification/wandb/run-20221103_002918-445vi2bj/files/model-best)... Done. 0.9s\n"
     ]
    },
    {
     "name": "stdout",
     "output_type": "stream",
     "text": [
      "\n",
      "Epoch 3: val_loss improved from 0.08017 to 0.07841, saving model to ../data/weight/Inception_20_0.2_0.0001_relu_adam_32.ckpt\n",
      "583/583 [==============================] - 932s 2s/step - loss: 0.1062 - accuracy: 0.9637 - val_loss: 0.0784 - val_accuracy: 0.9777\n",
      "Epoch 4/1000\n",
      "583/583 [==============================] - ETA: 0s - loss: 0.0978 - accuracy: 0.9673"
     ]
    },
    {
     "name": "stderr",
     "output_type": "stream",
     "text": [
      "WARNING:absl:Found untraced functions such as _jit_compiled_convolution_op, _jit_compiled_convolution_op, _jit_compiled_convolution_op, _jit_compiled_convolution_op, _jit_compiled_convolution_op while saving (showing 5 of 244). These functions will not be directly callable after loading.\n"
     ]
    },
    {
     "name": "stdout",
     "output_type": "stream",
     "text": [
      "INFO:tensorflow:Assets written to: /Users/hkleeeee/Desktop/Flooding24/2022-2-SCS4031-9to6/Model/image_classification/wandb/run-20221103_002918-445vi2bj/files/model-best/assets\n"
     ]
    },
    {
     "name": "stderr",
     "output_type": "stream",
     "text": [
      "INFO:tensorflow:Assets written to: /Users/hkleeeee/Desktop/Flooding24/2022-2-SCS4031-9to6/Model/image_classification/wandb/run-20221103_002918-445vi2bj/files/model-best/assets\n",
      "\u001b[34m\u001b[1mwandb\u001b[0m: Adding directory to artifact (/Users/hkleeeee/Desktop/Flooding24/2022-2-SCS4031-9to6/Model/image_classification/wandb/run-20221103_002918-445vi2bj/files/model-best)... Done. 0.9s\n"
     ]
    },
    {
     "name": "stdout",
     "output_type": "stream",
     "text": [
      "\n",
      "Epoch 4: val_loss improved from 0.07841 to 0.07327, saving model to ../data/weight/Inception_20_0.2_0.0001_relu_adam_32.ckpt\n",
      "583/583 [==============================] - 1137s 2s/step - loss: 0.0978 - accuracy: 0.9673 - val_loss: 0.0733 - val_accuracy: 0.9784\n",
      "Epoch 5/1000\n",
      "583/583 [==============================] - ETA: 0s - loss: 0.0907 - accuracy: 0.9689"
     ]
    },
    {
     "name": "stderr",
     "output_type": "stream",
     "text": [
      "WARNING:absl:Found untraced functions such as _jit_compiled_convolution_op, _jit_compiled_convolution_op, _jit_compiled_convolution_op, _jit_compiled_convolution_op, _jit_compiled_convolution_op while saving (showing 5 of 244). These functions will not be directly callable after loading.\n"
     ]
    },
    {
     "name": "stdout",
     "output_type": "stream",
     "text": [
      "INFO:tensorflow:Assets written to: /Users/hkleeeee/Desktop/Flooding24/2022-2-SCS4031-9to6/Model/image_classification/wandb/run-20221103_002918-445vi2bj/files/model-best/assets\n"
     ]
    },
    {
     "name": "stderr",
     "output_type": "stream",
     "text": [
      "INFO:tensorflow:Assets written to: /Users/hkleeeee/Desktop/Flooding24/2022-2-SCS4031-9to6/Model/image_classification/wandb/run-20221103_002918-445vi2bj/files/model-best/assets\n",
      "\u001b[34m\u001b[1mwandb\u001b[0m: Adding directory to artifact (/Users/hkleeeee/Desktop/Flooding24/2022-2-SCS4031-9to6/Model/image_classification/wandb/run-20221103_002918-445vi2bj/files/model-best)... Done. 0.8s\n"
     ]
    },
    {
     "name": "stdout",
     "output_type": "stream",
     "text": [
      "\n",
      "Epoch 5: val_loss improved from 0.07327 to 0.07231, saving model to ../data/weight/Inception_20_0.2_0.0001_relu_adam_32.ckpt\n",
      "583/583 [==============================] - 1120s 2s/step - loss: 0.0907 - accuracy: 0.9689 - val_loss: 0.0723 - val_accuracy: 0.9784\n",
      "Epoch 6/1000\n",
      "583/583 [==============================] - ETA: 0s - loss: 0.0909 - accuracy: 0.9674"
     ]
    },
    {
     "name": "stderr",
     "output_type": "stream",
     "text": [
      "WARNING:absl:Found untraced functions such as _jit_compiled_convolution_op, _jit_compiled_convolution_op, _jit_compiled_convolution_op, _jit_compiled_convolution_op, _jit_compiled_convolution_op while saving (showing 5 of 244). These functions will not be directly callable after loading.\n"
     ]
    },
    {
     "name": "stdout",
     "output_type": "stream",
     "text": [
      "INFO:tensorflow:Assets written to: /Users/hkleeeee/Desktop/Flooding24/2022-2-SCS4031-9to6/Model/image_classification/wandb/run-20221103_002918-445vi2bj/files/model-best/assets\n"
     ]
    },
    {
     "name": "stderr",
     "output_type": "stream",
     "text": [
      "INFO:tensorflow:Assets written to: /Users/hkleeeee/Desktop/Flooding24/2022-2-SCS4031-9to6/Model/image_classification/wandb/run-20221103_002918-445vi2bj/files/model-best/assets\n",
      "\u001b[34m\u001b[1mwandb\u001b[0m: Adding directory to artifact (/Users/hkleeeee/Desktop/Flooding24/2022-2-SCS4031-9to6/Model/image_classification/wandb/run-20221103_002918-445vi2bj/files/model-best)... Done. 0.9s\n"
     ]
    },
    {
     "name": "stdout",
     "output_type": "stream",
     "text": [
      "\n",
      "Epoch 6: val_loss improved from 0.07231 to 0.06993, saving model to ../data/weight/Inception_20_0.2_0.0001_relu_adam_32.ckpt\n",
      "583/583 [==============================] - 1049s 2s/step - loss: 0.0909 - accuracy: 0.9674 - val_loss: 0.0699 - val_accuracy: 0.9774\n",
      "Epoch 7/1000\n",
      "583/583 [==============================] - ETA: 0s - loss: 0.0841 - accuracy: 0.9706\n",
      "Epoch 7: val_loss did not improve from 0.06993\n",
      "583/583 [==============================] - 987s 2s/step - loss: 0.0841 - accuracy: 0.9706 - val_loss: 0.0783 - val_accuracy: 0.9784\n",
      "Epoch 8/1000\n",
      "583/583 [==============================] - ETA: 0s - loss: 0.0853 - accuracy: 0.9687\n",
      "Epoch 8: val_loss did not improve from 0.06993\n",
      "583/583 [==============================] - 995s 2s/step - loss: 0.0853 - accuracy: 0.9687 - val_loss: 0.0766 - val_accuracy: 0.9801\n",
      "Epoch 9/1000\n",
      "583/583 [==============================] - ETA: 0s - loss: 0.0850 - accuracy: 0.9700"
     ]
    },
    {
     "name": "stderr",
     "output_type": "stream",
     "text": [
      "WARNING:absl:Found untraced functions such as _jit_compiled_convolution_op, _jit_compiled_convolution_op, _jit_compiled_convolution_op, _jit_compiled_convolution_op, _jit_compiled_convolution_op while saving (showing 5 of 244). These functions will not be directly callable after loading.\n"
     ]
    },
    {
     "name": "stdout",
     "output_type": "stream",
     "text": [
      "INFO:tensorflow:Assets written to: /Users/hkleeeee/Desktop/Flooding24/2022-2-SCS4031-9to6/Model/image_classification/wandb/run-20221103_002918-445vi2bj/files/model-best/assets\n"
     ]
    },
    {
     "name": "stderr",
     "output_type": "stream",
     "text": [
      "INFO:tensorflow:Assets written to: /Users/hkleeeee/Desktop/Flooding24/2022-2-SCS4031-9to6/Model/image_classification/wandb/run-20221103_002918-445vi2bj/files/model-best/assets\n",
      "\u001b[34m\u001b[1mwandb\u001b[0m: Adding directory to artifact (/Users/hkleeeee/Desktop/Flooding24/2022-2-SCS4031-9to6/Model/image_classification/wandb/run-20221103_002918-445vi2bj/files/model-best)... Done. 0.8s\n"
     ]
    },
    {
     "name": "stdout",
     "output_type": "stream",
     "text": [
      "\n",
      "Epoch 9: val_loss improved from 0.06993 to 0.06960, saving model to ../data/weight/Inception_20_0.2_0.0001_relu_adam_32.ckpt\n",
      "583/583 [==============================] - 1042s 2s/step - loss: 0.0850 - accuracy: 0.9700 - val_loss: 0.0696 - val_accuracy: 0.9798\n",
      "Epoch 10/1000\n",
      "583/583 [==============================] - ETA: 0s - loss: 0.0814 - accuracy: 0.9695\n",
      "Epoch 10: val_loss did not improve from 0.06960\n",
      "583/583 [==============================] - 926s 2s/step - loss: 0.0814 - accuracy: 0.9695 - val_loss: 0.0801 - val_accuracy: 0.9767\n",
      "Epoch 11/1000\n",
      "401/583 [===================>..........] - ETA: 3:40 - loss: 0.0826 - accuracy: 0.9709"
     ]
    },
    {
     "data": {
      "text/html": [
       "Waiting for W&B process to finish... <strong style=\"color:red\">(failed 1).</strong> Press Control-C to abort syncing."
      ],
      "text/plain": [
       "<IPython.core.display.HTML object>"
      ]
     },
     "metadata": {},
     "output_type": "display_data"
    },
    {
     "data": {
      "text/html": [
       "<style>\n",
       "    table.wandb td:nth-child(1) { padding: 0 10px; text-align: left ; width: auto;} td:nth-child(2) {text-align: left ; width: 100%}\n",
       "    .wandb-row { display: flex; flex-direction: row; flex-wrap: wrap; justify-content: flex-start; width: 100% }\n",
       "    .wandb-col { display: flex; flex-direction: column; flex-basis: 100%; flex: 1; padding: 10px; }\n",
       "    </style>\n",
       "<div class=\"wandb-row\"><div class=\"wandb-col\"><h3>Run history:</h3><br/><table class=\"wandb\"><tr><td>accuracy</td><td>▁▆▇███████</td></tr><tr><td>epoch</td><td>▁▂▃▃▄▅▆▆▇█</td></tr><tr><td>loss</td><td>█▃▂▂▁▁▁▁▁▁</td></tr><tr><td>val_accuracy</td><td>▁▅▅▆▆▅▆██▄</td></tr><tr><td>val_loss</td><td>█▅▄▂▂▁▄▃▁▄</td></tr></table><br/></div><div class=\"wandb-col\"><h3>Run summary:</h3><br/><table class=\"wandb\"><tr><td>accuracy</td><td>0.96953</td></tr><tr><td>best_epoch</td><td>8</td></tr><tr><td>best_val_loss</td><td>0.0696</td></tr><tr><td>epoch</td><td>9</td></tr><tr><td>loss</td><td>0.08138</td></tr><tr><td>val_accuracy</td><td>0.9767</td></tr><tr><td>val_loss</td><td>0.08008</td></tr></table><br/></div></div>"
      ],
      "text/plain": [
       "<IPython.core.display.HTML object>"
      ]
     },
     "metadata": {},
     "output_type": "display_data"
    },
    {
     "data": {
      "text/html": [
       "Synced <strong style=\"color:#cdcd00\">absurd-sweep-32</strong>: <a href=\"https://wandb.ai/hkleee/flood24/runs/445vi2bj\" target=\"_blank\">https://wandb.ai/hkleee/flood24/runs/445vi2bj</a><br/>Synced 6 W&B file(s), 1 media file(s), 22 artifact file(s) and 1 other file(s)"
      ],
      "text/plain": [
       "<IPython.core.display.HTML object>"
      ]
     },
     "metadata": {},
     "output_type": "display_data"
    },
    {
     "data": {
      "text/html": [
       "Find logs at: <code>./wandb/run-20221103_002918-445vi2bj/logs</code>"
      ],
      "text/plain": [
       "<IPython.core.display.HTML object>"
      ]
     },
     "metadata": {},
     "output_type": "display_data"
    },
    {
     "name": "stderr",
     "output_type": "stream",
     "text": [
      "\u001b[34m\u001b[1mwandb\u001b[0m: Agent Starting Run: fu0v1h6n with config:\n",
      "\u001b[34m\u001b[1mwandb\u001b[0m: \tactivation: softmax\n",
      "\u001b[34m\u001b[1mwandb\u001b[0m: \tbatch_size: 20\n",
      "\u001b[34m\u001b[1mwandb\u001b[0m: \tdense: 256\n",
      "\u001b[34m\u001b[1mwandb\u001b[0m: \tdropout: 0.2\n",
      "\u001b[34m\u001b[1mwandb\u001b[0m: \tlearning_rate: 0.01\n",
      "\u001b[34m\u001b[1mwandb\u001b[0m: \toptimizer: rmsprop\n",
      "\u001b[34m\u001b[1mwandb\u001b[0m: \tpretrain_net: NasNet\n"
     ]
    },
    {
     "data": {
      "text/html": [
       "Tracking run with wandb version 0.13.4"
      ],
      "text/plain": [
       "<IPython.core.display.HTML object>"
      ]
     },
     "metadata": {},
     "output_type": "display_data"
    },
    {
     "data": {
      "text/html": [
       "Run data is saved locally in <code>/Users/hkleeeee/Desktop/Flooding24/2022-2-SCS4031-9to6/Model/image_classification/wandb/run-20221103_032639-fu0v1h6n</code>"
      ],
      "text/plain": [
       "<IPython.core.display.HTML object>"
      ]
     },
     "metadata": {},
     "output_type": "display_data"
    },
    {
     "data": {
      "text/html": [
       "Syncing run <strong><a href=\"https://wandb.ai/hkleee/flood24/runs/fu0v1h6n\" target=\"_blank\">fragrant-sweep-33</a></strong> to <a href=\"https://wandb.ai/hkleee/flood24\" target=\"_blank\">Weights & Biases</a> (<a href=\"https://wandb.me/run\" target=\"_blank\">docs</a>)<br/>Sweep page:  <a href=\"https://wandb.ai/hkleee/flood24/sweeps/vavoacy6\" target=\"_blank\">https://wandb.ai/hkleee/flood24/sweeps/vavoacy6</a>"
      ],
      "text/plain": [
       "<IPython.core.display.HTML object>"
      ]
     },
     "metadata": {},
     "output_type": "display_data"
    },
    {
     "name": "stdout",
     "output_type": "stream",
     "text": [
      "Found 11671 validated image filenames belonging to 2 classes.\n",
      "Found 2918 validated image filenames belonging to 2 classes.\n",
      "Epoch 1/1000\n"
     ]
    },
    {
     "name": "stderr",
     "output_type": "stream",
     "text": [
      "2022-11-03 03:27:02.542304: I tensorflow/core/grappler/optimizers/custom_graph_optimizer_registry.cc:114] Plugin optimizer for device_type GPU is enabled.\n"
     ]
    },
    {
     "name": "stdout",
     "output_type": "stream",
     "text": [
      "583/583 [==============================] - ETA: 0s - loss: 0.2431 - accuracy: 0.9467"
     ]
    },
    {
     "name": "stderr",
     "output_type": "stream",
     "text": [
      "2022-11-03 04:05:03.764614: I tensorflow/core/grappler/optimizers/custom_graph_optimizer_registry.cc:114] Plugin optimizer for device_type GPU is enabled.\n",
      "WARNING:absl:Found untraced functions such as _jit_compiled_convolution_op, _jit_compiled_convolution_op, _jit_compiled_convolution_op, _jit_compiled_convolution_op, _jit_compiled_convolution_op while saving (showing 5 of 268). These functions will not be directly callable after loading.\n"
     ]
    },
    {
     "name": "stdout",
     "output_type": "stream",
     "text": [
      "INFO:tensorflow:Assets written to: /Users/hkleeeee/Desktop/Flooding24/2022-2-SCS4031-9to6/Model/image_classification/wandb/run-20221103_032639-fu0v1h6n/files/model-best/assets\n"
     ]
    },
    {
     "name": "stderr",
     "output_type": "stream",
     "text": [
      "INFO:tensorflow:Assets written to: /Users/hkleeeee/Desktop/Flooding24/2022-2-SCS4031-9to6/Model/image_classification/wandb/run-20221103_032639-fu0v1h6n/files/model-best/assets\n",
      "\u001b[34m\u001b[1mwandb\u001b[0m: Adding directory to artifact (/Users/hkleeeee/Desktop/Flooding24/2022-2-SCS4031-9to6/Model/image_classification/wandb/run-20221103_032639-fu0v1h6n/files/model-best)... Done. 1.4s\n"
     ]
    },
    {
     "name": "stdout",
     "output_type": "stream",
     "text": [
      "\n",
      "Epoch 1: val_loss improved from inf to 0.12352, saving model to ../data/weight/NasNet_20_0.2_0.01_softmax_rmsprop_256.ckpt\n",
      "583/583 [==============================] - 2914s 5s/step - loss: 0.2431 - accuracy: 0.9467 - val_loss: 0.1235 - val_accuracy: 0.9712\n",
      "Epoch 2/1000\n",
      "583/583 [==============================] - ETA: 0s - loss: 0.1734 - accuracy: 0.9540"
     ]
    },
    {
     "name": "stderr",
     "output_type": "stream",
     "text": [
      "WARNING:absl:Found untraced functions such as _jit_compiled_convolution_op, _jit_compiled_convolution_op, _jit_compiled_convolution_op, _jit_compiled_convolution_op, _jit_compiled_convolution_op while saving (showing 5 of 268). These functions will not be directly callable after loading.\n"
     ]
    },
    {
     "name": "stdout",
     "output_type": "stream",
     "text": [
      "INFO:tensorflow:Assets written to: /Users/hkleeeee/Desktop/Flooding24/2022-2-SCS4031-9to6/Model/image_classification/wandb/run-20221103_032639-fu0v1h6n/files/model-best/assets\n"
     ]
    },
    {
     "name": "stderr",
     "output_type": "stream",
     "text": [
      "INFO:tensorflow:Assets written to: /Users/hkleeeee/Desktop/Flooding24/2022-2-SCS4031-9to6/Model/image_classification/wandb/run-20221103_032639-fu0v1h6n/files/model-best/assets\n",
      "\u001b[34m\u001b[1mwandb\u001b[0m: Adding directory to artifact (/Users/hkleeeee/Desktop/Flooding24/2022-2-SCS4031-9to6/Model/image_classification/wandb/run-20221103_032639-fu0v1h6n/files/model-best)... Done. 1.4s\n"
     ]
    },
    {
     "name": "stdout",
     "output_type": "stream",
     "text": [
      "\n",
      "Epoch 2: val_loss improved from 0.12352 to 0.11260, saving model to ../data/weight/NasNet_20_0.2_0.01_softmax_rmsprop_256.ckpt\n",
      "583/583 [==============================] - 2913s 5s/step - loss: 0.1734 - accuracy: 0.9540 - val_loss: 0.1126 - val_accuracy: 0.9753\n",
      "Epoch 3/1000\n",
      "583/583 [==============================] - ETA: 0s - loss: 0.1499 - accuracy: 0.9621"
     ]
    },
    {
     "name": "stderr",
     "output_type": "stream",
     "text": [
      "WARNING:absl:Found untraced functions such as _jit_compiled_convolution_op, _jit_compiled_convolution_op, _jit_compiled_convolution_op, _jit_compiled_convolution_op, _jit_compiled_convolution_op while saving (showing 5 of 268). These functions will not be directly callable after loading.\n"
     ]
    },
    {
     "name": "stdout",
     "output_type": "stream",
     "text": [
      "INFO:tensorflow:Assets written to: /Users/hkleeeee/Desktop/Flooding24/2022-2-SCS4031-9to6/Model/image_classification/wandb/run-20221103_032639-fu0v1h6n/files/model-best/assets\n"
     ]
    },
    {
     "name": "stderr",
     "output_type": "stream",
     "text": [
      "INFO:tensorflow:Assets written to: /Users/hkleeeee/Desktop/Flooding24/2022-2-SCS4031-9to6/Model/image_classification/wandb/run-20221103_032639-fu0v1h6n/files/model-best/assets\n",
      "\u001b[34m\u001b[1mwandb\u001b[0m: Adding directory to artifact (/Users/hkleeeee/Desktop/Flooding24/2022-2-SCS4031-9to6/Model/image_classification/wandb/run-20221103_032639-fu0v1h6n/files/model-best)... Done. 1.4s\n"
     ]
    },
    {
     "name": "stdout",
     "output_type": "stream",
     "text": [
      "\n",
      "Epoch 3: val_loss improved from 0.11260 to 0.09737, saving model to ../data/weight/NasNet_20_0.2_0.01_softmax_rmsprop_256.ckpt\n",
      "583/583 [==============================] - 2901s 5s/step - loss: 0.1499 - accuracy: 0.9621 - val_loss: 0.0974 - val_accuracy: 0.9812\n",
      "Epoch 4/1000\n",
      "472/583 [=======================>......] - ETA: 7:11 - loss: 0.1465 - accuracy: 0.9638"
     ]
    },
    {
     "name": "stderr",
     "output_type": "stream",
     "text": [
      "wandb: ERROR Error while calling W&B API: internal database error (<Response [500]>)\n"
     ]
    },
    {
     "name": "stdout",
     "output_type": "stream",
     "text": [
      "476/583 [=======================>......] - ETA: 6:55 - loss: 0.1464 - accuracy: 0.9639"
     ]
    },
    {
     "name": "stderr",
     "output_type": "stream",
     "text": [
      "\u001b[34m\u001b[1mwandb\u001b[0m: Network error (HTTPError), entering retry loop.\n"
     ]
    },
    {
     "name": "stdout",
     "output_type": "stream",
     "text": [
      "583/583 [==============================] - ETA: 0s - loss: 0.1494 - accuracy: 0.9628\n",
      "Epoch 4: val_loss did not improve from 0.09737\n",
      "583/583 [==============================] - 2813s 5s/step - loss: 0.1494 - accuracy: 0.9628 - val_loss: 0.1189 - val_accuracy: 0.9764\n",
      "Epoch 5/1000\n",
      "104/583 [====>.........................] - ETA: 31:08 - loss: 0.1680 - accuracy: 0.9601"
     ]
    },
    {
     "data": {
      "text/html": [
       "Waiting for W&B process to finish... <strong style=\"color:red\">(failed 1).</strong> Press Control-C to abort syncing."
      ],
      "text/plain": [
       "<IPython.core.display.HTML object>"
      ]
     },
     "metadata": {},
     "output_type": "display_data"
    },
    {
     "data": {
      "text/html": [
       "<style>\n",
       "    table.wandb td:nth-child(1) { padding: 0 10px; text-align: left ; width: auto;} td:nth-child(2) {text-align: left ; width: 100%}\n",
       "    .wandb-row { display: flex; flex-direction: row; flex-wrap: wrap; justify-content: flex-start; width: 100% }\n",
       "    .wandb-col { display: flex; flex-direction: column; flex-basis: 100%; flex: 1; padding: 10px; }\n",
       "    </style>\n",
       "<div class=\"wandb-row\"><div class=\"wandb-col\"><h3>Run history:</h3><br/><table class=\"wandb\"><tr><td>accuracy</td><td>▁▄██</td></tr><tr><td>epoch</td><td>▁▃▆█</td></tr><tr><td>loss</td><td>█▃▁▁</td></tr><tr><td>val_accuracy</td><td>▁▄█▅</td></tr><tr><td>val_loss</td><td>█▅▁▇</td></tr></table><br/></div><div class=\"wandb-col\"><h3>Run summary:</h3><br/><table class=\"wandb\"><tr><td>accuracy</td><td>0.96275</td></tr><tr><td>best_epoch</td><td>2</td></tr><tr><td>best_val_loss</td><td>0.09737</td></tr><tr><td>epoch</td><td>3</td></tr><tr><td>loss</td><td>0.14941</td></tr><tr><td>val_accuracy</td><td>0.97635</td></tr><tr><td>val_loss</td><td>0.11894</td></tr></table><br/></div></div>"
      ],
      "text/plain": [
       "<IPython.core.display.HTML object>"
      ]
     },
     "metadata": {},
     "output_type": "display_data"
    },
    {
     "data": {
      "text/html": [
       "Synced <strong style=\"color:#cdcd00\">fragrant-sweep-33</strong>: <a href=\"https://wandb.ai/hkleee/flood24/runs/fu0v1h6n\" target=\"_blank\">https://wandb.ai/hkleee/flood24/runs/fu0v1h6n</a><br/>Synced 6 W&B file(s), 1 media file(s), 10 artifact file(s) and 1 other file(s)"
      ],
      "text/plain": [
       "<IPython.core.display.HTML object>"
      ]
     },
     "metadata": {},
     "output_type": "display_data"
    },
    {
     "data": {
      "text/html": [
       "Find logs at: <code>./wandb/run-20221103_032639-fu0v1h6n/logs</code>"
      ],
      "text/plain": [
       "<IPython.core.display.HTML object>"
      ]
     },
     "metadata": {},
     "output_type": "display_data"
    },
    {
     "name": "stderr",
     "output_type": "stream",
     "text": [
      "\u001b[34m\u001b[1mwandb\u001b[0m: Agent Starting Run: bjj6gg4u with config:\n",
      "\u001b[34m\u001b[1mwandb\u001b[0m: \tactivation: elu\n",
      "\u001b[34m\u001b[1mwandb\u001b[0m: \tbatch_size: 50\n",
      "\u001b[34m\u001b[1mwandb\u001b[0m: \tdense: 1024\n",
      "\u001b[34m\u001b[1mwandb\u001b[0m: \tdropout: 0.2\n",
      "\u001b[34m\u001b[1mwandb\u001b[0m: \tlearning_rate: 0.0001\n",
      "\u001b[34m\u001b[1mwandb\u001b[0m: \toptimizer: rmsprop\n",
      "\u001b[34m\u001b[1mwandb\u001b[0m: \tpretrain_net: Inception\n"
     ]
    },
    {
     "data": {
      "text/html": [
       "Tracking run with wandb version 0.13.4"
      ],
      "text/plain": [
       "<IPython.core.display.HTML object>"
      ]
     },
     "metadata": {},
     "output_type": "display_data"
    },
    {
     "data": {
      "text/html": [
       "Run data is saved locally in <code>/Users/hkleeeee/Desktop/Flooding24/2022-2-SCS4031-9to6/Model/image_classification/wandb/run-20221103_064650-bjj6gg4u</code>"
      ],
      "text/plain": [
       "<IPython.core.display.HTML object>"
      ]
     },
     "metadata": {},
     "output_type": "display_data"
    },
    {
     "data": {
      "text/html": [
       "Syncing run <strong><a href=\"https://wandb.ai/hkleee/flood24/runs/bjj6gg4u\" target=\"_blank\">vital-sweep-34</a></strong> to <a href=\"https://wandb.ai/hkleee/flood24\" target=\"_blank\">Weights & Biases</a> (<a href=\"https://wandb.me/run\" target=\"_blank\">docs</a>)<br/>Sweep page:  <a href=\"https://wandb.ai/hkleee/flood24/sweeps/vavoacy6\" target=\"_blank\">https://wandb.ai/hkleee/flood24/sweeps/vavoacy6</a>"
      ],
      "text/plain": [
       "<IPython.core.display.HTML object>"
      ]
     },
     "metadata": {},
     "output_type": "display_data"
    },
    {
     "name": "stdout",
     "output_type": "stream",
     "text": [
      "Found 11671 validated image filenames belonging to 2 classes.\n",
      "Found 2918 validated image filenames belonging to 2 classes.\n",
      "Epoch 1/1000\n"
     ]
    },
    {
     "name": "stderr",
     "output_type": "stream",
     "text": [
      "2022-11-03 06:47:11.183663: I tensorflow/core/grappler/optimizers/custom_graph_optimizer_registry.cc:114] Plugin optimizer for device_type GPU is enabled.\n"
     ]
    },
    {
     "name": "stdout",
     "output_type": "stream",
     "text": [
      "233/233 [==============================] - ETA: 0s - loss: 0.1760 - accuracy: 0.9342"
     ]
    },
    {
     "name": "stderr",
     "output_type": "stream",
     "text": [
      "2022-11-03 06:59:14.255963: I tensorflow/core/grappler/optimizers/custom_graph_optimizer_registry.cc:114] Plugin optimizer for device_type GPU is enabled.\n",
      "WARNING:absl:Found untraced functions such as _jit_compiled_convolution_op, _jit_compiled_convolution_op, _jit_compiled_convolution_op, _jit_compiled_convolution_op, _jit_compiled_convolution_op while saving (showing 5 of 244). These functions will not be directly callable after loading.\n"
     ]
    },
    {
     "name": "stdout",
     "output_type": "stream",
     "text": [
      "INFO:tensorflow:Assets written to: /Users/hkleeeee/Desktop/Flooding24/2022-2-SCS4031-9to6/Model/image_classification/wandb/run-20221103_064650-bjj6gg4u/files/model-best/assets\n"
     ]
    },
    {
     "name": "stderr",
     "output_type": "stream",
     "text": [
      "INFO:tensorflow:Assets written to: /Users/hkleeeee/Desktop/Flooding24/2022-2-SCS4031-9to6/Model/image_classification/wandb/run-20221103_064650-bjj6gg4u/files/model-best/assets\n",
      "\u001b[34m\u001b[1mwandb\u001b[0m: Adding directory to artifact (/Users/hkleeeee/Desktop/Flooding24/2022-2-SCS4031-9to6/Model/image_classification/wandb/run-20221103_064650-bjj6gg4u/files/model-best)... Done. 1.0s\n"
     ]
    },
    {
     "name": "stdout",
     "output_type": "stream",
     "text": [
      "\n",
      "Epoch 1: val_loss improved from inf to 0.07759, saving model to ../data/weight/Inception_50_0.2_0.0001_elu_rmsprop_1024.ckpt\n",
      "233/233 [==============================] - 959s 4s/step - loss: 0.1760 - accuracy: 0.9342 - val_loss: 0.0776 - val_accuracy: 0.9791\n",
      "Epoch 2/1000\n",
      "233/233 [==============================] - ETA: 0s - loss: 0.1157 - accuracy: 0.9574\n",
      "Epoch 2: val_loss did not improve from 0.07759\n",
      "233/233 [==============================] - 878s 4s/step - loss: 0.1157 - accuracy: 0.9574 - val_loss: 0.0792 - val_accuracy: 0.9774\n",
      "Epoch 3/1000\n",
      "233/233 [==============================] - ETA: 0s - loss: 0.0990 - accuracy: 0.9658\n",
      "Epoch 3: val_loss did not improve from 0.07759\n",
      "233/233 [==============================] - 873s 4s/step - loss: 0.0990 - accuracy: 0.9658 - val_loss: 0.1003 - val_accuracy: 0.9740\n",
      "Epoch 4/1000\n",
      "233/233 [==============================] - ETA: 0s - loss: 0.0989 - accuracy: 0.9651"
     ]
    },
    {
     "name": "stderr",
     "output_type": "stream",
     "text": [
      "WARNING:absl:Found untraced functions such as _jit_compiled_convolution_op, _jit_compiled_convolution_op, _jit_compiled_convolution_op, _jit_compiled_convolution_op, _jit_compiled_convolution_op while saving (showing 5 of 244). These functions will not be directly callable after loading.\n"
     ]
    },
    {
     "name": "stdout",
     "output_type": "stream",
     "text": [
      "INFO:tensorflow:Assets written to: /Users/hkleeeee/Desktop/Flooding24/2022-2-SCS4031-9to6/Model/image_classification/wandb/run-20221103_064650-bjj6gg4u/files/model-best/assets\n"
     ]
    },
    {
     "name": "stderr",
     "output_type": "stream",
     "text": [
      "INFO:tensorflow:Assets written to: /Users/hkleeeee/Desktop/Flooding24/2022-2-SCS4031-9to6/Model/image_classification/wandb/run-20221103_064650-bjj6gg4u/files/model-best/assets\n",
      "\u001b[34m\u001b[1mwandb\u001b[0m: Adding directory to artifact (/Users/hkleeeee/Desktop/Flooding24/2022-2-SCS4031-9to6/Model/image_classification/wandb/run-20221103_064650-bjj6gg4u/files/model-best)... Done. 0.9s\n"
     ]
    },
    {
     "name": "stdout",
     "output_type": "stream",
     "text": [
      "\n",
      "Epoch 4: val_loss improved from 0.07759 to 0.07602, saving model to ../data/weight/Inception_50_0.2_0.0001_elu_rmsprop_1024.ckpt\n",
      "233/233 [==============================] - 932s 4s/step - loss: 0.0989 - accuracy: 0.9651 - val_loss: 0.0760 - val_accuracy: 0.9774\n",
      "Epoch 5/1000\n",
      "  7/233 [..............................] - ETA: 12:25 - loss: 0.0801 - accuracy: 0.9743"
     ]
    },
    {
     "data": {
      "text/html": [
       "Waiting for W&B process to finish... <strong style=\"color:red\">(failed 1).</strong> Press Control-C to abort syncing."
      ],
      "text/plain": [
       "<IPython.core.display.HTML object>"
      ]
     },
     "metadata": {},
     "output_type": "display_data"
    },
    {
     "data": {
      "text/html": [
       "<style>\n",
       "    table.wandb td:nth-child(1) { padding: 0 10px; text-align: left ; width: auto;} td:nth-child(2) {text-align: left ; width: 100%}\n",
       "    .wandb-row { display: flex; flex-direction: row; flex-wrap: wrap; justify-content: flex-start; width: 100% }\n",
       "    .wandb-col { display: flex; flex-direction: column; flex-basis: 100%; flex: 1; padding: 10px; }\n",
       "    </style>\n",
       "<div class=\"wandb-row\"><div class=\"wandb-col\"><h3>Run history:</h3><br/><table class=\"wandb\"><tr><td>accuracy</td><td>▁▆██</td></tr><tr><td>epoch</td><td>▁▃▆█</td></tr><tr><td>loss</td><td>█▃▁▁</td></tr><tr><td>val_accuracy</td><td>█▆▁▆</td></tr><tr><td>val_loss</td><td>▁▂█▁</td></tr></table><br/></div><div class=\"wandb-col\"><h3>Run summary:</h3><br/><table class=\"wandb\"><tr><td>accuracy</td><td>0.96506</td></tr><tr><td>best_epoch</td><td>3</td></tr><tr><td>best_val_loss</td><td>0.07602</td></tr><tr><td>epoch</td><td>3</td></tr><tr><td>loss</td><td>0.09894</td></tr><tr><td>val_accuracy</td><td>0.97738</td></tr><tr><td>val_loss</td><td>0.07602</td></tr></table><br/></div></div>"
      ],
      "text/plain": [
       "<IPython.core.display.HTML object>"
      ]
     },
     "metadata": {},
     "output_type": "display_data"
    },
    {
     "data": {
      "text/html": [
       "Synced <strong style=\"color:#cdcd00\">vital-sweep-34</strong>: <a href=\"https://wandb.ai/hkleee/flood24/runs/bjj6gg4u\" target=\"_blank\">https://wandb.ai/hkleee/flood24/runs/bjj6gg4u</a><br/>Synced 6 W&B file(s), 1 media file(s), 7 artifact file(s) and 1 other file(s)"
      ],
      "text/plain": [
       "<IPython.core.display.HTML object>"
      ]
     },
     "metadata": {},
     "output_type": "display_data"
    },
    {
     "data": {
      "text/html": [
       "Find logs at: <code>./wandb/run-20221103_064650-bjj6gg4u/logs</code>"
      ],
      "text/plain": [
       "<IPython.core.display.HTML object>"
      ]
     },
     "metadata": {},
     "output_type": "display_data"
    },
    {
     "name": "stderr",
     "output_type": "stream",
     "text": [
      "\u001b[34m\u001b[1mwandb\u001b[0m: Agent Starting Run: phkid6px with config:\n",
      "\u001b[34m\u001b[1mwandb\u001b[0m: \tactivation: softmax\n",
      "\u001b[34m\u001b[1mwandb\u001b[0m: \tbatch_size: 50\n",
      "\u001b[34m\u001b[1mwandb\u001b[0m: \tdense: 256\n",
      "\u001b[34m\u001b[1mwandb\u001b[0m: \tdropout: 0.5\n",
      "\u001b[34m\u001b[1mwandb\u001b[0m: \tlearning_rate: 0.01\n",
      "\u001b[34m\u001b[1mwandb\u001b[0m: \toptimizer: sgd\n",
      "\u001b[34m\u001b[1mwandb\u001b[0m: \tpretrain_net: Inception\n"
     ]
    },
    {
     "data": {
      "text/html": [
       "Tracking run with wandb version 0.13.4"
      ],
      "text/plain": [
       "<IPython.core.display.HTML object>"
      ]
     },
     "metadata": {},
     "output_type": "display_data"
    },
    {
     "data": {
      "text/html": [
       "Run data is saved locally in <code>/Users/hkleeeee/Desktop/Flooding24/2022-2-SCS4031-9to6/Model/image_classification/wandb/run-20221103_074823-phkid6px</code>"
      ],
      "text/plain": [
       "<IPython.core.display.HTML object>"
      ]
     },
     "metadata": {},
     "output_type": "display_data"
    },
    {
     "data": {
      "text/html": [
       "Syncing run <strong><a href=\"https://wandb.ai/hkleee/flood24/runs/phkid6px\" target=\"_blank\">glorious-sweep-35</a></strong> to <a href=\"https://wandb.ai/hkleee/flood24\" target=\"_blank\">Weights & Biases</a> (<a href=\"https://wandb.me/run\" target=\"_blank\">docs</a>)<br/>Sweep page:  <a href=\"https://wandb.ai/hkleee/flood24/sweeps/vavoacy6\" target=\"_blank\">https://wandb.ai/hkleee/flood24/sweeps/vavoacy6</a>"
      ],
      "text/plain": [
       "<IPython.core.display.HTML object>"
      ]
     },
     "metadata": {},
     "output_type": "display_data"
    },
    {
     "name": "stdout",
     "output_type": "stream",
     "text": [
      "Found 11671 validated image filenames belonging to 2 classes.\n",
      "Found 2918 validated image filenames belonging to 2 classes.\n",
      "Epoch 1/1000\n"
     ]
    },
    {
     "name": "stderr",
     "output_type": "stream",
     "text": [
      "2022-11-03 07:48:40.863327: I tensorflow/core/grappler/optimizers/custom_graph_optimizer_registry.cc:114] Plugin optimizer for device_type GPU is enabled.\n"
     ]
    },
    {
     "name": "stdout",
     "output_type": "stream",
     "text": [
      "233/233 [==============================] - ETA: 0s - loss: 0.6924 - accuracy: 0.5232"
     ]
    },
    {
     "name": "stderr",
     "output_type": "stream",
     "text": [
      "2022-11-03 08:00:46.023872: I tensorflow/core/grappler/optimizers/custom_graph_optimizer_registry.cc:114] Plugin optimizer for device_type GPU is enabled.\n",
      "WARNING:absl:Found untraced functions such as _jit_compiled_convolution_op, _jit_compiled_convolution_op, _jit_compiled_convolution_op, _jit_compiled_convolution_op, _jit_compiled_convolution_op while saving (showing 5 of 244). These functions will not be directly callable after loading.\n"
     ]
    },
    {
     "name": "stdout",
     "output_type": "stream",
     "text": [
      "INFO:tensorflow:Assets written to: /Users/hkleeeee/Desktop/Flooding24/2022-2-SCS4031-9to6/Model/image_classification/wandb/run-20221103_074823-phkid6px/files/model-best/assets\n"
     ]
    },
    {
     "name": "stderr",
     "output_type": "stream",
     "text": [
      "INFO:tensorflow:Assets written to: /Users/hkleeeee/Desktop/Flooding24/2022-2-SCS4031-9to6/Model/image_classification/wandb/run-20221103_074823-phkid6px/files/model-best/assets\n",
      "\u001b[34m\u001b[1mwandb\u001b[0m: Adding directory to artifact (/Users/hkleeeee/Desktop/Flooding24/2022-2-SCS4031-9to6/Model/image_classification/wandb/run-20221103_074823-phkid6px/files/model-best)... Done. 0.9s\n"
     ]
    },
    {
     "name": "stdout",
     "output_type": "stream",
     "text": [
      "\n",
      "Epoch 1: val_loss improved from inf to 0.69136, saving model to ../data/weight/Inception_50_0.5_0.01_softmax_sgd_256.ckpt\n",
      "233/233 [==============================] - 960s 4s/step - loss: 0.6924 - accuracy: 0.5232 - val_loss: 0.6914 - val_accuracy: 0.5295\n",
      "Epoch 2/1000\n",
      "233/233 [==============================] - ETA: 0s - loss: 0.6911 - accuracy: 0.5296"
     ]
    },
    {
     "name": "stderr",
     "output_type": "stream",
     "text": [
      "WARNING:absl:Found untraced functions such as _jit_compiled_convolution_op, _jit_compiled_convolution_op, _jit_compiled_convolution_op, _jit_compiled_convolution_op, _jit_compiled_convolution_op while saving (showing 5 of 244). These functions will not be directly callable after loading.\n"
     ]
    },
    {
     "name": "stdout",
     "output_type": "stream",
     "text": [
      "INFO:tensorflow:Assets written to: /Users/hkleeeee/Desktop/Flooding24/2022-2-SCS4031-9to6/Model/image_classification/wandb/run-20221103_074823-phkid6px/files/model-best/assets\n"
     ]
    },
    {
     "name": "stderr",
     "output_type": "stream",
     "text": [
      "INFO:tensorflow:Assets written to: /Users/hkleeeee/Desktop/Flooding24/2022-2-SCS4031-9to6/Model/image_classification/wandb/run-20221103_074823-phkid6px/files/model-best/assets\n",
      "\u001b[34m\u001b[1mwandb\u001b[0m: Adding directory to artifact (/Users/hkleeeee/Desktop/Flooding24/2022-2-SCS4031-9to6/Model/image_classification/wandb/run-20221103_074823-phkid6px/files/model-best)... Done. 0.9s\n"
     ]
    },
    {
     "name": "stdout",
     "output_type": "stream",
     "text": [
      "\n",
      "Epoch 2: val_loss improved from 0.69136 to 0.69033, saving model to ../data/weight/Inception_50_0.5_0.01_softmax_sgd_256.ckpt\n",
      "233/233 [==============================] - 932s 4s/step - loss: 0.6911 - accuracy: 0.5296 - val_loss: 0.6903 - val_accuracy: 0.5295\n",
      "Epoch 3/1000\n",
      "233/233 [==============================] - ETA: 0s - loss: 0.6903 - accuracy: 0.5285"
     ]
    },
    {
     "name": "stderr",
     "output_type": "stream",
     "text": [
      "WARNING:absl:Found untraced functions such as _jit_compiled_convolution_op, _jit_compiled_convolution_op, _jit_compiled_convolution_op, _jit_compiled_convolution_op, _jit_compiled_convolution_op while saving (showing 5 of 244). These functions will not be directly callable after loading.\n"
     ]
    },
    {
     "name": "stdout",
     "output_type": "stream",
     "text": [
      "INFO:tensorflow:Assets written to: /Users/hkleeeee/Desktop/Flooding24/2022-2-SCS4031-9to6/Model/image_classification/wandb/run-20221103_074823-phkid6px/files/model-best/assets\n"
     ]
    },
    {
     "name": "stderr",
     "output_type": "stream",
     "text": [
      "INFO:tensorflow:Assets written to: /Users/hkleeeee/Desktop/Flooding24/2022-2-SCS4031-9to6/Model/image_classification/wandb/run-20221103_074823-phkid6px/files/model-best/assets\n",
      "\u001b[34m\u001b[1mwandb\u001b[0m: Adding directory to artifact (/Users/hkleeeee/Desktop/Flooding24/2022-2-SCS4031-9to6/Model/image_classification/wandb/run-20221103_074823-phkid6px/files/model-best)... Done. 0.9s\n"
     ]
    },
    {
     "name": "stdout",
     "output_type": "stream",
     "text": [
      "\n",
      "Epoch 3: val_loss improved from 0.69033 to 0.68951, saving model to ../data/weight/Inception_50_0.5_0.01_softmax_sgd_256.ckpt\n",
      "233/233 [==============================] - 931s 4s/step - loss: 0.6903 - accuracy: 0.5285 - val_loss: 0.6895 - val_accuracy: 0.5295\n",
      "Epoch 4/1000\n",
      "233/233 [==============================] - ETA: 0s - loss: 0.6894 - accuracy: 0.5294"
     ]
    },
    {
     "name": "stderr",
     "output_type": "stream",
     "text": [
      "WARNING:absl:Found untraced functions such as _jit_compiled_convolution_op, _jit_compiled_convolution_op, _jit_compiled_convolution_op, _jit_compiled_convolution_op, _jit_compiled_convolution_op while saving (showing 5 of 244). These functions will not be directly callable after loading.\n"
     ]
    },
    {
     "name": "stdout",
     "output_type": "stream",
     "text": [
      "INFO:tensorflow:Assets written to: /Users/hkleeeee/Desktop/Flooding24/2022-2-SCS4031-9to6/Model/image_classification/wandb/run-20221103_074823-phkid6px/files/model-best/assets\n"
     ]
    },
    {
     "name": "stderr",
     "output_type": "stream",
     "text": [
      "INFO:tensorflow:Assets written to: /Users/hkleeeee/Desktop/Flooding24/2022-2-SCS4031-9to6/Model/image_classification/wandb/run-20221103_074823-phkid6px/files/model-best/assets\n",
      "\u001b[34m\u001b[1mwandb\u001b[0m: Adding directory to artifact (/Users/hkleeeee/Desktop/Flooding24/2022-2-SCS4031-9to6/Model/image_classification/wandb/run-20221103_074823-phkid6px/files/model-best)... Done. 0.9s\n"
     ]
    },
    {
     "name": "stdout",
     "output_type": "stream",
     "text": [
      "\n",
      "Epoch 4: val_loss improved from 0.68951 to 0.68856, saving model to ../data/weight/Inception_50_0.5_0.01_softmax_sgd_256.ckpt\n",
      "233/233 [==============================] - 933s 4s/step - loss: 0.6894 - accuracy: 0.5294 - val_loss: 0.6886 - val_accuracy: 0.5295\n",
      "Epoch 5/1000\n",
      " 11/233 [>.............................] - ETA: 11:46 - loss: 0.6852 - accuracy: 0.5600"
     ]
    },
    {
     "data": {
      "text/html": [
       "Waiting for W&B process to finish... <strong style=\"color:red\">(failed 1).</strong> Press Control-C to abort syncing."
      ],
      "text/plain": [
       "<IPython.core.display.HTML object>"
      ]
     },
     "metadata": {},
     "output_type": "display_data"
    },
    {
     "data": {
      "text/html": [
       "<style>\n",
       "    table.wandb td:nth-child(1) { padding: 0 10px; text-align: left ; width: auto;} td:nth-child(2) {text-align: left ; width: 100%}\n",
       "    .wandb-row { display: flex; flex-direction: row; flex-wrap: wrap; justify-content: flex-start; width: 100% }\n",
       "    .wandb-col { display: flex; flex-direction: column; flex-basis: 100%; flex: 1; padding: 10px; }\n",
       "    </style>\n",
       "<div class=\"wandb-row\"><div class=\"wandb-col\"><h3>Run history:</h3><br/><table class=\"wandb\"><tr><td>accuracy</td><td>▁█▇█</td></tr><tr><td>epoch</td><td>▁▃▆█</td></tr><tr><td>loss</td><td>█▅▃▁</td></tr><tr><td>val_accuracy</td><td>▁▁▁▁</td></tr><tr><td>val_loss</td><td>█▅▃▁</td></tr></table><br/></div><div class=\"wandb-col\"><h3>Run summary:</h3><br/><table class=\"wandb\"><tr><td>accuracy</td><td>0.52939</td></tr><tr><td>best_epoch</td><td>3</td></tr><tr><td>best_val_loss</td><td>0.68856</td></tr><tr><td>epoch</td><td>3</td></tr><tr><td>loss</td><td>0.68943</td></tr><tr><td>val_accuracy</td><td>0.52947</td></tr><tr><td>val_loss</td><td>0.68856</td></tr></table><br/></div></div>"
      ],
      "text/plain": [
       "<IPython.core.display.HTML object>"
      ]
     },
     "metadata": {},
     "output_type": "display_data"
    },
    {
     "data": {
      "text/html": [
       "Synced <strong style=\"color:#cdcd00\">glorious-sweep-35</strong>: <a href=\"https://wandb.ai/hkleee/flood24/runs/phkid6px\" target=\"_blank\">https://wandb.ai/hkleee/flood24/runs/phkid6px</a><br/>Synced 6 W&B file(s), 1 media file(s), 13 artifact file(s) and 1 other file(s)"
      ],
      "text/plain": [
       "<IPython.core.display.HTML object>"
      ]
     },
     "metadata": {},
     "output_type": "display_data"
    },
    {
     "data": {
      "text/html": [
       "Find logs at: <code>./wandb/run-20221103_074823-phkid6px/logs</code>"
      ],
      "text/plain": [
       "<IPython.core.display.HTML object>"
      ]
     },
     "metadata": {},
     "output_type": "display_data"
    },
    {
     "name": "stderr",
     "output_type": "stream",
     "text": [
      "\u001b[34m\u001b[1mwandb\u001b[0m: Agent Starting Run: 6ogl4nxh with config:\n",
      "\u001b[34m\u001b[1mwandb\u001b[0m: \tactivation: elu\n",
      "\u001b[34m\u001b[1mwandb\u001b[0m: \tbatch_size: 20\n",
      "\u001b[34m\u001b[1mwandb\u001b[0m: \tdense: 1024\n",
      "\u001b[34m\u001b[1mwandb\u001b[0m: \tdropout: 0.5\n",
      "\u001b[34m\u001b[1mwandb\u001b[0m: \tlearning_rate: 0.0001\n",
      "\u001b[34m\u001b[1mwandb\u001b[0m: \toptimizer: sgd\n",
      "\u001b[34m\u001b[1mwandb\u001b[0m: \tpretrain_net: Inception\n"
     ]
    },
    {
     "data": {
      "text/html": [
       "Tracking run with wandb version 0.13.4"
      ],
      "text/plain": [
       "<IPython.core.display.HTML object>"
      ]
     },
     "metadata": {},
     "output_type": "display_data"
    },
    {
     "data": {
      "text/html": [
       "Run data is saved locally in <code>/Users/hkleeeee/Desktop/Flooding24/2022-2-SCS4031-9to6/Model/image_classification/wandb/run-20221103_085224-6ogl4nxh</code>"
      ],
      "text/plain": [
       "<IPython.core.display.HTML object>"
      ]
     },
     "metadata": {},
     "output_type": "display_data"
    },
    {
     "data": {
      "text/html": [
       "Syncing run <strong><a href=\"https://wandb.ai/hkleee/flood24/runs/6ogl4nxh\" target=\"_blank\">visionary-sweep-36</a></strong> to <a href=\"https://wandb.ai/hkleee/flood24\" target=\"_blank\">Weights & Biases</a> (<a href=\"https://wandb.me/run\" target=\"_blank\">docs</a>)<br/>Sweep page:  <a href=\"https://wandb.ai/hkleee/flood24/sweeps/vavoacy6\" target=\"_blank\">https://wandb.ai/hkleee/flood24/sweeps/vavoacy6</a>"
      ],
      "text/plain": [
       "<IPython.core.display.HTML object>"
      ]
     },
     "metadata": {},
     "output_type": "display_data"
    },
    {
     "name": "stdout",
     "output_type": "stream",
     "text": [
      "Found 11671 validated image filenames belonging to 2 classes.\n",
      "Found 2918 validated image filenames belonging to 2 classes.\n",
      "Epoch 1/1000\n"
     ]
    },
    {
     "name": "stderr",
     "output_type": "stream",
     "text": [
      "2022-11-03 08:52:38.869983: I tensorflow/core/grappler/optimizers/custom_graph_optimizer_registry.cc:114] Plugin optimizer for device_type GPU is enabled.\n"
     ]
    },
    {
     "name": "stdout",
     "output_type": "stream",
     "text": [
      "583/583 [==============================] - ETA: 0s - loss: 0.6118 - accuracy: 0.6626"
     ]
    },
    {
     "name": "stderr",
     "output_type": "stream",
     "text": [
      "2022-11-03 09:04:38.881301: I tensorflow/core/grappler/optimizers/custom_graph_optimizer_registry.cc:114] Plugin optimizer for device_type GPU is enabled.\n",
      "WARNING:absl:Found untraced functions such as _jit_compiled_convolution_op, _jit_compiled_convolution_op, _jit_compiled_convolution_op, _jit_compiled_convolution_op, _jit_compiled_convolution_op while saving (showing 5 of 244). These functions will not be directly callable after loading.\n"
     ]
    },
    {
     "name": "stdout",
     "output_type": "stream",
     "text": [
      "INFO:tensorflow:Assets written to: /Users/hkleeeee/Desktop/Flooding24/2022-2-SCS4031-9to6/Model/image_classification/wandb/run-20221103_085224-6ogl4nxh/files/model-best/assets\n"
     ]
    },
    {
     "name": "stderr",
     "output_type": "stream",
     "text": [
      "INFO:tensorflow:Assets written to: /Users/hkleeeee/Desktop/Flooding24/2022-2-SCS4031-9to6/Model/image_classification/wandb/run-20221103_085224-6ogl4nxh/files/model-best/assets\n",
      "\u001b[34m\u001b[1mwandb\u001b[0m: Adding directory to artifact (/Users/hkleeeee/Desktop/Flooding24/2022-2-SCS4031-9to6/Model/image_classification/wandb/run-20221103_085224-6ogl4nxh/files/model-best)... Done. 0.9s\n"
     ]
    },
    {
     "name": "stdout",
     "output_type": "stream",
     "text": [
      "\n",
      "Epoch 1: val_loss improved from inf to 0.45646, saving model to ../data/weight/Inception_20_0.5_0.0001_elu_sgd_1024.ckpt\n",
      "583/583 [==============================] - 957s 2s/step - loss: 0.6118 - accuracy: 0.6626 - val_loss: 0.4565 - val_accuracy: 0.8674\n",
      "Epoch 2/1000\n",
      "583/583 [==============================] - ETA: 0s - loss: 0.4734 - accuracy: 0.8190"
     ]
    },
    {
     "name": "stderr",
     "output_type": "stream",
     "text": [
      "WARNING:absl:Found untraced functions such as _jit_compiled_convolution_op, _jit_compiled_convolution_op, _jit_compiled_convolution_op, _jit_compiled_convolution_op, _jit_compiled_convolution_op while saving (showing 5 of 244). These functions will not be directly callable after loading.\n"
     ]
    },
    {
     "name": "stdout",
     "output_type": "stream",
     "text": [
      "INFO:tensorflow:Assets written to: /Users/hkleeeee/Desktop/Flooding24/2022-2-SCS4031-9to6/Model/image_classification/wandb/run-20221103_085224-6ogl4nxh/files/model-best/assets\n"
     ]
    },
    {
     "name": "stderr",
     "output_type": "stream",
     "text": [
      "INFO:tensorflow:Assets written to: /Users/hkleeeee/Desktop/Flooding24/2022-2-SCS4031-9to6/Model/image_classification/wandb/run-20221103_085224-6ogl4nxh/files/model-best/assets\n",
      "\u001b[34m\u001b[1mwandb\u001b[0m: Adding directory to artifact (/Users/hkleeeee/Desktop/Flooding24/2022-2-SCS4031-9to6/Model/image_classification/wandb/run-20221103_085224-6ogl4nxh/files/model-best)... Done. 0.9s\n"
     ]
    },
    {
     "name": "stdout",
     "output_type": "stream",
     "text": [
      "\n",
      "Epoch 2: val_loss improved from 0.45646 to 0.35160, saving model to ../data/weight/Inception_20_0.5_0.0001_elu_sgd_1024.ckpt\n",
      "583/583 [==============================] - 916s 2s/step - loss: 0.4734 - accuracy: 0.8190 - val_loss: 0.3516 - val_accuracy: 0.9297\n",
      "Epoch 3/1000\n",
      "583/583 [==============================] - ETA: 0s - loss: 0.3935 - accuracy: 0.8763"
     ]
    },
    {
     "name": "stderr",
     "output_type": "stream",
     "text": [
      "WARNING:absl:Found untraced functions such as _jit_compiled_convolution_op, _jit_compiled_convolution_op, _jit_compiled_convolution_op, _jit_compiled_convolution_op, _jit_compiled_convolution_op while saving (showing 5 of 244). These functions will not be directly callable after loading.\n"
     ]
    },
    {
     "name": "stdout",
     "output_type": "stream",
     "text": [
      "INFO:tensorflow:Assets written to: /Users/hkleeeee/Desktop/Flooding24/2022-2-SCS4031-9to6/Model/image_classification/wandb/run-20221103_085224-6ogl4nxh/files/model-best/assets\n"
     ]
    },
    {
     "name": "stderr",
     "output_type": "stream",
     "text": [
      "INFO:tensorflow:Assets written to: /Users/hkleeeee/Desktop/Flooding24/2022-2-SCS4031-9to6/Model/image_classification/wandb/run-20221103_085224-6ogl4nxh/files/model-best/assets\n",
      "\u001b[34m\u001b[1mwandb\u001b[0m: Adding directory to artifact (/Users/hkleeeee/Desktop/Flooding24/2022-2-SCS4031-9to6/Model/image_classification/wandb/run-20221103_085224-6ogl4nxh/files/model-best)... Done. 0.9s\n"
     ]
    },
    {
     "name": "stdout",
     "output_type": "stream",
     "text": [
      "\n",
      "Epoch 3: val_loss improved from 0.35160 to 0.29425, saving model to ../data/weight/Inception_20_0.5_0.0001_elu_sgd_1024.ckpt\n",
      "583/583 [==============================] - 919s 2s/step - loss: 0.3935 - accuracy: 0.8763 - val_loss: 0.2943 - val_accuracy: 0.9397\n",
      "Epoch 4/1000\n",
      "583/583 [==============================] - ETA: 0s - loss: 0.3422 - accuracy: 0.9022"
     ]
    },
    {
     "name": "stderr",
     "output_type": "stream",
     "text": [
      "WARNING:absl:Found untraced functions such as _jit_compiled_convolution_op, _jit_compiled_convolution_op, _jit_compiled_convolution_op, _jit_compiled_convolution_op, _jit_compiled_convolution_op while saving (showing 5 of 244). These functions will not be directly callable after loading.\n"
     ]
    },
    {
     "data": {
      "text/html": [
       "Waiting for W&B process to finish... <strong style=\"color:red\">(failed 1).</strong> Press Control-C to abort syncing."
      ],
      "text/plain": [
       "<IPython.core.display.HTML object>"
      ]
     },
     "metadata": {},
     "output_type": "display_data"
    },
    {
     "data": {
      "text/html": [
       "<style>\n",
       "    table.wandb td:nth-child(1) { padding: 0 10px; text-align: left ; width: auto;} td:nth-child(2) {text-align: left ; width: 100%}\n",
       "    .wandb-row { display: flex; flex-direction: row; flex-wrap: wrap; justify-content: flex-start; width: 100% }\n",
       "    .wandb-col { display: flex; flex-direction: column; flex-basis: 100%; flex: 1; padding: 10px; }\n",
       "    </style>\n",
       "<div class=\"wandb-row\"><div class=\"wandb-col\"><h3>Run history:</h3><br/><table class=\"wandb\"><tr><td>accuracy</td><td>▁▆▇█</td></tr><tr><td>epoch</td><td>▁▃▆█</td></tr><tr><td>loss</td><td>█▄▂▁</td></tr><tr><td>val_accuracy</td><td>▁▆▇█</td></tr><tr><td>val_loss</td><td>█▄▂▁</td></tr></table><br/></div><div class=\"wandb-col\"><h3>Run summary:</h3><br/><table class=\"wandb\"><tr><td>accuracy</td><td>0.90215</td></tr><tr><td>best_epoch</td><td>3</td></tr><tr><td>best_val_loss</td><td>0.25577</td></tr><tr><td>epoch</td><td>3</td></tr><tr><td>loss</td><td>0.34225</td></tr><tr><td>val_accuracy</td><td>0.94894</td></tr><tr><td>val_loss</td><td>0.25577</td></tr></table><br/></div></div>"
      ],
      "text/plain": [
       "<IPython.core.display.HTML object>"
      ]
     },
     "metadata": {},
     "output_type": "display_data"
    },
    {
     "data": {
      "text/html": [
       "Synced <strong style=\"color:#cdcd00\">visionary-sweep-36</strong>: <a href=\"https://wandb.ai/hkleee/flood24/runs/6ogl4nxh\" target=\"_blank\">https://wandb.ai/hkleee/flood24/runs/6ogl4nxh</a><br/>Synced 6 W&B file(s), 1 media file(s), 10 artifact file(s) and 1 other file(s)"
      ],
      "text/plain": [
       "<IPython.core.display.HTML object>"
      ]
     },
     "metadata": {},
     "output_type": "display_data"
    },
    {
     "data": {
      "text/html": [
       "Find logs at: <code>./wandb/run-20221103_085224-6ogl4nxh/logs</code>"
      ],
      "text/plain": [
       "<IPython.core.display.HTML object>"
      ]
     },
     "metadata": {},
     "output_type": "display_data"
    },
    {
     "name": "stderr",
     "output_type": "stream",
     "text": [
      "\u001b[34m\u001b[1mwandb\u001b[0m: Agent Starting Run: r57ky5yl with config:\n",
      "\u001b[34m\u001b[1mwandb\u001b[0m: \tactivation: elu\n",
      "\u001b[34m\u001b[1mwandb\u001b[0m: \tbatch_size: 20\n",
      "\u001b[34m\u001b[1mwandb\u001b[0m: \tdense: 256\n",
      "\u001b[34m\u001b[1mwandb\u001b[0m: \tdropout: 0.2\n",
      "\u001b[34m\u001b[1mwandb\u001b[0m: \tlearning_rate: 0.01\n",
      "\u001b[34m\u001b[1mwandb\u001b[0m: \toptimizer: rmsprop\n",
      "\u001b[34m\u001b[1mwandb\u001b[0m: \tpretrain_net: NasNet\n"
     ]
    },
    {
     "data": {
      "text/html": [
       "Tracking run with wandb version 0.13.4"
      ],
      "text/plain": [
       "<IPython.core.display.HTML object>"
      ]
     },
     "metadata": {},
     "output_type": "display_data"
    },
    {
     "data": {
      "text/html": [
       "Run data is saved locally in <code>/Users/hkleeeee/Desktop/Flooding24/2022-2-SCS4031-9to6/Model/image_classification/wandb/run-20221103_095444-r57ky5yl</code>"
      ],
      "text/plain": [
       "<IPython.core.display.HTML object>"
      ]
     },
     "metadata": {},
     "output_type": "display_data"
    },
    {
     "data": {
      "text/html": [
       "Syncing run <strong><a href=\"https://wandb.ai/hkleee/flood24/runs/r57ky5yl\" target=\"_blank\">revived-sweep-37</a></strong> to <a href=\"https://wandb.ai/hkleee/flood24\" target=\"_blank\">Weights & Biases</a> (<a href=\"https://wandb.me/run\" target=\"_blank\">docs</a>)<br/>Sweep page:  <a href=\"https://wandb.ai/hkleee/flood24/sweeps/vavoacy6\" target=\"_blank\">https://wandb.ai/hkleee/flood24/sweeps/vavoacy6</a>"
      ],
      "text/plain": [
       "<IPython.core.display.HTML object>"
      ]
     },
     "metadata": {},
     "output_type": "display_data"
    },
    {
     "name": "stdout",
     "output_type": "stream",
     "text": [
      "Found 11671 validated image filenames belonging to 2 classes.\n",
      "Found 2918 validated image filenames belonging to 2 classes.\n",
      "Epoch 1/1000\n"
     ]
    },
    {
     "name": "stderr",
     "output_type": "stream",
     "text": [
      "2022-11-03 09:55:08.538447: I tensorflow/core/grappler/optimizers/custom_graph_optimizer_registry.cc:114] Plugin optimizer for device_type GPU is enabled.\n"
     ]
    },
    {
     "name": "stdout",
     "output_type": "stream",
     "text": [
      "583/583 [==============================] - ETA: 0s - loss: 0.3878 - accuracy: 0.9290"
     ]
    },
    {
     "name": "stderr",
     "output_type": "stream",
     "text": [
      "2022-11-03 10:33:06.742775: I tensorflow/core/grappler/optimizers/custom_graph_optimizer_registry.cc:114] Plugin optimizer for device_type GPU is enabled.\n",
      "WARNING:absl:Found untraced functions such as _jit_compiled_convolution_op, _jit_compiled_convolution_op, _jit_compiled_convolution_op, _jit_compiled_convolution_op, _jit_compiled_convolution_op while saving (showing 5 of 268). These functions will not be directly callable after loading.\n"
     ]
    },
    {
     "name": "stdout",
     "output_type": "stream",
     "text": [
      "INFO:tensorflow:Assets written to: /Users/hkleeeee/Desktop/Flooding24/2022-2-SCS4031-9to6/Model/image_classification/wandb/run-20221103_095444-r57ky5yl/files/model-best/assets\n"
     ]
    },
    {
     "name": "stderr",
     "output_type": "stream",
     "text": [
      "INFO:tensorflow:Assets written to: /Users/hkleeeee/Desktop/Flooding24/2022-2-SCS4031-9to6/Model/image_classification/wandb/run-20221103_095444-r57ky5yl/files/model-best/assets\n",
      "\u001b[34m\u001b[1mwandb\u001b[0m: Adding directory to artifact (/Users/hkleeeee/Desktop/Flooding24/2022-2-SCS4031-9to6/Model/image_classification/wandb/run-20221103_095444-r57ky5yl/files/model-best)... Done. 1.4s\n"
     ]
    },
    {
     "name": "stdout",
     "output_type": "stream",
     "text": [
      "\n",
      "Epoch 1: val_loss improved from inf to 0.11775, saving model to ../data/weight/NasNet_20_0.2_0.01_elu_rmsprop_256.ckpt\n",
      "583/583 [==============================] - 2932s 5s/step - loss: 0.3878 - accuracy: 0.9290 - val_loss: 0.1178 - val_accuracy: 0.9770\n",
      "Epoch 2/1000\n",
      "583/583 [==============================] - ETA: 0s - loss: 0.1983 - accuracy: 0.9531\n",
      "Epoch 2: val_loss did not improve from 0.11775\n",
      "583/583 [==============================] - 2814s 5s/step - loss: 0.1983 - accuracy: 0.9531 - val_loss: 0.2560 - val_accuracy: 0.9668\n",
      "Epoch 3/1000\n",
      "583/583 [==============================] - ETA: 0s - loss: 0.1754 - accuracy: 0.9563\n",
      "Epoch 3: val_loss did not improve from 0.11775\n",
      "583/583 [==============================] - 2681s 5s/step - loss: 0.1754 - accuracy: 0.9563 - val_loss: 0.1510 - val_accuracy: 0.9808\n",
      "Epoch 4/1000\n",
      " 39/583 [=>............................] - ETA: 1:32:02 - loss: 0.1357 - accuracy: 0.9641"
     ]
    },
    {
     "name": "stderr",
     "output_type": "stream",
     "text": [
      "\u001b[34m\u001b[1mwandb\u001b[0m: Network error (ConnectionError), entering retry loop.\n",
      "wandb: Network error (ConnectionError), entering retry loop.\n"
     ]
    },
    {
     "name": "stdout",
     "output_type": "stream",
     "text": [
      "583/583 [==============================] - ETA: 0s - loss: 0.1515 - accuracy: 0.9638"
     ]
    },
    {
     "name": "stderr",
     "output_type": "stream",
     "text": [
      "WARNING:absl:Found untraced functions such as _jit_compiled_convolution_op, _jit_compiled_convolution_op, _jit_compiled_convolution_op, _jit_compiled_convolution_op, _jit_compiled_convolution_op while saving (showing 5 of 268). These functions will not be directly callable after loading.\n"
     ]
    },
    {
     "name": "stdout",
     "output_type": "stream",
     "text": [
      "INFO:tensorflow:Assets written to: /Users/hkleeeee/Desktop/Flooding24/2022-2-SCS4031-9to6/Model/image_classification/wandb/run-20221103_095444-r57ky5yl/files/model-best/assets\n"
     ]
    },
    {
     "name": "stderr",
     "output_type": "stream",
     "text": [
      "INFO:tensorflow:Assets written to: /Users/hkleeeee/Desktop/Flooding24/2022-2-SCS4031-9to6/Model/image_classification/wandb/run-20221103_095444-r57ky5yl/files/model-best/assets\n",
      "\u001b[34m\u001b[1mwandb\u001b[0m: Adding directory to artifact (/Users/hkleeeee/Desktop/Flooding24/2022-2-SCS4031-9to6/Model/image_classification/wandb/run-20221103_095444-r57ky5yl/files/model-best)... Done. 1.0s\n"
     ]
    },
    {
     "name": "stdout",
     "output_type": "stream",
     "text": [
      "\n",
      "Epoch 4: val_loss improved from 0.11775 to 0.09963, saving model to ../data/weight/NasNet_20_0.2_0.01_elu_rmsprop_256.ckpt\n",
      "583/583 [==============================] - 5169s 9s/step - loss: 0.1515 - accuracy: 0.9638 - val_loss: 0.0996 - val_accuracy: 0.9818\n",
      "Epoch 5/1000\n",
      " 11/583 [..............................] - ETA: 23:07 - loss: 0.0974 - accuracy: 0.9682"
     ]
    },
    {
     "data": {
      "text/html": [
       "Waiting for W&B process to finish... <strong style=\"color:red\">(failed 1).</strong> Press Control-C to abort syncing."
      ],
      "text/plain": [
       "<IPython.core.display.HTML object>"
      ]
     },
     "metadata": {},
     "output_type": "display_data"
    },
    {
     "data": {
      "text/html": [
       "<style>\n",
       "    table.wandb td:nth-child(1) { padding: 0 10px; text-align: left ; width: auto;} td:nth-child(2) {text-align: left ; width: 100%}\n",
       "    .wandb-row { display: flex; flex-direction: row; flex-wrap: wrap; justify-content: flex-start; width: 100% }\n",
       "    .wandb-col { display: flex; flex-direction: column; flex-basis: 100%; flex: 1; padding: 10px; }\n",
       "    </style>\n",
       "<div class=\"wandb-row\"><div class=\"wandb-col\"><h3>Run history:</h3><br/><table class=\"wandb\"><tr><td>accuracy</td><td>▁▆▆█</td></tr><tr><td>epoch</td><td>▁▃▆█</td></tr><tr><td>loss</td><td>█▂▂▁</td></tr><tr><td>val_accuracy</td><td>▆▁██</td></tr><tr><td>val_loss</td><td>▂█▃▁</td></tr></table><br/></div><div class=\"wandb-col\"><h3>Run summary:</h3><br/><table class=\"wandb\"><tr><td>accuracy</td><td>0.96378</td></tr><tr><td>best_epoch</td><td>3</td></tr><tr><td>best_val_loss</td><td>0.09963</td></tr><tr><td>epoch</td><td>3</td></tr><tr><td>loss</td><td>0.15148</td></tr><tr><td>val_accuracy</td><td>0.98184</td></tr><tr><td>val_loss</td><td>0.09963</td></tr></table><br/></div></div>"
      ],
      "text/plain": [
       "<IPython.core.display.HTML object>"
      ]
     },
     "metadata": {},
     "output_type": "display_data"
    },
    {
     "data": {
      "text/html": [
       "Synced <strong style=\"color:#cdcd00\">revived-sweep-37</strong>: <a href=\"https://wandb.ai/hkleee/flood24/runs/r57ky5yl\" target=\"_blank\">https://wandb.ai/hkleee/flood24/runs/r57ky5yl</a><br/>Synced 6 W&B file(s), 1 media file(s), 7 artifact file(s) and 1 other file(s)"
      ],
      "text/plain": [
       "<IPython.core.display.HTML object>"
      ]
     },
     "metadata": {},
     "output_type": "display_data"
    },
    {
     "data": {
      "text/html": [
       "Find logs at: <code>./wandb/run-20221103_095444-r57ky5yl/logs</code>"
      ],
      "text/plain": [
       "<IPython.core.display.HTML object>"
      ]
     },
     "metadata": {},
     "output_type": "display_data"
    },
    {
     "name": "stderr",
     "output_type": "stream",
     "text": [
      "\u001b[34m\u001b[1mwandb\u001b[0m: Agent Starting Run: dcxgnxe5 with config:\n",
      "\u001b[34m\u001b[1mwandb\u001b[0m: \tactivation: selu\n",
      "\u001b[34m\u001b[1mwandb\u001b[0m: \tbatch_size: 20\n",
      "\u001b[34m\u001b[1mwandb\u001b[0m: \tdense: 1024\n",
      "\u001b[34m\u001b[1mwandb\u001b[0m: \tdropout: 0.5\n",
      "\u001b[34m\u001b[1mwandb\u001b[0m: \tlearning_rate: 0.0001\n",
      "\u001b[34m\u001b[1mwandb\u001b[0m: \toptimizer: sgd\n",
      "\u001b[34m\u001b[1mwandb\u001b[0m: \tpretrain_net: Inception\n"
     ]
    },
    {
     "data": {
      "text/html": [
       "Tracking run with wandb version 0.13.4"
      ],
      "text/plain": [
       "<IPython.core.display.HTML object>"
      ]
     },
     "metadata": {},
     "output_type": "display_data"
    },
    {
     "data": {
      "text/html": [
       "Run data is saved locally in <code>/Users/hkleeeee/Desktop/Flooding24/2022-2-SCS4031-9to6/Model/image_classification/wandb/run-20221103_135054-dcxgnxe5</code>"
      ],
      "text/plain": [
       "<IPython.core.display.HTML object>"
      ]
     },
     "metadata": {},
     "output_type": "display_data"
    },
    {
     "data": {
      "text/html": [
       "Syncing run <strong><a href=\"https://wandb.ai/hkleee/flood24/runs/dcxgnxe5\" target=\"_blank\">dainty-sweep-38</a></strong> to <a href=\"https://wandb.ai/hkleee/flood24\" target=\"_blank\">Weights & Biases</a> (<a href=\"https://wandb.me/run\" target=\"_blank\">docs</a>)<br/>Sweep page:  <a href=\"https://wandb.ai/hkleee/flood24/sweeps/vavoacy6\" target=\"_blank\">https://wandb.ai/hkleee/flood24/sweeps/vavoacy6</a>"
      ],
      "text/plain": [
       "<IPython.core.display.HTML object>"
      ]
     },
     "metadata": {},
     "output_type": "display_data"
    },
    {
     "name": "stdout",
     "output_type": "stream",
     "text": [
      "Found 11671 validated image filenames belonging to 2 classes.\n",
      "Found 2918 validated image filenames belonging to 2 classes.\n",
      "Epoch 1/1000\n"
     ]
    },
    {
     "name": "stderr",
     "output_type": "stream",
     "text": [
      "2022-11-03 13:51:05.376142: I tensorflow/core/grappler/optimizers/custom_graph_optimizer_registry.cc:114] Plugin optimizer for device_type GPU is enabled.\n"
     ]
    },
    {
     "name": "stdout",
     "output_type": "stream",
     "text": [
      "583/583 [==============================] - ETA: 0s - loss: 0.6192 - accuracy: 0.6657"
     ]
    },
    {
     "name": "stderr",
     "output_type": "stream",
     "text": [
      "2022-11-03 13:57:53.773637: I tensorflow/core/grappler/optimizers/custom_graph_optimizer_registry.cc:114] Plugin optimizer for device_type GPU is enabled.\n",
      "WARNING:absl:Found untraced functions such as _jit_compiled_convolution_op, _jit_compiled_convolution_op, _jit_compiled_convolution_op, _jit_compiled_convolution_op, _jit_compiled_convolution_op while saving (showing 5 of 244). These functions will not be directly callable after loading.\n"
     ]
    },
    {
     "name": "stdout",
     "output_type": "stream",
     "text": [
      "INFO:tensorflow:Assets written to: /Users/hkleeeee/Desktop/Flooding24/2022-2-SCS4031-9to6/Model/image_classification/wandb/run-20221103_135054-dcxgnxe5/files/model-best/assets\n"
     ]
    },
    {
     "name": "stderr",
     "output_type": "stream",
     "text": [
      "INFO:tensorflow:Assets written to: /Users/hkleeeee/Desktop/Flooding24/2022-2-SCS4031-9to6/Model/image_classification/wandb/run-20221103_135054-dcxgnxe5/files/model-best/assets\n",
      "\u001b[34m\u001b[1mwandb\u001b[0m: Adding directory to artifact (/Users/hkleeeee/Desktop/Flooding24/2022-2-SCS4031-9to6/Model/image_classification/wandb/run-20221103_135054-dcxgnxe5/files/model-best)... Done. 0.6s\n"
     ]
    },
    {
     "name": "stdout",
     "output_type": "stream",
     "text": [
      "\n",
      "Epoch 1: val_loss improved from inf to 0.37440, saving model to ../data/weight/Inception_20_0.5_0.0001_selu_sgd_1024.ckpt\n",
      "583/583 [==============================] - 568s 945ms/step - loss: 0.6192 - accuracy: 0.6657 - val_loss: 0.3744 - val_accuracy: 0.9102\n",
      "Epoch 2/1000\n",
      "583/583 [==============================] - ETA: 0s - loss: 0.4046 - accuracy: 0.8459"
     ]
    },
    {
     "name": "stderr",
     "output_type": "stream",
     "text": [
      "WARNING:absl:Found untraced functions such as _jit_compiled_convolution_op, _jit_compiled_convolution_op, _jit_compiled_convolution_op, _jit_compiled_convolution_op, _jit_compiled_convolution_op while saving (showing 5 of 244). These functions will not be directly callable after loading.\n"
     ]
    },
    {
     "name": "stdout",
     "output_type": "stream",
     "text": [
      "INFO:tensorflow:Assets written to: /Users/hkleeeee/Desktop/Flooding24/2022-2-SCS4031-9to6/Model/image_classification/wandb/run-20221103_135054-dcxgnxe5/files/model-best/assets\n"
     ]
    },
    {
     "name": "stderr",
     "output_type": "stream",
     "text": [
      "INFO:tensorflow:Assets written to: /Users/hkleeeee/Desktop/Flooding24/2022-2-SCS4031-9to6/Model/image_classification/wandb/run-20221103_135054-dcxgnxe5/files/model-best/assets\n",
      "\u001b[34m\u001b[1mwandb\u001b[0m: Adding directory to artifact (/Users/hkleeeee/Desktop/Flooding24/2022-2-SCS4031-9to6/Model/image_classification/wandb/run-20221103_135054-dcxgnxe5/files/model-best)... Done. 0.6s\n"
     ]
    },
    {
     "name": "stdout",
     "output_type": "stream",
     "text": [
      "\n",
      "Epoch 2: val_loss improved from 0.37440 to 0.27864, saving model to ../data/weight/Inception_20_0.5_0.0001_selu_sgd_1024.ckpt\n",
      "583/583 [==============================] - 563s 965ms/step - loss: 0.4046 - accuracy: 0.8459 - val_loss: 0.2786 - val_accuracy: 0.9373\n",
      "Epoch 3/1000\n",
      "136/583 [=====>........................] - ETA: 11:27 - loss: 0.3410 - accuracy: 0.8904"
     ]
    },
    {
     "name": "stderr",
     "output_type": "stream",
     "text": [
      "\u001b[34m\u001b[1mwandb\u001b[0m: Network error (ConnectionError), entering retry loop.\n"
     ]
    },
    {
     "name": "stdout",
     "output_type": "stream",
     "text": [
      "221/583 [==========>...................] - ETA: 9:57 - loss: 0.3361 - accuracy: 0.8955 "
     ]
    },
    {
     "name": "stderr",
     "output_type": "stream",
     "text": [
      "wandb: Network error (TransientError), entering retry loop.\n"
     ]
    },
    {
     "name": "stdout",
     "output_type": "stream",
     "text": [
      "583/583 [==============================] - ETA: 0s - loss: 0.3205 - accuracy: 0.9019"
     ]
    },
    {
     "name": "stderr",
     "output_type": "stream",
     "text": [
      "WARNING:absl:Found untraced functions such as _jit_compiled_convolution_op, _jit_compiled_convolution_op, _jit_compiled_convolution_op, _jit_compiled_convolution_op, _jit_compiled_convolution_op while saving (showing 5 of 244). These functions will not be directly callable after loading.\n"
     ]
    },
    {
     "name": "stdout",
     "output_type": "stream",
     "text": [
      "INFO:tensorflow:Assets written to: /Users/hkleeeee/Desktop/Flooding24/2022-2-SCS4031-9to6/Model/image_classification/wandb/run-20221103_135054-dcxgnxe5/files/model-best/assets\n"
     ]
    },
    {
     "name": "stderr",
     "output_type": "stream",
     "text": [
      "INFO:tensorflow:Assets written to: /Users/hkleeeee/Desktop/Flooding24/2022-2-SCS4031-9to6/Model/image_classification/wandb/run-20221103_135054-dcxgnxe5/files/model-best/assets\n",
      "\u001b[34m\u001b[1mwandb\u001b[0m: Adding directory to artifact (/Users/hkleeeee/Desktop/Flooding24/2022-2-SCS4031-9to6/Model/image_classification/wandb/run-20221103_135054-dcxgnxe5/files/model-best)... Done. 0.7s\n"
     ]
    },
    {
     "name": "stdout",
     "output_type": "stream",
     "text": [
      "\n",
      "Epoch 3: val_loss improved from 0.27864 to 0.22719, saving model to ../data/weight/Inception_20_0.5_0.0001_selu_sgd_1024.ckpt\n",
      "583/583 [==============================] - 4278s 7s/step - loss: 0.3205 - accuracy: 0.9019 - val_loss: 0.2272 - val_accuracy: 0.9503\n",
      "Epoch 4/1000\n",
      "583/583 [==============================] - ETA: 0s - loss: 0.2819 - accuracy: 0.9155"
     ]
    },
    {
     "name": "stderr",
     "output_type": "stream",
     "text": [
      "WARNING:absl:Found untraced functions such as _jit_compiled_convolution_op, _jit_compiled_convolution_op, _jit_compiled_convolution_op, _jit_compiled_convolution_op, _jit_compiled_convolution_op while saving (showing 5 of 244). These functions will not be directly callable after loading.\n"
     ]
    },
    {
     "data": {
      "text/html": [
       "Waiting for W&B process to finish... <strong style=\"color:red\">(failed 1).</strong> Press Control-C to abort syncing."
      ],
      "text/plain": [
       "<IPython.core.display.HTML object>"
      ]
     },
     "metadata": {},
     "output_type": "display_data"
    },
    {
     "data": {
      "text/html": [
       "<style>\n",
       "    table.wandb td:nth-child(1) { padding: 0 10px; text-align: left ; width: auto;} td:nth-child(2) {text-align: left ; width: 100%}\n",
       "    .wandb-row { display: flex; flex-direction: row; flex-wrap: wrap; justify-content: flex-start; width: 100% }\n",
       "    .wandb-col { display: flex; flex-direction: column; flex-basis: 100%; flex: 1; padding: 10px; }\n",
       "    </style>\n",
       "<div class=\"wandb-row\"><div class=\"wandb-col\"><h3>Run history:</h3><br/><table class=\"wandb\"><tr><td>accuracy</td><td>▁▆██</td></tr><tr><td>epoch</td><td>▁▃▆█</td></tr><tr><td>loss</td><td>█▄▂▁</td></tr><tr><td>val_accuracy</td><td>▁▅▇█</td></tr><tr><td>val_loss</td><td>█▄▂▁</td></tr></table><br/></div><div class=\"wandb-col\"><h3>Run summary:</h3><br/><table class=\"wandb\"><tr><td>accuracy</td><td>0.91554</td></tr><tr><td>best_epoch</td><td>3</td></tr><tr><td>best_val_loss</td><td>0.19764</td></tr><tr><td>epoch</td><td>3</td></tr><tr><td>loss</td><td>0.28193</td></tr><tr><td>val_accuracy</td><td>0.95682</td></tr><tr><td>val_loss</td><td>0.19764</td></tr></table><br/></div></div>"
      ],
      "text/plain": [
       "<IPython.core.display.HTML object>"
      ]
     },
     "metadata": {},
     "output_type": "display_data"
    },
    {
     "data": {
      "text/html": [
       "Synced <strong style=\"color:#cdcd00\">dainty-sweep-38</strong>: <a href=\"https://wandb.ai/hkleee/flood24/runs/dcxgnxe5\" target=\"_blank\">https://wandb.ai/hkleee/flood24/runs/dcxgnxe5</a><br/>Synced 6 W&B file(s), 1 media file(s), 10 artifact file(s) and 1 other file(s)"
      ],
      "text/plain": [
       "<IPython.core.display.HTML object>"
      ]
     },
     "metadata": {},
     "output_type": "display_data"
    },
    {
     "data": {
      "text/html": [
       "Find logs at: <code>./wandb/run-20221103_135054-dcxgnxe5/logs</code>"
      ],
      "text/plain": [
       "<IPython.core.display.HTML object>"
      ]
     },
     "metadata": {},
     "output_type": "display_data"
    },
    {
     "name": "stderr",
     "output_type": "stream",
     "text": [
      "\u001b[34m\u001b[1mwandb\u001b[0m: Agent Starting Run: xx84gs22 with config:\n",
      "\u001b[34m\u001b[1mwandb\u001b[0m: \tactivation: softmax\n",
      "\u001b[34m\u001b[1mwandb\u001b[0m: \tbatch_size: 20\n",
      "\u001b[34m\u001b[1mwandb\u001b[0m: \tdense: 32\n",
      "\u001b[34m\u001b[1mwandb\u001b[0m: \tdropout: 0.2\n",
      "\u001b[34m\u001b[1mwandb\u001b[0m: \tlearning_rate: 0.001\n",
      "\u001b[34m\u001b[1mwandb\u001b[0m: \toptimizer: sgd\n",
      "\u001b[34m\u001b[1mwandb\u001b[0m: \tpretrain_net: Inception\n"
     ]
    },
    {
     "data": {
      "text/html": [
       "Tracking run with wandb version 0.13.4"
      ],
      "text/plain": [
       "<IPython.core.display.HTML object>"
      ]
     },
     "metadata": {},
     "output_type": "display_data"
    },
    {
     "data": {
      "text/html": [
       "Run data is saved locally in <code>/Users/hkleeeee/Desktop/Flooding24/2022-2-SCS4031-9to6/Model/image_classification/wandb/run-20221103_153145-xx84gs22</code>"
      ],
      "text/plain": [
       "<IPython.core.display.HTML object>"
      ]
     },
     "metadata": {},
     "output_type": "display_data"
    },
    {
     "data": {
      "text/html": [
       "Syncing run <strong><a href=\"https://wandb.ai/hkleee/flood24/runs/xx84gs22\" target=\"_blank\">neat-sweep-39</a></strong> to <a href=\"https://wandb.ai/hkleee/flood24\" target=\"_blank\">Weights & Biases</a> (<a href=\"https://wandb.me/run\" target=\"_blank\">docs</a>)<br/>Sweep page:  <a href=\"https://wandb.ai/hkleee/flood24/sweeps/vavoacy6\" target=\"_blank\">https://wandb.ai/hkleee/flood24/sweeps/vavoacy6</a>"
      ],
      "text/plain": [
       "<IPython.core.display.HTML object>"
      ]
     },
     "metadata": {},
     "output_type": "display_data"
    },
    {
     "name": "stdout",
     "output_type": "stream",
     "text": [
      "Found 11671 validated image filenames belonging to 2 classes.\n",
      "Found 2918 validated image filenames belonging to 2 classes.\n",
      "Epoch 1/1000\n"
     ]
    },
    {
     "name": "stderr",
     "output_type": "stream",
     "text": [
      "2022-11-03 15:31:56.310116: I tensorflow/core/grappler/optimizers/custom_graph_optimizer_registry.cc:114] Plugin optimizer for device_type GPU is enabled.\n"
     ]
    },
    {
     "name": "stdout",
     "output_type": "stream",
     "text": [
      "583/583 [==============================] - ETA: 0s - loss: 0.6901 - accuracy: 0.5989"
     ]
    },
    {
     "name": "stderr",
     "output_type": "stream",
     "text": [
      "2022-11-03 15:39:24.706944: I tensorflow/core/grappler/optimizers/custom_graph_optimizer_registry.cc:114] Plugin optimizer for device_type GPU is enabled.\n",
      "WARNING:absl:Found untraced functions such as _jit_compiled_convolution_op, _jit_compiled_convolution_op, _jit_compiled_convolution_op, _jit_compiled_convolution_op, _jit_compiled_convolution_op while saving (showing 5 of 244). These functions will not be directly callable after loading.\n"
     ]
    },
    {
     "name": "stdout",
     "output_type": "stream",
     "text": [
      "INFO:tensorflow:Assets written to: /Users/hkleeeee/Desktop/Flooding24/2022-2-SCS4031-9to6/Model/image_classification/wandb/run-20221103_153145-xx84gs22/files/model-best/assets\n"
     ]
    },
    {
     "name": "stderr",
     "output_type": "stream",
     "text": [
      "INFO:tensorflow:Assets written to: /Users/hkleeeee/Desktop/Flooding24/2022-2-SCS4031-9to6/Model/image_classification/wandb/run-20221103_153145-xx84gs22/files/model-best/assets\n",
      "\u001b[34m\u001b[1mwandb\u001b[0m: Adding directory to artifact (/Users/hkleeeee/Desktop/Flooding24/2022-2-SCS4031-9to6/Model/image_classification/wandb/run-20221103_153145-xx84gs22/files/model-best)... Done. 0.6s\n"
     ]
    },
    {
     "name": "stdout",
     "output_type": "stream",
     "text": [
      "\n",
      "Epoch 1: val_loss improved from inf to 0.68815, saving model to ../data/weight/Inception_20_0.2_0.001_softmax_sgd_32.ckpt\n",
      "583/583 [==============================] - 618s 1s/step - loss: 0.6901 - accuracy: 0.5989 - val_loss: 0.6882 - val_accuracy: 0.7680\n",
      "Epoch 2/1000\n",
      "583/583 [==============================] - ETA: 0s - loss: 0.6842 - accuracy: 0.6122"
     ]
    },
    {
     "name": "stderr",
     "output_type": "stream",
     "text": [
      "WARNING:absl:Found untraced functions such as _jit_compiled_convolution_op, _jit_compiled_convolution_op, _jit_compiled_convolution_op, _jit_compiled_convolution_op, _jit_compiled_convolution_op while saving (showing 5 of 244). These functions will not be directly callable after loading.\n"
     ]
    },
    {
     "name": "stdout",
     "output_type": "stream",
     "text": [
      "INFO:tensorflow:Assets written to: /Users/hkleeeee/Desktop/Flooding24/2022-2-SCS4031-9to6/Model/image_classification/wandb/run-20221103_153145-xx84gs22/files/model-best/assets\n"
     ]
    },
    {
     "name": "stderr",
     "output_type": "stream",
     "text": [
      "INFO:tensorflow:Assets written to: /Users/hkleeeee/Desktop/Flooding24/2022-2-SCS4031-9to6/Model/image_classification/wandb/run-20221103_153145-xx84gs22/files/model-best/assets\n",
      "\u001b[34m\u001b[1mwandb\u001b[0m: Adding directory to artifact (/Users/hkleeeee/Desktop/Flooding24/2022-2-SCS4031-9to6/Model/image_classification/wandb/run-20221103_153145-xx84gs22/files/model-best)... Done. 0.6s\n"
     ]
    },
    {
     "name": "stdout",
     "output_type": "stream",
     "text": [
      "\n",
      "Epoch 2: val_loss improved from 0.68815 to 0.68091, saving model to ../data/weight/Inception_20_0.2_0.001_softmax_sgd_32.ckpt\n",
      "583/583 [==============================] - 650s 1s/step - loss: 0.6842 - accuracy: 0.6122 - val_loss: 0.6809 - val_accuracy: 0.6271\n",
      "Epoch 3/1000\n",
      "583/583 [==============================] - ETA: 0s - loss: 0.6724 - accuracy: 0.5565"
     ]
    },
    {
     "name": "stderr",
     "output_type": "stream",
     "text": [
      "WARNING:absl:Found untraced functions such as _jit_compiled_convolution_op, _jit_compiled_convolution_op, _jit_compiled_convolution_op, _jit_compiled_convolution_op, _jit_compiled_convolution_op while saving (showing 5 of 244). These functions will not be directly callable after loading.\n"
     ]
    },
    {
     "name": "stdout",
     "output_type": "stream",
     "text": [
      "INFO:tensorflow:Assets written to: /Users/hkleeeee/Desktop/Flooding24/2022-2-SCS4031-9to6/Model/image_classification/wandb/run-20221103_153145-xx84gs22/files/model-best/assets\n"
     ]
    },
    {
     "name": "stderr",
     "output_type": "stream",
     "text": [
      "INFO:tensorflow:Assets written to: /Users/hkleeeee/Desktop/Flooding24/2022-2-SCS4031-9to6/Model/image_classification/wandb/run-20221103_153145-xx84gs22/files/model-best/assets\n",
      "\u001b[34m\u001b[1mwandb\u001b[0m: Adding directory to artifact (/Users/hkleeeee/Desktop/Flooding24/2022-2-SCS4031-9to6/Model/image_classification/wandb/run-20221103_153145-xx84gs22/files/model-best)... Done. 0.6s\n"
     ]
    },
    {
     "name": "stdout",
     "output_type": "stream",
     "text": [
      "\n",
      "Epoch 3: val_loss improved from 0.68091 to 0.66262, saving model to ../data/weight/Inception_20_0.2_0.001_softmax_sgd_32.ckpt\n",
      "583/583 [==============================] - 976s 2s/step - loss: 0.6724 - accuracy: 0.5565 - val_loss: 0.6626 - val_accuracy: 0.5853\n",
      "Epoch 4/1000\n",
      "583/583 [==============================] - ETA: 0s - loss: 0.6533 - accuracy: 0.5631"
     ]
    },
    {
     "name": "stderr",
     "output_type": "stream",
     "text": [
      "wandb: Network error (ConnectionError), entering retry loop.\n",
      "\u001b[34m\u001b[1mwandb\u001b[0m: Network error (ConnectionError), entering retry loop.\n",
      "WARNING:absl:Found untraced functions such as _jit_compiled_convolution_op, _jit_compiled_convolution_op, _jit_compiled_convolution_op, _jit_compiled_convolution_op, _jit_compiled_convolution_op while saving (showing 5 of 244). These functions will not be directly callable after loading.\n"
     ]
    },
    {
     "name": "stdout",
     "output_type": "stream",
     "text": [
      "INFO:tensorflow:Assets written to: /Users/hkleeeee/Desktop/Flooding24/2022-2-SCS4031-9to6/Model/image_classification/wandb/run-20221103_153145-xx84gs22/files/model-best/assets\n"
     ]
    },
    {
     "name": "stderr",
     "output_type": "stream",
     "text": [
      "INFO:tensorflow:Assets written to: /Users/hkleeeee/Desktop/Flooding24/2022-2-SCS4031-9to6/Model/image_classification/wandb/run-20221103_153145-xx84gs22/files/model-best/assets\n",
      "\u001b[34m\u001b[1mwandb\u001b[0m: Adding directory to artifact (/Users/hkleeeee/Desktop/Flooding24/2022-2-SCS4031-9to6/Model/image_classification/wandb/run-20221103_153145-xx84gs22/files/model-best)... Done. 0.6s\n",
      "\u001b[34m\u001b[1mwandb\u001b[0m: Network error (ConnectionError), entering retry loop.\n"
     ]
    },
    {
     "name": "stdout",
     "output_type": "stream",
     "text": [
      "\n",
      "Epoch 4: val_loss improved from 0.66262 to 0.63990, saving model to ../data/weight/Inception_20_0.2_0.001_softmax_sgd_32.ckpt\n",
      "583/583 [==============================] - 2140s 4s/step - loss: 0.6533 - accuracy: 0.5631 - val_loss: 0.6399 - val_accuracy: 0.6731\n",
      "Epoch 5/1000\n",
      "215/583 [==========>...................] - ETA: 5:23 - loss: 0.6411 - accuracy: 0.6127"
     ]
    },
    {
     "data": {
      "text/html": [
       "Waiting for W&B process to finish... <strong style=\"color:red\">(failed 1).</strong> Press Control-C to abort syncing."
      ],
      "text/plain": [
       "<IPython.core.display.HTML object>"
      ]
     },
     "metadata": {},
     "output_type": "display_data"
    },
    {
     "data": {
      "text/html": [
       "<style>\n",
       "    table.wandb td:nth-child(1) { padding: 0 10px; text-align: left ; width: auto;} td:nth-child(2) {text-align: left ; width: 100%}\n",
       "    .wandb-row { display: flex; flex-direction: row; flex-wrap: wrap; justify-content: flex-start; width: 100% }\n",
       "    .wandb-col { display: flex; flex-direction: column; flex-basis: 100%; flex: 1; padding: 10px; }\n",
       "    </style>\n",
       "<div class=\"wandb-row\"><div class=\"wandb-col\"><h3>Run history:</h3><br/><table class=\"wandb\"><tr><td>accuracy</td><td>▆█▁▂</td></tr><tr><td>epoch</td><td>▁▃▆█</td></tr><tr><td>loss</td><td>█▇▅▁</td></tr><tr><td>val_accuracy</td><td>█▃▁▄</td></tr><tr><td>val_loss</td><td>█▇▄▁</td></tr></table><br/></div><div class=\"wandb-col\"><h3>Run summary:</h3><br/><table class=\"wandb\"><tr><td>accuracy</td><td>0.56313</td></tr><tr><td>best_epoch</td><td>3</td></tr><tr><td>best_val_loss</td><td>0.6399</td></tr><tr><td>epoch</td><td>3</td></tr><tr><td>loss</td><td>0.65333</td></tr><tr><td>val_accuracy</td><td>0.67306</td></tr><tr><td>val_loss</td><td>0.6399</td></tr></table><br/></div></div>"
      ],
      "text/plain": [
       "<IPython.core.display.HTML object>"
      ]
     },
     "metadata": {},
     "output_type": "display_data"
    },
    {
     "data": {
      "text/html": [
       "Synced <strong style=\"color:#cdcd00\">neat-sweep-39</strong>: <a href=\"https://wandb.ai/hkleee/flood24/runs/xx84gs22\" target=\"_blank\">https://wandb.ai/hkleee/flood24/runs/xx84gs22</a><br/>Synced 6 W&B file(s), 1 media file(s), 13 artifact file(s) and 1 other file(s)"
      ],
      "text/plain": [
       "<IPython.core.display.HTML object>"
      ]
     },
     "metadata": {},
     "output_type": "display_data"
    },
    {
     "data": {
      "text/html": [
       "Find logs at: <code>./wandb/run-20221103_153145-xx84gs22/logs</code>"
      ],
      "text/plain": [
       "<IPython.core.display.HTML object>"
      ]
     },
     "metadata": {},
     "output_type": "display_data"
    },
    {
     "name": "stderr",
     "output_type": "stream",
     "text": [
      "\u001b[34m\u001b[1mwandb\u001b[0m: Agent Starting Run: rh27l7yf with config:\n",
      "\u001b[34m\u001b[1mwandb\u001b[0m: \tactivation: relu\n",
      "\u001b[34m\u001b[1mwandb\u001b[0m: \tbatch_size: 20\n",
      "\u001b[34m\u001b[1mwandb\u001b[0m: \tdense: 256\n",
      "\u001b[34m\u001b[1mwandb\u001b[0m: \tdropout: 0.2\n",
      "\u001b[34m\u001b[1mwandb\u001b[0m: \tlearning_rate: 0.001\n",
      "\u001b[34m\u001b[1mwandb\u001b[0m: \toptimizer: sgd\n",
      "\u001b[34m\u001b[1mwandb\u001b[0m: \tpretrain_net: Inception\n"
     ]
    },
    {
     "data": {
      "text/html": [
       "Tracking run with wandb version 0.13.4"
      ],
      "text/plain": [
       "<IPython.core.display.HTML object>"
      ]
     },
     "metadata": {},
     "output_type": "display_data"
    },
    {
     "data": {
      "text/html": [
       "Run data is saved locally in <code>/Users/hkleeeee/Desktop/Flooding24/2022-2-SCS4031-9to6/Model/image_classification/wandb/run-20221103_165028-rh27l7yf</code>"
      ],
      "text/plain": [
       "<IPython.core.display.HTML object>"
      ]
     },
     "metadata": {},
     "output_type": "display_data"
    },
    {
     "data": {
      "text/html": [
       "Syncing run <strong><a href=\"https://wandb.ai/hkleee/flood24/runs/rh27l7yf\" target=\"_blank\">fancy-sweep-40</a></strong> to <a href=\"https://wandb.ai/hkleee/flood24\" target=\"_blank\">Weights & Biases</a> (<a href=\"https://wandb.me/run\" target=\"_blank\">docs</a>)<br/>Sweep page:  <a href=\"https://wandb.ai/hkleee/flood24/sweeps/vavoacy6\" target=\"_blank\">https://wandb.ai/hkleee/flood24/sweeps/vavoacy6</a>"
      ],
      "text/plain": [
       "<IPython.core.display.HTML object>"
      ]
     },
     "metadata": {},
     "output_type": "display_data"
    },
    {
     "name": "stdout",
     "output_type": "stream",
     "text": [
      "Found 11671 validated image filenames belonging to 2 classes.\n",
      "Found 2918 validated image filenames belonging to 2 classes.\n",
      "Epoch 1/1000\n"
     ]
    },
    {
     "name": "stderr",
     "output_type": "stream",
     "text": [
      "2022-11-03 16:50:50.673616: I tensorflow/core/grappler/optimizers/custom_graph_optimizer_registry.cc:114] Plugin optimizer for device_type GPU is enabled.\n"
     ]
    },
    {
     "name": "stdout",
     "output_type": "stream",
     "text": [
      "583/583 [==============================] - ETA: 0s - loss: 0.4028 - accuracy: 0.8462"
     ]
    },
    {
     "name": "stderr",
     "output_type": "stream",
     "text": [
      "2022-11-03 17:04:19.240440: I tensorflow/core/grappler/optimizers/custom_graph_optimizer_registry.cc:114] Plugin optimizer for device_type GPU is enabled.\n",
      "WARNING:absl:Found untraced functions such as _jit_compiled_convolution_op, _jit_compiled_convolution_op, _jit_compiled_convolution_op, _jit_compiled_convolution_op, _jit_compiled_convolution_op while saving (showing 5 of 244). These functions will not be directly callable after loading.\n"
     ]
    },
    {
     "name": "stdout",
     "output_type": "stream",
     "text": [
      "INFO:tensorflow:Assets written to: /Users/hkleeeee/Desktop/Flooding24/2022-2-SCS4031-9to6/Model/image_classification/wandb/run-20221103_165028-rh27l7yf/files/model-best/assets\n"
     ]
    },
    {
     "name": "stderr",
     "output_type": "stream",
     "text": [
      "INFO:tensorflow:Assets written to: /Users/hkleeeee/Desktop/Flooding24/2022-2-SCS4031-9to6/Model/image_classification/wandb/run-20221103_165028-rh27l7yf/files/model-best/assets\n",
      "\u001b[34m\u001b[1mwandb\u001b[0m: Adding directory to artifact (/Users/hkleeeee/Desktop/Flooding24/2022-2-SCS4031-9to6/Model/image_classification/wandb/run-20221103_165028-rh27l7yf/files/model-best)... Done. 0.9s\n"
     ]
    },
    {
     "name": "stdout",
     "output_type": "stream",
     "text": [
      "\n",
      "Epoch 1: val_loss improved from inf to 0.21846, saving model to ../data/weight/Inception_20_0.2_0.001_relu_sgd_256.ckpt\n",
      "583/583 [==============================] - 1066s 2s/step - loss: 0.4028 - accuracy: 0.8462 - val_loss: 0.2185 - val_accuracy: 0.9561\n",
      "Epoch 2/1000\n",
      "583/583 [==============================] - ETA: 0s - loss: 0.2257 - accuracy: 0.9309"
     ]
    },
    {
     "name": "stderr",
     "output_type": "stream",
     "text": [
      "WARNING:absl:Found untraced functions such as _jit_compiled_convolution_op, _jit_compiled_convolution_op, _jit_compiled_convolution_op, _jit_compiled_convolution_op, _jit_compiled_convolution_op while saving (showing 5 of 244). These functions will not be directly callable after loading.\n"
     ]
    },
    {
     "name": "stdout",
     "output_type": "stream",
     "text": [
      "INFO:tensorflow:Assets written to: /Users/hkleeeee/Desktop/Flooding24/2022-2-SCS4031-9to6/Model/image_classification/wandb/run-20221103_165028-rh27l7yf/files/model-best/assets\n"
     ]
    },
    {
     "name": "stderr",
     "output_type": "stream",
     "text": [
      "INFO:tensorflow:Assets written to: /Users/hkleeeee/Desktop/Flooding24/2022-2-SCS4031-9to6/Model/image_classification/wandb/run-20221103_165028-rh27l7yf/files/model-best/assets\n",
      "\u001b[34m\u001b[1mwandb\u001b[0m: Adding directory to artifact (/Users/hkleeeee/Desktop/Flooding24/2022-2-SCS4031-9to6/Model/image_classification/wandb/run-20221103_165028-rh27l7yf/files/model-best)... Done. 0.9s\n"
     ]
    },
    {
     "name": "stdout",
     "output_type": "stream",
     "text": [
      "\n",
      "Epoch 2: val_loss improved from 0.21846 to 0.15505, saving model to ../data/weight/Inception_20_0.2_0.001_relu_sgd_256.ckpt\n",
      "583/583 [==============================] - 967s 2s/step - loss: 0.2257 - accuracy: 0.9309 - val_loss: 0.1551 - val_accuracy: 0.9650\n",
      "Epoch 3/1000\n",
      "583/583 [==============================] - ETA: 0s - loss: 0.1845 - accuracy: 0.9400"
     ]
    },
    {
     "name": "stderr",
     "output_type": "stream",
     "text": [
      "WARNING:absl:Found untraced functions such as _jit_compiled_convolution_op, _jit_compiled_convolution_op, _jit_compiled_convolution_op, _jit_compiled_convolution_op, _jit_compiled_convolution_op while saving (showing 5 of 244). These functions will not be directly callable after loading.\n"
     ]
    },
    {
     "name": "stdout",
     "output_type": "stream",
     "text": [
      "INFO:tensorflow:Assets written to: /Users/hkleeeee/Desktop/Flooding24/2022-2-SCS4031-9to6/Model/image_classification/wandb/run-20221103_165028-rh27l7yf/files/model-best/assets\n"
     ]
    },
    {
     "name": "stderr",
     "output_type": "stream",
     "text": [
      "INFO:tensorflow:Assets written to: /Users/hkleeeee/Desktop/Flooding24/2022-2-SCS4031-9to6/Model/image_classification/wandb/run-20221103_165028-rh27l7yf/files/model-best/assets\n",
      "\u001b[34m\u001b[1mwandb\u001b[0m: Adding directory to artifact (/Users/hkleeeee/Desktop/Flooding24/2022-2-SCS4031-9to6/Model/image_classification/wandb/run-20221103_165028-rh27l7yf/files/model-best)... Done. 0.9s\n"
     ]
    },
    {
     "name": "stdout",
     "output_type": "stream",
     "text": [
      "\n",
      "Epoch 3: val_loss improved from 0.15505 to 0.12784, saving model to ../data/weight/Inception_20_0.2_0.001_relu_sgd_256.ckpt\n",
      "583/583 [==============================] - 966s 2s/step - loss: 0.1845 - accuracy: 0.9400 - val_loss: 0.1278 - val_accuracy: 0.9688\n",
      "Epoch 4/1000\n",
      "583/583 [==============================] - ETA: 0s - loss: 0.1635 - accuracy: 0.9450"
     ]
    },
    {
     "name": "stderr",
     "output_type": "stream",
     "text": [
      "WARNING:absl:Found untraced functions such as _jit_compiled_convolution_op, _jit_compiled_convolution_op, _jit_compiled_convolution_op, _jit_compiled_convolution_op, _jit_compiled_convolution_op while saving (showing 5 of 244). These functions will not be directly callable after loading.\n"
     ]
    },
    {
     "name": "stdout",
     "output_type": "stream",
     "text": [
      "INFO:tensorflow:Assets written to: /Users/hkleeeee/Desktop/Flooding24/2022-2-SCS4031-9to6/Model/image_classification/wandb/run-20221103_165028-rh27l7yf/files/model-best/assets\n"
     ]
    },
    {
     "name": "stderr",
     "output_type": "stream",
     "text": [
      "INFO:tensorflow:Assets written to: /Users/hkleeeee/Desktop/Flooding24/2022-2-SCS4031-9to6/Model/image_classification/wandb/run-20221103_165028-rh27l7yf/files/model-best/assets\n",
      "\u001b[34m\u001b[1mwandb\u001b[0m: Adding directory to artifact (/Users/hkleeeee/Desktop/Flooding24/2022-2-SCS4031-9to6/Model/image_classification/wandb/run-20221103_165028-rh27l7yf/files/model-best)... Done. 0.9s\n"
     ]
    },
    {
     "name": "stdout",
     "output_type": "stream",
     "text": [
      "\n",
      "Epoch 4: val_loss improved from 0.12784 to 0.11558, saving model to ../data/weight/Inception_20_0.2_0.001_relu_sgd_256.ckpt\n",
      "583/583 [==============================] - 1164s 2s/step - loss: 0.1635 - accuracy: 0.9450 - val_loss: 0.1156 - val_accuracy: 0.9709\n",
      "Epoch 5/1000\n",
      "264/583 [============>.................] - ETA: 7:08 - loss: 0.1568 - accuracy: 0.9501"
     ]
    },
    {
     "data": {
      "text/html": [
       "Waiting for W&B process to finish... <strong style=\"color:red\">(failed 1).</strong> Press Control-C to abort syncing."
      ],
      "text/plain": [
       "<IPython.core.display.HTML object>"
      ]
     },
     "metadata": {},
     "output_type": "display_data"
    },
    {
     "data": {
      "text/html": [
       "<style>\n",
       "    table.wandb td:nth-child(1) { padding: 0 10px; text-align: left ; width: auto;} td:nth-child(2) {text-align: left ; width: 100%}\n",
       "    .wandb-row { display: flex; flex-direction: row; flex-wrap: wrap; justify-content: flex-start; width: 100% }\n",
       "    .wandb-col { display: flex; flex-direction: column; flex-basis: 100%; flex: 1; padding: 10px; }\n",
       "    </style>\n",
       "<div class=\"wandb-row\"><div class=\"wandb-col\"><h3>Run history:</h3><br/><table class=\"wandb\"><tr><td>accuracy</td><td>▁▇██</td></tr><tr><td>epoch</td><td>▁▃▆█</td></tr><tr><td>loss</td><td>█▃▂▁</td></tr><tr><td>val_accuracy</td><td>▁▅▇█</td></tr><tr><td>val_loss</td><td>█▄▂▁</td></tr></table><br/></div><div class=\"wandb-col\"><h3>Run summary:</h3><br/><table class=\"wandb\"><tr><td>accuracy</td><td>0.94498</td></tr><tr><td>best_epoch</td><td>3</td></tr><tr><td>best_val_loss</td><td>0.11558</td></tr><tr><td>epoch</td><td>3</td></tr><tr><td>loss</td><td>0.16354</td></tr><tr><td>val_accuracy</td><td>0.97087</td></tr><tr><td>val_loss</td><td>0.11558</td></tr></table><br/></div></div>"
      ],
      "text/plain": [
       "<IPython.core.display.HTML object>"
      ]
     },
     "metadata": {},
     "output_type": "display_data"
    },
    {
     "data": {
      "text/html": [
       "Synced <strong style=\"color:#cdcd00\">fancy-sweep-40</strong>: <a href=\"https://wandb.ai/hkleee/flood24/runs/rh27l7yf\" target=\"_blank\">https://wandb.ai/hkleee/flood24/runs/rh27l7yf</a><br/>Synced 6 W&B file(s), 1 media file(s), 13 artifact file(s) and 1 other file(s)"
      ],
      "text/plain": [
       "<IPython.core.display.HTML object>"
      ]
     },
     "metadata": {},
     "output_type": "display_data"
    },
    {
     "data": {
      "text/html": [
       "Find logs at: <code>./wandb/run-20221103_165028-rh27l7yf/logs</code>"
      ],
      "text/plain": [
       "<IPython.core.display.HTML object>"
      ]
     },
     "metadata": {},
     "output_type": "display_data"
    },
    {
     "name": "stderr",
     "output_type": "stream",
     "text": [
      "\u001b[34m\u001b[1mwandb\u001b[0m: Agent Starting Run: e9mn2kgj with config:\n",
      "\u001b[34m\u001b[1mwandb\u001b[0m: \tactivation: softmax\n",
      "\u001b[34m\u001b[1mwandb\u001b[0m: \tbatch_size: 50\n",
      "\u001b[34m\u001b[1mwandb\u001b[0m: \tdense: 256\n",
      "\u001b[34m\u001b[1mwandb\u001b[0m: \tdropout: 0.2\n",
      "\u001b[34m\u001b[1mwandb\u001b[0m: \tlearning_rate: 0.01\n",
      "\u001b[34m\u001b[1mwandb\u001b[0m: \toptimizer: sgd\n",
      "\u001b[34m\u001b[1mwandb\u001b[0m: \tpretrain_net: Inception\n"
     ]
    },
    {
     "data": {
      "text/html": [
       "Tracking run with wandb version 0.13.4"
      ],
      "text/plain": [
       "<IPython.core.display.HTML object>"
      ]
     },
     "metadata": {},
     "output_type": "display_data"
    },
    {
     "data": {
      "text/html": [
       "Run data is saved locally in <code>/Users/hkleeeee/Desktop/Flooding24/2022-2-SCS4031-9to6/Model/image_classification/wandb/run-20221103_180814-e9mn2kgj</code>"
      ],
      "text/plain": [
       "<IPython.core.display.HTML object>"
      ]
     },
     "metadata": {},
     "output_type": "display_data"
    },
    {
     "data": {
      "text/html": [
       "Syncing run <strong><a href=\"https://wandb.ai/hkleee/flood24/runs/e9mn2kgj\" target=\"_blank\">eager-sweep-41</a></strong> to <a href=\"https://wandb.ai/hkleee/flood24\" target=\"_blank\">Weights & Biases</a> (<a href=\"https://wandb.me/run\" target=\"_blank\">docs</a>)<br/>Sweep page:  <a href=\"https://wandb.ai/hkleee/flood24/sweeps/vavoacy6\" target=\"_blank\">https://wandb.ai/hkleee/flood24/sweeps/vavoacy6</a>"
      ],
      "text/plain": [
       "<IPython.core.display.HTML object>"
      ]
     },
     "metadata": {},
     "output_type": "display_data"
    },
    {
     "name": "stdout",
     "output_type": "stream",
     "text": [
      "Found 11671 validated image filenames belonging to 2 classes.\n",
      "Found 2918 validated image filenames belonging to 2 classes.\n",
      "Epoch 1/1000\n"
     ]
    },
    {
     "name": "stderr",
     "output_type": "stream",
     "text": [
      "2022-11-03 18:08:31.629483: I tensorflow/core/grappler/optimizers/custom_graph_optimizer_registry.cc:114] Plugin optimizer for device_type GPU is enabled.\n"
     ]
    },
    {
     "name": "stdout",
     "output_type": "stream",
     "text": [
      "233/233 [==============================] - ETA: 0s - loss: 0.6921 - accuracy: 0.5272"
     ]
    },
    {
     "name": "stderr",
     "output_type": "stream",
     "text": [
      "2022-11-03 18:22:31.037171: I tensorflow/core/grappler/optimizers/custom_graph_optimizer_registry.cc:114] Plugin optimizer for device_type GPU is enabled.\n",
      "WARNING:absl:Found untraced functions such as _jit_compiled_convolution_op, _jit_compiled_convolution_op, _jit_compiled_convolution_op, _jit_compiled_convolution_op, _jit_compiled_convolution_op while saving (showing 5 of 244). These functions will not be directly callable after loading.\n"
     ]
    },
    {
     "name": "stdout",
     "output_type": "stream",
     "text": [
      "INFO:tensorflow:Assets written to: /Users/hkleeeee/Desktop/Flooding24/2022-2-SCS4031-9to6/Model/image_classification/wandb/run-20221103_180814-e9mn2kgj/files/model-best/assets\n"
     ]
    },
    {
     "name": "stderr",
     "output_type": "stream",
     "text": [
      "INFO:tensorflow:Assets written to: /Users/hkleeeee/Desktop/Flooding24/2022-2-SCS4031-9to6/Model/image_classification/wandb/run-20221103_180814-e9mn2kgj/files/model-best/assets\n",
      "\u001b[34m\u001b[1mwandb\u001b[0m: Adding directory to artifact (/Users/hkleeeee/Desktop/Flooding24/2022-2-SCS4031-9to6/Model/image_classification/wandb/run-20221103_180814-e9mn2kgj/files/model-best)... Done. 0.9s\n"
     ]
    },
    {
     "name": "stdout",
     "output_type": "stream",
     "text": [
      "\n",
      "Epoch 1: val_loss improved from inf to 0.69094, saving model to ../data/weight/Inception_50_0.2_0.01_softmax_sgd_256.ckpt\n",
      "233/233 [==============================] - 1104s 5s/step - loss: 0.6921 - accuracy: 0.5272 - val_loss: 0.6909 - val_accuracy: 0.5295\n",
      "Epoch 2/1000\n",
      "233/233 [==============================] - ETA: 0s - loss: 0.6910 - accuracy: 0.5294"
     ]
    },
    {
     "name": "stderr",
     "output_type": "stream",
     "text": [
      "WARNING:absl:Found untraced functions such as _jit_compiled_convolution_op, _jit_compiled_convolution_op, _jit_compiled_convolution_op, _jit_compiled_convolution_op, _jit_compiled_convolution_op while saving (showing 5 of 244). These functions will not be directly callable after loading.\n"
     ]
    },
    {
     "name": "stdout",
     "output_type": "stream",
     "text": [
      "INFO:tensorflow:Assets written to: /Users/hkleeeee/Desktop/Flooding24/2022-2-SCS4031-9to6/Model/image_classification/wandb/run-20221103_180814-e9mn2kgj/files/model-best/assets\n"
     ]
    },
    {
     "name": "stderr",
     "output_type": "stream",
     "text": [
      "INFO:tensorflow:Assets written to: /Users/hkleeeee/Desktop/Flooding24/2022-2-SCS4031-9to6/Model/image_classification/wandb/run-20221103_180814-e9mn2kgj/files/model-best/assets\n",
      "\u001b[34m\u001b[1mwandb\u001b[0m: Adding directory to artifact (/Users/hkleeeee/Desktop/Flooding24/2022-2-SCS4031-9to6/Model/image_classification/wandb/run-20221103_180814-e9mn2kgj/files/model-best)... Done. 17.5s\n"
     ]
    },
    {
     "name": "stdout",
     "output_type": "stream",
     "text": [
      "\n",
      "Epoch 2: val_loss improved from 0.69094 to 0.69015, saving model to ../data/weight/Inception_50_0.2_0.01_softmax_sgd_256.ckpt\n",
      "233/233 [==============================] - 1096s 5s/step - loss: 0.6910 - accuracy: 0.5294 - val_loss: 0.6902 - val_accuracy: 0.5295\n",
      "Epoch 3/1000\n",
      " 27/233 [==>...........................] - ETA: 20:03 - loss: 0.6913 - accuracy: 0.5215"
     ]
    },
    {
     "name": "stderr",
     "output_type": "stream",
     "text": [
      "\u001b[34m\u001b[1mwandb\u001b[0m: Network error (ConnectionError), entering retry loop.\n"
     ]
    },
    {
     "name": "stdout",
     "output_type": "stream",
     "text": [
      "113/233 [=============>................] - ETA: 7:21 - loss: 0.6900 - accuracy: 0.5343"
     ]
    },
    {
     "name": "stderr",
     "output_type": "stream",
     "text": [
      "\u001b[34m\u001b[1mwandb\u001b[0m: Network error (ReadTimeout), entering retry loop.\n"
     ]
    },
    {
     "name": "stdout",
     "output_type": "stream",
     "text": [
      "127/233 [===============>..............] - ETA: 6:27 - loss: 0.6902 - accuracy: 0.5321"
     ]
    },
    {
     "name": "stderr",
     "output_type": "stream",
     "text": [
      "\u001b[34m\u001b[1mwandb\u001b[0m: Network error (ConnectionError), entering retry loop.\n"
     ]
    },
    {
     "name": "stdout",
     "output_type": "stream",
     "text": [
      "137/233 [================>.............] - ETA: 5:36 - loss: 0.6900 - accuracy: 0.5340"
     ]
    },
    {
     "name": "stderr",
     "output_type": "stream",
     "text": [
      "wandb: Network error (TransientError), entering retry loop.\n"
     ]
    },
    {
     "name": "stdout",
     "output_type": "stream",
     "text": [
      "215/233 [==========================>...] - ETA: 6:16 - loss: 0.6902 - accuracy: 0.5306"
     ]
    },
    {
     "name": "stderr",
     "output_type": "stream",
     "text": [
      "\u001b[34m\u001b[1mwandb\u001b[0m: Network error (ConnectionError), entering retry loop.\n"
     ]
    },
    {
     "name": "stdout",
     "output_type": "stream",
     "text": [
      "233/233 [==============================] - ETA: 0s - loss: 0.6903 - accuracy: 0.5293 "
     ]
    },
    {
     "name": "stderr",
     "output_type": "stream",
     "text": [
      "WARNING:absl:Found untraced functions such as _jit_compiled_convolution_op, _jit_compiled_convolution_op, _jit_compiled_convolution_op, _jit_compiled_convolution_op, _jit_compiled_convolution_op while saving (showing 5 of 244). These functions will not be directly callable after loading.\n"
     ]
    },
    {
     "name": "stdout",
     "output_type": "stream",
     "text": [
      "INFO:tensorflow:Assets written to: /Users/hkleeeee/Desktop/Flooding24/2022-2-SCS4031-9to6/Model/image_classification/wandb/run-20221103_180814-e9mn2kgj/files/model-best/assets\n"
     ]
    },
    {
     "name": "stderr",
     "output_type": "stream",
     "text": [
      "INFO:tensorflow:Assets written to: /Users/hkleeeee/Desktop/Flooding24/2022-2-SCS4031-9to6/Model/image_classification/wandb/run-20221103_180814-e9mn2kgj/files/model-best/assets\n",
      "\u001b[34m\u001b[1mwandb\u001b[0m: Adding directory to artifact (/Users/hkleeeee/Desktop/Flooding24/2022-2-SCS4031-9to6/Model/image_classification/wandb/run-20221103_180814-e9mn2kgj/files/model-best)... Done. 0.6s\n"
     ]
    },
    {
     "name": "stdout",
     "output_type": "stream",
     "text": [
      "\n",
      "Epoch 3: val_loss improved from 0.69015 to 0.68957, saving model to ../data/weight/Inception_50_0.2_0.01_softmax_sgd_256.ckpt\n",
      "233/233 [==============================] - 15282s 66s/step - loss: 0.6903 - accuracy: 0.5293 - val_loss: 0.6896 - val_accuracy: 0.5295\n",
      "Epoch 4/1000\n",
      "233/233 [==============================] - ETA: 0s - loss: 0.6898 - accuracy: 0.5294"
     ]
    },
    {
     "name": "stderr",
     "output_type": "stream",
     "text": [
      "WARNING:absl:Found untraced functions such as _jit_compiled_convolution_op, _jit_compiled_convolution_op, _jit_compiled_convolution_op, _jit_compiled_convolution_op, _jit_compiled_convolution_op while saving (showing 5 of 244). These functions will not be directly callable after loading.\n"
     ]
    },
    {
     "name": "stdout",
     "output_type": "stream",
     "text": [
      "INFO:tensorflow:Assets written to: /Users/hkleeeee/Desktop/Flooding24/2022-2-SCS4031-9to6/Model/image_classification/wandb/run-20221103_180814-e9mn2kgj/files/model-best/assets\n"
     ]
    },
    {
     "name": "stderr",
     "output_type": "stream",
     "text": [
      "INFO:tensorflow:Assets written to: /Users/hkleeeee/Desktop/Flooding24/2022-2-SCS4031-9to6/Model/image_classification/wandb/run-20221103_180814-e9mn2kgj/files/model-best/assets\n",
      "\u001b[34m\u001b[1mwandb\u001b[0m: Adding directory to artifact (/Users/hkleeeee/Desktop/Flooding24/2022-2-SCS4031-9to6/Model/image_classification/wandb/run-20221103_180814-e9mn2kgj/files/model-best)... Done. 0.6s\n"
     ]
    },
    {
     "name": "stdout",
     "output_type": "stream",
     "text": [
      "\n",
      "Epoch 4: val_loss improved from 0.68957 to 0.68898, saving model to ../data/weight/Inception_50_0.2_0.01_softmax_sgd_256.ckpt\n",
      "233/233 [==============================] - 554s 2s/step - loss: 0.6898 - accuracy: 0.5294 - val_loss: 0.6890 - val_accuracy: 0.5295\n",
      "Epoch 5/1000\n",
      "233/233 [==============================] - ETA: 0s - loss: 0.6891 - accuracy: 0.5296"
     ]
    },
    {
     "name": "stderr",
     "output_type": "stream",
     "text": [
      "WARNING:absl:Found untraced functions such as _jit_compiled_convolution_op, _jit_compiled_convolution_op, _jit_compiled_convolution_op, _jit_compiled_convolution_op, _jit_compiled_convolution_op while saving (showing 5 of 244). These functions will not be directly callable after loading.\n"
     ]
    },
    {
     "name": "stdout",
     "output_type": "stream",
     "text": [
      "INFO:tensorflow:Assets written to: /Users/hkleeeee/Desktop/Flooding24/2022-2-SCS4031-9to6/Model/image_classification/wandb/run-20221103_180814-e9mn2kgj/files/model-best/assets\n"
     ]
    },
    {
     "name": "stderr",
     "output_type": "stream",
     "text": [
      "INFO:tensorflow:Assets written to: /Users/hkleeeee/Desktop/Flooding24/2022-2-SCS4031-9to6/Model/image_classification/wandb/run-20221103_180814-e9mn2kgj/files/model-best/assets\n",
      "\u001b[34m\u001b[1mwandb\u001b[0m: Adding directory to artifact (/Users/hkleeeee/Desktop/Flooding24/2022-2-SCS4031-9to6/Model/image_classification/wandb/run-20221103_180814-e9mn2kgj/files/model-best)... Done. 0.6s\n"
     ]
    },
    {
     "name": "stdout",
     "output_type": "stream",
     "text": [
      "\n",
      "Epoch 5: val_loss improved from 0.68898 to 0.68825, saving model to ../data/weight/Inception_50_0.2_0.01_softmax_sgd_256.ckpt\n",
      "233/233 [==============================] - 585s 3s/step - loss: 0.6891 - accuracy: 0.5296 - val_loss: 0.6882 - val_accuracy: 0.5295\n",
      "Epoch 6/1000\n",
      "233/233 [==============================] - ETA: 0s - loss: 0.6882 - accuracy: 0.5296"
     ]
    },
    {
     "name": "stderr",
     "output_type": "stream",
     "text": [
      "WARNING:absl:Found untraced functions such as _jit_compiled_convolution_op, _jit_compiled_convolution_op, _jit_compiled_convolution_op, _jit_compiled_convolution_op, _jit_compiled_convolution_op while saving (showing 5 of 244). These functions will not be directly callable after loading.\n"
     ]
    },
    {
     "name": "stdout",
     "output_type": "stream",
     "text": [
      "INFO:tensorflow:Assets written to: /Users/hkleeeee/Desktop/Flooding24/2022-2-SCS4031-9to6/Model/image_classification/wandb/run-20221103_180814-e9mn2kgj/files/model-best/assets\n"
     ]
    },
    {
     "name": "stderr",
     "output_type": "stream",
     "text": [
      "INFO:tensorflow:Assets written to: /Users/hkleeeee/Desktop/Flooding24/2022-2-SCS4031-9to6/Model/image_classification/wandb/run-20221103_180814-e9mn2kgj/files/model-best/assets\n",
      "\u001b[34m\u001b[1mwandb\u001b[0m: Adding directory to artifact (/Users/hkleeeee/Desktop/Flooding24/2022-2-SCS4031-9to6/Model/image_classification/wandb/run-20221103_180814-e9mn2kgj/files/model-best)... Done. 0.6s\n"
     ]
    },
    {
     "name": "stdout",
     "output_type": "stream",
     "text": [
      "\n",
      "Epoch 6: val_loss improved from 0.68825 to 0.68697, saving model to ../data/weight/Inception_50_0.2_0.01_softmax_sgd_256.ckpt\n",
      "233/233 [==============================] - 652s 3s/step - loss: 0.6882 - accuracy: 0.5296 - val_loss: 0.6870 - val_accuracy: 0.5295\n",
      "Epoch 7/1000\n",
      "233/233 [==============================] - ETA: 0s - loss: 0.6856 - accuracy: 0.5296"
     ]
    },
    {
     "name": "stderr",
     "output_type": "stream",
     "text": [
      "WARNING:absl:Found untraced functions such as _jit_compiled_convolution_op, _jit_compiled_convolution_op, _jit_compiled_convolution_op, _jit_compiled_convolution_op, _jit_compiled_convolution_op while saving (showing 5 of 244). These functions will not be directly callable after loading.\n"
     ]
    },
    {
     "name": "stdout",
     "output_type": "stream",
     "text": [
      "INFO:tensorflow:Assets written to: /Users/hkleeeee/Desktop/Flooding24/2022-2-SCS4031-9to6/Model/image_classification/wandb/run-20221103_180814-e9mn2kgj/files/model-best/assets\n"
     ]
    },
    {
     "name": "stderr",
     "output_type": "stream",
     "text": [
      "INFO:tensorflow:Assets written to: /Users/hkleeeee/Desktop/Flooding24/2022-2-SCS4031-9to6/Model/image_classification/wandb/run-20221103_180814-e9mn2kgj/files/model-best/assets\n",
      "\u001b[34m\u001b[1mwandb\u001b[0m: Adding directory to artifact (/Users/hkleeeee/Desktop/Flooding24/2022-2-SCS4031-9to6/Model/image_classification/wandb/run-20221103_180814-e9mn2kgj/files/model-best)... Done. 0.6s\n"
     ]
    },
    {
     "name": "stdout",
     "output_type": "stream",
     "text": [
      "\n",
      "Epoch 7: val_loss improved from 0.68697 to 0.68063, saving model to ../data/weight/Inception_50_0.2_0.01_softmax_sgd_256.ckpt\n",
      "233/233 [==============================] - 747s 3s/step - loss: 0.6856 - accuracy: 0.5296 - val_loss: 0.6806 - val_accuracy: 0.5295\n",
      "Epoch 8/1000\n",
      "233/233 [==============================] - ETA: 0s - loss: 0.6676 - accuracy: 0.5295"
     ]
    },
    {
     "name": "stderr",
     "output_type": "stream",
     "text": [
      "WARNING:absl:Found untraced functions such as _jit_compiled_convolution_op, _jit_compiled_convolution_op, _jit_compiled_convolution_op, _jit_compiled_convolution_op, _jit_compiled_convolution_op while saving (showing 5 of 244). These functions will not be directly callable after loading.\n"
     ]
    },
    {
     "name": "stdout",
     "output_type": "stream",
     "text": [
      "INFO:tensorflow:Assets written to: /Users/hkleeeee/Desktop/Flooding24/2022-2-SCS4031-9to6/Model/image_classification/wandb/run-20221103_180814-e9mn2kgj/files/model-best/assets\n"
     ]
    },
    {
     "name": "stderr",
     "output_type": "stream",
     "text": [
      "INFO:tensorflow:Assets written to: /Users/hkleeeee/Desktop/Flooding24/2022-2-SCS4031-9to6/Model/image_classification/wandb/run-20221103_180814-e9mn2kgj/files/model-best/assets\n",
      "\u001b[34m\u001b[1mwandb\u001b[0m: Adding directory to artifact (/Users/hkleeeee/Desktop/Flooding24/2022-2-SCS4031-9to6/Model/image_classification/wandb/run-20221103_180814-e9mn2kgj/files/model-best)... Done. 0.6s\n"
     ]
    },
    {
     "name": "stdout",
     "output_type": "stream",
     "text": [
      "\n",
      "Epoch 8: val_loss improved from 0.68063 to 0.64644, saving model to ../data/weight/Inception_50_0.2_0.01_softmax_sgd_256.ckpt\n",
      "233/233 [==============================] - 806s 3s/step - loss: 0.6676 - accuracy: 0.5295 - val_loss: 0.6464 - val_accuracy: 0.5295\n",
      "Epoch 9/1000\n",
      "233/233 [==============================] - ETA: 0s - loss: 0.6325 - accuracy: 0.5456 "
     ]
    },
    {
     "name": "stderr",
     "output_type": "stream",
     "text": [
      "WARNING:absl:Found untraced functions such as _jit_compiled_convolution_op, _jit_compiled_convolution_op, _jit_compiled_convolution_op, _jit_compiled_convolution_op, _jit_compiled_convolution_op while saving (showing 5 of 244). These functions will not be directly callable after loading.\n"
     ]
    },
    {
     "name": "stdout",
     "output_type": "stream",
     "text": [
      "INFO:tensorflow:Assets written to: /Users/hkleeeee/Desktop/Flooding24/2022-2-SCS4031-9to6/Model/image_classification/wandb/run-20221103_180814-e9mn2kgj/files/model-best/assets\n"
     ]
    },
    {
     "name": "stderr",
     "output_type": "stream",
     "text": [
      "INFO:tensorflow:Assets written to: /Users/hkleeeee/Desktop/Flooding24/2022-2-SCS4031-9to6/Model/image_classification/wandb/run-20221103_180814-e9mn2kgj/files/model-best/assets\n",
      "\u001b[34m\u001b[1mwandb\u001b[0m: Adding directory to artifact (/Users/hkleeeee/Desktop/Flooding24/2022-2-SCS4031-9to6/Model/image_classification/wandb/run-20221103_180814-e9mn2kgj/files/model-best)... Done. 0.6s\n"
     ]
    },
    {
     "name": "stdout",
     "output_type": "stream",
     "text": [
      "\n",
      "Epoch 9: val_loss improved from 0.64644 to 0.60075, saving model to ../data/weight/Inception_50_0.2_0.01_softmax_sgd_256.ckpt\n",
      "233/233 [==============================] - 15445s 67s/step - loss: 0.6325 - accuracy: 0.5456 - val_loss: 0.6007 - val_accuracy: 0.7437\n",
      "Epoch 10/1000\n",
      " 14/233 [>.............................] - ETA: 14:18:38 - loss: 0.6054 - accuracy: 0.6543"
     ]
    },
    {
     "name": "stderr",
     "output_type": "stream",
     "text": [
      "wandb: Network error (TransientError), entering retry loop.\n"
     ]
    },
    {
     "name": "stdout",
     "output_type": "stream",
     "text": [
      "233/233 [==============================] - ETA: 0s - loss: 0.5865 - accuracy: 0.7787  "
     ]
    },
    {
     "name": "stderr",
     "output_type": "stream",
     "text": [
      "WARNING:absl:Found untraced functions such as _jit_compiled_convolution_op, _jit_compiled_convolution_op, _jit_compiled_convolution_op, _jit_compiled_convolution_op, _jit_compiled_convolution_op while saving (showing 5 of 244). These functions will not be directly callable after loading.\n"
     ]
    },
    {
     "name": "stdout",
     "output_type": "stream",
     "text": [
      "INFO:tensorflow:Assets written to: /Users/hkleeeee/Desktop/Flooding24/2022-2-SCS4031-9to6/Model/image_classification/wandb/run-20221103_180814-e9mn2kgj/files/model-best/assets\n"
     ]
    },
    {
     "name": "stderr",
     "output_type": "stream",
     "text": [
      "INFO:tensorflow:Assets written to: /Users/hkleeeee/Desktop/Flooding24/2022-2-SCS4031-9to6/Model/image_classification/wandb/run-20221103_180814-e9mn2kgj/files/model-best/assets\n",
      "\u001b[34m\u001b[1mwandb\u001b[0m: Adding directory to artifact (/Users/hkleeeee/Desktop/Flooding24/2022-2-SCS4031-9to6/Model/image_classification/wandb/run-20221103_180814-e9mn2kgj/files/model-best)... Done. 0.6s\n"
     ]
    },
    {
     "name": "stdout",
     "output_type": "stream",
     "text": [
      "\n",
      "Epoch 10: val_loss improved from 0.60075 to 0.54839, saving model to ../data/weight/Inception_50_0.2_0.01_softmax_sgd_256.ckpt\n",
      "233/233 [==============================] - 18295s 74s/step - loss: 0.5865 - accuracy: 0.7787 - val_loss: 0.5484 - val_accuracy: 0.9171\n",
      "Epoch 11/1000\n",
      " 13/233 [>.............................] - ETA: 16:02:37 - loss: 0.5603 - accuracy: 0.8738"
     ]
    },
    {
     "name": "stderr",
     "output_type": "stream",
     "text": [
      "wandb: Network error (TransientError), entering retry loop.\n"
     ]
    },
    {
     "name": "stdout",
     "output_type": "stream",
     "text": [
      "233/233 [==============================] - ETA: 0s - loss: 0.5382 - accuracy: 0.8915  "
     ]
    },
    {
     "name": "stderr",
     "output_type": "stream",
     "text": [
      "WARNING:absl:Found untraced functions such as _jit_compiled_convolution_op, _jit_compiled_convolution_op, _jit_compiled_convolution_op, _jit_compiled_convolution_op, _jit_compiled_convolution_op while saving (showing 5 of 244). These functions will not be directly callable after loading.\n"
     ]
    },
    {
     "name": "stdout",
     "output_type": "stream",
     "text": [
      "INFO:tensorflow:Assets written to: /Users/hkleeeee/Desktop/Flooding24/2022-2-SCS4031-9to6/Model/image_classification/wandb/run-20221103_180814-e9mn2kgj/files/model-best/assets\n"
     ]
    },
    {
     "name": "stderr",
     "output_type": "stream",
     "text": [
      "INFO:tensorflow:Assets written to: /Users/hkleeeee/Desktop/Flooding24/2022-2-SCS4031-9to6/Model/image_classification/wandb/run-20221103_180814-e9mn2kgj/files/model-best/assets\n",
      "\u001b[34m\u001b[1mwandb\u001b[0m: Adding directory to artifact (/Users/hkleeeee/Desktop/Flooding24/2022-2-SCS4031-9to6/Model/image_classification/wandb/run-20221103_180814-e9mn2kgj/files/model-best)... Done. 0.6s\n"
     ]
    },
    {
     "name": "stdout",
     "output_type": "stream",
     "text": [
      "\n",
      "Epoch 11: val_loss improved from 0.54839 to 0.49872, saving model to ../data/weight/Inception_50_0.2_0.01_softmax_sgd_256.ckpt\n",
      "233/233 [==============================] - 21595s 93s/step - loss: 0.5382 - accuracy: 0.8915 - val_loss: 0.4987 - val_accuracy: 0.9414\n",
      "Epoch 12/1000\n",
      "233/233 [==============================] - ETA: 0s - loss: 0.4931 - accuracy: 0.9208"
     ]
    },
    {
     "name": "stderr",
     "output_type": "stream",
     "text": [
      "WARNING:absl:Found untraced functions such as _jit_compiled_convolution_op, _jit_compiled_convolution_op, _jit_compiled_convolution_op, _jit_compiled_convolution_op, _jit_compiled_convolution_op while saving (showing 5 of 244). These functions will not be directly callable after loading.\n"
     ]
    },
    {
     "name": "stdout",
     "output_type": "stream",
     "text": [
      "INFO:tensorflow:Assets written to: /Users/hkleeeee/Desktop/Flooding24/2022-2-SCS4031-9to6/Model/image_classification/wandb/run-20221103_180814-e9mn2kgj/files/model-best/assets\n"
     ]
    },
    {
     "name": "stderr",
     "output_type": "stream",
     "text": [
      "INFO:tensorflow:Assets written to: /Users/hkleeeee/Desktop/Flooding24/2022-2-SCS4031-9to6/Model/image_classification/wandb/run-20221103_180814-e9mn2kgj/files/model-best/assets\n",
      "\u001b[34m\u001b[1mwandb\u001b[0m: Adding directory to artifact (/Users/hkleeeee/Desktop/Flooding24/2022-2-SCS4031-9to6/Model/image_classification/wandb/run-20221103_180814-e9mn2kgj/files/model-best)... Done. 0.6s\n"
     ]
    },
    {
     "name": "stdout",
     "output_type": "stream",
     "text": [
      "\n",
      "Epoch 12: val_loss improved from 0.49872 to 0.45412, saving model to ../data/weight/Inception_50_0.2_0.01_softmax_sgd_256.ckpt\n",
      "233/233 [==============================] - 558s 2s/step - loss: 0.4931 - accuracy: 0.9208 - val_loss: 0.4541 - val_accuracy: 0.9489\n",
      "Epoch 13/1000\n",
      "233/233 [==============================] - ETA: 0s - loss: 0.4542 - accuracy: 0.9340"
     ]
    },
    {
     "name": "stderr",
     "output_type": "stream",
     "text": [
      "WARNING:absl:Found untraced functions such as _jit_compiled_convolution_op, _jit_compiled_convolution_op, _jit_compiled_convolution_op, _jit_compiled_convolution_op, _jit_compiled_convolution_op while saving (showing 5 of 244). These functions will not be directly callable after loading.\n"
     ]
    },
    {
     "name": "stdout",
     "output_type": "stream",
     "text": [
      "INFO:tensorflow:Assets written to: /Users/hkleeeee/Desktop/Flooding24/2022-2-SCS4031-9to6/Model/image_classification/wandb/run-20221103_180814-e9mn2kgj/files/model-best/assets\n"
     ]
    },
    {
     "name": "stderr",
     "output_type": "stream",
     "text": [
      "INFO:tensorflow:Assets written to: /Users/hkleeeee/Desktop/Flooding24/2022-2-SCS4031-9to6/Model/image_classification/wandb/run-20221103_180814-e9mn2kgj/files/model-best/assets\n",
      "\u001b[34m\u001b[1mwandb\u001b[0m: Adding directory to artifact (/Users/hkleeeee/Desktop/Flooding24/2022-2-SCS4031-9to6/Model/image_classification/wandb/run-20221103_180814-e9mn2kgj/files/model-best)... Done. 0.6s\n"
     ]
    },
    {
     "name": "stdout",
     "output_type": "stream",
     "text": [
      "\n",
      "Epoch 13: val_loss improved from 0.45412 to 0.41530, saving model to ../data/weight/Inception_50_0.2_0.01_softmax_sgd_256.ckpt\n",
      "233/233 [==============================] - 618s 3s/step - loss: 0.4542 - accuracy: 0.9340 - val_loss: 0.4153 - val_accuracy: 0.9585\n",
      "Epoch 14/1000\n",
      "233/233 [==============================] - ETA: 0s - loss: 0.4192 - accuracy: 0.9406"
     ]
    },
    {
     "name": "stderr",
     "output_type": "stream",
     "text": [
      "WARNING:absl:Found untraced functions such as _jit_compiled_convolution_op, _jit_compiled_convolution_op, _jit_compiled_convolution_op, _jit_compiled_convolution_op, _jit_compiled_convolution_op while saving (showing 5 of 244). These functions will not be directly callable after loading.\n"
     ]
    },
    {
     "name": "stdout",
     "output_type": "stream",
     "text": [
      "INFO:tensorflow:Assets written to: /Users/hkleeeee/Desktop/Flooding24/2022-2-SCS4031-9to6/Model/image_classification/wandb/run-20221103_180814-e9mn2kgj/files/model-best/assets\n"
     ]
    },
    {
     "name": "stderr",
     "output_type": "stream",
     "text": [
      "INFO:tensorflow:Assets written to: /Users/hkleeeee/Desktop/Flooding24/2022-2-SCS4031-9to6/Model/image_classification/wandb/run-20221103_180814-e9mn2kgj/files/model-best/assets\n",
      "\u001b[34m\u001b[1mwandb\u001b[0m: Adding directory to artifact (/Users/hkleeeee/Desktop/Flooding24/2022-2-SCS4031-9to6/Model/image_classification/wandb/run-20221103_180814-e9mn2kgj/files/model-best)... Done. 0.7s\n"
     ]
    },
    {
     "name": "stdout",
     "output_type": "stream",
     "text": [
      "\n",
      "Epoch 14: val_loss improved from 0.41530 to 0.38169, saving model to ../data/weight/Inception_50_0.2_0.01_softmax_sgd_256.ckpt\n",
      "233/233 [==============================] - 625s 3s/step - loss: 0.4192 - accuracy: 0.9406 - val_loss: 0.3817 - val_accuracy: 0.9633\n",
      "Epoch 15/1000\n",
      "233/233 [==============================] - ETA: 0s - loss: 0.3866 - accuracy: 0.9468"
     ]
    },
    {
     "name": "stderr",
     "output_type": "stream",
     "text": [
      "WARNING:absl:Found untraced functions such as _jit_compiled_convolution_op, _jit_compiled_convolution_op, _jit_compiled_convolution_op, _jit_compiled_convolution_op, _jit_compiled_convolution_op while saving (showing 5 of 244). These functions will not be directly callable after loading.\n"
     ]
    },
    {
     "name": "stdout",
     "output_type": "stream",
     "text": [
      "INFO:tensorflow:Assets written to: /Users/hkleeeee/Desktop/Flooding24/2022-2-SCS4031-9to6/Model/image_classification/wandb/run-20221103_180814-e9mn2kgj/files/model-best/assets\n"
     ]
    },
    {
     "name": "stderr",
     "output_type": "stream",
     "text": [
      "INFO:tensorflow:Assets written to: /Users/hkleeeee/Desktop/Flooding24/2022-2-SCS4031-9to6/Model/image_classification/wandb/run-20221103_180814-e9mn2kgj/files/model-best/assets\n",
      "\u001b[34m\u001b[1mwandb\u001b[0m: Adding directory to artifact (/Users/hkleeeee/Desktop/Flooding24/2022-2-SCS4031-9to6/Model/image_classification/wandb/run-20221103_180814-e9mn2kgj/files/model-best)... Done. 0.9s\n"
     ]
    },
    {
     "name": "stdout",
     "output_type": "stream",
     "text": [
      "\n",
      "Epoch 15: val_loss improved from 0.38169 to 0.35223, saving model to ../data/weight/Inception_50_0.2_0.01_softmax_sgd_256.ckpt\n",
      "233/233 [==============================] - 1023s 4s/step - loss: 0.3866 - accuracy: 0.9468 - val_loss: 0.3522 - val_accuracy: 0.9668\n",
      "Epoch 16/1000\n",
      "233/233 [==============================] - ETA: 0s - loss: 0.3597 - accuracy: 0.9465"
     ]
    },
    {
     "name": "stderr",
     "output_type": "stream",
     "text": [
      "WARNING:absl:Found untraced functions such as _jit_compiled_convolution_op, _jit_compiled_convolution_op, _jit_compiled_convolution_op, _jit_compiled_convolution_op, _jit_compiled_convolution_op while saving (showing 5 of 244). These functions will not be directly callable after loading.\n"
     ]
    },
    {
     "name": "stdout",
     "output_type": "stream",
     "text": [
      "INFO:tensorflow:Assets written to: /Users/hkleeeee/Desktop/Flooding24/2022-2-SCS4031-9to6/Model/image_classification/wandb/run-20221103_180814-e9mn2kgj/files/model-best/assets\n"
     ]
    },
    {
     "name": "stderr",
     "output_type": "stream",
     "text": [
      "INFO:tensorflow:Assets written to: /Users/hkleeeee/Desktop/Flooding24/2022-2-SCS4031-9to6/Model/image_classification/wandb/run-20221103_180814-e9mn2kgj/files/model-best/assets\n",
      "\u001b[34m\u001b[1mwandb\u001b[0m: Adding directory to artifact (/Users/hkleeeee/Desktop/Flooding24/2022-2-SCS4031-9to6/Model/image_classification/wandb/run-20221103_180814-e9mn2kgj/files/model-best)... Done. 0.9s\n"
     ]
    },
    {
     "name": "stdout",
     "output_type": "stream",
     "text": [
      "\n",
      "Epoch 16: val_loss improved from 0.35223 to 0.32596, saving model to ../data/weight/Inception_50_0.2_0.01_softmax_sgd_256.ckpt\n",
      "233/233 [==============================] - 1089s 5s/step - loss: 0.3597 - accuracy: 0.9465 - val_loss: 0.3260 - val_accuracy: 0.9695\n",
      "Epoch 17/1000\n",
      "233/233 [==============================] - ETA: 0s - loss: 0.3319 - accuracy: 0.9491"
     ]
    },
    {
     "name": "stderr",
     "output_type": "stream",
     "text": [
      "WARNING:absl:Found untraced functions such as _jit_compiled_convolution_op, _jit_compiled_convolution_op, _jit_compiled_convolution_op, _jit_compiled_convolution_op, _jit_compiled_convolution_op while saving (showing 5 of 244). These functions will not be directly callable after loading.\n"
     ]
    },
    {
     "name": "stdout",
     "output_type": "stream",
     "text": [
      "INFO:tensorflow:Assets written to: /Users/hkleeeee/Desktop/Flooding24/2022-2-SCS4031-9to6/Model/image_classification/wandb/run-20221103_180814-e9mn2kgj/files/model-best/assets\n"
     ]
    },
    {
     "name": "stderr",
     "output_type": "stream",
     "text": [
      "INFO:tensorflow:Assets written to: /Users/hkleeeee/Desktop/Flooding24/2022-2-SCS4031-9to6/Model/image_classification/wandb/run-20221103_180814-e9mn2kgj/files/model-best/assets\n",
      "\u001b[34m\u001b[1mwandb\u001b[0m: Adding directory to artifact (/Users/hkleeeee/Desktop/Flooding24/2022-2-SCS4031-9to6/Model/image_classification/wandb/run-20221103_180814-e9mn2kgj/files/model-best)... Done. 0.8s\n"
     ]
    },
    {
     "name": "stdout",
     "output_type": "stream",
     "text": [
      "\n",
      "Epoch 17: val_loss improved from 0.32596 to 0.29931, saving model to ../data/weight/Inception_50_0.2_0.01_softmax_sgd_256.ckpt\n",
      "233/233 [==============================] - 1003s 4s/step - loss: 0.3319 - accuracy: 0.9491 - val_loss: 0.2993 - val_accuracy: 0.9681\n",
      "Epoch 18/1000\n",
      "233/233 [==============================] - ETA: 0s - loss: 0.2985 - accuracy: 0.9508"
     ]
    },
    {
     "name": "stderr",
     "output_type": "stream",
     "text": [
      "WARNING:absl:Found untraced functions such as _jit_compiled_convolution_op, _jit_compiled_convolution_op, _jit_compiled_convolution_op, _jit_compiled_convolution_op, _jit_compiled_convolution_op while saving (showing 5 of 244). These functions will not be directly callable after loading.\n"
     ]
    },
    {
     "name": "stdout",
     "output_type": "stream",
     "text": [
      "INFO:tensorflow:Assets written to: /Users/hkleeeee/Desktop/Flooding24/2022-2-SCS4031-9to6/Model/image_classification/wandb/run-20221103_180814-e9mn2kgj/files/model-best/assets\n"
     ]
    },
    {
     "name": "stderr",
     "output_type": "stream",
     "text": [
      "INFO:tensorflow:Assets written to: /Users/hkleeeee/Desktop/Flooding24/2022-2-SCS4031-9to6/Model/image_classification/wandb/run-20221103_180814-e9mn2kgj/files/model-best/assets\n",
      "\u001b[34m\u001b[1mwandb\u001b[0m: Adding directory to artifact (/Users/hkleeeee/Desktop/Flooding24/2022-2-SCS4031-9to6/Model/image_classification/wandb/run-20221103_180814-e9mn2kgj/files/model-best)... Done. 0.9s\n"
     ]
    },
    {
     "name": "stdout",
     "output_type": "stream",
     "text": [
      "\n",
      "Epoch 18: val_loss improved from 0.29931 to 0.27026, saving model to ../data/weight/Inception_50_0.2_0.01_softmax_sgd_256.ckpt\n",
      "233/233 [==============================] - 1014s 4s/step - loss: 0.2985 - accuracy: 0.9508 - val_loss: 0.2703 - val_accuracy: 0.9685\n",
      "Epoch 19/1000\n",
      "233/233 [==============================] - ETA: 0s - loss: 0.2697 - accuracy: 0.9525"
     ]
    },
    {
     "name": "stderr",
     "output_type": "stream",
     "text": [
      "WARNING:absl:Found untraced functions such as _jit_compiled_convolution_op, _jit_compiled_convolution_op, _jit_compiled_convolution_op, _jit_compiled_convolution_op, _jit_compiled_convolution_op while saving (showing 5 of 244). These functions will not be directly callable after loading.\n"
     ]
    },
    {
     "name": "stdout",
     "output_type": "stream",
     "text": [
      "INFO:tensorflow:Assets written to: /Users/hkleeeee/Desktop/Flooding24/2022-2-SCS4031-9to6/Model/image_classification/wandb/run-20221103_180814-e9mn2kgj/files/model-best/assets\n"
     ]
    },
    {
     "name": "stderr",
     "output_type": "stream",
     "text": [
      "INFO:tensorflow:Assets written to: /Users/hkleeeee/Desktop/Flooding24/2022-2-SCS4031-9to6/Model/image_classification/wandb/run-20221103_180814-e9mn2kgj/files/model-best/assets\n",
      "\u001b[34m\u001b[1mwandb\u001b[0m: Adding directory to artifact (/Users/hkleeeee/Desktop/Flooding24/2022-2-SCS4031-9to6/Model/image_classification/wandb/run-20221103_180814-e9mn2kgj/files/model-best)... Done. 0.9s\n"
     ]
    },
    {
     "name": "stdout",
     "output_type": "stream",
     "text": [
      "\n",
      "Epoch 19: val_loss improved from 0.27026 to 0.24422, saving model to ../data/weight/Inception_50_0.2_0.01_softmax_sgd_256.ckpt\n",
      "233/233 [==============================] - 981s 4s/step - loss: 0.2697 - accuracy: 0.9525 - val_loss: 0.2442 - val_accuracy: 0.9668\n",
      "Epoch 20/1000\n",
      "233/233 [==============================] - ETA: 0s - loss: 0.2472 - accuracy: 0.9522"
     ]
    },
    {
     "name": "stderr",
     "output_type": "stream",
     "text": [
      "WARNING:absl:Found untraced functions such as _jit_compiled_convolution_op, _jit_compiled_convolution_op, _jit_compiled_convolution_op, _jit_compiled_convolution_op, _jit_compiled_convolution_op while saving (showing 5 of 244). These functions will not be directly callable after loading.\n"
     ]
    },
    {
     "name": "stdout",
     "output_type": "stream",
     "text": [
      "INFO:tensorflow:Assets written to: /Users/hkleeeee/Desktop/Flooding24/2022-2-SCS4031-9to6/Model/image_classification/wandb/run-20221103_180814-e9mn2kgj/files/model-best/assets\n"
     ]
    },
    {
     "name": "stderr",
     "output_type": "stream",
     "text": [
      "INFO:tensorflow:Assets written to: /Users/hkleeeee/Desktop/Flooding24/2022-2-SCS4031-9to6/Model/image_classification/wandb/run-20221103_180814-e9mn2kgj/files/model-best/assets\n",
      "\u001b[34m\u001b[1mwandb\u001b[0m: Adding directory to artifact (/Users/hkleeeee/Desktop/Flooding24/2022-2-SCS4031-9to6/Model/image_classification/wandb/run-20221103_180814-e9mn2kgj/files/model-best)... Done. 0.9s\n"
     ]
    },
    {
     "name": "stdout",
     "output_type": "stream",
     "text": [
      "\n",
      "Epoch 20: val_loss improved from 0.24422 to 0.21651, saving model to ../data/weight/Inception_50_0.2_0.01_softmax_sgd_256.ckpt\n",
      "233/233 [==============================] - 992s 4s/step - loss: 0.2472 - accuracy: 0.9522 - val_loss: 0.2165 - val_accuracy: 0.9712\n",
      "Epoch 21/1000\n",
      "233/233 [==============================] - ETA: 0s - loss: 0.2227 - accuracy: 0.9576"
     ]
    },
    {
     "name": "stderr",
     "output_type": "stream",
     "text": [
      "WARNING:absl:Found untraced functions such as _jit_compiled_convolution_op, _jit_compiled_convolution_op, _jit_compiled_convolution_op, _jit_compiled_convolution_op, _jit_compiled_convolution_op while saving (showing 5 of 244). These functions will not be directly callable after loading.\n"
     ]
    },
    {
     "name": "stdout",
     "output_type": "stream",
     "text": [
      "INFO:tensorflow:Assets written to: /Users/hkleeeee/Desktop/Flooding24/2022-2-SCS4031-9to6/Model/image_classification/wandb/run-20221103_180814-e9mn2kgj/files/model-best/assets\n"
     ]
    },
    {
     "name": "stderr",
     "output_type": "stream",
     "text": [
      "INFO:tensorflow:Assets written to: /Users/hkleeeee/Desktop/Flooding24/2022-2-SCS4031-9to6/Model/image_classification/wandb/run-20221103_180814-e9mn2kgj/files/model-best/assets\n",
      "\u001b[34m\u001b[1mwandb\u001b[0m: Adding directory to artifact (/Users/hkleeeee/Desktop/Flooding24/2022-2-SCS4031-9to6/Model/image_classification/wandb/run-20221103_180814-e9mn2kgj/files/model-best)... Done. 0.9s\n"
     ]
    },
    {
     "name": "stdout",
     "output_type": "stream",
     "text": [
      "\n",
      "Epoch 21: val_loss improved from 0.21651 to 0.19818, saving model to ../data/weight/Inception_50_0.2_0.01_softmax_sgd_256.ckpt\n",
      "233/233 [==============================] - 1001s 4s/step - loss: 0.2227 - accuracy: 0.9576 - val_loss: 0.1982 - val_accuracy: 0.9709\n",
      "Epoch 22/1000\n",
      "233/233 [==============================] - ETA: 0s - loss: 0.2096 - accuracy: 0.9568"
     ]
    },
    {
     "name": "stderr",
     "output_type": "stream",
     "text": [
      "WARNING:absl:Found untraced functions such as _jit_compiled_convolution_op, _jit_compiled_convolution_op, _jit_compiled_convolution_op, _jit_compiled_convolution_op, _jit_compiled_convolution_op while saving (showing 5 of 244). These functions will not be directly callable after loading.\n"
     ]
    },
    {
     "name": "stdout",
     "output_type": "stream",
     "text": [
      "INFO:tensorflow:Assets written to: /Users/hkleeeee/Desktop/Flooding24/2022-2-SCS4031-9to6/Model/image_classification/wandb/run-20221103_180814-e9mn2kgj/files/model-best/assets\n"
     ]
    },
    {
     "name": "stderr",
     "output_type": "stream",
     "text": [
      "INFO:tensorflow:Assets written to: /Users/hkleeeee/Desktop/Flooding24/2022-2-SCS4031-9to6/Model/image_classification/wandb/run-20221103_180814-e9mn2kgj/files/model-best/assets\n",
      "\u001b[34m\u001b[1mwandb\u001b[0m: Adding directory to artifact (/Users/hkleeeee/Desktop/Flooding24/2022-2-SCS4031-9to6/Model/image_classification/wandb/run-20221103_180814-e9mn2kgj/files/model-best)... Done. 0.9s\n"
     ]
    },
    {
     "name": "stdout",
     "output_type": "stream",
     "text": [
      "\n",
      "Epoch 22: val_loss improved from 0.19818 to 0.18499, saving model to ../data/weight/Inception_50_0.2_0.01_softmax_sgd_256.ckpt\n",
      "233/233 [==============================] - 1167s 5s/step - loss: 0.2096 - accuracy: 0.9568 - val_loss: 0.1850 - val_accuracy: 0.9709\n",
      "Epoch 23/1000\n",
      "233/233 [==============================] - ETA: 0s - loss: 0.1949 - accuracy: 0.9602"
     ]
    },
    {
     "name": "stderr",
     "output_type": "stream",
     "text": [
      "WARNING:absl:Found untraced functions such as _jit_compiled_convolution_op, _jit_compiled_convolution_op, _jit_compiled_convolution_op, _jit_compiled_convolution_op, _jit_compiled_convolution_op while saving (showing 5 of 244). These functions will not be directly callable after loading.\n"
     ]
    },
    {
     "name": "stdout",
     "output_type": "stream",
     "text": [
      "INFO:tensorflow:Assets written to: /Users/hkleeeee/Desktop/Flooding24/2022-2-SCS4031-9to6/Model/image_classification/wandb/run-20221103_180814-e9mn2kgj/files/model-best/assets\n"
     ]
    },
    {
     "name": "stderr",
     "output_type": "stream",
     "text": [
      "INFO:tensorflow:Assets written to: /Users/hkleeeee/Desktop/Flooding24/2022-2-SCS4031-9to6/Model/image_classification/wandb/run-20221103_180814-e9mn2kgj/files/model-best/assets\n",
      "\u001b[34m\u001b[1mwandb\u001b[0m: Adding directory to artifact (/Users/hkleeeee/Desktop/Flooding24/2022-2-SCS4031-9to6/Model/image_classification/wandb/run-20221103_180814-e9mn2kgj/files/model-best)... Done. 1.0s\n"
     ]
    },
    {
     "name": "stdout",
     "output_type": "stream",
     "text": [
      "\n",
      "Epoch 23: val_loss improved from 0.18499 to 0.17125, saving model to ../data/weight/Inception_50_0.2_0.01_softmax_sgd_256.ckpt\n",
      "233/233 [==============================] - 985s 4s/step - loss: 0.1949 - accuracy: 0.9602 - val_loss: 0.1712 - val_accuracy: 0.9722\n",
      "Epoch 24/1000\n",
      "233/233 [==============================] - ETA: 0s - loss: 0.1847 - accuracy: 0.9598"
     ]
    },
    {
     "name": "stderr",
     "output_type": "stream",
     "text": [
      "WARNING:absl:Found untraced functions such as _jit_compiled_convolution_op, _jit_compiled_convolution_op, _jit_compiled_convolution_op, _jit_compiled_convolution_op, _jit_compiled_convolution_op while saving (showing 5 of 244). These functions will not be directly callable after loading.\n"
     ]
    },
    {
     "name": "stdout",
     "output_type": "stream",
     "text": [
      "INFO:tensorflow:Assets written to: /Users/hkleeeee/Desktop/Flooding24/2022-2-SCS4031-9to6/Model/image_classification/wandb/run-20221103_180814-e9mn2kgj/files/model-best/assets\n"
     ]
    },
    {
     "name": "stderr",
     "output_type": "stream",
     "text": [
      "INFO:tensorflow:Assets written to: /Users/hkleeeee/Desktop/Flooding24/2022-2-SCS4031-9to6/Model/image_classification/wandb/run-20221103_180814-e9mn2kgj/files/model-best/assets\n",
      "\u001b[34m\u001b[1mwandb\u001b[0m: Adding directory to artifact (/Users/hkleeeee/Desktop/Flooding24/2022-2-SCS4031-9to6/Model/image_classification/wandb/run-20221103_180814-e9mn2kgj/files/model-best)... Done. 0.9s\n"
     ]
    },
    {
     "name": "stdout",
     "output_type": "stream",
     "text": [
      "\n",
      "Epoch 24: val_loss improved from 0.17125 to 0.16049, saving model to ../data/weight/Inception_50_0.2_0.01_softmax_sgd_256.ckpt\n",
      "233/233 [==============================] - 981s 4s/step - loss: 0.1847 - accuracy: 0.9598 - val_loss: 0.1605 - val_accuracy: 0.9740\n",
      "Epoch 25/1000\n",
      "233/233 [==============================] - ETA: 0s - loss: 0.1776 - accuracy: 0.9614"
     ]
    },
    {
     "name": "stderr",
     "output_type": "stream",
     "text": [
      "WARNING:absl:Found untraced functions such as _jit_compiled_convolution_op, _jit_compiled_convolution_op, _jit_compiled_convolution_op, _jit_compiled_convolution_op, _jit_compiled_convolution_op while saving (showing 5 of 244). These functions will not be directly callable after loading.\n"
     ]
    },
    {
     "name": "stdout",
     "output_type": "stream",
     "text": [
      "INFO:tensorflow:Assets written to: /Users/hkleeeee/Desktop/Flooding24/2022-2-SCS4031-9to6/Model/image_classification/wandb/run-20221103_180814-e9mn2kgj/files/model-best/assets\n"
     ]
    },
    {
     "name": "stderr",
     "output_type": "stream",
     "text": [
      "INFO:tensorflow:Assets written to: /Users/hkleeeee/Desktop/Flooding24/2022-2-SCS4031-9to6/Model/image_classification/wandb/run-20221103_180814-e9mn2kgj/files/model-best/assets\n",
      "\u001b[34m\u001b[1mwandb\u001b[0m: Adding directory to artifact (/Users/hkleeeee/Desktop/Flooding24/2022-2-SCS4031-9to6/Model/image_classification/wandb/run-20221103_180814-e9mn2kgj/files/model-best)... Done. 0.9s\n"
     ]
    },
    {
     "name": "stdout",
     "output_type": "stream",
     "text": [
      "\n",
      "Epoch 25: val_loss improved from 0.16049 to 0.14864, saving model to ../data/weight/Inception_50_0.2_0.01_softmax_sgd_256.ckpt\n",
      "233/233 [==============================] - 1036s 4s/step - loss: 0.1776 - accuracy: 0.9614 - val_loss: 0.1486 - val_accuracy: 0.9746\n",
      "Epoch 26/1000\n",
      "233/233 [==============================] - ETA: 0s - loss: 0.1665 - accuracy: 0.9627"
     ]
    },
    {
     "name": "stderr",
     "output_type": "stream",
     "text": [
      "WARNING:absl:Found untraced functions such as _jit_compiled_convolution_op, _jit_compiled_convolution_op, _jit_compiled_convolution_op, _jit_compiled_convolution_op, _jit_compiled_convolution_op while saving (showing 5 of 244). These functions will not be directly callable after loading.\n"
     ]
    },
    {
     "name": "stdout",
     "output_type": "stream",
     "text": [
      "INFO:tensorflow:Assets written to: /Users/hkleeeee/Desktop/Flooding24/2022-2-SCS4031-9to6/Model/image_classification/wandb/run-20221103_180814-e9mn2kgj/files/model-best/assets\n"
     ]
    },
    {
     "name": "stderr",
     "output_type": "stream",
     "text": [
      "INFO:tensorflow:Assets written to: /Users/hkleeeee/Desktop/Flooding24/2022-2-SCS4031-9to6/Model/image_classification/wandb/run-20221103_180814-e9mn2kgj/files/model-best/assets\n",
      "\u001b[34m\u001b[1mwandb\u001b[0m: Adding directory to artifact (/Users/hkleeeee/Desktop/Flooding24/2022-2-SCS4031-9to6/Model/image_classification/wandb/run-20221103_180814-e9mn2kgj/files/model-best)... Done. 0.9s\n"
     ]
    },
    {
     "name": "stdout",
     "output_type": "stream",
     "text": [
      "\n",
      "Epoch 26: val_loss improved from 0.14864 to 0.14295, saving model to ../data/weight/Inception_50_0.2_0.01_softmax_sgd_256.ckpt\n",
      "233/233 [==============================] - 1083s 5s/step - loss: 0.1665 - accuracy: 0.9627 - val_loss: 0.1429 - val_accuracy: 0.9753\n",
      "Epoch 27/1000\n",
      "233/233 [==============================] - ETA: 0s - loss: 0.1580 - accuracy: 0.9652"
     ]
    },
    {
     "name": "stderr",
     "output_type": "stream",
     "text": [
      "WARNING:absl:Found untraced functions such as _jit_compiled_convolution_op, _jit_compiled_convolution_op, _jit_compiled_convolution_op, _jit_compiled_convolution_op, _jit_compiled_convolution_op while saving (showing 5 of 244). These functions will not be directly callable after loading.\n"
     ]
    },
    {
     "name": "stdout",
     "output_type": "stream",
     "text": [
      "INFO:tensorflow:Assets written to: /Users/hkleeeee/Desktop/Flooding24/2022-2-SCS4031-9to6/Model/image_classification/wandb/run-20221103_180814-e9mn2kgj/files/model-best/assets\n"
     ]
    },
    {
     "name": "stderr",
     "output_type": "stream",
     "text": [
      "INFO:tensorflow:Assets written to: /Users/hkleeeee/Desktop/Flooding24/2022-2-SCS4031-9to6/Model/image_classification/wandb/run-20221103_180814-e9mn2kgj/files/model-best/assets\n",
      "\u001b[34m\u001b[1mwandb\u001b[0m: Adding directory to artifact (/Users/hkleeeee/Desktop/Flooding24/2022-2-SCS4031-9to6/Model/image_classification/wandb/run-20221103_180814-e9mn2kgj/files/model-best)... Done. 0.9s\n"
     ]
    },
    {
     "name": "stdout",
     "output_type": "stream",
     "text": [
      "\n",
      "Epoch 27: val_loss improved from 0.14295 to 0.13612, saving model to ../data/weight/Inception_50_0.2_0.01_softmax_sgd_256.ckpt\n",
      "233/233 [==============================] - 1059s 5s/step - loss: 0.1580 - accuracy: 0.9652 - val_loss: 0.1361 - val_accuracy: 0.9760\n",
      "Epoch 28/1000\n",
      "233/233 [==============================] - ETA: 0s - loss: 0.1540 - accuracy: 0.9645"
     ]
    },
    {
     "name": "stderr",
     "output_type": "stream",
     "text": [
      "WARNING:absl:Found untraced functions such as _jit_compiled_convolution_op, _jit_compiled_convolution_op, _jit_compiled_convolution_op, _jit_compiled_convolution_op, _jit_compiled_convolution_op while saving (showing 5 of 244). These functions will not be directly callable after loading.\n"
     ]
    },
    {
     "name": "stdout",
     "output_type": "stream",
     "text": [
      "INFO:tensorflow:Assets written to: /Users/hkleeeee/Desktop/Flooding24/2022-2-SCS4031-9to6/Model/image_classification/wandb/run-20221103_180814-e9mn2kgj/files/model-best/assets\n"
     ]
    },
    {
     "name": "stderr",
     "output_type": "stream",
     "text": [
      "INFO:tensorflow:Assets written to: /Users/hkleeeee/Desktop/Flooding24/2022-2-SCS4031-9to6/Model/image_classification/wandb/run-20221103_180814-e9mn2kgj/files/model-best/assets\n",
      "\u001b[34m\u001b[1mwandb\u001b[0m: Adding directory to artifact (/Users/hkleeeee/Desktop/Flooding24/2022-2-SCS4031-9to6/Model/image_classification/wandb/run-20221103_180814-e9mn2kgj/files/model-best)... Done. 0.9s\n"
     ]
    },
    {
     "name": "stdout",
     "output_type": "stream",
     "text": [
      "\n",
      "Epoch 28: val_loss improved from 0.13612 to 0.12975, saving model to ../data/weight/Inception_50_0.2_0.01_softmax_sgd_256.ckpt\n",
      "233/233 [==============================] - 947s 4s/step - loss: 0.1540 - accuracy: 0.9645 - val_loss: 0.1297 - val_accuracy: 0.9764\n",
      "Epoch 29/1000\n",
      "233/233 [==============================] - ETA: 0s - loss: 0.1505 - accuracy: 0.9648"
     ]
    },
    {
     "name": "stderr",
     "output_type": "stream",
     "text": [
      "WARNING:absl:Found untraced functions such as _jit_compiled_convolution_op, _jit_compiled_convolution_op, _jit_compiled_convolution_op, _jit_compiled_convolution_op, _jit_compiled_convolution_op while saving (showing 5 of 244). These functions will not be directly callable after loading.\n"
     ]
    },
    {
     "name": "stdout",
     "output_type": "stream",
     "text": [
      "INFO:tensorflow:Assets written to: /Users/hkleeeee/Desktop/Flooding24/2022-2-SCS4031-9to6/Model/image_classification/wandb/run-20221103_180814-e9mn2kgj/files/model-best/assets\n"
     ]
    },
    {
     "name": "stderr",
     "output_type": "stream",
     "text": [
      "INFO:tensorflow:Assets written to: /Users/hkleeeee/Desktop/Flooding24/2022-2-SCS4031-9to6/Model/image_classification/wandb/run-20221103_180814-e9mn2kgj/files/model-best/assets\n",
      "\u001b[34m\u001b[1mwandb\u001b[0m: Adding directory to artifact (/Users/hkleeeee/Desktop/Flooding24/2022-2-SCS4031-9to6/Model/image_classification/wandb/run-20221103_180814-e9mn2kgj/files/model-best)... Done. 0.9s\n"
     ]
    },
    {
     "name": "stdout",
     "output_type": "stream",
     "text": [
      "\n",
      "Epoch 29: val_loss improved from 0.12975 to 0.12391, saving model to ../data/weight/Inception_50_0.2_0.01_softmax_sgd_256.ckpt\n",
      "233/233 [==============================] - 946s 4s/step - loss: 0.1505 - accuracy: 0.9648 - val_loss: 0.1239 - val_accuracy: 0.9781\n",
      "Epoch 30/1000\n",
      "233/233 [==============================] - ETA: 0s - loss: 0.1449 - accuracy: 0.9646"
     ]
    },
    {
     "name": "stderr",
     "output_type": "stream",
     "text": [
      "WARNING:absl:Found untraced functions such as _jit_compiled_convolution_op, _jit_compiled_convolution_op, _jit_compiled_convolution_op, _jit_compiled_convolution_op, _jit_compiled_convolution_op while saving (showing 5 of 244). These functions will not be directly callable after loading.\n"
     ]
    },
    {
     "name": "stdout",
     "output_type": "stream",
     "text": [
      "INFO:tensorflow:Assets written to: /Users/hkleeeee/Desktop/Flooding24/2022-2-SCS4031-9to6/Model/image_classification/wandb/run-20221103_180814-e9mn2kgj/files/model-best/assets\n"
     ]
    },
    {
     "name": "stderr",
     "output_type": "stream",
     "text": [
      "INFO:tensorflow:Assets written to: /Users/hkleeeee/Desktop/Flooding24/2022-2-SCS4031-9to6/Model/image_classification/wandb/run-20221103_180814-e9mn2kgj/files/model-best/assets\n",
      "\u001b[34m\u001b[1mwandb\u001b[0m: Adding directory to artifact (/Users/hkleeeee/Desktop/Flooding24/2022-2-SCS4031-9to6/Model/image_classification/wandb/run-20221103_180814-e9mn2kgj/files/model-best)... Done. 0.9s\n"
     ]
    },
    {
     "name": "stdout",
     "output_type": "stream",
     "text": [
      "\n",
      "Epoch 30: val_loss improved from 0.12391 to 0.12171, saving model to ../data/weight/Inception_50_0.2_0.01_softmax_sgd_256.ckpt\n",
      "233/233 [==============================] - 956s 4s/step - loss: 0.1449 - accuracy: 0.9646 - val_loss: 0.1217 - val_accuracy: 0.9760\n",
      "Epoch 31/1000\n",
      "233/233 [==============================] - ETA: 0s - loss: 0.1393 - accuracy: 0.9664"
     ]
    },
    {
     "name": "stderr",
     "output_type": "stream",
     "text": [
      "WARNING:absl:Found untraced functions such as _jit_compiled_convolution_op, _jit_compiled_convolution_op, _jit_compiled_convolution_op, _jit_compiled_convolution_op, _jit_compiled_convolution_op while saving (showing 5 of 244). These functions will not be directly callable after loading.\n"
     ]
    },
    {
     "name": "stdout",
     "output_type": "stream",
     "text": [
      "INFO:tensorflow:Assets written to: /Users/hkleeeee/Desktop/Flooding24/2022-2-SCS4031-9to6/Model/image_classification/wandb/run-20221103_180814-e9mn2kgj/files/model-best/assets\n"
     ]
    },
    {
     "name": "stderr",
     "output_type": "stream",
     "text": [
      "INFO:tensorflow:Assets written to: /Users/hkleeeee/Desktop/Flooding24/2022-2-SCS4031-9to6/Model/image_classification/wandb/run-20221103_180814-e9mn2kgj/files/model-best/assets\n",
      "\u001b[34m\u001b[1mwandb\u001b[0m: Adding directory to artifact (/Users/hkleeeee/Desktop/Flooding24/2022-2-SCS4031-9to6/Model/image_classification/wandb/run-20221103_180814-e9mn2kgj/files/model-best)... Done. 0.9s\n"
     ]
    },
    {
     "name": "stdout",
     "output_type": "stream",
     "text": [
      "\n",
      "Epoch 31: val_loss improved from 0.12171 to 0.11692, saving model to ../data/weight/Inception_50_0.2_0.01_softmax_sgd_256.ckpt\n",
      "233/233 [==============================] - 954s 4s/step - loss: 0.1393 - accuracy: 0.9664 - val_loss: 0.1169 - val_accuracy: 0.9774\n",
      "Epoch 32/1000\n",
      "233/233 [==============================] - ETA: 0s - loss: 0.1361 - accuracy: 0.9664"
     ]
    },
    {
     "name": "stderr",
     "output_type": "stream",
     "text": [
      "WARNING:absl:Found untraced functions such as _jit_compiled_convolution_op, _jit_compiled_convolution_op, _jit_compiled_convolution_op, _jit_compiled_convolution_op, _jit_compiled_convolution_op while saving (showing 5 of 244). These functions will not be directly callable after loading.\n"
     ]
    },
    {
     "name": "stdout",
     "output_type": "stream",
     "text": [
      "INFO:tensorflow:Assets written to: /Users/hkleeeee/Desktop/Flooding24/2022-2-SCS4031-9to6/Model/image_classification/wandb/run-20221103_180814-e9mn2kgj/files/model-best/assets\n"
     ]
    },
    {
     "name": "stderr",
     "output_type": "stream",
     "text": [
      "INFO:tensorflow:Assets written to: /Users/hkleeeee/Desktop/Flooding24/2022-2-SCS4031-9to6/Model/image_classification/wandb/run-20221103_180814-e9mn2kgj/files/model-best/assets\n",
      "\u001b[34m\u001b[1mwandb\u001b[0m: Adding directory to artifact (/Users/hkleeeee/Desktop/Flooding24/2022-2-SCS4031-9to6/Model/image_classification/wandb/run-20221103_180814-e9mn2kgj/files/model-best)... Done. 0.9s\n"
     ]
    },
    {
     "name": "stdout",
     "output_type": "stream",
     "text": [
      "\n",
      "Epoch 32: val_loss improved from 0.11692 to 0.11309, saving model to ../data/weight/Inception_50_0.2_0.01_softmax_sgd_256.ckpt\n",
      "233/233 [==============================] - 947s 4s/step - loss: 0.1361 - accuracy: 0.9664 - val_loss: 0.1131 - val_accuracy: 0.9767\n",
      "Epoch 33/1000\n",
      "233/233 [==============================] - ETA: 0s - loss: 0.1302 - accuracy: 0.9679"
     ]
    },
    {
     "name": "stderr",
     "output_type": "stream",
     "text": [
      "WARNING:absl:Found untraced functions such as _jit_compiled_convolution_op, _jit_compiled_convolution_op, _jit_compiled_convolution_op, _jit_compiled_convolution_op, _jit_compiled_convolution_op while saving (showing 5 of 244). These functions will not be directly callable after loading.\n"
     ]
    },
    {
     "name": "stdout",
     "output_type": "stream",
     "text": [
      "INFO:tensorflow:Assets written to: /Users/hkleeeee/Desktop/Flooding24/2022-2-SCS4031-9to6/Model/image_classification/wandb/run-20221103_180814-e9mn2kgj/files/model-best/assets\n"
     ]
    },
    {
     "name": "stderr",
     "output_type": "stream",
     "text": [
      "INFO:tensorflow:Assets written to: /Users/hkleeeee/Desktop/Flooding24/2022-2-SCS4031-9to6/Model/image_classification/wandb/run-20221103_180814-e9mn2kgj/files/model-best/assets\n",
      "\u001b[34m\u001b[1mwandb\u001b[0m: Adding directory to artifact (/Users/hkleeeee/Desktop/Flooding24/2022-2-SCS4031-9to6/Model/image_classification/wandb/run-20221103_180814-e9mn2kgj/files/model-best)... Done. 0.9s\n"
     ]
    },
    {
     "name": "stdout",
     "output_type": "stream",
     "text": [
      "\n",
      "Epoch 33: val_loss improved from 0.11309 to 0.10870, saving model to ../data/weight/Inception_50_0.2_0.01_softmax_sgd_256.ckpt\n",
      "233/233 [==============================] - 954s 4s/step - loss: 0.1302 - accuracy: 0.9679 - val_loss: 0.1087 - val_accuracy: 0.9764\n",
      "Epoch 34/1000\n",
      "233/233 [==============================] - ETA: 0s - loss: 0.1286 - accuracy: 0.9678\n",
      "Epoch 34: val_loss did not improve from 0.10870\n",
      "233/233 [==============================] - 894s 4s/step - loss: 0.1286 - accuracy: 0.9678 - val_loss: 0.1101 - val_accuracy: 0.9781\n",
      "Epoch 35/1000\n",
      "233/233 [==============================] - ETA: 0s - loss: 0.1268 - accuracy: 0.9682"
     ]
    },
    {
     "name": "stderr",
     "output_type": "stream",
     "text": [
      "WARNING:absl:Found untraced functions such as _jit_compiled_convolution_op, _jit_compiled_convolution_op, _jit_compiled_convolution_op, _jit_compiled_convolution_op, _jit_compiled_convolution_op while saving (showing 5 of 244). These functions will not be directly callable after loading.\n"
     ]
    },
    {
     "name": "stdout",
     "output_type": "stream",
     "text": [
      "INFO:tensorflow:Assets written to: /Users/hkleeeee/Desktop/Flooding24/2022-2-SCS4031-9to6/Model/image_classification/wandb/run-20221103_180814-e9mn2kgj/files/model-best/assets\n"
     ]
    },
    {
     "name": "stderr",
     "output_type": "stream",
     "text": [
      "INFO:tensorflow:Assets written to: /Users/hkleeeee/Desktop/Flooding24/2022-2-SCS4031-9to6/Model/image_classification/wandb/run-20221103_180814-e9mn2kgj/files/model-best/assets\n",
      "\u001b[34m\u001b[1mwandb\u001b[0m: Adding directory to artifact (/Users/hkleeeee/Desktop/Flooding24/2022-2-SCS4031-9to6/Model/image_classification/wandb/run-20221103_180814-e9mn2kgj/files/model-best)... Done. 0.9s\n"
     ]
    },
    {
     "name": "stdout",
     "output_type": "stream",
     "text": [
      "\n",
      "Epoch 35: val_loss improved from 0.10870 to 0.10351, saving model to ../data/weight/Inception_50_0.2_0.01_softmax_sgd_256.ckpt\n",
      "233/233 [==============================] - 954s 4s/step - loss: 0.1268 - accuracy: 0.9682 - val_loss: 0.1035 - val_accuracy: 0.9774\n",
      "Epoch 36/1000\n",
      "233/233 [==============================] - ETA: 0s - loss: 0.1240 - accuracy: 0.9685\n",
      "Epoch 36: val_loss did not improve from 0.10351\n",
      "233/233 [==============================] - 957s 4s/step - loss: 0.1240 - accuracy: 0.9685 - val_loss: 0.1056 - val_accuracy: 0.9784\n",
      "Epoch 37/1000\n",
      "233/233 [==============================] - ETA: 0s - loss: 0.1242 - accuracy: 0.9683"
     ]
    },
    {
     "name": "stderr",
     "output_type": "stream",
     "text": [
      "WARNING:absl:Found untraced functions such as _jit_compiled_convolution_op, _jit_compiled_convolution_op, _jit_compiled_convolution_op, _jit_compiled_convolution_op, _jit_compiled_convolution_op while saving (showing 5 of 244). These functions will not be directly callable after loading.\n"
     ]
    },
    {
     "name": "stdout",
     "output_type": "stream",
     "text": [
      "INFO:tensorflow:Assets written to: /Users/hkleeeee/Desktop/Flooding24/2022-2-SCS4031-9to6/Model/image_classification/wandb/run-20221103_180814-e9mn2kgj/files/model-best/assets\n"
     ]
    },
    {
     "name": "stderr",
     "output_type": "stream",
     "text": [
      "INFO:tensorflow:Assets written to: /Users/hkleeeee/Desktop/Flooding24/2022-2-SCS4031-9to6/Model/image_classification/wandb/run-20221103_180814-e9mn2kgj/files/model-best/assets\n",
      "\u001b[34m\u001b[1mwandb\u001b[0m: Adding directory to artifact (/Users/hkleeeee/Desktop/Flooding24/2022-2-SCS4031-9to6/Model/image_classification/wandb/run-20221103_180814-e9mn2kgj/files/model-best)... Done. 0.8s\n"
     ]
    },
    {
     "name": "stdout",
     "output_type": "stream",
     "text": [
      "\n",
      "Epoch 37: val_loss improved from 0.10351 to 0.10125, saving model to ../data/weight/Inception_50_0.2_0.01_softmax_sgd_256.ckpt\n",
      "233/233 [==============================] - 1073s 5s/step - loss: 0.1242 - accuracy: 0.9683 - val_loss: 0.1013 - val_accuracy: 0.9781\n",
      "Epoch 38/1000\n",
      "233/233 [==============================] - ETA: 0s - loss: 0.1193 - accuracy: 0.9686"
     ]
    },
    {
     "name": "stderr",
     "output_type": "stream",
     "text": [
      "WARNING:absl:Found untraced functions such as _jit_compiled_convolution_op, _jit_compiled_convolution_op, _jit_compiled_convolution_op, _jit_compiled_convolution_op, _jit_compiled_convolution_op while saving (showing 5 of 244). These functions will not be directly callable after loading.\n"
     ]
    },
    {
     "name": "stdout",
     "output_type": "stream",
     "text": [
      "INFO:tensorflow:Assets written to: /Users/hkleeeee/Desktop/Flooding24/2022-2-SCS4031-9to6/Model/image_classification/wandb/run-20221103_180814-e9mn2kgj/files/model-best/assets\n"
     ]
    },
    {
     "name": "stderr",
     "output_type": "stream",
     "text": [
      "INFO:tensorflow:Assets written to: /Users/hkleeeee/Desktop/Flooding24/2022-2-SCS4031-9to6/Model/image_classification/wandb/run-20221103_180814-e9mn2kgj/files/model-best/assets\n",
      "\u001b[34m\u001b[1mwandb\u001b[0m: Adding directory to artifact (/Users/hkleeeee/Desktop/Flooding24/2022-2-SCS4031-9to6/Model/image_classification/wandb/run-20221103_180814-e9mn2kgj/files/model-best)... Done. 0.9s\n"
     ]
    },
    {
     "name": "stdout",
     "output_type": "stream",
     "text": [
      "\n",
      "Epoch 38: val_loss improved from 0.10125 to 0.09882, saving model to ../data/weight/Inception_50_0.2_0.01_softmax_sgd_256.ckpt\n",
      "233/233 [==============================] - 1079s 5s/step - loss: 0.1193 - accuracy: 0.9686 - val_loss: 0.0988 - val_accuracy: 0.9774\n",
      "Epoch 39/1000\n",
      "233/233 [==============================] - ETA: 0s - loss: 0.1150 - accuracy: 0.9695"
     ]
    },
    {
     "name": "stderr",
     "output_type": "stream",
     "text": [
      "WARNING:absl:Found untraced functions such as _jit_compiled_convolution_op, _jit_compiled_convolution_op, _jit_compiled_convolution_op, _jit_compiled_convolution_op, _jit_compiled_convolution_op while saving (showing 5 of 244). These functions will not be directly callable after loading.\n"
     ]
    },
    {
     "name": "stdout",
     "output_type": "stream",
     "text": [
      "INFO:tensorflow:Assets written to: /Users/hkleeeee/Desktop/Flooding24/2022-2-SCS4031-9to6/Model/image_classification/wandb/run-20221103_180814-e9mn2kgj/files/model-best/assets\n"
     ]
    },
    {
     "name": "stderr",
     "output_type": "stream",
     "text": [
      "INFO:tensorflow:Assets written to: /Users/hkleeeee/Desktop/Flooding24/2022-2-SCS4031-9to6/Model/image_classification/wandb/run-20221103_180814-e9mn2kgj/files/model-best/assets\n",
      "\u001b[34m\u001b[1mwandb\u001b[0m: Adding directory to artifact (/Users/hkleeeee/Desktop/Flooding24/2022-2-SCS4031-9to6/Model/image_classification/wandb/run-20221103_180814-e9mn2kgj/files/model-best)... Done. 0.9s\n"
     ]
    },
    {
     "name": "stdout",
     "output_type": "stream",
     "text": [
      "\n",
      "Epoch 39: val_loss improved from 0.09882 to 0.09626, saving model to ../data/weight/Inception_50_0.2_0.01_softmax_sgd_256.ckpt\n",
      "233/233 [==============================] - 963s 4s/step - loss: 0.1150 - accuracy: 0.9695 - val_loss: 0.0963 - val_accuracy: 0.9774\n",
      "Epoch 40/1000\n",
      "233/233 [==============================] - ETA: 0s - loss: 0.1156 - accuracy: 0.9700\n",
      "Epoch 40: val_loss did not improve from 0.09626\n",
      "233/233 [==============================] - 897s 4s/step - loss: 0.1156 - accuracy: 0.9700 - val_loss: 0.1003 - val_accuracy: 0.9774\n",
      "Epoch 41/1000\n",
      "233/233 [==============================] - ETA: 0s - loss: 0.1120 - accuracy: 0.9713"
     ]
    }
   ],
   "source": [
    "# vavoacy6\n",
    "wandb.agent('vavoacy6', train) "
   ]
  },
  {
   "cell_type": "code",
   "execution_count": null,
   "metadata": {},
   "outputs": [],
   "source": [
    "# TODO \n",
    "# visualize result of inference of validate images"
   ]
  }
 ],
 "metadata": {
  "colab": {
   "collapsed_sections": [],
   "provenance": []
  },
  "kernelspec": {
   "display_name": "Python [conda env:image] *",
   "language": "python",
   "name": "conda-env-image-py"
  },
  "language_info": {
   "codemirror_mode": {
    "name": "ipython",
    "version": 3
   },
   "file_extension": ".py",
   "mimetype": "text/x-python",
   "name": "python",
   "nbconvert_exporter": "python",
   "pygments_lexer": "ipython3",
   "version": "3.8.13"
  }
 },
 "nbformat": 4,
 "nbformat_minor": 1
}
