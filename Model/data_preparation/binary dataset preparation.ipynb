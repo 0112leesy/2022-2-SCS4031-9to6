{
 "cells": [
  {
   "cell_type": "code",
   "execution_count": 7,
   "metadata": {},
   "outputs": [],
   "source": [
    "import cv2, os, glob, shutil\n",
    "import time\n",
    "import matplotlib.pyplot as plt\n",
    "from IPython.display import clear_output, Video\n",
    "from tqdm.auto import tqdm"
   ]
  },
  {
   "cell_type": "markdown",
   "metadata": {},
   "source": [
    "# Move dir"
   ]
  },
  {
   "cell_type": "code",
   "execution_count": 4,
   "metadata": {},
   "outputs": [
    {
     "name": "stdout",
     "output_type": "stream",
     "text": [
      "['../data/crawling_img/침수 cctv', '../data/crawling_img/車の洪水', '../data/crawling_img/침수', '../data/crawling_img/überflutetes Auto', '../data/crawling_img/flooding road', '../data/crawling_img/Überschwemmungen auf der Straße', '../data/crawling_img/flooded car', '../data/crawling_img/道路浸水', '../data/crawling_img/flooded', '../data/crawling_img/flooding', '../data/crawling_img/inundación de coches', '../data/crawling_img/被淹的车']\n"
     ]
    }
   ],
   "source": [
    "folder_list = glob.glob('../data/crawling_img/*')\n",
    "normal_dir = '../data/binary/normal'\n",
    "flood_dir = '../data/binary/flood'\n",
    "temp_normal = '../data/binary/temp_normal'\n",
    "temp_flood = '../data/binary/temp_flood'\n",
    "print(folder_list)"
   ]
  },
  {
   "cell_type": "code",
   "execution_count": 21,
   "metadata": {},
   "outputs": [],
   "source": [
    "def move_dir(source_dir, normal_dir, flood_dir):\n",
    "    # 크롤링으로 모은 이미지들을 이진분류에 쓰기위해 분류하는 작업\n",
    "    source = source_dir.split('/')[-1]\n",
    "    img_list = glob.glob(source_dir+'/*.jpg')\n",
    "    n = len(img_list)\n",
    "    for i,img_path in enumerate(img_list):\n",
    "        print('{}/{}'.format(i,n))\n",
    "        img_name = img_path.split('/')[-1]\n",
    "        img = plt.imread(img_path)\n",
    "        plt.imshow(img)\n",
    "        plt.axis('off')\n",
    "        plt.show()\n",
    "        \n",
    "        decision = input('정상 : 0, flood : 1, 삭제 : d, 사용안함 : n, quit: q \\n')\n",
    "        \n",
    "        if decision=='0' :\n",
    "            shutil.move(img_path, os.path.join(temp_normal, source+'_'+img_name))\n",
    "        elif decision=='1' :\n",
    "            shutil.move(img_path, os.path.join(temp_flood, source+'_'+img_name))\n",
    "        elif decision=='d':\n",
    "            os.remove(img_path)\n",
    "        elif decision=='q' :\n",
    "            break\n",
    "        else:\n",
    "            pass\n",
    "        clear_output()"
   ]
  },
  {
   "cell_type": "code",
   "execution_count": 24,
   "metadata": {},
   "outputs": [],
   "source": [
    "# 0, -3\n",
    "move_dir(folder_list[0], normal_dir, flood_dir)"
   ]
  },
  {
   "cell_type": "markdown",
   "metadata": {},
   "source": [
    "# CCTV 이미지를 프레임으로 분리"
   ]
  },
  {
   "cell_type": "code",
   "execution_count": 76,
   "metadata": {},
   "outputs": [],
   "source": [
    "def get_frame(video_path, save_dir):\n",
    "    video = cv2.VideoCapture(video_path)\n",
    "    video_name = video_path.split('/')[-1]\n",
    "    if not video.isOpened():\n",
    "        print(\"Could not Open :\", video_name)\n",
    "        exit(0)\n",
    "        \n",
    "#     length = int(video.get(cv2.CAP_PROP_FRAME_COUNT))\n",
    "#     width = int(video.get(cv2.CAP_PROP_FRAME_WIDTH))\n",
    "#     height = int(video.get(cv2.CAP_PROP_FRAME_HEIGHT))\n",
    "    fps = video.get(cv2.CAP_PROP_FPS)\n",
    "\n",
    "#     print(\"length :\", length)\n",
    "#     print(\"width :\", width)\n",
    "#     print(\"height :\", height)\n",
    "    print(\"fps :\", fps)\n",
    "    \n",
    "    count = 0\n",
    "    while(video.isOpened()):\n",
    "        ret, image = video.read()\n",
    "#         if int(video.get(1)) % 20 == 0 :\n",
    "        if(int(video.get(1)) % round(fps)*5 == 0): #앞서 불러온 fps 값을 사용하여 1초마다 추출\n",
    "            try :\n",
    "                print('Saved frame number :', str(int(video.get(1))))\n",
    "                cv2.imwrite(save_dir + \"/frame{}_{}.jpg\".format(count, video_name), image)\n",
    "                print('Saved frame%d.jpg' % count)\n",
    "                count+=1 \n",
    "            except Exception as e:\n",
    "                print(e)\n",
    "                print(image)\n",
    "        if ret is False:\n",
    "            break\n",
    "            \n",
    "    video.release()\n",
    "    clear_output()"
   ]
  },
  {
   "cell_type": "code",
   "execution_count": 75,
   "metadata": {},
   "outputs": [
    {
     "name": "stdout",
     "output_type": "stream",
     "text": [
      "125\n"
     ]
    },
    {
     "data": {
      "text/html": [
       "<video src=\"../data/video/12_day_1024.mp4\" controls  >\n",
       "      Your browser does not support the <code>video</code> element.\n",
       "    </video>"
      ],
      "text/plain": [
       "<IPython.core.display.Video object>"
      ]
     },
     "execution_count": 75,
     "metadata": {},
     "output_type": "execute_result"
    }
   ],
   "source": [
    "video_list = glob.glob('../data/video/*day_1024.mp4')\n",
    "print(len(video_list))\n",
    "#print(video_list)\n",
    "# play mp4 on jupyter notebook\n",
    "Video(video_list[1])"
   ]
  },
  {
   "cell_type": "code",
   "execution_count": 77,
   "metadata": {},
   "outputs": [],
   "source": [
    "## Execute the Function\n",
    "for video in video_list:\n",
    "    get_frame(video, '../data/video_capture')"
   ]
  },
  {
   "cell_type": "code",
   "execution_count": 89,
   "metadata": {},
   "outputs": [
    {
     "data": {
      "text/plain": [
       "2305"
      ]
     },
     "execution_count": 89,
     "metadata": {},
     "output_type": "execute_result"
    }
   ],
   "source": [
    "len(os.listdir('../data/video_capture/'))"
   ]
  },
  {
   "cell_type": "code",
   "execution_count": 88,
   "metadata": {},
   "outputs": [],
   "source": [
    "#del_list = glob.glob('../data/video_capture/*_18_day_1024*.jpg')\n",
    "del_list = glob.glob('../data/video_capture/*.jpg')\n",
    "for i, d in enumerate(del_list):\n",
    "    if i % 9 == 0 :\n",
    "        os.remove(d)"
   ]
  },
  {
   "cell_type": "code",
   "execution_count": 5,
   "metadata": {},
   "outputs": [],
   "source": [
    "# for later use\n",
    "def get_one_frame(video_path, save_dir):\n",
    "    video = cv2.VideoCapture(video_path)\n",
    "    \n",
    "    if not video.isOpened():\n",
    "        print(\"Could not Open :\", filepath)\n",
    "        exit(0)\n",
    "        \n",
    "    ret, image = video.read()\n",
    "    try :\n",
    "        file_name = video_path.split('/')[-1]\n",
    "        cv2.imwrite(save_dir + \"/{}.jpg\".format(file_name), image)\n",
    "    except Exception as e:\n",
    "        video.release()\n",
    "        print('Some thing wrong!')\n",
    "        print(e)\n",
    "        \n",
    "    video.release()\n",
    "#     plt.imshow(image)\n",
    "#     plt.axis('off')\n",
    "#     plt.show()\n",
    "\n",
    "for video in video_list:\n",
    "    get_one_frame(video, '../data/video_capture')"
   ]
  },
  {
   "cell_type": "markdown",
   "metadata": {},
   "source": [
    "# 이진 분류를 위해 크롤링한 이미지 위치 이동"
   ]
  },
  {
   "cell_type": "code",
   "execution_count": 79,
   "metadata": {},
   "outputs": [
    {
     "name": "stdout",
     "output_type": "stream",
     "text": [
      "123\n"
     ]
    }
   ],
   "source": [
    "img_list = glob.glob('../data/binary/도로_cctv/*.jpg')\n",
    "print(len(img_list))\n",
    "print(flood_dir)\n",
    "print(normal_dir)"
   ]
  },
  {
   "cell_type": "code",
   "execution_count": 81,
   "metadata": {},
   "outputs": [
    {
     "name": "stdout",
     "output_type": "stream",
     "text": [
      "0\n"
     ]
    }
   ],
   "source": [
    "flooded = ['177','191','250','340','400','406','422','636','638','661','730','72','762','785']\n",
    "for img_path in img_list :\n",
    "    num = img_path.split('/')[-1].split('.')[0]\n",
    "    if num in flooded :\n",
    "        shutil.move(img_path, os.path.join(flood_dir, num+'.jpg'))\n",
    "    else:\n",
    "        shutil.move(img_path, os.path.join(normal_dir, num+'.jpg'))\n",
    "img_list = glob.glob('../data/binary/도로_cctv/*.jpg')\n",
    "print(len(img_list))"
   ]
  },
  {
   "cell_type": "code",
   "execution_count": 13,
   "metadata": {},
   "outputs": [
    {
     "name": "stdout",
     "output_type": "stream",
     "text": [
      "['../data/binary/871.jpg', '../data/binary/828.jpg', '../data/binary/9689.jpg']\n",
      "3\n",
      "../data/binary/normal/도로871.jpg\n",
      "../data/binary/normal/도로828.jpg\n",
      "../data/binary/normal/도로9689.jpg\n"
     ]
    }
   ],
   "source": [
    "## need to refactor##\n",
    "# TODO\n",
    "path = '../data/binary/'\n",
    "src = '../data/binary/normal'\n",
    "img_list = glob.glob(path+'*.jpg')\n",
    "print(img_list)\n",
    "print(len(img_list))\n",
    "for img in img_list:\n",
    "    img_name = img.split('/')[-1]\n",
    "    new_path = os.path.join(src, '도로'+img_name)\n",
    "    shutil.move(img, new_path)\n",
    "    print(new_path)"
   ]
  },
  {
   "cell_type": "markdown",
   "metadata": {},
   "source": [
    "# 이진 분류를 위한 이미지 데이터 개수 확인"
   ]
  },
  {
   "cell_type": "code",
   "execution_count": 90,
   "metadata": {
    "scrolled": true
   },
   "outputs": [
    {
     "name": "stdout",
     "output_type": "stream",
     "text": [
      "normal : 7723\n",
      "flood : 6868\n"
     ]
    }
   ],
   "source": [
    "normal = glob.glob(normal_dir+'/*.jpg')\n",
    "print('normal :', len(normal))\n",
    "flood = glob.glob(flood_dir+'/*.jpg')\n",
    "print('flood :', len(flood))"
   ]
  },
  {
   "cell_type": "code",
   "execution_count": null,
   "metadata": {},
   "outputs": [],
   "source": []
  }
 ],
 "metadata": {
  "kernelspec": {
   "display_name": "Python [conda env:flood24]",
   "language": "python",
   "name": "conda-env-flood24-py"
  },
  "language_info": {
   "codemirror_mode": {
    "name": "ipython",
    "version": 3
   },
   "file_extension": ".py",
   "mimetype": "text/x-python",
   "name": "python",
   "nbconvert_exporter": "python",
   "pygments_lexer": "ipython3",
   "version": "3.8.13"
  }
 },
 "nbformat": 4,
 "nbformat_minor": 1
}
